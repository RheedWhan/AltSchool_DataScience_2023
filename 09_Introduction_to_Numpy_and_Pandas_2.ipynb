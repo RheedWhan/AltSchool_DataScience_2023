{
  "cells": [
    {
      "cell_type": "markdown",
      "metadata": {
        "id": "view-in-github",
        "colab_type": "text"
      },
      "source": [
        "<a href=\"https://colab.research.google.com/github/RheedWhan/AltSchool_DataScience_2023/blob/main/09_Introduction_to_Numpy_and_Pandas_2.ipynb\" target=\"_parent\"><img src=\"https://colab.research.google.com/assets/colab-badge.svg\" alt=\"Open In Colab\"/></a>"
      ]
    },
    {
      "cell_type": "markdown",
      "metadata": {
        "id": "3uotXTAyk81b"
      },
      "source": [
        "# Introduction to Numpy and Pandas"
      ]
    },
    {
      "cell_type": "markdown",
      "metadata": {
        "id": "iSm17_dwk81q"
      },
      "source": [
        "## Learning Objectives\n",
        "By the end of this lesson, you should be able to:\n",
        "* Perform basic operations in Numpy;\n",
        "* Perform basic operations in Pandas; and\n",
        "* Analyse data using Numpy and Pandas.\n",
        "\n",
        "## Outline\n",
        "* Introduce the Numpy Python library and some of its functionality;\n",
        "* Introduce the Pandas Python and some of its functionality; and\n",
        "* Load, manipulate, and analyse data using Numpy and Pandas."
      ]
    },
    {
      "cell_type": "markdown",
      "metadata": {
        "id": "_hRwds9Bk81u"
      },
      "source": [
        "## Introduction\n",
        "\n",
        "Python has many packages for working with data and performing operations like the loading, analysing and storing of data. Numpy and Pandas are two commonly used and useful ones. In this train, you will learn some of the basic operations in Numpy and Pandas.\n",
        "\n",
        "# Numpy\n",
        "Numpy is a Python package which provides high-performance, multidimensional array objects, numerical computing tools, and is fundamental in scientific computing. It is the core library for scientific computing in Python ([see the full documentation](https://numpy.org/)). We will start by defining what an array is, how to create an array, how to access and modify an array, and look at useful functions on arrays. Finally, we will identify when an array should be the chosen data structure when performing data analysis or manipulation.\n",
        "\n",
        "### What is an Array?\n",
        "Similar to that of a Python list, a numpy array is a data structure which stores multiple values. The main difference between the two is that lists can contain heterogeneous data types (combinations of `str`, `int`, even `list`), whilst numpy arrays can only store values of the same data type. Numpy arrays can be thought of as a grid of values and can be multi-dimensional.\n",
        "\n",
        "Numpy arrays are stored more efficiently than Python lists and allow mathematical operations to be vectorized, which results in significantly higher performance than with looping constructs in Python.\n",
        "\n",
        "### Creating a Numpy Array\n",
        "If we want to work with any numpy objects or functions we first need to import the Numpy library.\n"
      ]
    },
    {
      "cell_type": "code",
      "execution_count": null,
      "metadata": {
        "id": "xdSYVbt3k81x",
        "jupyter": {
          "outputs_hidden": true
        }
      },
      "outputs": [],
      "source": [
        "import numpy as np"
      ]
    },
    {
      "cell_type": "markdown",
      "metadata": {
        "id": "s0zfywkdk813"
      },
      "source": [
        "To make a numpy array, you use the `np.array()` function. All you need to do is pass a list to it and optionally, you can specify the data type of the data. Let's look at an example:"
      ]
    },
    {
      "cell_type": "code",
      "execution_count": null,
      "metadata": {
        "id": "MnBXzBstk815",
        "outputId": "77728070-2d54-4b63-e6aa-31714d9caadf"
      },
      "outputs": [
        {
          "data": {
            "text/plain": [
              "array([[94, 89, 63],\n",
              "       [93, 92, 48],\n",
              "       [92, 94, 56]])"
            ]
          },
          "execution_count": 4,
          "metadata": {},
          "output_type": "execute_result"
        }
      ],
      "source": [
        "# Create an array by passing in a list of lists.\n",
        "ratings = np.array([[94,89,63], [93,92,48], [92,94,56]])\n",
        "\n",
        "ratings"
      ]
    },
    {
      "cell_type": "markdown",
      "metadata": {
        "id": "c_oalzMFk817"
      },
      "source": [
        "You can see that there are 3 rows and columns in this array. We can inspect the shape of the array by using its `shape` attribute. This will return a tuple of integers giving the size of the array along each dimension."
      ]
    },
    {
      "cell_type": "code",
      "execution_count": null,
      "metadata": {
        "id": "LnrM2uu2k819",
        "outputId": "c2b94aa7-98e2-42b2-ffca-147e3afd6939"
      },
      "outputs": [
        {
          "data": {
            "text/plain": [
              "(3, 3)"
            ]
          },
          "execution_count": 5,
          "metadata": {},
          "output_type": "execute_result"
        }
      ],
      "source": [
        "ratings.shape"
      ]
    },
    {
      "cell_type": "markdown",
      "metadata": {
        "id": "rSuXrONSk81_"
      },
      "source": [
        "We can also create arrays using the following functions:\n",
        "\n",
        "* `np.ones()` - array of ones\n",
        "* `np.zeros()` - array of zeros\n",
        "* `np.random.random()` - array with random values\n",
        "\n",
        "Let's look at some examples:"
      ]
    },
    {
      "cell_type": "code",
      "execution_count": null,
      "metadata": {
        "id": "2Ux7oyrPk82A",
        "outputId": "b299d99a-504b-43f5-ca2f-8faa4bdd2858"
      },
      "outputs": [
        {
          "data": {
            "text/plain": [
              "array([[1., 1., 1., 1.],\n",
              "       [1., 1., 1., 1.],\n",
              "       [1., 1., 1., 1.]])"
            ]
          },
          "execution_count": 6,
          "metadata": {},
          "output_type": "execute_result"
        }
      ],
      "source": [
        "# Create an array of ones - pass in shape as a tuple.\n",
        "np.ones((3,4))"
      ]
    },
    {
      "cell_type": "code",
      "execution_count": null,
      "metadata": {
        "id": "ajgGYkbkk82C",
        "outputId": "11816647-3784-4f89-895f-54d125e9f342"
      },
      "outputs": [
        {
          "data": {
            "text/plain": [
              "array([[0., 0., 0.],\n",
              "       [0., 0., 0.]])"
            ]
          },
          "execution_count": 7,
          "metadata": {},
          "output_type": "execute_result"
        }
      ],
      "source": [
        "# Create an array of zeros - pass in shape as a tuple.\n",
        "np.zeros((2,3))"
      ]
    },
    {
      "cell_type": "code",
      "execution_count": null,
      "metadata": {
        "id": "iqVUGRu2k82C",
        "outputId": "5da90664-a2a0-4abf-891b-8461c21032dd"
      },
      "outputs": [
        {
          "data": {
            "text/plain": [
              "array([[0.55032346, 0.98985146, 0.76593356],\n",
              "       [0.74523266, 0.15435135, 0.09976193],\n",
              "       [0.1017914 , 0.26573559, 0.51662041]])"
            ]
          },
          "execution_count": 8,
          "metadata": {},
          "output_type": "execute_result"
        }
      ],
      "source": [
        "# Create an array of random values - pass in shape as a tuple.\n",
        "np.random.random((3,3))"
      ]
    },
    {
      "cell_type": "markdown",
      "metadata": {
        "id": "mx_4LWhHk82D"
      },
      "source": [
        "### Accessing Numpy Arrays\n",
        "Numpy offers several ways to index into arrays. Here, we'll work through slicing, and Boolean array indexing.\n",
        "\n",
        "#### Slicing\n",
        "Similar to Python lists, Numpy arrays can be sliced. Since arrays may be multi-dimensional, you must specify a slice for each dimension of the array, where the slices per dimension is split by a comma. For a 2-D array, the first dimension is the vertical axis while the second dimension is the horizontal axis. For a 2-D array:\n",
        "\n",
        "* `np.array[vertical index , horizontal index]` - for one element\n",
        "* `np.array[vertical start:vertical end , horizontal start:horizontal end]` - for more than one element\n",
        "\n",
        "Let's look at a few examples:"
      ]
    },
    {
      "cell_type": "code",
      "execution_count": null,
      "metadata": {
        "id": "qO8LPgpUk82E",
        "outputId": "b9d76e6c-5d51-4974-b117-aff0a3d78a8d"
      },
      "outputs": [
        {
          "data": {
            "text/plain": [
              "array([[94, 89, 63],\n",
              "       [93, 92, 48],\n",
              "       [92, 94, 56]])"
            ]
          },
          "execution_count": 9,
          "metadata": {},
          "output_type": "execute_result"
        }
      ],
      "source": [
        "# Whole array.\n",
        "ratings"
      ]
    },
    {
      "cell_type": "code",
      "execution_count": null,
      "metadata": {
        "id": "AQuJYiksk82F",
        "outputId": "338c72dc-19fd-4cf0-ef7d-dcc41cf3cbb7"
      },
      "outputs": [
        {
          "data": {
            "text/plain": [
              "94"
            ]
          },
          "execution_count": 10,
          "metadata": {},
          "output_type": "execute_result"
        }
      ],
      "source": [
        "# Select top left element.\n",
        "ratings[0,0]"
      ]
    },
    {
      "cell_type": "code",
      "execution_count": null,
      "metadata": {
        "id": "lIWO6BPgk82F",
        "outputId": "10d5cf2c-0e10-4f48-f24f-1d54d29596bd"
      },
      "outputs": [
        {
          "data": {
            "text/plain": [
              "array([94, 89, 63])"
            ]
          },
          "execution_count": 11,
          "metadata": {},
          "output_type": "execute_result"
        }
      ],
      "source": [
        "# Select first row.\n",
        "ratings[0,:]"
      ]
    },
    {
      "cell_type": "code",
      "execution_count": null,
      "metadata": {
        "id": "eXpkhN9nk82G",
        "outputId": "f6a33791-89cc-4a3f-f800-c3b754cc881e"
      },
      "outputs": [
        {
          "data": {
            "text/plain": [
              "array([94, 93, 92])"
            ]
          },
          "execution_count": 12,
          "metadata": {},
          "output_type": "execute_result"
        }
      ],
      "source": [
        "# Select first column.\n",
        "ratings[:,0]"
      ]
    },
    {
      "cell_type": "code",
      "execution_count": null,
      "metadata": {
        "id": "pbO54Ku8k82H",
        "outputId": "f4fec6a3-b07f-4dff-e4c9-ac69a649105d"
      },
      "outputs": [
        {
          "data": {
            "text/plain": [
              "array([[94, 89],\n",
              "       [93, 92]])"
            ]
          },
          "execution_count": 13,
          "metadata": {},
          "output_type": "execute_result"
        }
      ],
      "source": [
        "# Select first two rows and first two columns.\n",
        "ratings[0:2,0:2]"
      ]
    },
    {
      "cell_type": "markdown",
      "metadata": {
        "id": "QCm05u_qk82H"
      },
      "source": [
        "#### Boolean Array Indexing\n",
        "Boolean array indexing let's you pick out a selection of elements from an array. This type of indexing is often used to select the elements of an array which satisfy a specific condition. The syntax is as follows:\n",
        "\n",
        "* `np.array[condition]`\n",
        "\n",
        "Let's look at an example:"
      ]
    },
    {
      "cell_type": "code",
      "execution_count": null,
      "metadata": {
        "id": "7e2fw8iQk82I",
        "outputId": "d0a6c3fd-ea0e-4127-992e-1c703bc84741"
      },
      "outputs": [
        {
          "data": {
            "text/plain": [
              "array([94, 93, 92, 92, 94])"
            ]
          },
          "execution_count": 14,
          "metadata": {},
          "output_type": "execute_result"
        }
      ],
      "source": [
        "# Select all values greater than 90.\n",
        "ratings[ratings > 90]"
      ]
    },
    {
      "cell_type": "markdown",
      "metadata": {
        "id": "LI95bSSbk82I"
      },
      "source": [
        "### Modifying Numpy Arrays\n",
        "We will now look at how to add elements to an array, followed by how to remove elements from an array.\n",
        "\n",
        "#### Adding Elements\n",
        "Adding elements can be done by using the `np.append()` function. This will add elements to the end of an array. Let's look at an example:"
      ]
    },
    {
      "cell_type": "code",
      "execution_count": null,
      "metadata": {
        "id": "gty2eymuk82J",
        "outputId": "5b602195-a78a-4312-ad2a-7564e9b35cf6"
      },
      "outputs": [
        {
          "data": {
            "text/plain": [
              "array([[94, 89, 63],\n",
              "       [93, 92, 48],\n",
              "       [92, 94, 56],\n",
              "       [92, 88, 78]])"
            ]
          },
          "execution_count": 15,
          "metadata": {},
          "output_type": "execute_result"
        }
      ],
      "source": [
        "# Append an extra row - note that axis=0.\n",
        "ratings_extra_row = np.append(ratings, [[92, 88, 78]], axis=0)\n",
        "\n",
        "ratings_extra_row"
      ]
    },
    {
      "cell_type": "markdown",
      "metadata": {
        "id": "mk3RDNN4k82K"
      },
      "source": [
        "#### Removing Elements\n",
        "Deleting elements can be done by using the `np.delete()` function. This will delete elements at the specified indices. Let's look at an example:"
      ]
    },
    {
      "cell_type": "code",
      "execution_count": null,
      "metadata": {
        "id": "KDBiwj16k82K",
        "outputId": "aaab13ee-b076-4f56-cbf9-b3d06326afdc"
      },
      "outputs": [
        {
          "data": {
            "text/plain": [
              "array([[94, 89, 63],\n",
              "       [93, 92, 48]])"
            ]
          },
          "execution_count": 16,
          "metadata": {},
          "output_type": "execute_result"
        }
      ],
      "source": [
        "# Delete the 3rd row - note that axis=0.\n",
        "ratings_del_row = np.delete(ratings, [2], axis=0)\n",
        "\n",
        "ratings_del_row"
      ]
    },
    {
      "cell_type": "markdown",
      "metadata": {
        "id": "_N7qBGcLk82L"
      },
      "source": [
        "### Functions on Numpy Arrays\n",
        "There are various functions we can perform on numpy arrays. We will look at a few of them, namely:\n",
        "\n",
        "* `np.array.sum()`\n",
        "* `np.array.min()`\n",
        "* `np.array.max()`\n",
        "\n",
        "In all these functions we can pass an axis argument. This will allow us to sum the columns and rows separately. Let's look at examples:"
      ]
    },
    {
      "cell_type": "code",
      "execution_count": null,
      "metadata": {
        "id": "bbTTnjRek82M",
        "outputId": "db690caa-36dc-4f2e-e01a-330d9c9be8e9"
      },
      "outputs": [
        {
          "data": {
            "text/plain": [
              "721"
            ]
          },
          "execution_count": 17,
          "metadata": {},
          "output_type": "execute_result"
        }
      ],
      "source": [
        "# Sum of all elements in array.\n",
        "ratings.sum()"
      ]
    },
    {
      "cell_type": "code",
      "execution_count": null,
      "metadata": {
        "id": "XH4QVjX4k82N",
        "outputId": "06b64670-88b2-4c94-f0ec-55fef59f5c9d"
      },
      "outputs": [
        {
          "data": {
            "text/plain": [
              "array([246, 233, 242])"
            ]
          },
          "execution_count": 18,
          "metadata": {},
          "output_type": "execute_result"
        }
      ],
      "source": [
        "# Sum of each row.\n",
        "ratings.sum(axis=1)"
      ]
    },
    {
      "cell_type": "code",
      "execution_count": null,
      "metadata": {
        "id": "GNTGMMuZk82N",
        "outputId": "77053b72-784a-4e5a-95d6-da01198a17a5"
      },
      "outputs": [
        {
          "data": {
            "text/plain": [
              "array([63, 48, 56])"
            ]
          },
          "execution_count": 19,
          "metadata": {},
          "output_type": "execute_result"
        }
      ],
      "source": [
        "# Min of each row.\n",
        "ratings.min(axis=1)"
      ]
    },
    {
      "cell_type": "code",
      "execution_count": null,
      "metadata": {
        "id": "GD6n4cDXk82O",
        "outputId": "1932fdb1-9306-4734-9dea-dbda00e915f6"
      },
      "outputs": [
        {
          "data": {
            "text/plain": [
              "array([94, 94, 63])"
            ]
          },
          "execution_count": 20,
          "metadata": {},
          "output_type": "execute_result"
        }
      ],
      "source": [
        "# Max of each column.\n",
        "ratings.max(axis=0)"
      ]
    },
    {
      "cell_type": "markdown",
      "metadata": {
        "id": "J0-xxhLrk82O"
      },
      "source": [
        "### When to use Numpy Arrays\n",
        "\n",
        "A Numpy array is a data structure which stores multiple values, all of the same data type, and can be multi-dimensional. We should use a Numpy array if all of the following statements hold:\n",
        "\n",
        "* We have multi-dimensional data\n",
        "* All entries are of the same data type\n",
        "\n",
        "Numpy arrays are also preferred over list of lists due to efficiency and functionality.\n",
        "\n",
        "## Pandas\n",
        "\n",
        "In this section we will look at Pandas dataframes, which is most commonly used for any Python data analysis. We will define what a Pandas dataframe is, show how to create dataframes and how to access them.\n",
        "\n",
        "### What is a Pandas Dataframe?\n",
        "Pandas is a data manipulation tool which is built on the Numpy package. Pandas' key data structure is the `dataframe`. A dataframe allows for the storage and manipulation of tabular data. It is a two-dimensional labelled data structure.\n",
        "\n",
        "\n",
        "Basically, you could say that the Pandas dataframe consists of three main components: the data, index, and columns. Let's walk through some examples to gain an understanding of these components.\n",
        "\n",
        "#### Creating a Dataframe\n",
        "We can create a dataframe by calling the `DataFrame()` constructor. The main arguments in the constructor are the data, index and columns. The data that is passed in can be in the form of other data structures (lists, dictionaries or numpy arrays) or by loading in a file.\n",
        "\n",
        "Let's start our examples by first importing the Pandas library:"
      ]
    },
    {
      "cell_type": "code",
      "execution_count": null,
      "metadata": {
        "id": "W3qKk8-Ik82P",
        "jupyter": {
          "outputs_hidden": true
        }
      },
      "outputs": [],
      "source": [
        "import pandas as pd"
      ]
    },
    {
      "cell_type": "markdown",
      "metadata": {
        "id": "WBcHAXick82P"
      },
      "source": [
        "#### Dataframes from other Data Structures\n",
        "\n",
        "We now look at some examples on how to create a dataframe from various data structures in Python.\n",
        "\n",
        "Using **lists**, we need to create a list of lists (nested list) with the relevant data. We then also need to pass an index (player names in this example) and column names."
      ]
    },
    {
      "cell_type": "code",
      "execution_count": null,
      "metadata": {
        "id": "uZoWHxYLk82Q",
        "outputId": "e63ea8eb-a381-46de-ec46-2deef9a0eef2"
      },
      "outputs": [
        {
          "data": {
            "text/html": [
              "<div>\n",
              "<style scoped>\n",
              "    .dataframe tbody tr th:only-of-type {\n",
              "        vertical-align: middle;\n",
              "    }\n",
              "\n",
              "    .dataframe tbody tr th {\n",
              "        vertical-align: top;\n",
              "    }\n",
              "\n",
              "    .dataframe thead th {\n",
              "        text-align: right;\n",
              "    }\n",
              "</style>\n",
              "<table border=\"1\" class=\"dataframe\">\n",
              "  <thead>\n",
              "    <tr style=\"text-align: right;\">\n",
              "      <th></th>\n",
              "      <th>Age</th>\n",
              "      <th>Nationality</th>\n",
              "      <th>Overall</th>\n",
              "    </tr>\n",
              "  </thead>\n",
              "  <tbody>\n",
              "    <tr>\n",
              "      <th>Christiano Ronaldo</th>\n",
              "      <td>32</td>\n",
              "      <td>Portugal</td>\n",
              "      <td>94</td>\n",
              "    </tr>\n",
              "    <tr>\n",
              "      <th>Lionel Messi</th>\n",
              "      <td>30</td>\n",
              "      <td>Argentina</td>\n",
              "      <td>93</td>\n",
              "    </tr>\n",
              "    <tr>\n",
              "      <th>Neymar</th>\n",
              "      <td>25</td>\n",
              "      <td>Brazil</td>\n",
              "      <td>92</td>\n",
              "    </tr>\n",
              "  </tbody>\n",
              "</table>\n",
              "</div>"
            ],
            "text/plain": [
              "                    Age Nationality  Overall\n",
              "Christiano Ronaldo   32    Portugal       94\n",
              "Lionel Messi         30   Argentina       93\n",
              "Neymar               25      Brazil       92"
            ]
          },
          "execution_count": 22,
          "metadata": {},
          "output_type": "execute_result"
        }
      ],
      "source": [
        "# Create list of lists containing data.\n",
        "list_df = [[32, 'Portugal', 94], [30, 'Argentina', 93], [25 , 'Brazil', 92]]\n",
        "\n",
        "# Create index - names of players.\n",
        "index = ['Christiano Ronaldo', 'Lionel Messi', 'Neymar']\n",
        "\n",
        "# Create column names.\n",
        "columns = ['Age', 'Nationality', 'Overall']\n",
        "\n",
        "# Create dataframe by passing in data, index and columns.\n",
        "pd.DataFrame(data=list_df, index=index, columns=columns)"
      ]
    },
    {
      "cell_type": "markdown",
      "metadata": {
        "id": "6TcXRF4hk82R"
      },
      "source": [
        "Using **dictionaries**, we need to create a dictionary with the relevant data.\n",
        "\n",
        "The keys should be the column names, while the values should be the data entries for that column. We then also need to pass an index. Note that because the keys account for the column names, we don't have to pass in an argument for columns."
      ]
    },
    {
      "cell_type": "code",
      "execution_count": null,
      "metadata": {
        "id": "PFKv02_2k82R",
        "outputId": "4178281c-3929-4dfb-872e-c732499266e0"
      },
      "outputs": [
        {
          "data": {
            "text/html": [
              "<div>\n",
              "<style scoped>\n",
              "    .dataframe tbody tr th:only-of-type {\n",
              "        vertical-align: middle;\n",
              "    }\n",
              "\n",
              "    .dataframe tbody tr th {\n",
              "        vertical-align: top;\n",
              "    }\n",
              "\n",
              "    .dataframe thead th {\n",
              "        text-align: right;\n",
              "    }\n",
              "</style>\n",
              "<table border=\"1\" class=\"dataframe\">\n",
              "  <thead>\n",
              "    <tr style=\"text-align: right;\">\n",
              "      <th></th>\n",
              "      <th>Age</th>\n",
              "      <th>Nationality</th>\n",
              "      <th>Overall</th>\n",
              "    </tr>\n",
              "  </thead>\n",
              "  <tbody>\n",
              "    <tr>\n",
              "      <th>Christiano Ronaldo</th>\n",
              "      <td>32</td>\n",
              "      <td>Portugal</td>\n",
              "      <td>94</td>\n",
              "    </tr>\n",
              "    <tr>\n",
              "      <th>Lionel Messi</th>\n",
              "      <td>30</td>\n",
              "      <td>Argentina</td>\n",
              "      <td>93</td>\n",
              "    </tr>\n",
              "    <tr>\n",
              "      <th>Neymar</th>\n",
              "      <td>25</td>\n",
              "      <td>Brazil</td>\n",
              "      <td>92</td>\n",
              "    </tr>\n",
              "  </tbody>\n",
              "</table>\n",
              "</div>"
            ],
            "text/plain": [
              "                    Age Nationality  Overall\n",
              "Christiano Ronaldo   32    Portugal       94\n",
              "Lionel Messi         30   Argentina       93\n",
              "Neymar               25      Brazil       92"
            ]
          },
          "execution_count": 23,
          "metadata": {},
          "output_type": "execute_result"
        }
      ],
      "source": [
        "# Create dictionary containing data.\n",
        "dict_df = {'Age':[32, 30, 25], 'Nationality':['Portugal', 'Argentina', 'Brazil'], 'Overall':[94, 93, 92]}\n",
        "\n",
        "# Create index - names of players.\n",
        "index = ['Christiano Ronaldo', 'Lionel Messi', 'Neymar']\n",
        "\n",
        "# Create dataframe by passing in data, index and columns.\n",
        "pd.DataFrame(data=dict_df, index=index)"
      ]
    },
    {
      "cell_type": "markdown",
      "metadata": {
        "id": "joYBFsKMk82S"
      },
      "source": [
        "Using **numpy arrays**, we need to create a numpy array with the relevant data. We then also need to pass an index (player names) and column names."
      ]
    },
    {
      "cell_type": "code",
      "execution_count": null,
      "metadata": {
        "id": "3pjbJ3DBk82S",
        "outputId": "7b215afd-fb66-460d-9756-5b7d2e2e28d5"
      },
      "outputs": [
        {
          "data": {
            "text/html": [
              "<div>\n",
              "<style scoped>\n",
              "    .dataframe tbody tr th:only-of-type {\n",
              "        vertical-align: middle;\n",
              "    }\n",
              "\n",
              "    .dataframe tbody tr th {\n",
              "        vertical-align: top;\n",
              "    }\n",
              "\n",
              "    .dataframe thead th {\n",
              "        text-align: right;\n",
              "    }\n",
              "</style>\n",
              "<table border=\"1\" class=\"dataframe\">\n",
              "  <thead>\n",
              "    <tr style=\"text-align: right;\">\n",
              "      <th></th>\n",
              "      <th>Age</th>\n",
              "      <th>Nationality</th>\n",
              "      <th>Overall</th>\n",
              "    </tr>\n",
              "  </thead>\n",
              "  <tbody>\n",
              "    <tr>\n",
              "      <th>Christiano Ronaldo</th>\n",
              "      <td>32</td>\n",
              "      <td>Portugal</td>\n",
              "      <td>94</td>\n",
              "    </tr>\n",
              "    <tr>\n",
              "      <th>Lionel Messi</th>\n",
              "      <td>30</td>\n",
              "      <td>Argentina</td>\n",
              "      <td>93</td>\n",
              "    </tr>\n",
              "    <tr>\n",
              "      <th>Neymar</th>\n",
              "      <td>25</td>\n",
              "      <td>Brazil</td>\n",
              "      <td>92</td>\n",
              "    </tr>\n",
              "  </tbody>\n",
              "</table>\n",
              "</div>"
            ],
            "text/plain": [
              "                   Age Nationality Overall\n",
              "Christiano Ronaldo  32    Portugal      94\n",
              "Lionel Messi        30   Argentina      93\n",
              "Neymar              25      Brazil      92"
            ]
          },
          "execution_count": 24,
          "metadata": {},
          "output_type": "execute_result"
        }
      ],
      "source": [
        "# Create numpy array containing data.\n",
        "array_df = np.array([[32, 'Portugal', 94], [30, 'Argentina', 93], [25 , 'Brazil', 92]])\n",
        "\n",
        "# Create index - names of players.\n",
        "index = ['Christiano Ronaldo', 'Lionel Messi', 'Neymar']\n",
        "\n",
        "# Create column names.\n",
        "columns = ['Age', 'Nationality', 'Overall']\n",
        "\n",
        "# Create dataframe by passing in data, index and columns.\n",
        "pd.DataFrame(data=array_df, index=index, columns=columns)"
      ]
    },
    {
      "cell_type": "markdown",
      "metadata": {
        "id": "A_7kQnJck82T"
      },
      "source": [
        "#### Dataframes from other files\n",
        "The data argument can also be a loaded file. We will load the full csv file. Pandas make it very easy to do this; you simply load the data using the `read_csv()` function and pass in the full path of the file as a string.\n",
        "\n",
        "Pandas will use the first row as columns so we don't need to pass column names. We can also specify the index when we load the data by passing our index column as a string under the index_col argument."
      ]
    },
    {
      "cell_type": "code",
      "execution_count": null,
      "metadata": {
        "id": "tJ9rwAZEk82T",
        "outputId": "ce7a8881-df88-4d0c-dcd4-267cbe7593a3"
      },
      "outputs": [
        {
          "name": "stderr",
          "output_type": "stream",
          "text": [
            "C:\\Users\\Ojo Ridwan\\AppData\\Local\\Temp\\ipykernel_25976\\2178283603.py:6: DtypeWarning: Columns (14,26) have mixed types. Specify dtype option on import or set low_memory=False.\n",
            "  df = pd.read_csv(r\"C:\\Users\\Ojo Ridwan\\Desktop\\Notebooks\\fifa.csv\") # load the data here.\n"
          ]
        },
        {
          "data": {
            "text/html": [
              "<div>\n",
              "<style scoped>\n",
              "    .dataframe tbody tr th:only-of-type {\n",
              "        vertical-align: middle;\n",
              "    }\n",
              "\n",
              "    .dataframe tbody tr th {\n",
              "        vertical-align: top;\n",
              "    }\n",
              "\n",
              "    .dataframe thead th {\n",
              "        text-align: right;\n",
              "    }\n",
              "</style>\n",
              "<table border=\"1\" class=\"dataframe\">\n",
              "  <thead>\n",
              "    <tr style=\"text-align: right;\">\n",
              "      <th></th>\n",
              "      <th>Name</th>\n",
              "      <th>Age</th>\n",
              "      <th>Nationality</th>\n",
              "      <th>Overall</th>\n",
              "      <th>Acceleration</th>\n",
              "      <th>Aggression</th>\n",
              "      <th>Agility</th>\n",
              "      <th>Balance</th>\n",
              "      <th>Ball control</th>\n",
              "      <th>Composure</th>\n",
              "      <th>...</th>\n",
              "      <th>Short passing</th>\n",
              "      <th>Shot power</th>\n",
              "      <th>Sliding tackle</th>\n",
              "      <th>Sprint speed</th>\n",
              "      <th>Stamina</th>\n",
              "      <th>Standing tackle</th>\n",
              "      <th>Strength</th>\n",
              "      <th>Vision</th>\n",
              "      <th>Volleys</th>\n",
              "      <th>Preferred Positions</th>\n",
              "    </tr>\n",
              "  </thead>\n",
              "  <tbody>\n",
              "    <tr>\n",
              "      <th>0</th>\n",
              "      <td>Cristiano Ronaldo</td>\n",
              "      <td>32</td>\n",
              "      <td>Portugal</td>\n",
              "      <td>94</td>\n",
              "      <td>89</td>\n",
              "      <td>63</td>\n",
              "      <td>89</td>\n",
              "      <td>63</td>\n",
              "      <td>93</td>\n",
              "      <td>95</td>\n",
              "      <td>...</td>\n",
              "      <td>83</td>\n",
              "      <td>94</td>\n",
              "      <td>23</td>\n",
              "      <td>91</td>\n",
              "      <td>92</td>\n",
              "      <td>31</td>\n",
              "      <td>80</td>\n",
              "      <td>85</td>\n",
              "      <td>88</td>\n",
              "      <td>ST LW</td>\n",
              "    </tr>\n",
              "    <tr>\n",
              "      <th>1</th>\n",
              "      <td>L. Messi</td>\n",
              "      <td>30</td>\n",
              "      <td>Argentina</td>\n",
              "      <td>93</td>\n",
              "      <td>92</td>\n",
              "      <td>48</td>\n",
              "      <td>90</td>\n",
              "      <td>95</td>\n",
              "      <td>95</td>\n",
              "      <td>96</td>\n",
              "      <td>...</td>\n",
              "      <td>88</td>\n",
              "      <td>85</td>\n",
              "      <td>26</td>\n",
              "      <td>87</td>\n",
              "      <td>73</td>\n",
              "      <td>28</td>\n",
              "      <td>59</td>\n",
              "      <td>90</td>\n",
              "      <td>85</td>\n",
              "      <td>RW</td>\n",
              "    </tr>\n",
              "    <tr>\n",
              "      <th>2</th>\n",
              "      <td>Neymar</td>\n",
              "      <td>25</td>\n",
              "      <td>Brazil</td>\n",
              "      <td>92</td>\n",
              "      <td>94</td>\n",
              "      <td>56</td>\n",
              "      <td>96</td>\n",
              "      <td>82</td>\n",
              "      <td>95</td>\n",
              "      <td>92</td>\n",
              "      <td>...</td>\n",
              "      <td>81</td>\n",
              "      <td>80</td>\n",
              "      <td>33</td>\n",
              "      <td>90</td>\n",
              "      <td>78</td>\n",
              "      <td>24</td>\n",
              "      <td>53</td>\n",
              "      <td>80</td>\n",
              "      <td>83</td>\n",
              "      <td>LW</td>\n",
              "    </tr>\n",
              "    <tr>\n",
              "      <th>3</th>\n",
              "      <td>L. Suárez</td>\n",
              "      <td>30</td>\n",
              "      <td>Uruguay</td>\n",
              "      <td>92</td>\n",
              "      <td>88</td>\n",
              "      <td>78</td>\n",
              "      <td>86</td>\n",
              "      <td>60</td>\n",
              "      <td>91</td>\n",
              "      <td>83</td>\n",
              "      <td>...</td>\n",
              "      <td>83</td>\n",
              "      <td>87</td>\n",
              "      <td>38</td>\n",
              "      <td>77</td>\n",
              "      <td>89</td>\n",
              "      <td>45</td>\n",
              "      <td>80</td>\n",
              "      <td>84</td>\n",
              "      <td>88</td>\n",
              "      <td>ST</td>\n",
              "    </tr>\n",
              "    <tr>\n",
              "      <th>4</th>\n",
              "      <td>M. Neuer</td>\n",
              "      <td>31</td>\n",
              "      <td>Germany</td>\n",
              "      <td>92</td>\n",
              "      <td>58</td>\n",
              "      <td>29</td>\n",
              "      <td>52</td>\n",
              "      <td>35</td>\n",
              "      <td>48</td>\n",
              "      <td>70</td>\n",
              "      <td>...</td>\n",
              "      <td>55</td>\n",
              "      <td>25</td>\n",
              "      <td>11</td>\n",
              "      <td>61</td>\n",
              "      <td>44</td>\n",
              "      <td>10</td>\n",
              "      <td>83</td>\n",
              "      <td>70</td>\n",
              "      <td>11</td>\n",
              "      <td>GK</td>\n",
              "    </tr>\n",
              "  </tbody>\n",
              "</table>\n",
              "<p>5 rows × 39 columns</p>\n",
              "</div>"
            ],
            "text/plain": [
              "                Name  Age Nationality  Overall Acceleration Aggression  \\\n",
              "0  Cristiano Ronaldo   32    Portugal       94       89         63       \n",
              "1           L. Messi   30   Argentina       93       92         48       \n",
              "2             Neymar   25      Brazil       92       94         56       \n",
              "3          L. Suárez   30     Uruguay       92       88         78       \n",
              "4           M. Neuer   31     Germany       92       58         29       \n",
              "\n",
              "  Agility Balance Ball control Composure  ... Short passing Shot power  \\\n",
              "0  89      63           93        95      ...        83         94       \n",
              "1  90      95           95        96      ...        88         85       \n",
              "2  96      82           95        92      ...        81         80       \n",
              "3  86      60           91        83      ...        83         87       \n",
              "4  52      35           48        70      ...        55         25       \n",
              "\n",
              "  Sliding tackle Sprint speed Stamina Standing tackle Strength  Vision  \\\n",
              "0         23           91      92              31       80      85       \n",
              "1         26           87      73              28       59      90       \n",
              "2         33           90      78              24       53      80       \n",
              "3         38           77      89              45       80      84       \n",
              "4         11           61      44              10       83      70       \n",
              "\n",
              "  Volleys Preferred Positions  \n",
              "0  88                  ST LW   \n",
              "1  85                     RW   \n",
              "2  83                     LW   \n",
              "3  88                     ST   \n",
              "4  11                     GK   \n",
              "\n",
              "[5 rows x 39 columns]"
            ]
          },
          "execution_count": 31,
          "metadata": {},
          "output_type": "execute_result"
        }
      ],
      "source": [
        "# Load data - pass 'Name' as our index column.\n",
        "# For this exercise, we'll use football player data to evaluate our dataframe.\n",
        "\n",
        "\n",
        "# Create dataframe called df.\n",
        "df = pd.read_csv(r\"C:\\Users\\Ojo Ridwan\\Desktop\\Notebooks\\fifa.csv\") # load the data here.\n",
        "\n",
        "# Use the head() function to look at the first 5 rows.\n",
        "df.head()"
      ]
    },
    {
      "cell_type": "markdown",
      "metadata": {
        "id": "o88qgduTk82h"
      },
      "source": [
        "We use the `head()` function to only look at the first 5 records of our data. This is helpful if the dataframe has many rows and loading it will take lots of time.\n",
        "\n",
        "### Accessing Dataframes\n",
        "\n",
        "Accessing data within dataframes is not as straightforward as with the previous data structures. This can be done by index, by column, or by both. Let's work through these methods.\n",
        "\n",
        "#### By Index\n",
        "To access by index only in a dataframe we can use the `iloc` or `loc` functions with the indices in square brackets. The `iloc` function refers to the index location, so we pass in the number of the index, while the `loc` function refers to the name of the index, so we pass in the index name. Use slicing if you want more than one index. Eg:\n",
        "\n",
        "* `dataframe.iloc[index i]` - returns series at index i\n",
        "* `dataframe.iloc[index start: index end]` - returns dataframe from start to end (end not included)\n",
        "* `dataframe.loc['index name']` - returns series of given index name\n",
        "\n",
        "Let's look at a few examples:"
      ]
    },
    {
      "cell_type": "code",
      "execution_count": null,
      "metadata": {
        "id": "hKSIOIqEk82h",
        "outputId": "601a55ff-9bdf-4475-d19c-aeb5f818fe65"
      },
      "outputs": [
        {
          "data": {
            "text/plain": [
              "Name                   M. Neuer\n",
              "Age                          31\n",
              "Nationality             Germany\n",
              "Overall                      92\n",
              "Acceleration             58    \n",
              "Aggression               29    \n",
              "Agility                  52    \n",
              "Balance                  35    \n",
              "Ball control             48    \n",
              "Composure                70    \n",
              "Crossing                 15    \n",
              "Curve                    14    \n",
              "Dribbling                30    \n",
              "Finishing                13    \n",
              "Free kick accuracy       11    \n",
              "GK diving                91    \n",
              "GK handling              90    \n",
              "GK kicking               95    \n",
              "GK positioning           91    \n",
              "GK reflexes              89    \n",
              "Heading accuracy         25    \n",
              "Interceptions            30    \n",
              "Jumping                  78    \n",
              "Long passing             59    \n",
              "Long shots               16    \n",
              "Marking                  10    \n",
              "Penalties                47    \n",
              "Positioning              12    \n",
              "Reactions                85    \n",
              "Short passing            55    \n",
              "Shot power               25    \n",
              "Sliding tackle           11    \n",
              "Sprint speed             61    \n",
              "Stamina                  44    \n",
              "Standing tackle          10    \n",
              "Strength                 83    \n",
              "Vision                   70    \n",
              "Volleys                  11    \n",
              "Preferred Positions         GK \n",
              "Name: 4, dtype: object"
            ]
          },
          "execution_count": 32,
          "metadata": {},
          "output_type": "execute_result"
        }
      ],
      "source": [
        "# Select the 5th row using iloc[].\n",
        "df.iloc[4]"
      ]
    },
    {
      "cell_type": "code",
      "execution_count": null,
      "metadata": {
        "id": "GHcZe3o4k82j",
        "outputId": "76ee6b4a-0c29-4166-8b71-51d55c071dee"
      },
      "outputs": [
        {
          "data": {
            "text/html": [
              "<div>\n",
              "<style scoped>\n",
              "    .dataframe tbody tr th:only-of-type {\n",
              "        vertical-align: middle;\n",
              "    }\n",
              "\n",
              "    .dataframe tbody tr th {\n",
              "        vertical-align: top;\n",
              "    }\n",
              "\n",
              "    .dataframe thead th {\n",
              "        text-align: right;\n",
              "    }\n",
              "</style>\n",
              "<table border=\"1\" class=\"dataframe\">\n",
              "  <thead>\n",
              "    <tr style=\"text-align: right;\">\n",
              "      <th></th>\n",
              "      <th>Name</th>\n",
              "      <th>Age</th>\n",
              "      <th>Nationality</th>\n",
              "      <th>Overall</th>\n",
              "      <th>Acceleration</th>\n",
              "      <th>Aggression</th>\n",
              "      <th>Agility</th>\n",
              "      <th>Balance</th>\n",
              "      <th>Ball control</th>\n",
              "      <th>Composure</th>\n",
              "      <th>...</th>\n",
              "      <th>Short passing</th>\n",
              "      <th>Shot power</th>\n",
              "      <th>Sliding tackle</th>\n",
              "      <th>Sprint speed</th>\n",
              "      <th>Stamina</th>\n",
              "      <th>Standing tackle</th>\n",
              "      <th>Strength</th>\n",
              "      <th>Vision</th>\n",
              "      <th>Volleys</th>\n",
              "      <th>Preferred Positions</th>\n",
              "    </tr>\n",
              "  </thead>\n",
              "  <tbody>\n",
              "    <tr>\n",
              "      <th>4</th>\n",
              "      <td>M. Neuer</td>\n",
              "      <td>31</td>\n",
              "      <td>Germany</td>\n",
              "      <td>92</td>\n",
              "      <td>58</td>\n",
              "      <td>29</td>\n",
              "      <td>52</td>\n",
              "      <td>35</td>\n",
              "      <td>48</td>\n",
              "      <td>70</td>\n",
              "      <td>...</td>\n",
              "      <td>55</td>\n",
              "      <td>25</td>\n",
              "      <td>11</td>\n",
              "      <td>61</td>\n",
              "      <td>44</td>\n",
              "      <td>10</td>\n",
              "      <td>83</td>\n",
              "      <td>70</td>\n",
              "      <td>11</td>\n",
              "      <td>GK</td>\n",
              "    </tr>\n",
              "    <tr>\n",
              "      <th>5</th>\n",
              "      <td>R. Lewandowski</td>\n",
              "      <td>28</td>\n",
              "      <td>Poland</td>\n",
              "      <td>91</td>\n",
              "      <td>79</td>\n",
              "      <td>80</td>\n",
              "      <td>78</td>\n",
              "      <td>80</td>\n",
              "      <td>89</td>\n",
              "      <td>87</td>\n",
              "      <td>...</td>\n",
              "      <td>83</td>\n",
              "      <td>88</td>\n",
              "      <td>19</td>\n",
              "      <td>83</td>\n",
              "      <td>79</td>\n",
              "      <td>42</td>\n",
              "      <td>84</td>\n",
              "      <td>78</td>\n",
              "      <td>87</td>\n",
              "      <td>ST</td>\n",
              "    </tr>\n",
              "    <tr>\n",
              "      <th>6</th>\n",
              "      <td>De Gea</td>\n",
              "      <td>26</td>\n",
              "      <td>Spain</td>\n",
              "      <td>90</td>\n",
              "      <td>57</td>\n",
              "      <td>38</td>\n",
              "      <td>60</td>\n",
              "      <td>43</td>\n",
              "      <td>42</td>\n",
              "      <td>64</td>\n",
              "      <td>...</td>\n",
              "      <td>50</td>\n",
              "      <td>31</td>\n",
              "      <td>13</td>\n",
              "      <td>58</td>\n",
              "      <td>40</td>\n",
              "      <td>21</td>\n",
              "      <td>64</td>\n",
              "      <td>68</td>\n",
              "      <td>13</td>\n",
              "      <td>GK</td>\n",
              "    </tr>\n",
              "    <tr>\n",
              "      <th>7</th>\n",
              "      <td>E. Hazard</td>\n",
              "      <td>26</td>\n",
              "      <td>Belgium</td>\n",
              "      <td>90</td>\n",
              "      <td>93</td>\n",
              "      <td>54</td>\n",
              "      <td>93</td>\n",
              "      <td>91</td>\n",
              "      <td>92</td>\n",
              "      <td>87</td>\n",
              "      <td>...</td>\n",
              "      <td>86</td>\n",
              "      <td>79</td>\n",
              "      <td>22</td>\n",
              "      <td>87</td>\n",
              "      <td>79</td>\n",
              "      <td>27</td>\n",
              "      <td>65</td>\n",
              "      <td>86</td>\n",
              "      <td>79</td>\n",
              "      <td>LW</td>\n",
              "    </tr>\n",
              "    <tr>\n",
              "      <th>8</th>\n",
              "      <td>T. Kroos</td>\n",
              "      <td>27</td>\n",
              "      <td>Germany</td>\n",
              "      <td>90</td>\n",
              "      <td>60</td>\n",
              "      <td>60</td>\n",
              "      <td>71</td>\n",
              "      <td>69</td>\n",
              "      <td>89</td>\n",
              "      <td>85</td>\n",
              "      <td>...</td>\n",
              "      <td>90</td>\n",
              "      <td>87</td>\n",
              "      <td>69</td>\n",
              "      <td>52</td>\n",
              "      <td>77</td>\n",
              "      <td>82</td>\n",
              "      <td>74</td>\n",
              "      <td>88</td>\n",
              "      <td>82</td>\n",
              "      <td>CDM CM</td>\n",
              "    </tr>\n",
              "    <tr>\n",
              "      <th>9</th>\n",
              "      <td>G. Higuaín</td>\n",
              "      <td>29</td>\n",
              "      <td>Argentina</td>\n",
              "      <td>90</td>\n",
              "      <td>78</td>\n",
              "      <td>50</td>\n",
              "      <td>75</td>\n",
              "      <td>69</td>\n",
              "      <td>85</td>\n",
              "      <td>86</td>\n",
              "      <td>...</td>\n",
              "      <td>75</td>\n",
              "      <td>88</td>\n",
              "      <td>18</td>\n",
              "      <td>80</td>\n",
              "      <td>72</td>\n",
              "      <td>22</td>\n",
              "      <td>85</td>\n",
              "      <td>70</td>\n",
              "      <td>88</td>\n",
              "      <td>ST</td>\n",
              "    </tr>\n",
              "  </tbody>\n",
              "</table>\n",
              "<p>6 rows × 39 columns</p>\n",
              "</div>"
            ],
            "text/plain": [
              "             Name  Age Nationality  Overall Acceleration Aggression Agility  \\\n",
              "4        M. Neuer   31     Germany       92       58         29      52       \n",
              "5  R. Lewandowski   28      Poland       91       79         80      78       \n",
              "6          De Gea   26       Spain       90       57         38      60       \n",
              "7       E. Hazard   26     Belgium       90       93         54      93       \n",
              "8        T. Kroos   27     Germany       90       60         60      71       \n",
              "9      G. Higuaín   29   Argentina       90       78         50      75       \n",
              "\n",
              "  Balance Ball control Composure  ... Short passing Shot power Sliding tackle  \\\n",
              "4  35           48        70      ...        55         25             11       \n",
              "5  80           89        87      ...        83         88             19       \n",
              "6  43           42        64      ...        50         31             13       \n",
              "7  91           92        87      ...        86         79             22       \n",
              "8  69           89        85      ...        90         87             69       \n",
              "9  69           85        86      ...        75         88             18       \n",
              "\n",
              "  Sprint speed Stamina Standing tackle Strength  Vision Volleys  \\\n",
              "4       61      44              10       83      70      11       \n",
              "5       83      79              42       84      78      87       \n",
              "6       58      40              21       64      68      13       \n",
              "7       87      79              27       65      86      79       \n",
              "8       52      77              82       74      88      82       \n",
              "9       80      72              22       85      70      88       \n",
              "\n",
              "  Preferred Positions  \n",
              "4                 GK   \n",
              "5                 ST   \n",
              "6                 GK   \n",
              "7                 LW   \n",
              "8             CDM CM   \n",
              "9                 ST   \n",
              "\n",
              "[6 rows x 39 columns]"
            ]
          },
          "execution_count": 33,
          "metadata": {},
          "output_type": "execute_result"
        }
      ],
      "source": [
        "# Select rows 5 to 10.\n",
        "df.iloc[4:10]"
      ]
    },
    {
      "cell_type": "code",
      "execution_count": null,
      "metadata": {
        "id": "EQObq8fIk82k",
        "outputId": "7a1c13bc-3dcd-4011-f091-9494824cdf26"
      },
      "outputs": [
        {
          "data": {
            "text/html": [
              "<div>\n",
              "<style scoped>\n",
              "    .dataframe tbody tr th:only-of-type {\n",
              "        vertical-align: middle;\n",
              "    }\n",
              "\n",
              "    .dataframe tbody tr th {\n",
              "        vertical-align: top;\n",
              "    }\n",
              "\n",
              "    .dataframe thead th {\n",
              "        text-align: right;\n",
              "    }\n",
              "</style>\n",
              "<table border=\"1\" class=\"dataframe\">\n",
              "  <thead>\n",
              "    <tr style=\"text-align: right;\">\n",
              "      <th></th>\n",
              "      <th>Name</th>\n",
              "      <th>Age</th>\n",
              "      <th>Nationality</th>\n",
              "      <th>Overall</th>\n",
              "      <th>Acceleration</th>\n",
              "      <th>Aggression</th>\n",
              "      <th>Agility</th>\n",
              "      <th>Balance</th>\n",
              "      <th>Ball control</th>\n",
              "      <th>Composure</th>\n",
              "      <th>...</th>\n",
              "      <th>Short passing</th>\n",
              "      <th>Shot power</th>\n",
              "      <th>Sliding tackle</th>\n",
              "      <th>Sprint speed</th>\n",
              "      <th>Stamina</th>\n",
              "      <th>Standing tackle</th>\n",
              "      <th>Strength</th>\n",
              "      <th>Vision</th>\n",
              "      <th>Volleys</th>\n",
              "      <th>Preferred Positions</th>\n",
              "    </tr>\n",
              "  </thead>\n",
              "  <tbody>\n",
              "    <tr>\n",
              "      <th>4</th>\n",
              "      <td>M. Neuer</td>\n",
              "      <td>31</td>\n",
              "      <td>Germany</td>\n",
              "      <td>92</td>\n",
              "      <td>58</td>\n",
              "      <td>29</td>\n",
              "      <td>52</td>\n",
              "      <td>35</td>\n",
              "      <td>48</td>\n",
              "      <td>70</td>\n",
              "      <td>...</td>\n",
              "      <td>55</td>\n",
              "      <td>25</td>\n",
              "      <td>11</td>\n",
              "      <td>61</td>\n",
              "      <td>44</td>\n",
              "      <td>10</td>\n",
              "      <td>83</td>\n",
              "      <td>70</td>\n",
              "      <td>11</td>\n",
              "      <td>GK</td>\n",
              "    </tr>\n",
              "  </tbody>\n",
              "</table>\n",
              "<p>1 rows × 39 columns</p>\n",
              "</div>"
            ],
            "text/plain": [
              "       Name  Age Nationality  Overall Acceleration Aggression Agility Balance  \\\n",
              "4  M. Neuer   31     Germany       92       58         29      52      35       \n",
              "\n",
              "  Ball control Composure  ... Short passing Shot power Sliding tackle  \\\n",
              "4       48        70      ...        55         25             11       \n",
              "\n",
              "  Sprint speed Stamina Standing tackle Strength  Vision Volleys  \\\n",
              "4       61      44              10       83      70      11       \n",
              "\n",
              "  Preferred Positions  \n",
              "4                 GK   \n",
              "\n",
              "[1 rows x 39 columns]"
            ]
          },
          "execution_count": 55,
          "metadata": {},
          "output_type": "execute_result"
        }
      ],
      "source": [
        "# Select the M. Neuer index using loc[].\n",
        "df.loc[df['Name'] == 'M. Neuer']"
      ]
    },
    {
      "cell_type": "markdown",
      "metadata": {
        "id": "u3fye640k82l"
      },
      "source": [
        "#### By Column\n",
        "To access by column only we can simply call `dataframe['Column Name']`. If we want more than one column we input a list of column names inside the square brackets:\n",
        "\n",
        "* `dataframe['Column Name']` - returns series of given column\n",
        "* `dataframe[['Column 1', 'Column 2']]` - returns dataframe with the given columns\n",
        "\n",
        "Let's look at examples."
      ]
    },
    {
      "cell_type": "code",
      "execution_count": null,
      "metadata": {
        "id": "BlZHsakNk82m",
        "outputId": "f8bff2a8-effd-46d1-92bb-6cf761982dfe"
      },
      "outputs": [
        {
          "data": {
            "text/plain": [
              "0        32\n",
              "1        30\n",
              "2        25\n",
              "3        30\n",
              "4        31\n",
              "         ..\n",
              "17976    17\n",
              "17977    47\n",
              "17978    17\n",
              "17979    18\n",
              "17980    18\n",
              "Name: Age, Length: 17981, dtype: int64"
            ]
          },
          "execution_count": 40,
          "metadata": {},
          "output_type": "execute_result"
        }
      ],
      "source": [
        "# Select the column 'Age'.\n",
        "df['Age']"
      ]
    },
    {
      "cell_type": "code",
      "execution_count": null,
      "metadata": {
        "id": "SOzFTA9Hk82n",
        "outputId": "296e3ce5-4963-4211-8aef-1b3c9c45f1bb"
      },
      "outputs": [
        {
          "data": {
            "text/html": [
              "<div>\n",
              "<style scoped>\n",
              "    .dataframe tbody tr th:only-of-type {\n",
              "        vertical-align: middle;\n",
              "    }\n",
              "\n",
              "    .dataframe tbody tr th {\n",
              "        vertical-align: top;\n",
              "    }\n",
              "\n",
              "    .dataframe thead th {\n",
              "        text-align: right;\n",
              "    }\n",
              "</style>\n",
              "<table border=\"1\" class=\"dataframe\">\n",
              "  <thead>\n",
              "    <tr style=\"text-align: right;\">\n",
              "      <th></th>\n",
              "      <th>Age</th>\n",
              "      <th>Nationality</th>\n",
              "    </tr>\n",
              "  </thead>\n",
              "  <tbody>\n",
              "    <tr>\n",
              "      <th>0</th>\n",
              "      <td>32</td>\n",
              "      <td>Portugal</td>\n",
              "    </tr>\n",
              "    <tr>\n",
              "      <th>1</th>\n",
              "      <td>30</td>\n",
              "      <td>Argentina</td>\n",
              "    </tr>\n",
              "    <tr>\n",
              "      <th>2</th>\n",
              "      <td>25</td>\n",
              "      <td>Brazil</td>\n",
              "    </tr>\n",
              "    <tr>\n",
              "      <th>3</th>\n",
              "      <td>30</td>\n",
              "      <td>Uruguay</td>\n",
              "    </tr>\n",
              "    <tr>\n",
              "      <th>4</th>\n",
              "      <td>31</td>\n",
              "      <td>Germany</td>\n",
              "    </tr>\n",
              "    <tr>\n",
              "      <th>...</th>\n",
              "      <td>...</td>\n",
              "      <td>...</td>\n",
              "    </tr>\n",
              "    <tr>\n",
              "      <th>17976</th>\n",
              "      <td>17</td>\n",
              "      <td>England</td>\n",
              "    </tr>\n",
              "    <tr>\n",
              "      <th>17977</th>\n",
              "      <td>47</td>\n",
              "      <td>England</td>\n",
              "    </tr>\n",
              "    <tr>\n",
              "      <th>17978</th>\n",
              "      <td>17</td>\n",
              "      <td>Scotland</td>\n",
              "    </tr>\n",
              "    <tr>\n",
              "      <th>17979</th>\n",
              "      <td>18</td>\n",
              "      <td>England</td>\n",
              "    </tr>\n",
              "    <tr>\n",
              "      <th>17980</th>\n",
              "      <td>18</td>\n",
              "      <td>Ghana</td>\n",
              "    </tr>\n",
              "  </tbody>\n",
              "</table>\n",
              "<p>17981 rows × 2 columns</p>\n",
              "</div>"
            ],
            "text/plain": [
              "       Age Nationality\n",
              "0       32    Portugal\n",
              "1       30   Argentina\n",
              "2       25      Brazil\n",
              "3       30     Uruguay\n",
              "4       31     Germany\n",
              "...    ...         ...\n",
              "17976   17     England\n",
              "17977   47     England\n",
              "17978   17    Scotland\n",
              "17979   18     England\n",
              "17980   18       Ghana\n",
              "\n",
              "[17981 rows x 2 columns]"
            ]
          },
          "execution_count": 41,
          "metadata": {},
          "output_type": "execute_result"
        }
      ],
      "source": [
        "# Select the columns 'Age' and 'Nationality'.\n",
        "df[['Age', 'Nationality']]"
      ]
    },
    {
      "cell_type": "markdown",
      "metadata": {
        "id": "FwQN79fJk82o"
      },
      "source": [
        "#### By index and column\n",
        "We can also select a subset of the dataframe using indices and columns in combination. Let's look at a few examples:"
      ]
    },
    {
      "cell_type": "code",
      "execution_count": null,
      "metadata": {
        "id": "3HeHo-zTk82p",
        "outputId": "6d51080f-ce75-4c98-e4f0-2421539ac25a"
      },
      "outputs": [
        {
          "data": {
            "text/html": [
              "<div>\n",
              "<style scoped>\n",
              "    .dataframe tbody tr th:only-of-type {\n",
              "        vertical-align: middle;\n",
              "    }\n",
              "\n",
              "    .dataframe tbody tr th {\n",
              "        vertical-align: top;\n",
              "    }\n",
              "\n",
              "    .dataframe thead th {\n",
              "        text-align: right;\n",
              "    }\n",
              "</style>\n",
              "<table border=\"1\" class=\"dataframe\">\n",
              "  <thead>\n",
              "    <tr style=\"text-align: right;\">\n",
              "      <th></th>\n",
              "      <th>Age</th>\n",
              "      <th>Nationality</th>\n",
              "    </tr>\n",
              "  </thead>\n",
              "  <tbody>\n",
              "    <tr>\n",
              "      <th>0</th>\n",
              "      <td>32</td>\n",
              "      <td>Portugal</td>\n",
              "    </tr>\n",
              "    <tr>\n",
              "      <th>1</th>\n",
              "      <td>30</td>\n",
              "      <td>Argentina</td>\n",
              "    </tr>\n",
              "    <tr>\n",
              "      <th>2</th>\n",
              "      <td>25</td>\n",
              "      <td>Brazil</td>\n",
              "    </tr>\n",
              "    <tr>\n",
              "      <th>3</th>\n",
              "      <td>30</td>\n",
              "      <td>Uruguay</td>\n",
              "    </tr>\n",
              "    <tr>\n",
              "      <th>4</th>\n",
              "      <td>31</td>\n",
              "      <td>Germany</td>\n",
              "    </tr>\n",
              "  </tbody>\n",
              "</table>\n",
              "</div>"
            ],
            "text/plain": [
              "   Age Nationality\n",
              "0   32    Portugal\n",
              "1   30   Argentina\n",
              "2   25      Brazil\n",
              "3   30     Uruguay\n",
              "4   31     Germany"
            ]
          },
          "execution_count": 42,
          "metadata": {},
          "output_type": "execute_result"
        }
      ],
      "source": [
        "# Select the first 5 rows and first 2 columns - Rows first.\n",
        "df.iloc[0:5][['Age', 'Nationality']]"
      ]
    },
    {
      "cell_type": "code",
      "execution_count": null,
      "metadata": {
        "id": "WIJWznUyk82q",
        "outputId": "08ee83be-d6f5-4f0d-f3d4-74ddf7f56c73"
      },
      "outputs": [
        {
          "data": {
            "text/html": [
              "<div>\n",
              "<style scoped>\n",
              "    .dataframe tbody tr th:only-of-type {\n",
              "        vertical-align: middle;\n",
              "    }\n",
              "\n",
              "    .dataframe tbody tr th {\n",
              "        vertical-align: top;\n",
              "    }\n",
              "\n",
              "    .dataframe thead th {\n",
              "        text-align: right;\n",
              "    }\n",
              "</style>\n",
              "<table border=\"1\" class=\"dataframe\">\n",
              "  <thead>\n",
              "    <tr style=\"text-align: right;\">\n",
              "      <th></th>\n",
              "      <th>Age</th>\n",
              "      <th>Nationality</th>\n",
              "    </tr>\n",
              "  </thead>\n",
              "  <tbody>\n",
              "    <tr>\n",
              "      <th>0</th>\n",
              "      <td>32</td>\n",
              "      <td>Portugal</td>\n",
              "    </tr>\n",
              "    <tr>\n",
              "      <th>1</th>\n",
              "      <td>30</td>\n",
              "      <td>Argentina</td>\n",
              "    </tr>\n",
              "    <tr>\n",
              "      <th>2</th>\n",
              "      <td>25</td>\n",
              "      <td>Brazil</td>\n",
              "    </tr>\n",
              "    <tr>\n",
              "      <th>3</th>\n",
              "      <td>30</td>\n",
              "      <td>Uruguay</td>\n",
              "    </tr>\n",
              "    <tr>\n",
              "      <th>4</th>\n",
              "      <td>31</td>\n",
              "      <td>Germany</td>\n",
              "    </tr>\n",
              "  </tbody>\n",
              "</table>\n",
              "</div>"
            ],
            "text/plain": [
              "   Age Nationality\n",
              "0   32    Portugal\n",
              "1   30   Argentina\n",
              "2   25      Brazil\n",
              "3   30     Uruguay\n",
              "4   31     Germany"
            ]
          },
          "execution_count": 43,
          "metadata": {},
          "output_type": "execute_result"
        }
      ],
      "source": [
        "# Select the first 5 rows and first 2 columns - Columns first.\n",
        "df[['Age', 'Nationality']].iloc[0:5]"
      ]
    },
    {
      "cell_type": "markdown",
      "metadata": {
        "id": "me0KUO5Iq-Ly"
      },
      "source": [
        "Transforming some values in the Name Column, to find occurrences of 'L. Suárez' and replace them with 'L. Suarez. replacing the 'á' will make it easier to index the player with your keyboard."
      ]
    },
    {
      "cell_type": "code",
      "execution_count": null,
      "metadata": {
        "id": "1x4SIOhBqdku",
        "outputId": "46ff3492-3030-440b-9bac-42f212023174"
      },
      "outputs": [
        {
          "name": "stderr",
          "output_type": "stream",
          "text": [
            "C:\\Users\\Ojo Ridwan\\AppData\\Local\\Temp\\ipykernel_25976\\178125146.py:1: FutureWarning: The default value of regex will change from True to False in a future version.\n",
            "  df['Name'] = df['Name'].str.replace('L. Suárez', 'L. Suarez')\n"
          ]
        }
      ],
      "source": [
        "df['Name'] = df['Name'].str.replace('L. Suárez', 'L. Suarez')"
      ]
    },
    {
      "cell_type": "code",
      "execution_count": null,
      "metadata": {
        "id": "RZX8Z_A7088u",
        "outputId": "1f69aff4-87c8-43b4-828f-22b303624d30"
      },
      "outputs": [
        {
          "data": {
            "text/plain": [
              "0        Cristiano Ronaldo\n",
              "1                 L. Messi\n",
              "2                   Neymar\n",
              "3                L. Suarez\n",
              "4                 M. Neuer\n",
              "               ...        \n",
              "17976            A. Kelsey\n",
              "17977        B. Richardson\n",
              "17978             J. Young\n",
              "17979         J. Lundstram\n",
              "17980            L. Sackey\n",
              "Name: Name, Length: 17981, dtype: object"
            ]
          },
          "execution_count": 45,
          "metadata": {},
          "output_type": "execute_result"
        }
      ],
      "source": [
        "df['Name']"
      ]
    },
    {
      "cell_type": "markdown",
      "metadata": {
        "id": "7DplRYybk82s"
      },
      "source": [
        "### When to use Dataframes\n",
        "Unlike the Numpy array which is suited for storing and performing computations on homogeneous data (data of the same type), Pandas dataframes can accommodate heterogeneous data. This makes them the choice data structure for manipulating often messy data (e.g tabular data from spreadsheets, or SQL tables).\n",
        "\n",
        "We should use a Pandas dataframe if all of the following statements hold:\n",
        "\n",
        "* We have 2-dimensional data (rows and columns)\n",
        "* The data type is the same within a column\n",
        "* We are interested in the index (rows) and column names\n",
        "\n",
        "## Exercises\n",
        "\n",
        "Here are some exercises for you to try out. The solutions can be found at the end of this train."
      ]
    },
    {
      "cell_type": "markdown",
      "metadata": {
        "id": "KsAnR3DUk82s"
      },
      "source": [
        "#### Exercise 1:\n",
        "Select rows 9-14 of the football player dataframe we've just been using."
      ]
    },
    {
      "cell_type": "code",
      "execution_count": null,
      "metadata": {
        "id": "BEOXY_NUk82t",
        "jupyter": {
          "outputs_hidden": true
        },
        "outputId": "cf0e4fed-85a9-4ea7-9ac8-dc139670b8c3"
      },
      "outputs": [
        {
          "data": {
            "text/html": [
              "<div>\n",
              "<style scoped>\n",
              "    .dataframe tbody tr th:only-of-type {\n",
              "        vertical-align: middle;\n",
              "    }\n",
              "\n",
              "    .dataframe tbody tr th {\n",
              "        vertical-align: top;\n",
              "    }\n",
              "\n",
              "    .dataframe thead th {\n",
              "        text-align: right;\n",
              "    }\n",
              "</style>\n",
              "<table border=\"1\" class=\"dataframe\">\n",
              "  <thead>\n",
              "    <tr style=\"text-align: right;\">\n",
              "      <th></th>\n",
              "      <th>Name</th>\n",
              "      <th>Age</th>\n",
              "      <th>Nationality</th>\n",
              "      <th>Overall</th>\n",
              "      <th>Acceleration</th>\n",
              "      <th>Aggression</th>\n",
              "      <th>Agility</th>\n",
              "      <th>Balance</th>\n",
              "      <th>Ball control</th>\n",
              "      <th>Composure</th>\n",
              "      <th>...</th>\n",
              "      <th>Short passing</th>\n",
              "      <th>Shot power</th>\n",
              "      <th>Sliding tackle</th>\n",
              "      <th>Sprint speed</th>\n",
              "      <th>Stamina</th>\n",
              "      <th>Standing tackle</th>\n",
              "      <th>Strength</th>\n",
              "      <th>Vision</th>\n",
              "      <th>Volleys</th>\n",
              "      <th>Preferred Positions</th>\n",
              "    </tr>\n",
              "  </thead>\n",
              "  <tbody>\n",
              "    <tr>\n",
              "      <th>9</th>\n",
              "      <td>G. Higuaín</td>\n",
              "      <td>29</td>\n",
              "      <td>Argentina</td>\n",
              "      <td>90</td>\n",
              "      <td>78</td>\n",
              "      <td>50</td>\n",
              "      <td>75</td>\n",
              "      <td>69</td>\n",
              "      <td>85</td>\n",
              "      <td>86</td>\n",
              "      <td>...</td>\n",
              "      <td>75</td>\n",
              "      <td>88</td>\n",
              "      <td>18</td>\n",
              "      <td>80</td>\n",
              "      <td>72</td>\n",
              "      <td>22</td>\n",
              "      <td>85</td>\n",
              "      <td>70</td>\n",
              "      <td>88</td>\n",
              "      <td>ST</td>\n",
              "    </tr>\n",
              "    <tr>\n",
              "      <th>10</th>\n",
              "      <td>Sergio Ramos</td>\n",
              "      <td>31</td>\n",
              "      <td>Spain</td>\n",
              "      <td>90</td>\n",
              "      <td>75</td>\n",
              "      <td>84</td>\n",
              "      <td>79</td>\n",
              "      <td>60</td>\n",
              "      <td>84</td>\n",
              "      <td>80</td>\n",
              "      <td>...</td>\n",
              "      <td>78</td>\n",
              "      <td>79</td>\n",
              "      <td>91</td>\n",
              "      <td>77</td>\n",
              "      <td>84</td>\n",
              "      <td>89</td>\n",
              "      <td>81</td>\n",
              "      <td>63</td>\n",
              "      <td>66</td>\n",
              "      <td>CB</td>\n",
              "    </tr>\n",
              "    <tr>\n",
              "      <th>11</th>\n",
              "      <td>K. De Bruyne</td>\n",
              "      <td>26</td>\n",
              "      <td>Belgium</td>\n",
              "      <td>89</td>\n",
              "      <td>76</td>\n",
              "      <td>68</td>\n",
              "      <td>80</td>\n",
              "      <td>75</td>\n",
              "      <td>87</td>\n",
              "      <td>84</td>\n",
              "      <td>...</td>\n",
              "      <td>90</td>\n",
              "      <td>85</td>\n",
              "      <td>40</td>\n",
              "      <td>75</td>\n",
              "      <td>87</td>\n",
              "      <td>51</td>\n",
              "      <td>73</td>\n",
              "      <td>90</td>\n",
              "      <td>82</td>\n",
              "      <td>RM CM CAM</td>\n",
              "    </tr>\n",
              "    <tr>\n",
              "      <th>12</th>\n",
              "      <td>T. Courtois</td>\n",
              "      <td>25</td>\n",
              "      <td>Belgium</td>\n",
              "      <td>89</td>\n",
              "      <td>46</td>\n",
              "      <td>23</td>\n",
              "      <td>61</td>\n",
              "      <td>45</td>\n",
              "      <td>23</td>\n",
              "      <td>52</td>\n",
              "      <td>...</td>\n",
              "      <td>32</td>\n",
              "      <td>36</td>\n",
              "      <td>16</td>\n",
              "      <td>52</td>\n",
              "      <td>38</td>\n",
              "      <td>18</td>\n",
              "      <td>70</td>\n",
              "      <td>44</td>\n",
              "      <td>12</td>\n",
              "      <td>GK</td>\n",
              "    </tr>\n",
              "    <tr>\n",
              "      <th>13</th>\n",
              "      <td>A. Sánchez</td>\n",
              "      <td>28</td>\n",
              "      <td>Chile</td>\n",
              "      <td>89</td>\n",
              "      <td>88</td>\n",
              "      <td>80</td>\n",
              "      <td>90</td>\n",
              "      <td>87</td>\n",
              "      <td>87</td>\n",
              "      <td>86</td>\n",
              "      <td>...</td>\n",
              "      <td>81</td>\n",
              "      <td>84</td>\n",
              "      <td>35</td>\n",
              "      <td>84</td>\n",
              "      <td>85</td>\n",
              "      <td>39</td>\n",
              "      <td>72</td>\n",
              "      <td>83</td>\n",
              "      <td>83</td>\n",
              "      <td>RM LW ST LM</td>\n",
              "    </tr>\n",
              "    <tr>\n",
              "      <th>14</th>\n",
              "      <td>L. Modrić</td>\n",
              "      <td>31</td>\n",
              "      <td>Croatia</td>\n",
              "      <td>89</td>\n",
              "      <td>75</td>\n",
              "      <td>62</td>\n",
              "      <td>93</td>\n",
              "      <td>94</td>\n",
              "      <td>92</td>\n",
              "      <td>84</td>\n",
              "      <td>...</td>\n",
              "      <td>92</td>\n",
              "      <td>73</td>\n",
              "      <td>73</td>\n",
              "      <td>71</td>\n",
              "      <td>82</td>\n",
              "      <td>80</td>\n",
              "      <td>58</td>\n",
              "      <td>90</td>\n",
              "      <td>74</td>\n",
              "      <td>CDM CM</td>\n",
              "    </tr>\n",
              "  </tbody>\n",
              "</table>\n",
              "<p>6 rows × 39 columns</p>\n",
              "</div>"
            ],
            "text/plain": [
              "            Name  Age Nationality  Overall Acceleration Aggression Agility  \\\n",
              "9     G. Higuaín   29   Argentina       90       78         50      75       \n",
              "10  Sergio Ramos   31       Spain       90       75         84      79       \n",
              "11  K. De Bruyne   26     Belgium       89       76         68      80       \n",
              "12   T. Courtois   25     Belgium       89       46         23      61       \n",
              "13    A. Sánchez   28       Chile       89       88         80      90       \n",
              "14     L. Modrić   31     Croatia       89       75         62      93       \n",
              "\n",
              "   Balance Ball control Composure  ... Short passing Shot power  \\\n",
              "9   69           85        86      ...        75         88       \n",
              "10  60           84        80      ...        78         79       \n",
              "11  75           87        84      ...        90         85       \n",
              "12  45           23        52      ...        32         36       \n",
              "13  87           87        86      ...        81         84       \n",
              "14  94           92        84      ...        92         73       \n",
              "\n",
              "   Sliding tackle Sprint speed Stamina Standing tackle Strength  Vision  \\\n",
              "9          18           80      72              22       85      70       \n",
              "10         91           77      84              89       81      63       \n",
              "11         40           75      87              51       73      90       \n",
              "12         16           52      38              18       70      44       \n",
              "13         35           84      85              39       72      83       \n",
              "14         73           71      82              80       58      90       \n",
              "\n",
              "   Volleys Preferred Positions  \n",
              "9   88                     ST   \n",
              "10  66                     CB   \n",
              "11  82              RM CM CAM   \n",
              "12  12                     GK   \n",
              "13  83            RM LW ST LM   \n",
              "14  74                 CDM CM   \n",
              "\n",
              "[6 rows x 39 columns]"
            ]
          },
          "execution_count": 46,
          "metadata": {},
          "output_type": "execute_result"
        }
      ],
      "source": [
        "df.iloc[9:15]"
      ]
    },
    {
      "cell_type": "markdown",
      "metadata": {
        "id": "UKB-eP-ik82t"
      },
      "source": [
        "#### Exercise 2:\n",
        "Select, in order, only the \"Preferred Positions\", \"Overall\" and \"Age\" columns for the football player Neymar."
      ]
    },
    {
      "cell_type": "code",
      "execution_count": null,
      "metadata": {
        "id": "6w4H6dcLk82u",
        "jupyter": {
          "outputs_hidden": true
        },
        "outputId": "c09a02c4-d499-4cfc-e5b9-041d20683ccc"
      },
      "outputs": [
        {
          "data": {
            "text/html": [
              "<div>\n",
              "<style scoped>\n",
              "    .dataframe tbody tr th:only-of-type {\n",
              "        vertical-align: middle;\n",
              "    }\n",
              "\n",
              "    .dataframe tbody tr th {\n",
              "        vertical-align: top;\n",
              "    }\n",
              "\n",
              "    .dataframe thead th {\n",
              "        text-align: right;\n",
              "    }\n",
              "</style>\n",
              "<table border=\"1\" class=\"dataframe\">\n",
              "  <thead>\n",
              "    <tr style=\"text-align: right;\">\n",
              "      <th></th>\n",
              "      <th>Preferred Positions</th>\n",
              "      <th>Overall</th>\n",
              "      <th>Age</th>\n",
              "    </tr>\n",
              "  </thead>\n",
              "  <tbody>\n",
              "    <tr>\n",
              "      <th>2</th>\n",
              "      <td>LW</td>\n",
              "      <td>92</td>\n",
              "      <td>25</td>\n",
              "    </tr>\n",
              "  </tbody>\n",
              "</table>\n",
              "</div>"
            ],
            "text/plain": [
              "  Preferred Positions  Overall  Age\n",
              "2                 LW        92   25"
            ]
          },
          "execution_count": 56,
          "metadata": {},
          "output_type": "execute_result"
        }
      ],
      "source": [
        "df.loc[df['Name'] == 'Neymar'][[\"Preferred Positions\",\"Overall\",\"Age\"]]"
      ]
    },
    {
      "cell_type": "code",
      "execution_count": null,
      "metadata": {
        "id": "GMptuvv2088z",
        "outputId": "e3244e7c-c308-43de-b8c3-7d2ecac3ace5"
      },
      "outputs": [
        {
          "name": "stdout",
          "output_type": "stream",
          "text": [
            "<class 'pandas.core.frame.DataFrame'>\n",
            "RangeIndex: 17981 entries, 0 to 17980\n",
            "Data columns (total 39 columns):\n",
            " #   Column               Non-Null Count  Dtype \n",
            "---  ------               --------------  ----- \n",
            " 0   Name                 17981 non-null  object\n",
            " 1   Age                  17981 non-null  int64 \n",
            " 2   Nationality          17981 non-null  object\n",
            " 3   Overall              17981 non-null  int64 \n",
            " 4   Acceleration         17981 non-null  object\n",
            " 5   Aggression           17981 non-null  object\n",
            " 6   Agility              17981 non-null  object\n",
            " 7   Balance              17981 non-null  object\n",
            " 8   Ball control         17981 non-null  object\n",
            " 9   Composure            17981 non-null  object\n",
            " 10  Crossing             17981 non-null  object\n",
            " 11  Curve                17981 non-null  object\n",
            " 12  Dribbling            17981 non-null  object\n",
            " 13  Finishing            17981 non-null  object\n",
            " 14  Free kick accuracy   17981 non-null  object\n",
            " 15  GK diving            17981 non-null  object\n",
            " 16  GK handling          17981 non-null  object\n",
            " 17  GK kicking           17981 non-null  object\n",
            " 18  GK positioning       17981 non-null  object\n",
            " 19  GK reflexes          17981 non-null  object\n",
            " 20  Heading accuracy     17981 non-null  object\n",
            " 21  Interceptions        17981 non-null  object\n",
            " 22  Jumping              17981 non-null  object\n",
            " 23  Long passing         17981 non-null  object\n",
            " 24  Long shots           17981 non-null  object\n",
            " 25  Marking              17981 non-null  object\n",
            " 26  Penalties            17981 non-null  object\n",
            " 27  Positioning          17981 non-null  object\n",
            " 28  Reactions            17981 non-null  object\n",
            " 29  Short passing        17981 non-null  object\n",
            " 30  Shot power           17981 non-null  object\n",
            " 31  Sliding tackle       17981 non-null  object\n",
            " 32  Sprint speed         17981 non-null  object\n",
            " 33  Stamina              17981 non-null  object\n",
            " 34  Standing tackle      17981 non-null  object\n",
            " 35  Strength             17981 non-null  object\n",
            " 36  Vision               17981 non-null  object\n",
            " 37  Volleys              17981 non-null  object\n",
            " 38  Preferred Positions  17981 non-null  object\n",
            "dtypes: int64(2), object(37)\n",
            "memory usage: 5.4+ MB\n"
          ]
        }
      ],
      "source": [
        "df.info()"
      ]
    },
    {
      "cell_type": "markdown",
      "metadata": {
        "id": "yqeoM7Kwk82v"
      },
      "source": [
        "#### Exercise 3:\n",
        "Select, in order, only the \"Overall\", \"Age\" and \"Nationality\" columns for all players with ages of 35 years or older"
      ]
    },
    {
      "cell_type": "code",
      "execution_count": null,
      "metadata": {
        "id": "2lyFDWQuk82v",
        "jupyter": {
          "outputs_hidden": true
        },
        "outputId": "5e49f3a6-7043-431f-bb40-f5c18f692f6d"
      },
      "outputs": [
        {
          "data": {
            "text/html": [
              "<div>\n",
              "<style scoped>\n",
              "    .dataframe tbody tr th:only-of-type {\n",
              "        vertical-align: middle;\n",
              "    }\n",
              "\n",
              "    .dataframe tbody tr th {\n",
              "        vertical-align: top;\n",
              "    }\n",
              "\n",
              "    .dataframe thead th {\n",
              "        text-align: right;\n",
              "    }\n",
              "</style>\n",
              "<table border=\"1\" class=\"dataframe\">\n",
              "  <thead>\n",
              "    <tr style=\"text-align: right;\">\n",
              "      <th></th>\n",
              "      <th>Overall</th>\n",
              "      <th>Age</th>\n",
              "      <th>Nationality</th>\n",
              "    </tr>\n",
              "  </thead>\n",
              "  <tbody>\n",
              "    <tr>\n",
              "      <th>18</th>\n",
              "      <td>89</td>\n",
              "      <td>39</td>\n",
              "      <td>Italy</td>\n",
              "    </tr>\n",
              "    <tr>\n",
              "      <th>31</th>\n",
              "      <td>88</td>\n",
              "      <td>35</td>\n",
              "      <td>Sweden</td>\n",
              "    </tr>\n",
              "    <tr>\n",
              "      <th>68</th>\n",
              "      <td>86</td>\n",
              "      <td>35</td>\n",
              "      <td>Czech Republic</td>\n",
              "    </tr>\n",
              "    <tr>\n",
              "      <th>91</th>\n",
              "      <td>85</td>\n",
              "      <td>36</td>\n",
              "      <td>Italy</td>\n",
              "    </tr>\n",
              "    <tr>\n",
              "      <th>126</th>\n",
              "      <td>84</td>\n",
              "      <td>36</td>\n",
              "      <td>Spain</td>\n",
              "    </tr>\n",
              "    <tr>\n",
              "      <th>...</th>\n",
              "      <td>...</td>\n",
              "      <td>...</td>\n",
              "      <td>...</td>\n",
              "    </tr>\n",
              "    <tr>\n",
              "      <th>17577</th>\n",
              "      <td>52</td>\n",
              "      <td>38</td>\n",
              "      <td>Japan</td>\n",
              "    </tr>\n",
              "    <tr>\n",
              "      <th>17586</th>\n",
              "      <td>52</td>\n",
              "      <td>36</td>\n",
              "      <td>Japan</td>\n",
              "    </tr>\n",
              "    <tr>\n",
              "      <th>17605</th>\n",
              "      <td>52</td>\n",
              "      <td>39</td>\n",
              "      <td>Saudi Arabia</td>\n",
              "    </tr>\n",
              "    <tr>\n",
              "      <th>17617</th>\n",
              "      <td>52</td>\n",
              "      <td>37</td>\n",
              "      <td>England</td>\n",
              "    </tr>\n",
              "    <tr>\n",
              "      <th>17977</th>\n",
              "      <td>46</td>\n",
              "      <td>47</td>\n",
              "      <td>England</td>\n",
              "    </tr>\n",
              "  </tbody>\n",
              "</table>\n",
              "<p>468 rows × 3 columns</p>\n",
              "</div>"
            ],
            "text/plain": [
              "       Overall  Age     Nationality\n",
              "18          89   39           Italy\n",
              "31          88   35          Sweden\n",
              "68          86   35  Czech Republic\n",
              "91          85   36           Italy\n",
              "126         84   36           Spain\n",
              "...        ...  ...             ...\n",
              "17577       52   38           Japan\n",
              "17586       52   36           Japan\n",
              "17605       52   39    Saudi Arabia\n",
              "17617       52   37         England\n",
              "17977       46   47         England\n",
              "\n",
              "[468 rows x 3 columns]"
            ]
          },
          "execution_count": 67,
          "metadata": {},
          "output_type": "execute_result"
        }
      ],
      "source": [
        "df[df['Age'] >= 35][[\"Overall\", \"Age\",  \"Nationality\"]]"
      ]
    },
    {
      "cell_type": "markdown",
      "metadata": {
        "id": "mvf8YPfYk82w"
      },
      "source": [
        "## Conclusion\n",
        "In this train, you learned to perform basic operations using more Numpy and Pandas, you also learnt how to load, manipulate and analyse data using these packages. The reader is expected to complete the exercises before moving forward to ensure familiarity with these packages."
      ]
    },
    {
      "cell_type": "markdown",
      "metadata": {
        "id": "qritD6RWk82w"
      },
      "source": [
        "## Appendix\n",
        "- [Basic Numpy Functionality](https://numpy.org/doc/stable/user/absolute_beginners.html#what-is-an-array)\n",
        "\n",
        "- [Numpy package home page](https://numpy.org)\n",
        "\n",
        "- [Pandas package home page](https://pandas.pydata.org/)"
      ]
    }
  ],
  "metadata": {
    "colab": {
      "provenance": [],
      "include_colab_link": true
    },
    "kernelspec": {
      "display_name": "Python 3 (ipykernel)",
      "language": "python",
      "name": "python3"
    },
    "language_info": {
      "codemirror_mode": {
        "name": "ipython",
        "version": 3
      },
      "file_extension": ".py",
      "mimetype": "text/x-python",
      "name": "python",
      "nbconvert_exporter": "python",
      "pygments_lexer": "ipython3",
      "version": "3.10.9"
    }
  },
  "nbformat": 4,
  "nbformat_minor": 0
}