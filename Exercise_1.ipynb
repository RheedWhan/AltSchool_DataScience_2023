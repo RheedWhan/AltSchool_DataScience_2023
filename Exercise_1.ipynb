{
  "nbformat": 4,
  "nbformat_minor": 0,
  "metadata": {
    "colab": {
      "provenance": [],
      "authorship_tag": "ABX9TyMOI0KNay1EEMZ8+BkVei0i",
      "include_colab_link": true
    },
    "kernelspec": {
      "name": "python3",
      "display_name": "Python 3"
    },
    "language_info": {
      "name": "python"
    }
  },
  "cells": [
    {
      "cell_type": "markdown",
      "metadata": {
        "id": "view-in-github",
        "colab_type": "text"
      },
      "source": [
        "<a href=\"https://colab.research.google.com/github/RheedWhan/AltSchool_DataScience_2023/blob/main/Exercise_1.ipynb\" target=\"_parent\"><img src=\"https://colab.research.google.com/assets/colab-badge.svg\" alt=\"Open In Colab\"/></a>"
      ]
    },
    {
      "cell_type": "markdown",
      "source": [
        "# Question"
      ],
      "metadata": {
        "id": "DdIHf4Eexcx2"
      }
    },
    {
      "cell_type": "markdown",
      "source": [
        "1a)  Create a dictionary representing a library catalog. The keys should be book titles, and the values should be the corresponding authors. Allow the user to input a book title and display the author's name.\n",
        "\n",
        "b) Extend the library catalog program to allow users to add new books to the catalog by providing the title and author.\n",
        "\n",
        "\n",
        "\n",
        "2) Create a dictionary that represents a dataset of 10 students' and thier test scores (4 courses). The keys should be dictionaries bearing student names, in the nested dictionary, let the keys represent a course and the value a score for that course. Allow the user to input a student's name and display their average test score.\n",
        "\n",
        "Create a DataFrame from the student test scores dictionary using pandas. Display the DataFrame to the user.\n",
        "\n",
        "\n",
        "3) Create a dictionary that represents an online store's inventory. The keys should be product names, and the values should be tuples containing the price and available quantity. Allow the user to input a product name, and display its price and availability.\n",
        "\n",
        "Extend the online store program to allow users to \"purchase\" products by specifying the product name and the quantity they want to buy. Update the inventory accordingly and display the total cost of the purchase.\n",
        "\n",
        "\n",
        "4) Create an empty dictionary to represent a glossary. Allow users to add new words and their definitions to the glossary.\n",
        "\n",
        "Implement a feature that lets users search for the definition of a word. If the word is not in the glossary, inform the user that the word is not found."
      ],
      "metadata": {
        "id": "2K8MSSdEwdzl"
      }
    },
    {
      "cell_type": "code",
      "source": [
        "# Question 1a\n",
        "\n",
        "book_title = input('Enter a book title: ')\n",
        "author = input(\"Enter an author's name: \")\n",
        "\n",
        "library_catalog = {book_title: author}\n",
        "\n",
        "print(f'Library Catalog: \\n{library_catalog}')"
      ],
      "metadata": {
        "colab": {
          "base_uri": "https://localhost:8080/"
        },
        "id": "l-KUIeEDaObb",
        "outputId": "3c9b1f84-640e-4d79-d28d-2e35b251425d"
      },
      "execution_count": 14,
      "outputs": [
        {
          "output_type": "stream",
          "name": "stdout",
          "text": [
            "Enter a book title: Start with WHY\n",
            "Enter an author's name: Simon Sinek\n",
            "Library Catalog: \n",
            "{'Start with WHY': 'Simon Sinek'}\n"
          ]
        }
      ]
    },
    {
      "cell_type": "code",
      "source": [
        "# Question 1b\n",
        "\n",
        "library_catalog = {}\n",
        "\n",
        "while True:\n",
        "\n",
        "  book_title = input('Enter a book title (or \"stop\" to exit): ')\n",
        "\n",
        "  if book_title == 'stop' or book_title == 'STOP':\n",
        "    break\n",
        "\n",
        "  author = input(\"Enter an author's name: \")\n",
        "\n",
        "\n",
        "  library_catalog[book_title] = author\n",
        "\n",
        "print(\"Library Catalog:\")\n",
        "for book_title, author in library_catalog.items():\n",
        "    print(f\"{book_title}: {author}\")"
      ],
      "metadata": {
        "colab": {
          "base_uri": "https://localhost:8080/"
        },
        "id": "UMZqlY7JwryL",
        "outputId": "8debe683-2329-4f01-879e-7e274d2ec33c"
      },
      "execution_count": 15,
      "outputs": [
        {
          "output_type": "stream",
          "name": "stdout",
          "text": [
            "Enter a book title (or \"stop\" to exit): Thing\n",
            "Enter an author's name: fall\n",
            "Enter a book title (or \"stop\" to exit): aprt\n",
            "Enter an author's name: thing\n",
            "Enter a book title (or \"stop\" to exit): gart\n",
            "Enter an author's name: ahun\n",
            "Enter a book title (or \"stop\" to exit): stop\n",
            "Library Catalog:\n",
            "Thing: fall\n",
            "aprt: thing\n",
            "gart: ahun\n"
          ]
        }
      ]
    },
    {
      "cell_type": "markdown",
      "source": [
        "2) Create a dictionary that represents a dataset of 10 students' and thier test scores (4 courses). The keys should be dictionaries bearing student names, in the nested dictionary, let the keys represent a course and the value a score for that course. Allow the user to input a student's name and display their average test score."
      ],
      "metadata": {
        "id": "7AvlOBOhcScx"
      }
    },
    {
      "cell_type": "code",
      "source": [
        "# Question 2\n",
        "\n",
        "\n",
        "Students = {\"Sam\": {\"Math\":78, \"English\":98, \"Physics\":90, \"Chemistry\":89},\n",
        "            \"John\": {\"Math\":84, \"English\":70, \"Physics\":80, \"Chemistry\":95},\n",
        "            \"Bola\": {\"Math\":90, \"English\":83, \"Physics\":85, \"Chemistry\":99},\n",
        "            \"Tife\": {\"Math\":77, \"English\":82, \"Physics\":93, \"Chemistry\":81},\n",
        "            \"Oyin\": {\"Math\":81, \"English\":70, \"Physics\":78, \"Chemistry\":78},\n",
        "            \"Aisha\": {\"Math\":87, \"English\":91, \"Physics\":92, \"Chemistry\":93},\n",
        "            \"Caleb\": {\"Math\":85, \"English\":92, \"Physics\":97, \"Chemistry\":80},\n",
        "            \"Vic\": {\"Math\":80, \"English\":96, \"Physics\":91, \"Chemistry\":87},\n",
        "            \"Rachael\": {\"Math\":92, \"English\":79, \"Physics\":70, \"Chemistry\":81},\n",
        "            \"Tope\": {\"Math\":95, \"English\":88, \"Physics\":87, \"Chemistry\":80}\n",
        "            }"
      ],
      "metadata": {
        "id": "qa7B3L3EEDH8"
      },
      "execution_count": 18,
      "outputs": []
    },
    {
      "cell_type": "code",
      "source": [
        "Students"
      ],
      "metadata": {
        "colab": {
          "base_uri": "https://localhost:8080/"
        },
        "id": "KGiUCL26jB_O",
        "outputId": "b4966ad4-8b09-4cfa-ff46-10018e7cf794"
      },
      "execution_count": 19,
      "outputs": [
        {
          "output_type": "execute_result",
          "data": {
            "text/plain": [
              "{'Sam': {'Math': 78, 'English': 98, 'Physics': 90, 'Chemistry': 89},\n",
              " 'John': {'Math': 84, 'English': 70, 'Physics': 80, 'Chemistry': 95},\n",
              " 'Bola': {'Math': 90, 'English': 83, 'Physics': 85, 'Chemistry': 99},\n",
              " 'Tife': {'Math': 77, 'English': 82, 'Physics': 93, 'Chemistry': 81},\n",
              " 'Oyin': {'Math': 81, 'English': 70, 'Physics': 78, 'Chemistry': 78},\n",
              " 'Aisha': {'Math': 87, 'English': 91, 'Physics': 92, 'Chemistry': 93},\n",
              " 'Caleb': {'Math': 85, 'English': 92, 'Physics': 97, 'Chemistry': 80},\n",
              " 'Vic': {'Math': 80, 'English': 96, 'Physics': 91, 'Chemistry': 87},\n",
              " 'Rachael': {'Math': 92, 'English': 79, 'Physics': 70, 'Chemistry': 81},\n",
              " 'Tope': {'Math': 95, 'English': 88, 'Physics': 87, 'Chemistry': 80}}"
            ]
          },
          "metadata": {},
          "execution_count": 19
        }
      ]
    },
    {
      "cell_type": "code",
      "source": [
        "for"
      ],
      "metadata": {
        "id": "P6scBV45kF4E"
      },
      "execution_count": null,
      "outputs": []
    },
    {
      "cell_type": "code",
      "source": [
        "def student(name, avg):\n",
        "  name"
      ],
      "metadata": {
        "id": "j5MOZciejNTM"
      },
      "execution_count": null,
      "outputs": []
    }
  ]
}