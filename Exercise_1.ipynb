{
  "nbformat": 4,
  "nbformat_minor": 0,
  "metadata": {
    "colab": {
      "provenance": [],
      "authorship_tag": "ABX9TyMD7I/daTB+ZfFf+SEZO5Jh",
      "include_colab_link": true
    },
    "kernelspec": {
      "name": "python3",
      "display_name": "Python 3"
    },
    "language_info": {
      "name": "python"
    }
  },
  "cells": [
    {
      "cell_type": "markdown",
      "metadata": {
        "id": "view-in-github",
        "colab_type": "text"
      },
      "source": [
        "<a href=\"https://colab.research.google.com/github/RheedWhan/AltSchool_DataScience_2023/blob/main/Exercise_1.ipynb\" target=\"_parent\"><img src=\"https://colab.research.google.com/assets/colab-badge.svg\" alt=\"Open In Colab\"/></a>"
      ]
    },
    {
      "cell_type": "markdown",
      "source": [
        "# Question"
      ],
      "metadata": {
        "id": "DdIHf4Eexcx2"
      }
    },
    {
      "cell_type": "markdown",
      "source": [
        "1a)  Create a dictionary representing a library catalog. The keys should be book titles, and the values should be the corresponding authors. Allow the user to input a book title and display the author's name.\n",
        "\n",
        "b) Extend the library catalog program to allow users to add new books to the catalog by providing the title and author.\n",
        "\n",
        "\n",
        "\n",
        "2) Create a dictionary that represents a dataset of 10 students' and thier test scores (4 courses). The keys should be dictionaries bearing student names, in the nested dictionary, let the keys represent a course and the value a score for that course. Allow the user to input a student's name and display their average test score.\n",
        "\n",
        "Create a DataFrame from the student test scores dictionary using pandas. Display the DataFrame to the user.\n",
        "\n",
        "\n",
        "3) Create a dictionary that represents an online store's inventory. The keys should be product names, and the values should be tuples containing the price and available quantity. Allow the user to input a product name, and display its price and availability.\n",
        "\n",
        "Extend the online store program to allow users to \"purchase\" products by specifying the product name and the quantity they want to buy. Update the inventory accordingly and display the total cost of the purchase.\n",
        "\n",
        "\n",
        "4) Create an empty dictionary to represent a glossary. Allow users to add new words and their definitions to the glossary.\n",
        "\n",
        "Implement a feature that lets users search for the definition of a word. If the word is not in the glossary, inform the user that the word is not found."
      ],
      "metadata": {
        "id": "2K8MSSdEwdzl"
      }
    },
    {
      "cell_type": "code",
      "source": [
        "# Question 1\n",
        "\n",
        "library_catalog = {}\n",
        "\n",
        "while True:\n",
        "\n",
        "  book_title = input('Enter a book title (or \"stop\" to exit): ')\n",
        "\n",
        "  if book_title == 'stop' or book_title == 'STOP':\n",
        "    break\n",
        "\n",
        "  author = input(\"Enter an author's name: \")\n",
        "\n",
        "\n",
        "  library_catalog[book_title] = author\n",
        "\n",
        "print(\"Library Catalog:\")\n",
        "for book_title, author in library_catalog.items():\n",
        "    print(f\"{book_title}: {author}\")"
      ],
      "metadata": {
        "colab": {
          "base_uri": "https://localhost:8080/"
        },
        "id": "UMZqlY7JwryL",
        "outputId": "bd1670de-2395-43e0-9f61-3f03bf2b197d"
      },
      "execution_count": 11,
      "outputs": [
        {
          "output_type": "stream",
          "name": "stdout",
          "text": [
            "Enter a book title (or \"stop\" to exit): Things fall apart\n",
            "Enter an author's name: Chinua Achebe\n",
            "Enter a book title (or \"stop\" to exit): Never split the difference\n",
            "Enter an author's name: Chris Voss\n",
            "Enter a book title (or \"stop\" to exit): Atomic Habits\n",
            "Enter an author's name: James Clear\n",
            "Enter a book title (or \"stop\" to exit): stop\n",
            "Library Catalog:\n",
            "Things fall apart: Chinua Achebe\n",
            "Never split the difference: Chris Voss\n",
            "Atomic Habits: James Clear\n"
          ]
        }
      ]
    },
    {
      "cell_type": "code",
      "source": [],
      "metadata": {
        "id": "qa7B3L3EEDH8"
      },
      "execution_count": null,
      "outputs": []
    }
  ]
}