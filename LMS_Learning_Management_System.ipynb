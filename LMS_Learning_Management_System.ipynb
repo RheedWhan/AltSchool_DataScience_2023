{
  "nbformat": 4,
  "nbformat_minor": 0,
  "metadata": {
    "colab": {
      "provenance": [],
      "authorship_tag": "ABX9TyNn8dsCP/A1Z06N+npkmE5R",
      "include_colab_link": true
    },
    "kernelspec": {
      "name": "python3",
      "display_name": "Python 3"
    },
    "language_info": {
      "name": "python"
    }
  },
  "cells": [
    {
      "cell_type": "markdown",
      "metadata": {
        "id": "view-in-github",
        "colab_type": "text"
      },
      "source": [
        "<a href=\"https://colab.research.google.com/github/RheedWhan/AltSchool_DataScience_2023/blob/main/LMS_Learning_Management_System.ipynb\" target=\"_parent\"><img src=\"https://colab.research.google.com/assets/colab-badge.svg\" alt=\"Open In Colab\"/></a>"
      ]
    },
    {
      "cell_type": "code",
      "execution_count": 6,
      "metadata": {
        "id": "IiAHTVNl4v6r"
      },
      "outputs": [],
      "source": [
        "# Looping through a Dict\n",
        "\n",
        "users = {'name': 'Sola', 'age': 23, 'job': 'Data Scientist'}"
      ]
    },
    {
      "cell_type": "code",
      "source": [
        "users"
      ],
      "metadata": {
        "colab": {
          "base_uri": "https://localhost:8080/"
        },
        "id": "7gFy7ZK16Q_v",
        "outputId": "8f129bf7-5e75-49c9-e988-2908fd873a8b"
      },
      "execution_count": 2,
      "outputs": [
        {
          "output_type": "execute_result",
          "data": {
            "text/plain": [
              "{'name': 'Sola', 'age': 23, 'job': 'Data Scientist'}"
            ]
          },
          "metadata": {},
          "execution_count": 2
        }
      ]
    },
    {
      "cell_type": "code",
      "source": [
        "users['location'] = 'Nigeria'"
      ],
      "metadata": {
        "id": "x8AS1z8W6Tws"
      },
      "execution_count": 7,
      "outputs": []
    },
    {
      "cell_type": "code",
      "source": [
        "users"
      ],
      "metadata": {
        "colab": {
          "base_uri": "https://localhost:8080/"
        },
        "id": "iokl6gwv6d_A",
        "outputId": "2944a007-da7f-4601-d548-fe5c52dc7f4a"
      },
      "execution_count": 8,
      "outputs": [
        {
          "output_type": "execute_result",
          "data": {
            "text/plain": [
              "{'name': 'Sola', 'age': 23, 'job': 'Data Scientist', 'location': 'Nigeria'}"
            ]
          },
          "metadata": {},
          "execution_count": 8
        }
      ]
    },
    {
      "cell_type": "code",
      "source": [
        "# Looping through a Dict\n",
        "\n",
        "for key, value in users.items():\n",
        "    print(f\"\\nKey: {key}\")\n",
        "    print(f\"Value: {value}\")"
      ],
      "metadata": {
        "colab": {
          "base_uri": "https://localhost:8080/"
        },
        "id": "DgLCVRtJ6fUS",
        "outputId": "0bc93bdf-5f5b-4e75-9bec-7806b771a272"
      },
      "execution_count": 13,
      "outputs": [
        {
          "output_type": "stream",
          "name": "stdout",
          "text": [
            "\n",
            "Key: name\n",
            "Value: Sola\n",
            "\n",
            "Key: age\n",
            "Value: 23\n",
            "\n",
            "Key: job\n",
            "Value: Data Scientist\n",
            "\n",
            "Key: location\n",
            "Value: Nigeria\n"
          ]
        }
      ]
    },
    {
      "cell_type": "code",
      "source": [
        "# Looping through keys\n",
        "\n",
        "for key, value in users.items():\n",
        "    print(f\"\\nKey Name: {key}\")"
      ],
      "metadata": {
        "colab": {
          "base_uri": "https://localhost:8080/"
        },
        "id": "lNwf30ah70J0",
        "outputId": "6c1cfe2b-522b-4296-e601-e617262ede42"
      },
      "execution_count": 16,
      "outputs": [
        {
          "output_type": "stream",
          "name": "stdout",
          "text": [
            "\n",
            "Key Name: name\n",
            "\n",
            "Key Name: age\n",
            "\n",
            "Key Name: job\n",
            "\n",
            "Key Name: location\n"
          ]
        }
      ]
    },
    {
      "cell_type": "code",
      "source": [
        "# Looping through Values\n",
        "\n",
        "for key, value in users.items():\n",
        "    print(f\"\\nValue Name: {value}\")"
      ],
      "metadata": {
        "colab": {
          "base_uri": "https://localhost:8080/"
        },
        "id": "QmEjQVMe84tC",
        "outputId": "d3c461e6-03d2-447b-999e-0f3c34130f39"
      },
      "execution_count": 17,
      "outputs": [
        {
          "output_type": "stream",
          "name": "stdout",
          "text": [
            "\n",
            "Value Name: Sola\n",
            "\n",
            "Value Name: 23\n",
            "\n",
            "Value Name: Data Scientist\n",
            "\n",
            "Value Name: Nigeria\n"
          ]
        }
      ]
    },
    {
      "cell_type": "code",
      "source": [
        "# Looping through keys alone\n",
        "\n",
        "for key in users.keys():\n",
        "    print(f\"\\nKey Name: {key}\")"
      ],
      "metadata": {
        "colab": {
          "base_uri": "https://localhost:8080/"
        },
        "id": "gs7aWSAM9Hc9",
        "outputId": "e49251e3-2cbd-4167-a492-fac292260f11"
      },
      "execution_count": 18,
      "outputs": [
        {
          "output_type": "stream",
          "name": "stdout",
          "text": [
            "\n",
            "Key Name: name\n",
            "\n",
            "Key Name: age\n",
            "\n",
            "Key Name: job\n",
            "\n",
            "Key Name: location\n"
          ]
        }
      ]
    },
    {
      "cell_type": "code",
      "source": [
        "# Looping through value alone\n",
        "\n",
        "for value in users.values():\n",
        "    print(f\"\\nValue Name: {value}\")"
      ],
      "metadata": {
        "colab": {
          "base_uri": "https://localhost:8080/"
        },
        "id": "0EMS-VmI9gX2",
        "outputId": "999766c6-39a4-498a-a2b0-a19aa01a7571"
      },
      "execution_count": 20,
      "outputs": [
        {
          "output_type": "stream",
          "name": "stdout",
          "text": [
            "\n",
            "Value Name: Sola\n",
            "\n",
            "Value Name: 23\n",
            "\n",
            "Value Name: Data Scientist\n",
            "\n",
            "Value Name: Nigeria\n"
          ]
        }
      ]
    },
    {
      "cell_type": "code",
      "source": [
        "# Nesting\n",
        "\n",
        "profile1 = {'name': 'John', 'position': 'Data Scientist'}\n",
        "profile2 = {'name': 'Bayo', 'position': 'Data Analyst'}\n",
        "profile3 = {'name': 'Tola', 'position': 'Data Engineer'}"
      ],
      "metadata": {
        "id": "XJ7Apx5n9mqw"
      },
      "execution_count": 21,
      "outputs": []
    },
    {
      "cell_type": "code",
      "source": [
        "profiles = [profile1, profile2, profile3]"
      ],
      "metadata": {
        "id": "qFyLuIoaA30H"
      },
      "execution_count": 22,
      "outputs": []
    },
    {
      "cell_type": "code",
      "source": [
        "profiles"
      ],
      "metadata": {
        "colab": {
          "base_uri": "https://localhost:8080/"
        },
        "id": "w8lwoG2fA_1C",
        "outputId": "d35257ef-f6f8-47be-c980-a11c5acd4a22"
      },
      "execution_count": 24,
      "outputs": [
        {
          "output_type": "execute_result",
          "data": {
            "text/plain": [
              "[{'name': 'John', 'position': 'Data Scientist'},\n",
              " {'name': 'Bayo', 'position': 'Data Analyst'},\n",
              " {'name': 'Tola', 'position': 'Data Engineer'}]"
            ]
          },
          "metadata": {},
          "execution_count": 24
        }
      ]
    },
    {
      "cell_type": "code",
      "source": [
        "type(profiles)"
      ],
      "metadata": {
        "colab": {
          "base_uri": "https://localhost:8080/"
        },
        "id": "EHX6_1AjBCWu",
        "outputId": "4150a357-fb3d-4cee-84c6-1228bcdea3d1"
      },
      "execution_count": 25,
      "outputs": [
        {
          "output_type": "execute_result",
          "data": {
            "text/plain": [
              "list"
            ]
          },
          "metadata": {},
          "execution_count": 25
        }
      ]
    },
    {
      "cell_type": "code",
      "source": [
        "# Loop through the list\n",
        "\n",
        "for profile in profiles:\n",
        "    print(f\"\\n\",profile)\n",
        "    for key, value in profile.items():\n",
        "        print(f\"Key: {key},\\nValue: {value}\")"
      ],
      "metadata": {
        "colab": {
          "base_uri": "https://localhost:8080/"
        },
        "id": "i8yFlqFJBH82",
        "outputId": "d6f7b758-6d22-4657-cd29-834a63ea89b9"
      },
      "execution_count": 45,
      "outputs": [
        {
          "output_type": "stream",
          "name": "stdout",
          "text": [
            "\n",
            " {'name': 'John', 'position': 'Data Scientist'}\n",
            "Key: name,\n",
            "Value: John\n",
            "Key: position,\n",
            "Value: Data Scientist\n",
            "\n",
            " {'name': 'Bayo', 'position': 'Data Analyst'}\n",
            "Key: name,\n",
            "Value: Bayo\n",
            "Key: position,\n",
            "Value: Data Analyst\n",
            "\n",
            " {'name': 'Tola', 'position': 'Data Engineer'}\n",
            "Key: name,\n",
            "Value: Tola\n",
            "Key: position,\n",
            "Value: Data Engineer\n"
          ]
        }
      ]
    },
    {
      "cell_type": "code",
      "source": [
        "# Create a dict with list as value\n",
        "\n",
        "profile_dataSci = {'name': 'John', 'xtics': ['Boss' 'Reserve', 'Smart', 'Charming']} = {'name': 'John',\n",
        "                   'xtics': ['Boss' 'Reserve', 'Smart', 'Charming']}\n",
        "profile_dataAna = {'name': 'Bayo',\n",
        "                   'xtics': ['Obidient' 'Observant', 'Hardworking', 'Loving']}\n",
        "profile_dataEng = {'name': 'Tola',\n",
        "                   'xtics': ['Relaxed' 'Confident', 'Intelligent', 'Active']}"
      ],
      "metadata": {
        "id": "zv18Qd6UBagK"
      },
      "execution_count": 47,
      "outputs": []
    },
    {
      "cell_type": "code",
      "source": [
        "data_profiles = [profile_dataSci, profile_dataAna, profile_dataEng]"
      ],
      "metadata": {
        "id": "6S7x_ew1FutY"
      },
      "execution_count": 50,
      "outputs": []
    },
    {
      "cell_type": "code",
      "source": [
        "data_profiles"
      ],
      "metadata": {
        "id": "bxrqv_qFJeEb",
        "outputId": "95b8c8cd-f064-4f28-c76b-ca76c80e95c9",
        "colab": {
          "base_uri": "https://localhost:8080/"
        }
      },
      "execution_count": 51,
      "outputs": [
        {
          "output_type": "execute_result",
          "data": {
            "text/plain": [
              "[{'name': 'John', 'xtics': ['BossReserve', 'Smart', 'Charming']},\n",
              " {'name': 'Bayo', 'xtics': ['ObidientObservant', 'Hardworking', 'Loving']},\n",
              " {'name': 'Tola', 'xtics': ['RelaxedConfident', 'Intelligent', 'Active']}]"
            ]
          },
          "metadata": {},
          "execution_count": 51
        }
      ]
    },
    {
      "cell_type": "code",
      "source": [
        "for data_profile in data_profiles:\n",
        "  print(data_profile)\n",
        "  for name, xtics in data_profile.items():\n",
        "    print(name, xtics)\n",
        "  for xtic in xtics:\n",
        "    print(xtic)\n"
      ],
      "metadata": {
        "id": "SVImowM3Jho-",
        "outputId": "4b5fae76-dead-404e-be46-64a8e0f7c9e0",
        "colab": {
          "base_uri": "https://localhost:8080/"
        }
      },
      "execution_count": 59,
      "outputs": [
        {
          "output_type": "stream",
          "name": "stdout",
          "text": [
            "{'name': 'John', 'xtics': ['BossReserve', 'Smart', 'Charming']}\n",
            "name John\n",
            "xtics ['BossReserve', 'Smart', 'Charming']\n",
            "BossReserve\n",
            "Smart\n",
            "Charming\n",
            "{'name': 'Bayo', 'xtics': ['ObidientObservant', 'Hardworking', 'Loving']}\n",
            "name Bayo\n",
            "xtics ['ObidientObservant', 'Hardworking', 'Loving']\n",
            "ObidientObservant\n",
            "Hardworking\n",
            "Loving\n",
            "{'name': 'Tola', 'xtics': ['RelaxedConfident', 'Intelligent', 'Active']}\n",
            "name Tola\n",
            "xtics ['RelaxedConfident', 'Intelligent', 'Active']\n",
            "RelaxedConfident\n",
            "Intelligent\n",
            "Active\n"
          ]
        }
      ]
    },
    {
      "cell_type": "markdown",
      "source": [
        "# Sets"
      ],
      "metadata": {
        "id": "dijRJ7bZK2D8"
      }
    },
    {
      "cell_type": "code",
      "source": [
        "# Create a set\n",
        "\n",
        "set_1 = {1, 44, 3, 6, 7, 90, 5212, 55, 52, 64, 66, 77, 98}"
      ],
      "metadata": {
        "id": "7elodOgGJvh5"
      },
      "execution_count": 63,
      "outputs": []
    },
    {
      "cell_type": "code",
      "source": [
        "type(set_1)"
      ],
      "metadata": {
        "id": "MQrPZN0zLpP0",
        "outputId": "6cc0db97-2e4e-4765-a6d7-de952ae227ab",
        "colab": {
          "base_uri": "https://localhost:8080/"
        }
      },
      "execution_count": 64,
      "outputs": [
        {
          "output_type": "execute_result",
          "data": {
            "text/plain": [
              "set"
            ]
          },
          "metadata": {},
          "execution_count": 64
        }
      ]
    },
    {
      "cell_type": "code",
      "source": [
        "set_1"
      ],
      "metadata": {
        "id": "yt51MuaMLrv0",
        "outputId": "133b5446-d256-424d-f183-ea3e25a65c85",
        "colab": {
          "base_uri": "https://localhost:8080/"
        }
      },
      "execution_count": 65,
      "outputs": [
        {
          "output_type": "execute_result",
          "data": {
            "text/plain": [
              "{1, 3, 6, 7, 44, 52, 55, 64, 66, 77, 90, 98, 5212}"
            ]
          },
          "metadata": {},
          "execution_count": 65
        }
      ]
    },
    {
      "cell_type": "code",
      "source": [
        "# Creating a set from a list\n",
        "\n",
        "set_lst = [1, 44, 3, 6, 7, 90, 5212, 55, 52, 64, 66, 77, 98]"
      ],
      "metadata": {
        "id": "P3SrCHIpLz7X"
      },
      "execution_count": 66,
      "outputs": []
    },
    {
      "cell_type": "code",
      "source": [
        "type(set_lst)"
      ],
      "metadata": {
        "id": "0L-DltuNMbFu",
        "outputId": "20fc7b78-6330-4b24-e6bf-127a0412c8a2",
        "colab": {
          "base_uri": "https://localhost:8080/"
        }
      },
      "execution_count": 67,
      "outputs": [
        {
          "output_type": "execute_result",
          "data": {
            "text/plain": [
              "list"
            ]
          },
          "metadata": {},
          "execution_count": 67
        }
      ]
    },
    {
      "cell_type": "code",
      "source": [
        "set_lst = set(set_lst)"
      ],
      "metadata": {
        "id": "4Q8t2F0mMdhs"
      },
      "execution_count": 68,
      "outputs": []
    },
    {
      "cell_type": "code",
      "source": [
        "type(set_lst)"
      ],
      "metadata": {
        "id": "hXiDnvFSMiGk",
        "outputId": "53901d41-3fdc-4e3b-adc4-f12c331d3710",
        "colab": {
          "base_uri": "https://localhost:8080/"
        }
      },
      "execution_count": 69,
      "outputs": [
        {
          "output_type": "execute_result",
          "data": {
            "text/plain": [
              "set"
            ]
          },
          "metadata": {},
          "execution_count": 69
        }
      ]
    },
    {
      "cell_type": "code",
      "source": [
        "set_lst"
      ],
      "metadata": {
        "id": "gBk_fELJMlCx",
        "outputId": "d2e7b8f6-2bb7-4ad6-ac8d-2ab399efb20c",
        "colab": {
          "base_uri": "https://localhost:8080/"
        }
      },
      "execution_count": 70,
      "outputs": [
        {
          "output_type": "execute_result",
          "data": {
            "text/plain": [
              "{1, 3, 6, 7, 44, 52, 55, 64, 66, 77, 90, 98, 5212}"
            ]
          },
          "metadata": {},
          "execution_count": 70
        }
      ]
    },
    {
      "cell_type": "code",
      "source": [
        "# Create another set\n",
        "\n",
        "first_set = set()"
      ],
      "metadata": {
        "id": "HjN3SEsYMm7Q"
      },
      "execution_count": 71,
      "outputs": []
    },
    {
      "cell_type": "code",
      "source": [
        "# Add a number to the set using add\n",
        "\n",
        "first_set.add(2)"
      ],
      "metadata": {
        "id": "degn3DZmNiS3"
      },
      "execution_count": 72,
      "outputs": []
    },
    {
      "cell_type": "code",
      "source": [
        "# Update the set with a list using update\n",
        "\n",
        "first_set.update([1, 4, 5, 7])"
      ],
      "metadata": {
        "id": "7aHoLuiGNm7E"
      },
      "execution_count": 73,
      "outputs": []
    },
    {
      "cell_type": "code",
      "source": [
        "# Update the set with a tuple using update\n",
        "\n",
        "first_set.update((2, 7, 8, 5, 6))"
      ],
      "metadata": {
        "id": "20diVTweNul3"
      },
      "execution_count": 74,
      "outputs": []
    },
    {
      "cell_type": "code",
      "source": [
        "first_set"
      ],
      "metadata": {
        "id": "81cUVtmIOSaj",
        "outputId": "5ce24c85-8f4a-46f6-9b9a-60c395886c63",
        "colab": {
          "base_uri": "https://localhost:8080/"
        }
      },
      "execution_count": 75,
      "outputs": [
        {
          "output_type": "execute_result",
          "data": {
            "text/plain": [
              "{1, 2, 4, 5, 6, 7, 8}"
            ]
          },
          "metadata": {},
          "execution_count": 75
        }
      ]
    },
    {
      "cell_type": "code",
      "source": [
        "# what if its a list\n",
        "\n",
        "first_lst = list()\n",
        "first_lst.append(2)\n",
        "first_lst.extend([1, 4, 5, 7])\n",
        "first_lst.extend((2, 7, 8, 5, 6))\n",
        "\n",
        "first_lst"
      ],
      "metadata": {
        "id": "MS6194GlOUhw",
        "outputId": "6abbd6db-ce9d-43c6-a8c1-aee90646a6dc",
        "colab": {
          "base_uri": "https://localhost:8080/"
        }
      },
      "execution_count": 79,
      "outputs": [
        {
          "output_type": "execute_result",
          "data": {
            "text/plain": [
              "[2, 1, 4, 5, 7, 2, 7, 8, 5, 6]"
            ]
          },
          "metadata": {},
          "execution_count": 79
        }
      ]
    },
    {
      "cell_type": "code",
      "source": [
        "dir(first_lst)"
      ],
      "metadata": {
        "id": "ko1mYfpbOwWi",
        "outputId": "5b4274a4-c6f3-45f4-a935-71bcf68033ca",
        "colab": {
          "base_uri": "https://localhost:8080/"
        }
      },
      "execution_count": 78,
      "outputs": [
        {
          "output_type": "execute_result",
          "data": {
            "text/plain": [
              "['__add__',\n",
              " '__class__',\n",
              " '__class_getitem__',\n",
              " '__contains__',\n",
              " '__delattr__',\n",
              " '__delitem__',\n",
              " '__dir__',\n",
              " '__doc__',\n",
              " '__eq__',\n",
              " '__format__',\n",
              " '__ge__',\n",
              " '__getattribute__',\n",
              " '__getitem__',\n",
              " '__gt__',\n",
              " '__hash__',\n",
              " '__iadd__',\n",
              " '__imul__',\n",
              " '__init__',\n",
              " '__init_subclass__',\n",
              " '__iter__',\n",
              " '__le__',\n",
              " '__len__',\n",
              " '__lt__',\n",
              " '__mul__',\n",
              " '__ne__',\n",
              " '__new__',\n",
              " '__reduce__',\n",
              " '__reduce_ex__',\n",
              " '__repr__',\n",
              " '__reversed__',\n",
              " '__rmul__',\n",
              " '__setattr__',\n",
              " '__setitem__',\n",
              " '__sizeof__',\n",
              " '__str__',\n",
              " '__subclasshook__',\n",
              " 'append',\n",
              " 'clear',\n",
              " 'copy',\n",
              " 'count',\n",
              " 'extend',\n",
              " 'index',\n",
              " 'insert',\n",
              " 'pop',\n",
              " 'remove',\n",
              " 'reverse',\n",
              " 'sort']"
            ]
          },
          "metadata": {},
          "execution_count": 78
        }
      ]
    },
    {
      "cell_type": "code",
      "source": [],
      "metadata": {
        "id": "451ei_lHO5BD"
      },
      "execution_count": null,
      "outputs": []
    }
  ]
}