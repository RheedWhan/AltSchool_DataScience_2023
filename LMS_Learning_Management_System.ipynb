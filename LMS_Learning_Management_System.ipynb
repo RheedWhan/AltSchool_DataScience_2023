{
  "nbformat": 4,
  "nbformat_minor": 0,
  "metadata": {
    "colab": {
      "provenance": [],
      "authorship_tag": "ABX9TyP4Q7ZgyilxbqdaOg1Y9Fy1",
      "include_colab_link": true
    },
    "kernelspec": {
      "name": "python3",
      "display_name": "Python 3"
    },
    "language_info": {
      "name": "python"
    }
  },
  "cells": [
    {
      "cell_type": "markdown",
      "metadata": {
        "id": "view-in-github",
        "colab_type": "text"
      },
      "source": [
        "<a href=\"https://colab.research.google.com/github/RheedWhan/AltSchool_DataScience_2023/blob/main/LMS_Learning_Management_System.ipynb\" target=\"_parent\"><img src=\"https://colab.research.google.com/assets/colab-badge.svg\" alt=\"Open In Colab\"/></a>"
      ]
    },
    {
      "cell_type": "code",
      "execution_count": 6,
      "metadata": {
        "id": "IiAHTVNl4v6r"
      },
      "outputs": [],
      "source": [
        "# Looping through a Dict\n",
        "\n",
        "users = {'name': 'Sola', 'age': 23, 'job': 'Data Scientist'}"
      ]
    },
    {
      "cell_type": "code",
      "source": [
        "users"
      ],
      "metadata": {
        "colab": {
          "base_uri": "https://localhost:8080/"
        },
        "id": "7gFy7ZK16Q_v",
        "outputId": "8f129bf7-5e75-49c9-e988-2908fd873a8b"
      },
      "execution_count": 2,
      "outputs": [
        {
          "output_type": "execute_result",
          "data": {
            "text/plain": [
              "{'name': 'Sola', 'age': 23, 'job': 'Data Scientist'}"
            ]
          },
          "metadata": {},
          "execution_count": 2
        }
      ]
    },
    {
      "cell_type": "code",
      "source": [
        "users['location'] = 'Nigeria'"
      ],
      "metadata": {
        "id": "x8AS1z8W6Tws"
      },
      "execution_count": 7,
      "outputs": []
    },
    {
      "cell_type": "code",
      "source": [
        "users"
      ],
      "metadata": {
        "colab": {
          "base_uri": "https://localhost:8080/"
        },
        "id": "iokl6gwv6d_A",
        "outputId": "2944a007-da7f-4601-d548-fe5c52dc7f4a"
      },
      "execution_count": 8,
      "outputs": [
        {
          "output_type": "execute_result",
          "data": {
            "text/plain": [
              "{'name': 'Sola', 'age': 23, 'job': 'Data Scientist', 'location': 'Nigeria'}"
            ]
          },
          "metadata": {},
          "execution_count": 8
        }
      ]
    },
    {
      "cell_type": "code",
      "source": [
        "# Looping through a Dict\n",
        "\n",
        "for key, value in users.items():\n",
        "    print(f\"\\nKey: {key}\")\n",
        "    print(f\"Value: {value}\")"
      ],
      "metadata": {
        "colab": {
          "base_uri": "https://localhost:8080/"
        },
        "id": "DgLCVRtJ6fUS",
        "outputId": "0bc93bdf-5f5b-4e75-9bec-7806b771a272"
      },
      "execution_count": 13,
      "outputs": [
        {
          "output_type": "stream",
          "name": "stdout",
          "text": [
            "\n",
            "Key: name\n",
            "Value: Sola\n",
            "\n",
            "Key: age\n",
            "Value: 23\n",
            "\n",
            "Key: job\n",
            "Value: Data Scientist\n",
            "\n",
            "Key: location\n",
            "Value: Nigeria\n"
          ]
        }
      ]
    },
    {
      "cell_type": "code",
      "source": [],
      "metadata": {
        "id": "lNwf30ah70J0"
      },
      "execution_count": null,
      "outputs": []
    }
  ]
}