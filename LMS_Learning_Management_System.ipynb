{
  "nbformat": 4,
  "nbformat_minor": 0,
  "metadata": {
    "colab": {
      "provenance": [],
      "authorship_tag": "ABX9TyN+3X3fGWWmBIzp3cWC00rP",
      "include_colab_link": true
    },
    "kernelspec": {
      "name": "python3",
      "display_name": "Python 3"
    },
    "language_info": {
      "name": "python"
    }
  },
  "cells": [
    {
      "cell_type": "markdown",
      "metadata": {
        "id": "view-in-github",
        "colab_type": "text"
      },
      "source": [
        "<a href=\"https://colab.research.google.com/github/RheedWhan/AltSchool_DataScience_2023/blob/main/LMS_Learning_Management_System.ipynb\" target=\"_parent\"><img src=\"https://colab.research.google.com/assets/colab-badge.svg\" alt=\"Open In Colab\"/></a>"
      ]
    },
    {
      "cell_type": "code",
      "execution_count": 6,
      "metadata": {
        "id": "IiAHTVNl4v6r"
      },
      "outputs": [],
      "source": [
        "# Looping through a Dict\n",
        "\n",
        "users = {'name': 'Sola', 'age': 23, 'job': 'Data Scientist'}"
      ]
    },
    {
      "cell_type": "code",
      "source": [
        "users"
      ],
      "metadata": {
        "colab": {
          "base_uri": "https://localhost:8080/"
        },
        "id": "7gFy7ZK16Q_v",
        "outputId": "8f129bf7-5e75-49c9-e988-2908fd873a8b"
      },
      "execution_count": 2,
      "outputs": [
        {
          "output_type": "execute_result",
          "data": {
            "text/plain": [
              "{'name': 'Sola', 'age': 23, 'job': 'Data Scientist'}"
            ]
          },
          "metadata": {},
          "execution_count": 2
        }
      ]
    },
    {
      "cell_type": "code",
      "source": [
        "users['location'] = 'Nigeria'"
      ],
      "metadata": {
        "id": "x8AS1z8W6Tws"
      },
      "execution_count": 7,
      "outputs": []
    },
    {
      "cell_type": "code",
      "source": [
        "users"
      ],
      "metadata": {
        "colab": {
          "base_uri": "https://localhost:8080/"
        },
        "id": "iokl6gwv6d_A",
        "outputId": "2944a007-da7f-4601-d548-fe5c52dc7f4a"
      },
      "execution_count": 8,
      "outputs": [
        {
          "output_type": "execute_result",
          "data": {
            "text/plain": [
              "{'name': 'Sola', 'age': 23, 'job': 'Data Scientist', 'location': 'Nigeria'}"
            ]
          },
          "metadata": {},
          "execution_count": 8
        }
      ]
    },
    {
      "cell_type": "code",
      "source": [
        "# Looping through a Dict\n",
        "\n",
        "for key, value in users.items():\n",
        "    print(f\"\\nKey: {key}\")\n",
        "    print(f\"Value: {value}\")"
      ],
      "metadata": {
        "colab": {
          "base_uri": "https://localhost:8080/"
        },
        "id": "DgLCVRtJ6fUS",
        "outputId": "0bc93bdf-5f5b-4e75-9bec-7806b771a272"
      },
      "execution_count": 13,
      "outputs": [
        {
          "output_type": "stream",
          "name": "stdout",
          "text": [
            "\n",
            "Key: name\n",
            "Value: Sola\n",
            "\n",
            "Key: age\n",
            "Value: 23\n",
            "\n",
            "Key: job\n",
            "Value: Data Scientist\n",
            "\n",
            "Key: location\n",
            "Value: Nigeria\n"
          ]
        }
      ]
    },
    {
      "cell_type": "code",
      "source": [
        "# Looping through keys\n",
        "\n",
        "for key, value in users.items():\n",
        "    print(f\"\\nKey Name: {key}\")"
      ],
      "metadata": {
        "colab": {
          "base_uri": "https://localhost:8080/"
        },
        "id": "lNwf30ah70J0",
        "outputId": "6c1cfe2b-522b-4296-e601-e617262ede42"
      },
      "execution_count": 16,
      "outputs": [
        {
          "output_type": "stream",
          "name": "stdout",
          "text": [
            "\n",
            "Key Name: name\n",
            "\n",
            "Key Name: age\n",
            "\n",
            "Key Name: job\n",
            "\n",
            "Key Name: location\n"
          ]
        }
      ]
    },
    {
      "cell_type": "code",
      "source": [
        "# Looping through Values\n",
        "\n",
        "for key, value in users.items():\n",
        "    print(f\"\\nValue Name: {value}\")"
      ],
      "metadata": {
        "colab": {
          "base_uri": "https://localhost:8080/"
        },
        "id": "QmEjQVMe84tC",
        "outputId": "d3c461e6-03d2-447b-999e-0f3c34130f39"
      },
      "execution_count": 17,
      "outputs": [
        {
          "output_type": "stream",
          "name": "stdout",
          "text": [
            "\n",
            "Value Name: Sola\n",
            "\n",
            "Value Name: 23\n",
            "\n",
            "Value Name: Data Scientist\n",
            "\n",
            "Value Name: Nigeria\n"
          ]
        }
      ]
    },
    {
      "cell_type": "code",
      "source": [
        "# Looping through keys alone\n",
        "\n",
        "for key in users.keys():\n",
        "    print(f\"\\nKey Name: {key}\")"
      ],
      "metadata": {
        "colab": {
          "base_uri": "https://localhost:8080/"
        },
        "id": "gs7aWSAM9Hc9",
        "outputId": "e49251e3-2cbd-4167-a492-fac292260f11"
      },
      "execution_count": 18,
      "outputs": [
        {
          "output_type": "stream",
          "name": "stdout",
          "text": [
            "\n",
            "Key Name: name\n",
            "\n",
            "Key Name: age\n",
            "\n",
            "Key Name: job\n",
            "\n",
            "Key Name: location\n"
          ]
        }
      ]
    },
    {
      "cell_type": "code",
      "source": [
        "# Looping through value alone\n",
        "\n",
        "for value in users.values():\n",
        "    print(f\"\\nValue Name: {value}\")"
      ],
      "metadata": {
        "colab": {
          "base_uri": "https://localhost:8080/"
        },
        "id": "0EMS-VmI9gX2",
        "outputId": "999766c6-39a4-498a-a2b0-a19aa01a7571"
      },
      "execution_count": 20,
      "outputs": [
        {
          "output_type": "stream",
          "name": "stdout",
          "text": [
            "\n",
            "Value Name: Sola\n",
            "\n",
            "Value Name: 23\n",
            "\n",
            "Value Name: Data Scientist\n",
            "\n",
            "Value Name: Nigeria\n"
          ]
        }
      ]
    },
    {
      "cell_type": "code",
      "source": [
        "# Nesting\n",
        "\n",
        "profile1 = {'name': 'John', 'position': 'Data Scientist'}\n",
        "profile2 = {'name': 'Bayo', 'position': 'Data Analyst'}\n",
        "profile3 = {'name': 'Tola', 'position': 'Data Engineer'}"
      ],
      "metadata": {
        "id": "XJ7Apx5n9mqw"
      },
      "execution_count": 21,
      "outputs": []
    },
    {
      "cell_type": "code",
      "source": [
        "profiles = [profile1, profile2, profile3]"
      ],
      "metadata": {
        "id": "qFyLuIoaA30H"
      },
      "execution_count": 22,
      "outputs": []
    },
    {
      "cell_type": "code",
      "source": [
        "profiles"
      ],
      "metadata": {
        "colab": {
          "base_uri": "https://localhost:8080/"
        },
        "id": "w8lwoG2fA_1C",
        "outputId": "d35257ef-f6f8-47be-c980-a11c5acd4a22"
      },
      "execution_count": 24,
      "outputs": [
        {
          "output_type": "execute_result",
          "data": {
            "text/plain": [
              "[{'name': 'John', 'position': 'Data Scientist'},\n",
              " {'name': 'Bayo', 'position': 'Data Analyst'},\n",
              " {'name': 'Tola', 'position': 'Data Engineer'}]"
            ]
          },
          "metadata": {},
          "execution_count": 24
        }
      ]
    },
    {
      "cell_type": "code",
      "source": [
        "type(profiles)"
      ],
      "metadata": {
        "colab": {
          "base_uri": "https://localhost:8080/"
        },
        "id": "EHX6_1AjBCWu",
        "outputId": "4150a357-fb3d-4cee-84c6-1228bcdea3d1"
      },
      "execution_count": 25,
      "outputs": [
        {
          "output_type": "execute_result",
          "data": {
            "text/plain": [
              "list"
            ]
          },
          "metadata": {},
          "execution_count": 25
        }
      ]
    },
    {
      "cell_type": "code",
      "source": [
        "# Loop through the list\n",
        "\n",
        "for profile in profiles:\n",
        "    print(f\"\\n\",profile)\n",
        "    for key, value in profile.items():\n",
        "        print(f\"Key: {key},\\nValue: {value}\")"
      ],
      "metadata": {
        "colab": {
          "base_uri": "https://localhost:8080/"
        },
        "id": "i8yFlqFJBH82",
        "outputId": "d6f7b758-6d22-4657-cd29-834a63ea89b9"
      },
      "execution_count": 45,
      "outputs": [
        {
          "output_type": "stream",
          "name": "stdout",
          "text": [
            "\n",
            " {'name': 'John', 'position': 'Data Scientist'}\n",
            "Key: name,\n",
            "Value: John\n",
            "Key: position,\n",
            "Value: Data Scientist\n",
            "\n",
            " {'name': 'Bayo', 'position': 'Data Analyst'}\n",
            "Key: name,\n",
            "Value: Bayo\n",
            "Key: position,\n",
            "Value: Data Analyst\n",
            "\n",
            " {'name': 'Tola', 'position': 'Data Engineer'}\n",
            "Key: name,\n",
            "Value: Tola\n",
            "Key: position,\n",
            "Value: Data Engineer\n"
          ]
        }
      ]
    },
    {
      "cell_type": "code",
      "source": [
        "# Create a dict with list as value\n",
        "\n",
        "profile_dataSci = {'name': 'John',\n",
        "                   'xtics': ['Boss' 'Reserve', 'Smart', 'Charming']}\n",
        "profile_dataAna = {'name': 'Bayo',\n",
        "                   'xtics': ['Obidient' 'Observant', 'Hardworking', 'Loving']}\n",
        "profile_dataEng = {'name': 'Tola',\n",
        "                   'xtics': ['Relaxed' 'Confident', 'Intelligent', 'Active']}"
      ],
      "metadata": {
        "id": "zv18Qd6UBagK"
      },
      "execution_count": 47,
      "outputs": []
    },
    {
      "cell_type": "code",
      "source": [],
      "metadata": {
        "id": "6S7x_ew1FutY"
      },
      "execution_count": null,
      "outputs": []
    }
  ]
}