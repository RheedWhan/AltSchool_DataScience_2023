{
  "nbformat": 4,
  "nbformat_minor": 0,
  "metadata": {
    "colab": {
      "provenance": [],
      "authorship_tag": "ABX9TyPA2T0lLC8dCA/FH/zT+vpo",
      "include_colab_link": true
    },
    "kernelspec": {
      "name": "python3",
      "display_name": "Python 3"
    },
    "language_info": {
      "name": "python"
    }
  },
  "cells": [
    {
      "cell_type": "markdown",
      "metadata": {
        "id": "view-in-github",
        "colab_type": "text"
      },
      "source": [
        "<a href=\"https://colab.research.google.com/github/RheedWhan/AltSchool_DataScience_2023/blob/main/Exemption_and_Importing.ipynb\" target=\"_parent\"><img src=\"https://colab.research.google.com/assets/colab-badge.svg\" alt=\"Open In Colab\"/></a>"
      ]
    },
    {
      "cell_type": "code",
      "execution_count": 5,
      "metadata": {
        "colab": {
          "base_uri": "https://localhost:8080/"
        },
        "id": "AdnG29b2FD3u",
        "outputId": "1a4abd79-47f6-47ac-ad72-8d42c220300e"
      },
      "outputs": [
        {
          "output_type": "stream",
          "name": "stdout",
          "text": [
            "Enter a number: 69.0\n",
            "Input a number without decimal\n"
          ]
        }
      ],
      "source": [
        "# try, except\n",
        "\n",
        "try:\n",
        "  num = float(input('Enter a number: '))\n",
        "  if num % 2 == 0:\n",
        "    print(f'{num} is an Even number')\n",
        "  elif type(num) is float:\n",
        "    print(f'Input a number without decimal')\n",
        "  else:\n",
        "    print(f'{num} is an Odd number')\n",
        "except ValueError:\n",
        "  print('Kindly input a numerical value')"
      ]
    },
    {
      "cell_type": "code",
      "source": [
        "num"
      ],
      "metadata": {
        "colab": {
          "base_uri": "https://localhost:8080/"
        },
        "id": "pClStOitFw3Y",
        "outputId": "2d67f5b2-37b8-4d91-8ebc-f96bb45cb800"
      },
      "execution_count": 6,
      "outputs": [
        {
          "output_type": "execute_result",
          "data": {
            "text/plain": [
              "69.0"
            ]
          },
          "metadata": {},
          "execution_count": 6
        }
      ]
    },
    {
      "cell_type": "code",
      "source": [
        "66.4 % 2\n"
      ],
      "metadata": {
        "colab": {
          "base_uri": "https://localhost:8080/"
        },
        "id": "v76yxDdHF_ap",
        "outputId": "d54d6f53-d922-4c3a-b4c1-68d8df7a114a"
      },
      "execution_count": 4,
      "outputs": [
        {
          "output_type": "execute_result",
          "data": {
            "text/plain": [
              "0.4000000000000057"
            ]
          },
          "metadata": {},
          "execution_count": 4
        }
      ]
    },
    {
      "cell_type": "code",
      "source": [],
      "metadata": {
        "id": "yycJDa7cKF8t"
      },
      "execution_count": null,
      "outputs": []
    }
  ]
}