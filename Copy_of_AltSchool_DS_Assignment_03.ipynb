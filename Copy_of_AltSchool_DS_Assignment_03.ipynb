{
  "nbformat": 4,
  "nbformat_minor": 0,
  "metadata": {
    "colab": {
      "provenance": [],
      "include_colab_link": true
    },
    "kernelspec": {
      "name": "python3",
      "display_name": "Python 3"
    },
    "language_info": {
      "name": "python"
    }
  },
  "cells": [
    {
      "cell_type": "markdown",
      "metadata": {
        "id": "view-in-github",
        "colab_type": "text"
      },
      "source": [
        "<a href=\"https://colab.research.google.com/github/RheedWhan/AltSchool_DataScience_2023/blob/main/Copy_of_AltSchool_DS_Assignment_03.ipynb\" target=\"_parent\"><img src=\"https://colab.research.google.com/assets/colab-badge.svg\" alt=\"Open In Colab\"/></a>"
      ]
    },
    {
      "cell_type": "markdown",
      "source": [
        "1. a. Write a Python program to validate a user's input of a numerical value. If the input is not a number, provide feedback; otherwise, determine if it's even or odd.\n",
        "\n",
        "  b. Write a Python program that accepts three sides of a triangle and checks if it's an equlateral, isosceless or scalene triangle.\n",
        "Note: equilateral triangle - has 3 equal sides, isosceles triangle- has at least 2 equal sides. scalene triangle - has 3 unequal sides."
      ],
      "metadata": {
        "id": "z3WhdYFq5Iam"
      }
    },
    {
      "cell_type": "code",
      "source": [
        "# Answer to question 1a\n",
        "user_input = input(\"Enter a number: \")\n",
        "\n",
        "try:\n",
        "    num = int(user_input)\n",
        "\n",
        "    if num % 2 == 0:\n",
        "        print(f\"{num} is an even number.\")\n",
        "    else:\n",
        "        print(f\"{num} is an odd number.\")\n",
        "except ValueError:\n",
        "    print(\"Invalid input. Please enter a valid numerical value.\")"
      ],
      "metadata": {
        "id": "t7d2ABeorLIF",
        "outputId": "4990e0b9-1888-4545-b7ab-222f1e6823cc",
        "colab": {
          "base_uri": "https://localhost:8080/"
        }
      },
      "execution_count": null,
      "outputs": [
        {
          "output_type": "stream",
          "name": "stdout",
          "text": [
            "Enter a number: 578\n",
            "578 is an even number.\n"
          ]
        }
      ]
    },
    {
      "cell_type": "code",
      "source": [
        "side1 = input('Enter the first side: ')\n",
        "side2 = input('Enter the second side: ')\n",
        "side3 = input('Enter the third side: ')\n",
        "\n",
        "if side1 == side2 == side3:\n",
        "  print('This is an Equilateral Triangle')\n",
        "elif side1 == side2 or side1 == side3 or side2 == side3:\n",
        "  print('This is an Isosceles Triangle')\n",
        "else:\n",
        "  print('This is a Scalene Triangle')"
      ],
      "metadata": {
        "colab": {
          "base_uri": "https://localhost:8080/"
        },
        "id": "5gDf4rSjytei",
        "outputId": "c4ad9144-1526-4f02-ac72-ed1d891c29b0"
      },
      "execution_count": 4,
      "outputs": [
        {
          "output_type": "stream",
          "name": "stdout",
          "text": [
            "Enter the first side: 2\n",
            "Enter the second side: 4\n",
            "Enter the third side: 5\n",
            "This is a Scalene Triangle\n"
          ]
        }
      ]
    },
    {
      "cell_type": "markdown",
      "source": [
        "2. a. Write a for loop that finds and prints all prime numbers from 1 to 50.\n",
        "  convert the for loop-based prime number computation into a list comprehension.\n",
        "\n",
        "  b. Given the list of dictionaries below where each dictionary represents a property, use a loop to add price per area to each dictionary: price_per_m2.\n",
        "  \n",
        " properties = [{'price_in_usd': 68663.03, 'area_in_m2': 208, 'room_num': 3},\n",
        " {'price_in_usd': 100412.94, 'area_in_m2': 256, 'room_num': 4},\n",
        " {'price_in_usd': 41967.85, 'area_in_m2': 87, 'room_num': 4},\n",
        " {'price_in_usd': 80186.97, 'area_in_m2': 158, 'room_num': 2},\n",
        " {'price_in_usd': 48405.36, 'area_in_m2': 249, 'room_num': 3}]"
      ],
      "metadata": {
        "id": "uWlavyal5IQt"
      }
    },
    {
      "cell_type": "markdown",
      "source": [
        "3. Write a function called square_odd that has one parameter. Your function must calculate the square of each odd number in a list.Return a Python list containing the squared values. Challenge yourself: Solve this problem with a list comprehension!"
      ],
      "metadata": {
        "id": "CH2t92VD5HzU"
      }
    },
    {
      "cell_type": "markdown",
      "source": [
        "4. Create a Python function called classify_age that takes an age as an argument and returns the following classifications:\n",
        "\n",
        "  If the age is less than 18, return \"Minor.\"\n",
        "  If the age is between 18 and 65 (inclusive), return \"Adult.\"\n",
        "  If the age is greater than 65, return \"Senior Citizen.\""
      ],
      "metadata": {
        "id": "fxTyiBVV2AN5"
      }
    },
    {
      "cell_type": "code",
      "source": [],
      "metadata": {
        "id": "FCzVLS442BER"
      },
      "execution_count": null,
      "outputs": []
    }
  ]
}