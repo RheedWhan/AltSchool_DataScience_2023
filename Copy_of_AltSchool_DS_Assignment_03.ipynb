{
  "nbformat": 4,
  "nbformat_minor": 0,
  "metadata": {
    "colab": {
      "provenance": [],
      "include_colab_link": true
    },
    "kernelspec": {
      "name": "python3",
      "display_name": "Python 3"
    },
    "language_info": {
      "name": "python"
    }
  },
  "cells": [
    {
      "cell_type": "markdown",
      "metadata": {
        "id": "view-in-github",
        "colab_type": "text"
      },
      "source": [
        "<a href=\"https://colab.research.google.com/github/RheedWhan/AltSchool_DataScience_2023/blob/main/Copy_of_AltSchool_DS_Assignment_03.ipynb\" target=\"_parent\"><img src=\"https://colab.research.google.com/assets/colab-badge.svg\" alt=\"Open In Colab\"/></a>"
      ]
    },
    {
      "cell_type": "markdown",
      "source": [
        "1. a. Write a Python program to validate a user's input of a numerical value. If the input is not a number, provide feedback; otherwise, determine if it's even or odd.\n",
        "\n",
        "  b. Write a Python program that accepts three sides of a triangle and checks if it's an equlateral, isosceless or scalene triangle.\n",
        "Note: equilateral triangle - has 3 equal sides, isosceles triangle- has at least 2 equal sides. scalene triangle - has 3 unequal sides."
      ],
      "metadata": {
        "id": "z3WhdYFq5Iam"
      }
    },
    {
      "cell_type": "code",
      "source": [
        "# Answer to question 1a\n",
        "user_input = input(\"Enter a number: \")\n",
        "\n",
        "try:\n",
        "    num = int(user_input)\n",
        "\n",
        "    if num % 2 == 0:\n",
        "        print(f\"{num} is an even number.\")\n",
        "    else:\n",
        "        print(f\"{num} is an odd number.\")\n",
        "except ValueError:\n",
        "    print(\"Invalid input. Please enter a number.\")"
      ],
      "metadata": {
        "id": "t7d2ABeorLIF",
        "outputId": "49fc3b66-7f1f-4158-a1b6-4c5b5b151390",
        "colab": {
          "base_uri": "https://localhost:8080/"
        }
      },
      "execution_count": null,
      "outputs": [
        {
          "output_type": "stream",
          "name": "stdout",
          "text": [
            "Enter a number: 8800\n",
            "8800 is an even number.\n"
          ]
        }
      ]
    },
    {
      "cell_type": "code",
      "source": [
        "user_input = input(\"Enter a number: \")\n",
        "\n",
        "if user_input.isnumeric():\n",
        "    num = int(user_input)\n",
        "    if num % 2 == 0:\n",
        "        print(f\"{num} is an even number.\")\n",
        "    else:\n",
        "        print(f\"{num} is an odd number.\")\n",
        "else:\n",
        "    print(\"Invalid input. Please enter a valid numerical value.\")\n"
      ],
      "metadata": {
        "colab": {
          "base_uri": "https://localhost:8080/"
        },
        "id": "MRIywsO9sE2s",
        "outputId": "664c5f9d-623a-44de-c42e-5d2f3f799080"
      },
      "execution_count": null,
      "outputs": [
        {
          "output_type": "stream",
          "name": "stdout",
          "text": [
            "Enter a number: 886\n",
            "886 is an even number.\n"
          ]
        }
      ]
    },
    {
      "cell_type": "code",
      "source": [
        "side1 = input('Enter the first side: ')\n",
        "side2 = input('Enter the second side: ')\n",
        "side3 = input('Enter the third side: ')\n",
        "\n",
        "if side1 == side2 == side3:\n",
        "  print('This is an Equilateral Triangle')\n",
        "elif side1 == side2 or side1 == side3 or side2 == side3:\n",
        "  print('This is an Isosceles Triangle')\n",
        "else:\n",
        "  print('This is a Scalene Triangle')"
      ],
      "metadata": {
        "colab": {
          "base_uri": "https://localhost:8080/"
        },
        "id": "5gDf4rSjytei",
        "outputId": "c4ad9144-1526-4f02-ac72-ed1d891c29b0"
      },
      "execution_count": null,
      "outputs": [
        {
          "output_type": "stream",
          "name": "stdout",
          "text": [
            "Enter the first side: 2\n",
            "Enter the second side: 4\n",
            "Enter the third side: 5\n",
            "This is a Scalene Triangle\n"
          ]
        }
      ]
    },
    {
      "cell_type": "markdown",
      "source": [
        "2. a. Write a for loop that finds and prints all prime numbers from 1 to 50.\n",
        "  convert the for loop-based prime number computation into a list comprehension.\n",
        "\n",
        "  b. Given the list of dictionaries below where each dictionary represents a property, use a loop to add price per area to each dictionary: price_per_m2.\n",
        "  \n",
        " properties = [{'price_in_usd': 68663.03, 'area_in_m2': 208, 'room_num': 3},\n",
        " {'price_in_usd': 100412.94, 'area_in_m2': 256, 'room_num': 4},\n",
        " {'price_in_usd': 41967.85, 'area_in_m2': 87, 'room_num': 4},\n",
        " {'price_in_usd': 80186.97, 'area_in_m2': 158, 'room_num': 2},\n",
        " {'price_in_usd': 48405.36, 'area_in_m2': 249, 'room_num': 3}]"
      ],
      "metadata": {
        "id": "uWlavyal5IQt"
      }
    },
    {
      "cell_type": "markdown",
      "source": [
        "3. Write a function called square_odd that has one parameter. Your function must calculate the square of each odd number in a list.Return a Python list containing the squared values. Challenge yourself: Solve this problem with a list comprehension!"
      ],
      "metadata": {
        "id": "CH2t92VD5HzU"
      }
    },
    {
      "cell_type": "markdown",
      "source": [
        "4. Create a Python function called classify_age that takes an age as an argument and returns the following classifications:\n",
        "\n",
        "  If the age is less than 18, return \"Minor.\"\n",
        "  If the age is between 18 and 65 (inclusive), return \"Adult.\"\n",
        "  If the age is greater than 65, return \"Senior Citizen.\""
      ],
      "metadata": {
        "id": "fxTyiBVV2AN5"
      }
    },
    {
      "cell_type": "code",
      "source": [
        "prime_num = []\n",
        "\n",
        "for i in range(1, 50):\n",
        "  if i / 1 == i and i / i == 1:\n",
        "    print(f'{i} is a prime number')\n",
        "  else:\n",
        "    print(f'{i} is not a prime number')"
      ],
      "metadata": {
        "id": "FCzVLS442BER",
        "colab": {
          "base_uri": "https://localhost:8080/"
        },
        "outputId": "49cf7c39-28ce-4e9e-cd0e-3251c36306e1"
      },
      "execution_count": null,
      "outputs": [
        {
          "output_type": "stream",
          "name": "stdout",
          "text": [
            "1 is a prime number\n",
            "2 is a prime number\n",
            "3 is a prime number\n",
            "4 is a prime number\n",
            "5 is a prime number\n",
            "6 is a prime number\n",
            "7 is a prime number\n",
            "8 is a prime number\n",
            "9 is a prime number\n",
            "10 is a prime number\n",
            "11 is a prime number\n",
            "12 is a prime number\n",
            "13 is a prime number\n",
            "14 is a prime number\n",
            "15 is a prime number\n",
            "16 is a prime number\n",
            "17 is a prime number\n",
            "18 is a prime number\n",
            "19 is a prime number\n",
            "20 is a prime number\n",
            "21 is a prime number\n",
            "22 is a prime number\n",
            "23 is a prime number\n",
            "24 is a prime number\n",
            "25 is a prime number\n",
            "26 is a prime number\n",
            "27 is a prime number\n",
            "28 is a prime number\n",
            "29 is a prime number\n",
            "30 is a prime number\n",
            "31 is a prime number\n",
            "32 is a prime number\n",
            "33 is a prime number\n",
            "34 is a prime number\n",
            "35 is a prime number\n",
            "36 is a prime number\n",
            "37 is a prime number\n",
            "38 is a prime number\n",
            "39 is a prime number\n",
            "40 is a prime number\n",
            "41 is a prime number\n",
            "42 is a prime number\n",
            "43 is a prime number\n",
            "44 is a prime number\n",
            "45 is a prime number\n",
            "46 is a prime number\n",
            "47 is a prime number\n",
            "48 is a prime number\n",
            "49 is a prime number\n"
          ]
        }
      ]
    },
    {
      "cell_type": "code",
      "source": [
        "prime_num = [i for i in range(1, 50) if i / 1 == i and i / i == 1]"
      ],
      "metadata": {
        "id": "RvobpHpevAhs"
      },
      "execution_count": null,
      "outputs": []
    },
    {
      "cell_type": "code",
      "source": [
        "prime_num"
      ],
      "metadata": {
        "colab": {
          "base_uri": "https://localhost:8080/"
        },
        "id": "ufbV9q4CvMsl",
        "outputId": "b11bd78a-022e-48e2-f376-ece8b3ed0561"
      },
      "execution_count": null,
      "outputs": [
        {
          "output_type": "execute_result",
          "data": {
            "text/plain": [
              "[1,\n",
              " 2,\n",
              " 3,\n",
              " 4,\n",
              " 5,\n",
              " 6,\n",
              " 7,\n",
              " 8,\n",
              " 9,\n",
              " 10,\n",
              " 11,\n",
              " 12,\n",
              " 13,\n",
              " 14,\n",
              " 15,\n",
              " 16,\n",
              " 17,\n",
              " 18,\n",
              " 19,\n",
              " 20,\n",
              " 21,\n",
              " 22,\n",
              " 23,\n",
              " 24,\n",
              " 25,\n",
              " 26,\n",
              " 27,\n",
              " 28,\n",
              " 29,\n",
              " 30,\n",
              " 31,\n",
              " 32,\n",
              " 33,\n",
              " 34,\n",
              " 35,\n",
              " 36,\n",
              " 37,\n",
              " 38,\n",
              " 39,\n",
              " 40,\n",
              " 41,\n",
              " 42,\n",
              " 43,\n",
              " 44,\n",
              " 45,\n",
              " 46,\n",
              " 47,\n",
              " 48,\n",
              " 49]"
            ]
          },
          "metadata": {},
          "execution_count": 7
        }
      ]
    },
    {
      "cell_type": "code",
      "source": [
        "def is_prime(number):\n",
        "    if number <= 1:\n",
        "        return False\n",
        "    if number <= 3:\n",
        "        return True\n",
        "    if number % 2 == 0 or number % 3 == 0:\n",
        "        return False\n",
        "    i = 5\n",
        "    while i * i <= number:\n",
        "        if number % i == 0 or number % (i + 2) == 0:\n",
        "            return False\n",
        "        i += 6\n",
        "    return True\n",
        "\n",
        "prime_numbers = [num for num in range(2, 51) if is_prime(num)]\n",
        "print(\"Prime numbers from 1 to 50:\", prime_numbers)\n"
      ],
      "metadata": {
        "id": "67phu8AovVon",
        "colab": {
          "base_uri": "https://localhost:8080/"
        },
        "outputId": "fa294e15-26f4-42b9-c4f7-80e0800c75d2"
      },
      "execution_count": null,
      "outputs": [
        {
          "output_type": "stream",
          "name": "stdout",
          "text": [
            "Prime numbers from 1 to 50: [2, 3, 5, 7, 11, 13, 17, 19, 23, 29, 31, 37, 41, 43, 47]\n"
          ]
        }
      ]
    },
    {
      "cell_type": "code",
      "source": [
        "square_odd = []\n",
        "\n",
        "for odd in range(50):\n",
        "  if odd % 2 == 1:\n",
        "    square = odd ** 2\n",
        "    square_odd.append(square)\n",
        "print(square_odd)"
      ],
      "metadata": {
        "colab": {
          "base_uri": "https://localhost:8080/"
        },
        "id": "E9fJt89g0iGO",
        "outputId": "fdde7cce-7701-491d-ec01-d25696538ded"
      },
      "execution_count": null,
      "outputs": [
        {
          "output_type": "stream",
          "name": "stdout",
          "text": [
            "[1, 9, 25, 49, 81, 121, 169, 225, 289, 361, 441, 529, 625, 729, 841, 961, 1089, 1225, 1369, 1521, 1681, 1849, 2025, 2209, 2401]\n"
          ]
        }
      ]
    }
  ]
}