{
  "nbformat": 4,
  "nbformat_minor": 0,
  "metadata": {
    "colab": {
      "provenance": [],
      "authorship_tag": "ABX9TyPrVIyufdRL6az5uLL6rGQt",
      "include_colab_link": true
    },
    "kernelspec": {
      "name": "python3",
      "display_name": "Python 3"
    },
    "language_info": {
      "name": "python"
    }
  },
  "cells": [
    {
      "cell_type": "markdown",
      "metadata": {
        "id": "view-in-github",
        "colab_type": "text"
      },
      "source": [
        "<a href=\"https://colab.research.google.com/github/RheedWhan/AltSchool_DataScience_2023/blob/main/Introduction_to_Data_Analysis.ipynb\" target=\"_parent\"><img src=\"https://colab.research.google.com/assets/colab-badge.svg\" alt=\"Open In Colab\"/></a>"
      ]
    },
    {
      "cell_type": "code",
      "execution_count": 1,
      "metadata": {
        "id": "CERoRjbDICRg"
      },
      "outputs": [],
      "source": [
        "# Import libraries\n",
        "\n",
        "import requests as re\n",
        "import json"
      ]
    },
    {
      "cell_type": "code",
      "source": [
        "api_key= \"AIzaSyBR2ykH-xi1kH-4kCA5fXnPBENZ LowpvJ0\""
      ],
      "metadata": {
        "id": "rUNHe16NIWjE"
      },
      "execution_count": 3,
      "outputs": []
    },
    {
      "cell_type": "code",
      "source": [
        "search_url = \"https://maps.googleapis.com/maps/api/place/textsearch/json?\""
      ],
      "metadata": {
        "id": "uuXUVF8oJdWt"
      },
      "execution_count": 4,
      "outputs": []
    },
    {
      "cell_type": "code",
      "source": [],
      "metadata": {
        "id": "2LUewxMTKPOs"
      },
      "execution_count": null,
      "outputs": []
    }
  ]
}