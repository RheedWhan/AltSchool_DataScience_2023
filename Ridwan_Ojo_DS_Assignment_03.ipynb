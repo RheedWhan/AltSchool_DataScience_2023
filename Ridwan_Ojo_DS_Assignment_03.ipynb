{
  "nbformat": 4,
  "nbformat_minor": 0,
  "metadata": {
    "colab": {
      "provenance": [],
      "collapsed_sections": [
        "oHDp11-nlJ0P"
      ],
      "include_colab_link": true
    },
    "kernelspec": {
      "name": "python3",
      "display_name": "Python 3"
    },
    "language_info": {
      "name": "python"
    }
  },
  "cells": [
    {
      "cell_type": "markdown",
      "metadata": {
        "id": "view-in-github",
        "colab_type": "text"
      },
      "source": [
        "<a href=\"https://colab.research.google.com/github/RheedWhan/AltSchool_DataScience_2023/blob/main/Ridwan_Ojo_DS_Assignment_03.ipynb\" target=\"_parent\"><img src=\"https://colab.research.google.com/assets/colab-badge.svg\" alt=\"Open In Colab\"/></a>"
      ]
    },
    {
      "cell_type": "markdown",
      "source": [
        "#Questions\n"
      ],
      "metadata": {
        "id": "oHDp11-nlJ0P"
      }
    },
    {
      "cell_type": "markdown",
      "source": [
        "1. a. Write a Python program to validate a user's input of a numerical value. If the input is not a number, provide feedback; otherwise, determine if it's even or odd.\n",
        "\n",
        "  b. Write a Python program that accepts three sides of a triangle and checks if it's an equlateral, isosceless or scalene triangle.\n",
        "Note: equilateral triangle - has 3 equal sides, isosceles triangle- has at least 2 equal sides. scalene triangle - has 3 unequal sides."
      ],
      "metadata": {
        "id": "z3WhdYFq5Iam"
      }
    },
    {
      "cell_type": "markdown",
      "source": [
        "2. a. Write a for loop that finds and prints all prime numbers from 1 to 50.\n",
        "  convert the for loop-based prime number computation into a list comprehension.\n",
        "\n",
        "  b. Given the list of dictionaries below where each dictionary represents a property, use a loop to add price per area to each dictionary: price_per_m2.\n",
        "  \n",
        " properties = [{'price_in_usd': 68663.03, 'area_in_m2': 208, 'room_num': 3},\n",
        " {'price_in_usd': 100412.94, 'area_in_m2': 256, 'room_num': 4},\n",
        " {'price_in_usd': 41967.85, 'area_in_m2': 87, 'room_num': 4},\n",
        " {'price_in_usd': 80186.97, 'area_in_m2': 158, 'room_num': 2},\n",
        " {'price_in_usd': 48405.36, 'area_in_m2': 249, 'room_num': 3}]"
      ],
      "metadata": {
        "id": "uWlavyal5IQt"
      }
    },
    {
      "cell_type": "markdown",
      "source": [
        "3. Write a function called square_odd that has one parameter. Your function must calculate the square of each odd number in a list.Return a Python list containing the squared values. Challenge yourself: Solve this problem with a list comprehension!"
      ],
      "metadata": {
        "id": "CH2t92VD5HzU"
      }
    },
    {
      "cell_type": "markdown",
      "source": [
        "4. Create a Python function called classify_age that takes an age as an argument and returns the following classifications:\n",
        "\n",
        "  If the age is less than 18, return \"Minor.\"\n",
        "  If the age is between 18 and 65 (inclusive), return \"Adult.\"\n",
        "  If the age is greater than 65, return \"Senior Citizen.\""
      ],
      "metadata": {
        "id": "fxTyiBVV2AN5"
      }
    },
    {
      "cell_type": "markdown",
      "source": [
        "#Answers"
      ],
      "metadata": {
        "id": "c_T_nT9klFwM"
      }
    },
    {
      "cell_type": "markdown",
      "source": [
        "1a. Write a Python program to validate a user's input of a numerical value. If the input is not a number, provide feedback; otherwise, determine if it's even or odd.\n"
      ],
      "metadata": {
        "id": "eewGqfy8k8o6"
      }
    },
    {
      "cell_type": "code",
      "source": [
        "# Answer to question 1a\n",
        "user_input = input(\"Enter a number: \")\n",
        "\n",
        "try:\n",
        "    num = int(user_input)\n",
        "\n",
        "    if num % 2 == 0:\n",
        "        print(f\"{num} is an even number.\")\n",
        "    else:\n",
        "        print(f\"{num} is an odd number.\")\n",
        "except ValueError:\n",
        "    print(\"Invalid input. Please enter a number.\")"
      ],
      "metadata": {
        "id": "t7d2ABeorLIF",
        "outputId": "318cdae1-d9ed-489b-aaa1-41e6e2004387",
        "colab": {
          "base_uri": "https://localhost:8080/"
        }
      },
      "execution_count": null,
      "outputs": [
        {
          "output_type": "stream",
          "name": "stdout",
          "text": [
            "Enter a number: 44\n",
            "44 is an even number.\n"
          ]
        }
      ]
    },
    {
      "cell_type": "markdown",
      "source": [
        "1b. Write a Python program that accepts three sides of a triangle and checks if it's an equlateral, isosceless or scalene triangle. Note: equilateral triangle - has 3 equal sides, isosceles triangle- has at least 2 equal sides. scalene triangle - has 3 unequal sides."
      ],
      "metadata": {
        "id": "DVY0Gqs3lVuO"
      }
    },
    {
      "cell_type": "code",
      "source": [
        "side1 = input('Enter the first side: ')\n",
        "side2 = input('Enter the second side: ')\n",
        "side3 = input('Enter the third side: ')\n",
        "\n",
        "if side1 == side2 == side3:\n",
        "  print('This is an Equilateral Triangle')\n",
        "elif side1 == side2 or side1 == side3 or side2 == side3:\n",
        "  print('This is an Isosceles Triangle')\n",
        "else:\n",
        "  print('This is a Scalene Triangle')"
      ],
      "metadata": {
        "colab": {
          "base_uri": "https://localhost:8080/"
        },
        "id": "5gDf4rSjytei",
        "outputId": "b4a81e85-3e57-4d60-9405-a38555a1a9fa"
      },
      "execution_count": null,
      "outputs": [
        {
          "output_type": "stream",
          "name": "stdout",
          "text": [
            "Enter the first side: 8\n",
            "Enter the second side: 9\n",
            "Enter the third side: 5\n",
            "This is a Scalene Triangle\n"
          ]
        }
      ]
    },
    {
      "cell_type": "markdown",
      "source": [
        "2a. Write a for loop that finds and prints all prime numbers from 1 to 50. convert the for loop-based prime number computation into a list comprehension."
      ],
      "metadata": {
        "id": "IeQlppLVELxC"
      }
    },
    {
      "cell_type": "code",
      "source": [
        "prime = [num for num in range(2, 51) if all(num % i != 0 for i in range(2, num))]\n",
        "prime"
      ],
      "metadata": {
        "colab": {
          "base_uri": "https://localhost:8080/"
        },
        "id": "m6LsaDfhoQmu",
        "outputId": "60b691a6-acf1-4351-cf85-8f3ae742863b"
      },
      "execution_count": null,
      "outputs": [
        {
          "output_type": "execute_result",
          "data": {
            "text/plain": [
              "[2, 3, 5, 7, 11, 13, 17, 19, 23, 29, 31, 37, 41, 43, 47]"
            ]
          },
          "metadata": {},
          "execution_count": 6
        }
      ]
    },
    {
      "cell_type": "markdown",
      "source": [
        "b. Given the list of dictionaries below where each dictionary represents a property, use a loop to add price per area to each dictionary: price_per_m2.\n",
        "\n",
        "properties = [{'price_in_usd': 68663.03, 'area_in_m2': 208, 'room_num': 3}, {'price_in_usd': 100412.94, 'area_in_m2': 256, 'room_num': 4}, {'price_in_usd': 41967.85, 'area_in_m2': 87, 'room_num': 4}, {'price_in_usd': 80186.97, 'area_in_m2': 158, 'room_num': 2}, {'price_in_usd': 48405.36, 'area_in_m2': 249, 'room_num': 3}]"
      ],
      "metadata": {
        "id": "L0pBp0Wyy0R6"
      }
    },
    {
      "cell_type": "code",
      "source": [
        "properties = [{'price_in_usd': 68663.03, 'area_in_m2': 208, 'room_num': 3},\n",
        "              {'price_in_usd': 100412.94, 'area_in_m2': 256, 'room_num': 4},\n",
        "              {'price_in_usd': 41967.85, 'area_in_m2': 87, 'room_num': 4},\n",
        "              {'price_in_usd': 80186.97, 'area_in_m2': 158, 'room_num': 2},\n",
        "              {'price_in_usd': 48405.36, 'area_in_m2': 249, 'room_num': 3}]"
      ],
      "metadata": {
        "id": "J49wLEJIy246"
      },
      "execution_count": 32,
      "outputs": []
    },
    {
      "cell_type": "code",
      "source": [
        "for properti in properties:\n",
        "    properti['price_per_m2'] = round(properti['price_in_usd'] / properti['area_in_m2'], 2)\n",
        "\n",
        "    print(properti)"
      ],
      "metadata": {
        "id": "w9QKM0GY0RV1",
        "colab": {
          "base_uri": "https://localhost:8080/"
        },
        "outputId": "8a18a92f-20c7-41ba-e739-e8d4def76664"
      },
      "execution_count": 41,
      "outputs": [
        {
          "output_type": "stream",
          "name": "stdout",
          "text": [
            "{'price_in_usd': 68663.03, 'area_in_m2': 208, 'room_num': 3, 'price_per_m2': 330.11}\n",
            "{'price_in_usd': 100412.94, 'area_in_m2': 256, 'room_num': 4, 'price_per_m2': 392.24}\n",
            "{'price_in_usd': 41967.85, 'area_in_m2': 87, 'room_num': 4, 'price_per_m2': 482.39}\n",
            "{'price_in_usd': 80186.97, 'area_in_m2': 158, 'room_num': 2, 'price_per_m2': 507.51}\n",
            "{'price_in_usd': 48405.36, 'area_in_m2': 249, 'room_num': 3, 'price_per_m2': 194.4}\n"
          ]
        }
      ]
    },
    {
      "cell_type": "markdown",
      "source": [
        "3. Write a function called square_odd that has one parameter. Your function must calculate the square of each odd number in a list.Return a Python list containing the squared values. Challenge yourself: Solve this problem with a list comprehension!"
      ],
      "metadata": {
        "id": "IzedtKRFnd3l"
      }
    },
    {
      "cell_type": "code",
      "source": [
        "def square_odd(lst):\n",
        "  square_val = [i**2 for i in lst if i % 2 == 1]\n",
        "  return square_val"
      ],
      "metadata": {
        "id": "i8OzVPFmrn4E"
      },
      "execution_count": null,
      "outputs": []
    },
    {
      "cell_type": "code",
      "source": [
        "square_odd([1,2,3,4,5,6,7,8,9])"
      ],
      "metadata": {
        "colab": {
          "base_uri": "https://localhost:8080/"
        },
        "id": "-X6HPN2Utvhk",
        "outputId": "0b71875f-7576-4ce4-9160-fd73180deb8f"
      },
      "execution_count": null,
      "outputs": [
        {
          "output_type": "execute_result",
          "data": {
            "text/plain": [
              "[1, 9, 25, 49, 81]"
            ]
          },
          "metadata": {},
          "execution_count": 21
        }
      ]
    },
    {
      "cell_type": "markdown",
      "source": [
        "4.  Create a Python function called classify_age that takes an age as an argument and returns the following classifications:\n",
        "\n",
        "If the age is less than 18, return \"Minor.\" If the age is between 18 and 65 (inclusive), return \"Adult.\" If the age is greater than 65, return \"Senior Citizen.\""
      ],
      "metadata": {
        "id": "1VfJgmhtoCGE"
      }
    },
    {
      "cell_type": "code",
      "source": [
        "def classify_age(age):\n",
        "  if age < 18:\n",
        "    classification = 'Minor'\n",
        "  elif age >= 18 and age <= 65:\n",
        "    classification = 'Adult'\n",
        "  else:\n",
        "    classification = 'Senior Citizen'\n",
        "  return classification"
      ],
      "metadata": {
        "id": "CQxjTj_UoEfF"
      },
      "execution_count": null,
      "outputs": []
    },
    {
      "cell_type": "code",
      "source": [
        "classify_age(45)"
      ],
      "metadata": {
        "colab": {
          "base_uri": "https://localhost:8080/",
          "height": 36
        },
        "id": "6Qbgk8oJyQPt",
        "outputId": "8eed022e-847e-43ae-9087-54201bd1c5fb"
      },
      "execution_count": null,
      "outputs": [
        {
          "output_type": "execute_result",
          "data": {
            "text/plain": [
              "'Adult'"
            ],
            "application/vnd.google.colaboratory.intrinsic+json": {
              "type": "string"
            }
          },
          "metadata": {},
          "execution_count": 28
        }
      ]
    },
    {
      "cell_type": "code",
      "source": [],
      "metadata": {
        "id": "g-h18fuMya3D"
      },
      "execution_count": null,
      "outputs": []
    }
  ]
}