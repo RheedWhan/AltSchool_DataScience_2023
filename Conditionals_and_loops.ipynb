{
  "nbformat": 4,
  "nbformat_minor": 0,
  "metadata": {
    "colab": {
      "provenance": [],
      "authorship_tag": "ABX9TyOoJvNiFI83gBKurpdl6GbE",
      "include_colab_link": true
    },
    "kernelspec": {
      "name": "python3",
      "display_name": "Python 3"
    },
    "language_info": {
      "name": "python"
    }
  },
  "cells": [
    {
      "cell_type": "markdown",
      "metadata": {
        "id": "view-in-github",
        "colab_type": "text"
      },
      "source": [
        "<a href=\"https://colab.research.google.com/github/RheedWhan/AltSchool_DataScience_2023/blob/main/Conditionals_and_loops.ipynb\" target=\"_parent\"><img src=\"https://colab.research.google.com/assets/colab-badge.svg\" alt=\"Open In Colab\"/></a>"
      ]
    },
    {
      "cell_type": "markdown",
      "source": [
        "### CONDITIONALS"
      ],
      "metadata": {
        "id": "eOfol-dhWUwz"
      }
    },
    {
      "cell_type": "code",
      "execution_count": 1,
      "metadata": {
        "colab": {
          "base_uri": "https://localhost:8080/"
        },
        "id": "ItQkaYgcKT8Q",
        "outputId": "f909781a-ef0e-42f2-cff3-531902f4e399"
      },
      "outputs": [
        {
          "output_type": "stream",
          "name": "stdout",
          "text": [
            "Right\n"
          ]
        }
      ],
      "source": [
        "if 10 > 6:\n",
        "  print(\"Right\")"
      ]
    },
    {
      "cell_type": "code",
      "source": [
        "if 9 < 6:\n",
        "  print(\"Right\")\n",
        "else:\n",
        "  print(\"Wrong\")"
      ],
      "metadata": {
        "colab": {
          "base_uri": "https://localhost:8080/"
        },
        "id": "9x82rKqGLMz6",
        "outputId": "6815f24e-8981-4bc5-94d2-d2d8989ff04f"
      },
      "execution_count": 2,
      "outputs": [
        {
          "output_type": "stream",
          "name": "stdout",
          "text": [
            "Wrong\n"
          ]
        }
      ]
    },
    {
      "cell_type": "code",
      "source": [
        "# Input function\n",
        "\n",
        "score = input()"
      ],
      "metadata": {
        "colab": {
          "base_uri": "https://localhost:8080/"
        },
        "id": "JtF8r9mmLoXj",
        "outputId": "edfe044f-a15c-4a64-ba50-c20aa57aaf49"
      },
      "execution_count": 3,
      "outputs": [
        {
          "name": "stdout",
          "output_type": "stream",
          "text": [
            "7\n"
          ]
        }
      ]
    },
    {
      "cell_type": "code",
      "source": [
        "score"
      ],
      "metadata": {
        "colab": {
          "base_uri": "https://localhost:8080/",
          "height": 36
        },
        "id": "_8aCQhG1MUqr",
        "outputId": "72b8d48e-264b-49d9-f7a7-c2e3453c6746"
      },
      "execution_count": 4,
      "outputs": [
        {
          "output_type": "execute_result",
          "data": {
            "text/plain": [
              "'7'"
            ],
            "application/vnd.google.colaboratory.intrinsic+json": {
              "type": "string"
            }
          },
          "metadata": {},
          "execution_count": 4
        }
      ]
    },
    {
      "cell_type": "code",
      "source": [
        "score = float(input(\"Enter your score: \"))"
      ],
      "metadata": {
        "colab": {
          "base_uri": "https://localhost:8080/"
        },
        "id": "pPKVeICNMZep",
        "outputId": "510b1307-3685-4fd5-c546-05f03960f29d"
      },
      "execution_count": 5,
      "outputs": [
        {
          "name": "stdout",
          "output_type": "stream",
          "text": [
            "Enter your score: 3\n"
          ]
        }
      ]
    },
    {
      "cell_type": "code",
      "source": [
        "score"
      ],
      "metadata": {
        "colab": {
          "base_uri": "https://localhost:8080/"
        },
        "id": "WSiglQ6jM1zx",
        "outputId": "ac4257ab-bae5-4a09-9bad-65f2833798b9"
      },
      "execution_count": 6,
      "outputs": [
        {
          "output_type": "execute_result",
          "data": {
            "text/plain": [
              "3.0"
            ]
          },
          "metadata": {},
          "execution_count": 6
        }
      ]
    },
    {
      "cell_type": "code",
      "source": [
        "score = input(\"Enter your score: \")"
      ],
      "metadata": {
        "colab": {
          "base_uri": "https://localhost:8080/"
        },
        "id": "oiGQTY3nM5b6",
        "outputId": "cd295fca-0325-4321-e38a-ffe3bee25edc"
      },
      "execution_count": 7,
      "outputs": [
        {
          "name": "stdout",
          "output_type": "stream",
          "text": [
            "Enter your score: 4\n"
          ]
        }
      ]
    },
    {
      "cell_type": "code",
      "source": [
        "score"
      ],
      "metadata": {
        "colab": {
          "base_uri": "https://localhost:8080/",
          "height": 36
        },
        "id": "x_MdZj3GM_DV",
        "outputId": "f2cad53b-ec0c-4711-e9a3-e33695215d88"
      },
      "execution_count": 8,
      "outputs": [
        {
          "output_type": "execute_result",
          "data": {
            "text/plain": [
              "'4'"
            ],
            "application/vnd.google.colaboratory.intrinsic+json": {
              "type": "string"
            }
          },
          "metadata": {},
          "execution_count": 8
        }
      ]
    },
    {
      "cell_type": "code",
      "source": [
        "score = float(input(\"Enter your score: \"))"
      ],
      "metadata": {
        "colab": {
          "base_uri": "https://localhost:8080/"
        },
        "id": "HoP7UfO3NBv5",
        "outputId": "6e554e29-fe0d-4814-f3ff-50c27fa215f8"
      },
      "execution_count": 9,
      "outputs": [
        {
          "name": "stdout",
          "output_type": "stream",
          "text": [
            "Enter your score: 66\n"
          ]
        }
      ]
    },
    {
      "cell_type": "code",
      "source": [
        "score"
      ],
      "metadata": {
        "colab": {
          "base_uri": "https://localhost:8080/"
        },
        "id": "c34cosVUNJr9",
        "outputId": "553c1268-e9aa-4fb4-9f76-897e28f61770"
      },
      "execution_count": 10,
      "outputs": [
        {
          "output_type": "execute_result",
          "data": {
            "text/plain": [
              "66.0"
            ]
          },
          "metadata": {},
          "execution_count": 10
        }
      ]
    },
    {
      "cell_type": "code",
      "source": [
        "type(score)"
      ],
      "metadata": {
        "colab": {
          "base_uri": "https://localhost:8080/"
        },
        "id": "9dGjL1TwNMcA",
        "outputId": "f0405b2c-1145-483f-fe4c-3f28ef97d3ab"
      },
      "execution_count": 11,
      "outputs": [
        {
          "output_type": "execute_result",
          "data": {
            "text/plain": [
              "float"
            ]
          },
          "metadata": {},
          "execution_count": 11
        }
      ]
    },
    {
      "cell_type": "code",
      "source": [
        "score = float(input(\"Enter your score: \"))\n",
        "\n",
        "if score >= 90 and score <= 100:\n",
        "  grade = 'A'\n",
        "elif score >= 80 and score <= 89:\n",
        "  grade = 'B'\n",
        "elif score >= 70 and score <= 79:\n",
        "  grade = 'c'\n",
        "elif score >= 60 and score <= 69:\n",
        "  grade = 'D'\n",
        "elif score > 100:\n",
        "  grade = 'Out of grade'\n",
        "else:\n",
        "  grade = 'F'\n",
        "print(f'Your grade is: {grade}')"
      ],
      "metadata": {
        "colab": {
          "base_uri": "https://localhost:8080/"
        },
        "id": "MeTcMeVNOfvr",
        "outputId": "24a05e10-28ea-4a98-e0c9-d6484d01c82f"
      },
      "execution_count": 12,
      "outputs": [
        {
          "output_type": "stream",
          "name": "stdout",
          "text": [
            "Enter your score: 78\n",
            "Your grade is: c\n"
          ]
        }
      ]
    },
    {
      "cell_type": "code",
      "source": [
        "# Nested Conditionals\n",
        "\n",
        "age = 7\n",
        "vaccinated = False\n",
        "\n",
        "if age > 8:\n",
        "  if not vaccinated:\n",
        "      print('you are eligible')\n",
        "  else:\n",
        "      print('you have been vaccinated')\n",
        "else:\n",
        "  print('you are not eligible')"
      ],
      "metadata": {
        "colab": {
          "base_uri": "https://localhost:8080/"
        },
        "id": "Lc3ER8QZQl89",
        "outputId": "7e48185d-243d-4b43-f516-5762a8f20146"
      },
      "execution_count": 13,
      "outputs": [
        {
          "output_type": "stream",
          "name": "stdout",
          "text": [
            "you are not eligible\n"
          ]
        }
      ]
    },
    {
      "cell_type": "code",
      "source": [
        "age = int(input('Enter your age: '))\n",
        "vaccinated = input('Enter vaccination status (Y/N): ')\n",
        "\n",
        "if age > 8:\n",
        "  if vaccinated == 'N':\n",
        "      print('you are eligible')\n",
        "  elif vaccinated == 'Y':\n",
        "      print('you have been vaccinated')\n",
        "else:\n",
        "  print('you are not eligible')"
      ],
      "metadata": {
        "colab": {
          "base_uri": "https://localhost:8080/"
        },
        "id": "mN6VihAERRDU",
        "outputId": "f2bb0d32-7282-46a6-e2d2-b5437ba724f7"
      },
      "execution_count": 14,
      "outputs": [
        {
          "output_type": "stream",
          "name": "stdout",
          "text": [
            "Enter your age: 45\n",
            "Enter vaccination status (Y/N): Y\n",
            "you have been vaccinated\n"
          ]
        }
      ]
    },
    {
      "cell_type": "code",
      "source": [],
      "metadata": {
        "id": "DDc7g8v9UPGK"
      },
      "execution_count": 14,
      "outputs": []
    },
    {
      "cell_type": "markdown",
      "source": [
        "### LOOPS"
      ],
      "metadata": {
        "id": "vcxKSw10WSRH"
      }
    },
    {
      "cell_type": "code",
      "source": [
        "# for loop\n",
        "\n",
        "days = ['Monday', 'Tuesday', 'Wednesday', 'Thursday', 'Friday', 'Saturday', 'Sunday']\n",
        "\n",
        "for day in days:\n",
        "  print(day)"
      ],
      "metadata": {
        "colab": {
          "base_uri": "https://localhost:8080/"
        },
        "id": "4rAAYX97WeI7",
        "outputId": "73ab0c5b-316c-473f-af1f-e5be041425c9"
      },
      "execution_count": 15,
      "outputs": [
        {
          "output_type": "stream",
          "name": "stdout",
          "text": [
            "Monday\n",
            "Tuesday\n",
            "Wednesday\n",
            "Thursday\n",
            "Friday\n",
            "Saturday\n",
            "Sunday\n"
          ]
        }
      ]
    },
    {
      "cell_type": "code",
      "source": [
        "# Conditionals with loops\n",
        "\n",
        "days = ['Monday', 'Tuesday', 'Wednesday', 'Thursday', 'Friday', 'Saturday', 'Sunday']\n",
        "\n",
        "for day in days:\n",
        "  if day == 'Wednesday' or  day == 'saturday':\n",
        "      print('Live Session Today!')\n",
        "  print(day)"
      ],
      "metadata": {
        "colab": {
          "base_uri": "https://localhost:8080/"
        },
        "id": "yY2G36AdY3B2",
        "outputId": "5b6df724-3f2d-46b8-b84f-9a654287d2ef"
      },
      "execution_count": 16,
      "outputs": [
        {
          "output_type": "stream",
          "name": "stdout",
          "text": [
            "Monday\n",
            "Tuesday\n",
            "Live Session Today!\n",
            "Wednesday\n",
            "Thursday\n",
            "Friday\n",
            "Saturday\n",
            "Sunday\n"
          ]
        }
      ]
    },
    {
      "cell_type": "code",
      "source": [
        "days = ['Monday', 'Tuesday', 'Wednesday', 'Thursday', 'Friday', 'Saturday', 'Sunday']\n",
        "\n",
        "event = ''\n",
        "for day in days:\n",
        "  if day == 'Wednesday' or  day == 'saturday':\n",
        "      else:\n",
        "        print(day)\n",
        "  print(day, event)"
      ],
      "metadata": {
        "colab": {
          "base_uri": "https://localhost:8080/",
          "height": 141
        },
        "id": "v4regQwRZ1O3",
        "outputId": "abd30238-c2e0-4755-8653-a869f87c9d6a"
      },
      "execution_count": 20,
      "outputs": [
        {
          "output_type": "error",
          "ename": "SyntaxError",
          "evalue": "ignored",
          "traceback": [
            "\u001b[0;36m  File \u001b[0;32m\"<ipython-input-20-e0a384367bad>\"\u001b[0;36m, line \u001b[0;32m6\u001b[0m\n\u001b[0;31m    else:\u001b[0m\n\u001b[0m    ^\u001b[0m\n\u001b[0;31mSyntaxError\u001b[0m\u001b[0;31m:\u001b[0m invalid syntax\n"
          ]
        }
      ]
    },
    {
      "cell_type": "code",
      "source": [
        "for day in days:\n",
        "  event = ''\n",
        "\n",
        "if day == 'Wednesday' or day == 'Saturday':\n",
        "  event = 'Live Class!'\n",
        "\n",
        "print(day, event)"
      ],
      "metadata": {
        "colab": {
          "base_uri": "https://localhost:8080/"
        },
        "id": "Z27tPajJbvg4",
        "outputId": "660302cf-ecea-479d-f321-435babdc3c3b"
      },
      "execution_count": 21,
      "outputs": [
        {
          "output_type": "stream",
          "name": "stdout",
          "text": [
            "Sunday \n"
          ]
        }
      ]
    },
    {
      "cell_type": "code",
      "source": [
        "# Using a break keyword\n",
        "\n",
        "for day in days:\n",
        "  if day == 'Thursday':\n",
        "    break\n",
        "  print(day)\n"
      ],
      "metadata": {
        "colab": {
          "base_uri": "https://localhost:8080/"
        },
        "id": "qspbo-dAczMC",
        "outputId": "a9cdd0da-ec7e-4f87-a6d8-5b4d9d2492b8"
      },
      "execution_count": 22,
      "outputs": [
        {
          "output_type": "stream",
          "name": "stdout",
          "text": [
            "Monday\n",
            "Tuesday\n",
            "Wednesday\n"
          ]
        }
      ]
    },
    {
      "cell_type": "code",
      "source": [
        "even = []\n",
        "for i in range(0, 13):\n",
        "  if i % 2 == 0:\n",
        "    even.append(i)\n",
        "print(even)"
      ],
      "metadata": {
        "colab": {
          "base_uri": "https://localhost:8080/"
        },
        "id": "jeKZw1updjw4",
        "outputId": "76f6402d-ec43-41da-f02a-34fc10b675f7"
      },
      "execution_count": 23,
      "outputs": [
        {
          "output_type": "stream",
          "name": "stdout",
          "text": [
            "[0, 2, 4, 6, 8, 10, 12]\n"
          ]
        }
      ]
    },
    {
      "cell_type": "code",
      "source": [
        "odd = []\n",
        "for i in range(0, 13):\n",
        "  if i % 2 == 1:\n",
        "    odd.append(i)\n",
        "print(odd)"
      ],
      "metadata": {
        "colab": {
          "base_uri": "https://localhost:8080/"
        },
        "id": "EwgbYhp3d5re",
        "outputId": "4eab8072-b515-428d-d340-0b278d2aa117"
      },
      "execution_count": 24,
      "outputs": [
        {
          "output_type": "stream",
          "name": "stdout",
          "text": [
            "[1, 3, 5, 7, 9, 11]\n"
          ]
        }
      ]
    },
    {
      "cell_type": "code",
      "source": [
        "num = [1 ,2, 3, 4, 5, 6, 7]"
      ],
      "metadata": {
        "id": "WQ3wIZwBfBcP"
      },
      "execution_count": 25,
      "outputs": []
    },
    {
      "cell_type": "code",
      "source": [
        "type(num)"
      ],
      "metadata": {
        "colab": {
          "base_uri": "https://localhost:8080/"
        },
        "id": "Z86Xq5LBmfkv",
        "outputId": "9b2a040b-0143-4517-fac1-38bb088c5052"
      },
      "execution_count": 26,
      "outputs": [
        {
          "output_type": "execute_result",
          "data": {
            "text/plain": [
              "list"
            ]
          },
          "metadata": {},
          "execution_count": 26
        }
      ]
    },
    {
      "cell_type": "code",
      "source": [
        "dir(num)"
      ],
      "metadata": {
        "colab": {
          "base_uri": "https://localhost:8080/"
        },
        "id": "wMAP_jkRmh7o",
        "outputId": "18c125f8-2eea-4eca-a1b6-b33072e779dd"
      },
      "execution_count": 27,
      "outputs": [
        {
          "output_type": "execute_result",
          "data": {
            "text/plain": [
              "['__add__',\n",
              " '__class__',\n",
              " '__class_getitem__',\n",
              " '__contains__',\n",
              " '__delattr__',\n",
              " '__delitem__',\n",
              " '__dir__',\n",
              " '__doc__',\n",
              " '__eq__',\n",
              " '__format__',\n",
              " '__ge__',\n",
              " '__getattribute__',\n",
              " '__getitem__',\n",
              " '__gt__',\n",
              " '__hash__',\n",
              " '__iadd__',\n",
              " '__imul__',\n",
              " '__init__',\n",
              " '__init_subclass__',\n",
              " '__iter__',\n",
              " '__le__',\n",
              " '__len__',\n",
              " '__lt__',\n",
              " '__mul__',\n",
              " '__ne__',\n",
              " '__new__',\n",
              " '__reduce__',\n",
              " '__reduce_ex__',\n",
              " '__repr__',\n",
              " '__reversed__',\n",
              " '__rmul__',\n",
              " '__setattr__',\n",
              " '__setitem__',\n",
              " '__sizeof__',\n",
              " '__str__',\n",
              " '__subclasshook__',\n",
              " 'append',\n",
              " 'clear',\n",
              " 'copy',\n",
              " 'count',\n",
              " 'extend',\n",
              " 'index',\n",
              " 'insert',\n",
              " 'pop',\n",
              " 'remove',\n",
              " 'reverse',\n",
              " 'sort']"
            ]
          },
          "metadata": {},
          "execution_count": 27
        }
      ]
    },
    {
      "cell_type": "code",
      "source": [
        "# If statements\n",
        "\n",
        "list = ['Sola', False, 993]"
      ],
      "metadata": {
        "id": "-vP9AOz4mk3Y"
      },
      "execution_count": 28,
      "outputs": []
    },
    {
      "cell_type": "code",
      "source": [
        "for n in list:\n",
        "  if n == 993:\n",
        "    print(n-2)\n",
        "  elif n == True:\n",
        "    print(n)\n",
        "  else:\n",
        "    print(n)"
      ],
      "metadata": {
        "id": "txkgxYQIaewr",
        "outputId": "a10ecaa2-f110-4d4b-bed2-6777e925fbcc",
        "colab": {
          "base_uri": "https://localhost:8080/"
        }
      },
      "execution_count": 37,
      "outputs": [
        {
          "output_type": "stream",
          "name": "stdout",
          "text": [
            "Sola\n",
            "False\n",
            "991\n"
          ]
        }
      ]
    },
    {
      "cell_type": "code",
      "source": [
        "year =int(input('input your year: '))\n",
        "\n",
        "if year >= 17:\n",
        "    print(\"You are allowed to vote\")\n",
        "else:\n",
        "    print(\"You are not allowed to vote\")"
      ],
      "metadata": {
        "id": "pHXNSRSmaw0X",
        "outputId": "db63ef17-e4bc-4f82-ec11-20fdafcb6ba4",
        "colab": {
          "base_uri": "https://localhost:8080/"
        }
      },
      "execution_count": 49,
      "outputs": [
        {
          "output_type": "stream",
          "name": "stdout",
          "text": [
            "input your year: 12\n",
            "You are not allowed to vote\n"
          ]
        }
      ]
    },
    {
      "cell_type": "code",
      "source": [
        "# Conditionals with loop\n",
        "\n",
        "job_openings = ['data scientist', 'software developer', 'blockchain developer', 'product designer']\n",
        "\n",
        "for job_opening in job_openings:\n",
        "  if job_opening == 'data scientist':\n",
        "    print('Sorry, We are not hiring for a data scientist role')\n",
        "  else:\n",
        "    print(f'We are not hiring a {job_opening}')\n",
        "print('\\nThank you for checking our job openings')"
      ],
      "metadata": {
        "id": "ADyoiwg0dZ6A",
        "outputId": "d4ee953d-b63a-4314-870f-752f954f0078",
        "colab": {
          "base_uri": "https://localhost:8080/"
        }
      },
      "execution_count": 51,
      "outputs": [
        {
          "output_type": "stream",
          "name": "stdout",
          "text": [
            "Sorry, We are not hiring for a data scientist role\n",
            "We are not hiring a software developer\n",
            "We are not hiring a blockchain developer\n",
            "We are not hiring a product designer\n",
            "\n",
            "Thank you for checking our job openings\n"
          ]
        }
      ]
    },
    {
      "cell_type": "code",
      "source": [
        "job_openings = input('Enter the job role: ')\n",
        "\n",
        "if job_openings == 'data scientist':\n",
        "  print('Sorry, We are not hiring for a data scientist role')\n",
        "else:\n",
        "  print(f'We are not hiring a {job_openings}')\n",
        "print('\\nThank you for checking our job openings')"
      ],
      "metadata": {
        "id": "UIH7YqosjQGp",
        "outputId": "219f087d-fe02-4085-ae15-55fce2deab3e",
        "colab": {
          "base_uri": "https://localhost:8080/"
        }
      },
      "execution_count": 56,
      "outputs": [
        {
          "output_type": "stream",
          "name": "stdout",
          "text": [
            "Enter the job role: Bouncer\n",
            "We are not hiring a Bouncer\n",
            "\n",
            "Thank you for checking our job openings\n"
          ]
        }
      ]
    },
    {
      "cell_type": "code",
      "source": [],
      "metadata": {
        "id": "BatADE1SkXUE"
      },
      "execution_count": 56,
      "outputs": []
    }
  ]
}