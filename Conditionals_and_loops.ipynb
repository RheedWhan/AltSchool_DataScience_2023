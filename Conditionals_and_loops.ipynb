{
  "nbformat": 4,
  "nbformat_minor": 0,
  "metadata": {
    "colab": {
      "provenance": [],
      "authorship_tag": "ABX9TyNeQkCHFQzuFB6tHAINfvJO",
      "include_colab_link": true
    },
    "kernelspec": {
      "name": "python3",
      "display_name": "Python 3"
    },
    "language_info": {
      "name": "python"
    }
  },
  "cells": [
    {
      "cell_type": "markdown",
      "metadata": {
        "id": "view-in-github",
        "colab_type": "text"
      },
      "source": [
        "<a href=\"https://colab.research.google.com/github/RheedWhan/AltSchool_DataScience_2023/blob/main/Conditionals_and_loops.ipynb\" target=\"_parent\"><img src=\"https://colab.research.google.com/assets/colab-badge.svg\" alt=\"Open In Colab\"/></a>"
      ]
    },
    {
      "cell_type": "markdown",
      "source": [
        "### CONDITIONALS"
      ],
      "metadata": {
        "id": "eOfol-dhWUwz"
      }
    },
    {
      "cell_type": "code",
      "execution_count": 1,
      "metadata": {
        "colab": {
          "base_uri": "https://localhost:8080/"
        },
        "id": "ItQkaYgcKT8Q",
        "outputId": "92fb1d47-480b-4d19-94af-07efe664a6a5"
      },
      "outputs": [
        {
          "output_type": "stream",
          "name": "stdout",
          "text": [
            "Right\n"
          ]
        }
      ],
      "source": [
        "if 10 > 6:\n",
        "  print(\"Right\")"
      ]
    },
    {
      "cell_type": "code",
      "source": [
        "if 9 < 6:\n",
        "  print(\"Right\")\n",
        "else:\n",
        "  print(\"Wrong\")"
      ],
      "metadata": {
        "colab": {
          "base_uri": "https://localhost:8080/"
        },
        "id": "9x82rKqGLMz6",
        "outputId": "20228cda-dbff-451a-e029-bb9dc893f810"
      },
      "execution_count": 2,
      "outputs": [
        {
          "output_type": "stream",
          "name": "stdout",
          "text": [
            "Wrong\n"
          ]
        }
      ]
    },
    {
      "cell_type": "code",
      "source": [
        "# Input function\n",
        "\n",
        "score = input()"
      ],
      "metadata": {
        "colab": {
          "base_uri": "https://localhost:8080/"
        },
        "id": "JtF8r9mmLoXj",
        "outputId": "3947b213-dd29-47b7-dc7e-faca32cf43e5"
      },
      "execution_count": 3,
      "outputs": [
        {
          "name": "stdout",
          "output_type": "stream",
          "text": [
            "34\n"
          ]
        }
      ]
    },
    {
      "cell_type": "code",
      "source": [
        "score"
      ],
      "metadata": {
        "colab": {
          "base_uri": "https://localhost:8080/",
          "height": 36
        },
        "id": "_8aCQhG1MUqr",
        "outputId": "24631be4-aa41-4fc3-a86d-74df79e392e1"
      },
      "execution_count": 4,
      "outputs": [
        {
          "output_type": "execute_result",
          "data": {
            "text/plain": [
              "'34'"
            ],
            "application/vnd.google.colaboratory.intrinsic+json": {
              "type": "string"
            }
          },
          "metadata": {},
          "execution_count": 4
        }
      ]
    },
    {
      "cell_type": "code",
      "source": [
        "score = float(input(\"Enter your score: \"))"
      ],
      "metadata": {
        "colab": {
          "base_uri": "https://localhost:8080/"
        },
        "id": "pPKVeICNMZep",
        "outputId": "82989eb4-e289-4b0c-d9bf-bbabd6c028ae"
      },
      "execution_count": 5,
      "outputs": [
        {
          "name": "stdout",
          "output_type": "stream",
          "text": [
            "Enter your score: 36\n"
          ]
        }
      ]
    },
    {
      "cell_type": "code",
      "source": [
        "score"
      ],
      "metadata": {
        "colab": {
          "base_uri": "https://localhost:8080/"
        },
        "id": "WSiglQ6jM1zx",
        "outputId": "4546fc85-fbeb-41c1-a659-a8e54c6736c9"
      },
      "execution_count": 6,
      "outputs": [
        {
          "output_type": "execute_result",
          "data": {
            "text/plain": [
              "36.0"
            ]
          },
          "metadata": {},
          "execution_count": 6
        }
      ]
    },
    {
      "cell_type": "code",
      "source": [
        "score = input(\"Enter your score: \")"
      ],
      "metadata": {
        "colab": {
          "base_uri": "https://localhost:8080/"
        },
        "id": "oiGQTY3nM5b6",
        "outputId": "ef5f3108-eecd-4ce7-8c15-322f1d119665"
      },
      "execution_count": 7,
      "outputs": [
        {
          "name": "stdout",
          "output_type": "stream",
          "text": [
            "Enter your score: 44\n"
          ]
        }
      ]
    },
    {
      "cell_type": "code",
      "source": [
        "score"
      ],
      "metadata": {
        "colab": {
          "base_uri": "https://localhost:8080/",
          "height": 36
        },
        "id": "x_MdZj3GM_DV",
        "outputId": "32d7e7f9-e59f-4f49-9eef-6e4ef9624436"
      },
      "execution_count": 8,
      "outputs": [
        {
          "output_type": "execute_result",
          "data": {
            "text/plain": [
              "'44'"
            ],
            "application/vnd.google.colaboratory.intrinsic+json": {
              "type": "string"
            }
          },
          "metadata": {},
          "execution_count": 8
        }
      ]
    },
    {
      "cell_type": "code",
      "source": [
        "score = float(input(\"Enter your score: \"))"
      ],
      "metadata": {
        "colab": {
          "base_uri": "https://localhost:8080/"
        },
        "id": "HoP7UfO3NBv5",
        "outputId": "dc02a600-3fa5-4cc2-9e07-a109d12bb4b9"
      },
      "execution_count": 9,
      "outputs": [
        {
          "name": "stdout",
          "output_type": "stream",
          "text": [
            "Enter your score: 344\n"
          ]
        }
      ]
    },
    {
      "cell_type": "code",
      "source": [
        "score"
      ],
      "metadata": {
        "colab": {
          "base_uri": "https://localhost:8080/"
        },
        "id": "c34cosVUNJr9",
        "outputId": "61e335ff-e2f8-4a31-f42c-773d0f992a07"
      },
      "execution_count": 10,
      "outputs": [
        {
          "output_type": "execute_result",
          "data": {
            "text/plain": [
              "344.0"
            ]
          },
          "metadata": {},
          "execution_count": 10
        }
      ]
    },
    {
      "cell_type": "code",
      "source": [
        "type(score)"
      ],
      "metadata": {
        "colab": {
          "base_uri": "https://localhost:8080/"
        },
        "id": "9dGjL1TwNMcA",
        "outputId": "4444312e-fbad-4686-f4b5-7295ce5f3d91"
      },
      "execution_count": 11,
      "outputs": [
        {
          "output_type": "execute_result",
          "data": {
            "text/plain": [
              "float"
            ]
          },
          "metadata": {},
          "execution_count": 11
        }
      ]
    },
    {
      "cell_type": "code",
      "source": [
        "score = float(input(\"Enter your score: \"))\n",
        "\n",
        "if score >= 90 and score <= 100:\n",
        "  grade = 'A'\n",
        "elif score >= 80 and score <= 89:\n",
        "  grade = 'B'\n",
        "elif score >= 70 and score <= 79:\n",
        "  grade = 'c'\n",
        "elif score >= 60 and score <= 69:\n",
        "  grade = 'D'\n",
        "elif score > 100:\n",
        "  grade = 'Out of grade'\n",
        "else:\n",
        "  grade = 'F'\n",
        "print(f'Your grade is: {grade}')"
      ],
      "metadata": {
        "colab": {
          "base_uri": "https://localhost:8080/"
        },
        "id": "MeTcMeVNOfvr",
        "outputId": "a91a4e16-646a-4dd4-f444-d96df057b4dc"
      },
      "execution_count": 12,
      "outputs": [
        {
          "output_type": "stream",
          "name": "stdout",
          "text": [
            "Enter your score: 444\n",
            "Your grade is: Out of grade\n"
          ]
        }
      ]
    },
    {
      "cell_type": "code",
      "source": [
        "# Nested Conditionals\n",
        "\n",
        "age = 7\n",
        "vaccinated = False\n",
        "\n",
        "if age > 8:\n",
        "  if not vaccinated:\n",
        "      print('you are eligible')\n",
        "  else:\n",
        "      print('you have been vaccinated')\n",
        "else:\n",
        "  print('you are not eligible')"
      ],
      "metadata": {
        "colab": {
          "base_uri": "https://localhost:8080/"
        },
        "id": "Lc3ER8QZQl89",
        "outputId": "101ac333-17b7-41f5-fe8e-88477842f2cf"
      },
      "execution_count": 13,
      "outputs": [
        {
          "output_type": "stream",
          "name": "stdout",
          "text": [
            "you are not eligible\n"
          ]
        }
      ]
    },
    {
      "cell_type": "code",
      "source": [
        "age = int(input('Enter your age: '))\n",
        "vaccinated = input('Enter vaccination status (Y/N): ')\n",
        "\n",
        "if age > 8:\n",
        "  if vaccinated == 'N':\n",
        "      print('you are eligible')\n",
        "  elif vaccinated == 'Y':\n",
        "      print('you have been vaccinated')\n",
        "else:\n",
        "  print('you are not eligible')"
      ],
      "metadata": {
        "colab": {
          "base_uri": "https://localhost:8080/"
        },
        "id": "mN6VihAERRDU",
        "outputId": "3ce9ed78-6970-4735-ea53-5d01107c3c3b"
      },
      "execution_count": 14,
      "outputs": [
        {
          "name": "stdout",
          "output_type": "stream",
          "text": [
            "Enter your age: 44\n",
            "Enter vaccination status (Y/N): 44\n"
          ]
        }
      ]
    },
    {
      "cell_type": "code",
      "source": [],
      "metadata": {
        "id": "DDc7g8v9UPGK"
      },
      "execution_count": 14,
      "outputs": []
    },
    {
      "cell_type": "markdown",
      "source": [
        "### LOOPS"
      ],
      "metadata": {
        "id": "vcxKSw10WSRH"
      }
    },
    {
      "cell_type": "code",
      "source": [
        "# for loop\n",
        "\n",
        "days = ['Monday', 'Tuesday', 'Wednesday', 'Thursday', 'Friday', 'Saturday', 'Sunday']\n",
        "\n",
        "for day in days:\n",
        "  print(day)"
      ],
      "metadata": {
        "colab": {
          "base_uri": "https://localhost:8080/"
        },
        "id": "4rAAYX97WeI7",
        "outputId": "fd23b809-85f2-4ec2-ecd2-e6b6ddffef6a"
      },
      "execution_count": 15,
      "outputs": [
        {
          "output_type": "stream",
          "name": "stdout",
          "text": [
            "Monday\n",
            "Tuesday\n",
            "Wednesday\n",
            "Thursday\n",
            "Friday\n",
            "Saturday\n",
            "Sunday\n"
          ]
        }
      ]
    },
    {
      "cell_type": "code",
      "source": [
        "# Conditionals with loops\n",
        "\n",
        "days = ['Monday', 'Tuesday', 'Wednesday', 'Thursday', 'Friday', 'Saturday', 'Sunday']\n",
        "\n",
        "for day in days:\n",
        "  if day == 'Wednesday' or  day == 'saturday':\n",
        "      print('Live Session Today!')\n",
        "  print(day)"
      ],
      "metadata": {
        "colab": {
          "base_uri": "https://localhost:8080/"
        },
        "id": "yY2G36AdY3B2",
        "outputId": "7385868c-cc4c-4bfb-de41-c9b559f33f3f"
      },
      "execution_count": 16,
      "outputs": [
        {
          "output_type": "stream",
          "name": "stdout",
          "text": [
            "Monday\n",
            "Tuesday\n",
            "Live Session Today!\n",
            "Wednesday\n",
            "Thursday\n",
            "Friday\n",
            "Saturday\n",
            "Sunday\n"
          ]
        }
      ]
    },
    {
      "cell_type": "code",
      "source": [
        "days = ['Monday', 'Tuesday', 'Wednesday', 'Thursday', 'Friday', 'Saturday', 'Sunday']\n",
        "\n",
        "event = ''\n",
        "for day in days:\n",
        "  if day == 'Wednesday' or  day == 'saturday':\n",
        "      else:\n",
        "        print(day)\n",
        "  print(day, event)"
      ],
      "metadata": {
        "colab": {
          "base_uri": "https://localhost:8080/",
          "height": 141
        },
        "id": "v4regQwRZ1O3",
        "outputId": "520da438-7ff6-43d9-eb03-dc386571a7e9"
      },
      "execution_count": 17,
      "outputs": [
        {
          "output_type": "error",
          "ename": "SyntaxError",
          "evalue": "ignored",
          "traceback": [
            "\u001b[0;36m  File \u001b[0;32m\"<ipython-input-17-e0a384367bad>\"\u001b[0;36m, line \u001b[0;32m6\u001b[0m\n\u001b[0;31m    else:\u001b[0m\n\u001b[0m    ^\u001b[0m\n\u001b[0;31mSyntaxError\u001b[0m\u001b[0;31m:\u001b[0m invalid syntax\n"
          ]
        }
      ]
    },
    {
      "cell_type": "code",
      "source": [
        "for day in days:\n",
        "  event = ''\n",
        "\n",
        "if day == 'Wednesday' or day == 'Saturday':\n",
        "  event = 'Live Class!'\n",
        "\n",
        "print(day, event)"
      ],
      "metadata": {
        "id": "Z27tPajJbvg4"
      },
      "execution_count": null,
      "outputs": []
    },
    {
      "cell_type": "code",
      "source": [
        "# Using a break keyword\n",
        "\n",
        "for day in days:\n",
        "  if day == 'Thursday':\n",
        "    break\n",
        "  print(day)\n"
      ],
      "metadata": {
        "id": "qspbo-dAczMC"
      },
      "execution_count": null,
      "outputs": []
    },
    {
      "cell_type": "code",
      "source": [
        "even = []\n",
        "for i in range(0, 13):\n",
        "  if i % 2 == 0:\n",
        "    even.append(i)\n",
        "print(even)"
      ],
      "metadata": {
        "id": "jeKZw1updjw4"
      },
      "execution_count": null,
      "outputs": []
    },
    {
      "cell_type": "code",
      "source": [
        "odd = []\n",
        "for i in range(0, 13):\n",
        "  if i % 2 == 1:\n",
        "    odd.append(i)\n",
        "print(odd)"
      ],
      "metadata": {
        "id": "EwgbYhp3d5re"
      },
      "execution_count": null,
      "outputs": []
    },
    {
      "cell_type": "code",
      "source": [
        "num = [1 ,2, 3, 4, 5, 6, 7]"
      ],
      "metadata": {
        "id": "WQ3wIZwBfBcP"
      },
      "execution_count": null,
      "outputs": []
    },
    {
      "cell_type": "code",
      "source": [
        "type(num)"
      ],
      "metadata": {
        "id": "Z86Xq5LBmfkv"
      },
      "execution_count": null,
      "outputs": []
    },
    {
      "cell_type": "code",
      "source": [
        "dir(num)"
      ],
      "metadata": {
        "id": "wMAP_jkRmh7o"
      },
      "execution_count": null,
      "outputs": []
    },
    {
      "cell_type": "code",
      "source": [
        "# If statements\n",
        "\n",
        "list = ['Sola', False, 993]"
      ],
      "metadata": {
        "id": "-vP9AOz4mk3Y"
      },
      "execution_count": null,
      "outputs": []
    },
    {
      "cell_type": "code",
      "source": [
        "for n in list:\n",
        "  if n == 993:\n",
        "    print(n-2)\n",
        "  elif n == True:\n",
        "    print(n)\n",
        "  else:\n",
        "    print(n)"
      ],
      "metadata": {
        "id": "txkgxYQIaewr"
      },
      "execution_count": null,
      "outputs": []
    },
    {
      "cell_type": "code",
      "source": [
        "year =int(input('input your year: '))\n",
        "\n",
        "if year >= 17:\n",
        "    print(\"You are allowed to vote\")\n",
        "else:\n",
        "    print(\"You are not allowed to vote\")"
      ],
      "metadata": {
        "id": "pHXNSRSmaw0X"
      },
      "execution_count": null,
      "outputs": []
    },
    {
      "cell_type": "code",
      "source": [
        "# Conditionals with loop\n",
        "\n",
        "job_openings = ['data scientist', 'software developer', 'blockchain developer', 'product designer']\n",
        "\n",
        "for job_opening in job_openings:\n",
        "  if job_opening == 'data scientist':\n",
        "    print('Sorry, We are not hiring for a data scientist role')\n",
        "  else:\n",
        "    print(f'We are not hiring a {job_opening}')\n",
        "print('\\nThank you for checking our job openings')"
      ],
      "metadata": {
        "id": "ADyoiwg0dZ6A"
      },
      "execution_count": null,
      "outputs": []
    },
    {
      "cell_type": "code",
      "source": [
        "job_openings = input('Enter the job role: ')\n",
        "\n",
        "if job_openings == 'data scientist':\n",
        "  print('Sorry, We are not hiring for a data scientist role')\n",
        "else:\n",
        "  print(f'We are not hiring a {job_openings}')\n",
        "print('\\nThank you for checking our job openings')"
      ],
      "metadata": {
        "id": "UIH7YqosjQGp"
      },
      "execution_count": null,
      "outputs": []
    },
    {
      "cell_type": "code",
      "source": [],
      "metadata": {
        "id": "BatADE1SkXUE"
      },
      "execution_count": null,
      "outputs": []
    },
    {
      "cell_type": "markdown",
      "source": [
        "# While loop"
      ],
      "metadata": {
        "id": "aeYxGEEn-NPr"
      }
    },
    {
      "cell_type": "code",
      "source": [
        "counter = 0\n",
        "while counter < 8:\n",
        "  print(counter)\n",
        "  counter += 1"
      ],
      "metadata": {
        "id": "jh8zVS8o-Mxi",
        "outputId": "eb4ceca0-0345-464a-9f47-a1e72c962de8",
        "colab": {
          "base_uri": "https://localhost:8080/"
        }
      },
      "execution_count": 22,
      "outputs": [
        {
          "output_type": "stream",
          "name": "stdout",
          "text": [
            "0\n",
            "1\n",
            "2\n",
            "3\n",
            "4\n",
            "5\n",
            "6\n",
            "7\n"
          ]
        }
      ]
    },
    {
      "cell_type": "code",
      "source": [
        "counter"
      ],
      "metadata": {
        "id": "O6sIbQRx-xr-",
        "outputId": "5508c580-8836-495a-f856-b479a390853a",
        "colab": {
          "base_uri": "https://localhost:8080/"
        }
      },
      "execution_count": 23,
      "outputs": [
        {
          "output_type": "execute_result",
          "data": {
            "text/plain": [
              "8"
            ]
          },
          "metadata": {},
          "execution_count": 23
        }
      ]
    },
    {
      "cell_type": "code",
      "source": [
        "counter = 0\n",
        "while counter < 8:\n",
        "  print(counter)\n",
        "  if counter == 3:\n",
        "    break\n",
        "  counter += 1"
      ],
      "metadata": {
        "id": "ApjEAQSa_aB5",
        "outputId": "457d674b-ca4e-452d-e86b-db5b3a5e5a08",
        "colab": {
          "base_uri": "https://localhost:8080/"
        }
      },
      "execution_count": 24,
      "outputs": [
        {
          "output_type": "stream",
          "name": "stdout",
          "text": [
            "0\n",
            "1\n",
            "2\n",
            "3\n"
          ]
        }
      ]
    },
    {
      "cell_type": "code",
      "source": [
        "counter = int(input('Enter number: '))\n",
        "while counter < 8:\n",
        "  print(counter)\n",
        "  if counter == 3:\n",
        "    break\n",
        "  counter += 1"
      ],
      "metadata": {
        "id": "yWKMKgnx_pDB",
        "outputId": "04eeb069-955a-466c-97b5-0d12c0c42542",
        "colab": {
          "base_uri": "https://localhost:8080/"
        }
      },
      "execution_count": 27,
      "outputs": [
        {
          "output_type": "stream",
          "name": "stdout",
          "text": [
            "Enter number: 1\n",
            "1\n",
            "2\n",
            "3\n"
          ]
        }
      ]
    },
    {
      "cell_type": "code",
      "source": [
        "counter = 0\n",
        "while counter < 8:\n",
        "  print('Hi Ridwan')\n",
        "  if counter == 3:\n",
        "    break\n",
        "  counter += 1"
      ],
      "metadata": {
        "id": "Z5kpShSQ_ynf",
        "outputId": "f9988568-a33a-474c-9f00-9df31a68d898",
        "colab": {
          "base_uri": "https://localhost:8080/"
        }
      },
      "execution_count": 28,
      "outputs": [
        {
          "output_type": "stream",
          "name": "stdout",
          "text": [
            "Hi Ridwan\n",
            "Hi Ridwan\n",
            "Hi Ridwan\n",
            "Hi Ridwan\n"
          ]
        }
      ]
    },
    {
      "cell_type": "code",
      "source": [
        "counter = 0\n",
        "while counter < 8:\n",
        "  print('Hi Ridwan')\n",
        "  if counter == 3:\n",
        "    break\n",
        "  counter += 1"
      ],
      "metadata": {
        "id": "mNNKDGHLC1zF"
      },
      "execution_count": null,
      "outputs": []
    }
  ]
}