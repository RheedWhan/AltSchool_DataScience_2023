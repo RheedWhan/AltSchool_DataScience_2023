{
  "nbformat": 4,
  "nbformat_minor": 0,
  "metadata": {
    "colab": {
      "provenance": [],
      "authorship_tag": "ABX9TyOMShKmR+MIihmgXR4ihTtp",
      "include_colab_link": true
    },
    "kernelspec": {
      "name": "python3",
      "display_name": "Python 3"
    },
    "language_info": {
      "name": "python"
    }
  },
  "cells": [
    {
      "cell_type": "markdown",
      "metadata": {
        "id": "view-in-github",
        "colab_type": "text"
      },
      "source": [
        "<a href=\"https://colab.research.google.com/github/RheedWhan/AltSchool_DataScience_2023/blob/main/Conditionals_and_loops.ipynb\" target=\"_parent\"><img src=\"https://colab.research.google.com/assets/colab-badge.svg\" alt=\"Open In Colab\"/></a>"
      ]
    },
    {
      "cell_type": "code",
      "execution_count": 2,
      "metadata": {
        "colab": {
          "base_uri": "https://localhost:8080/"
        },
        "id": "ItQkaYgcKT8Q",
        "outputId": "35777341-cb14-43c5-a3dd-5c4ce2055327"
      },
      "outputs": [
        {
          "output_type": "stream",
          "name": "stdout",
          "text": [
            "Right\n"
          ]
        }
      ],
      "source": [
        "if 10 > 6:\n",
        "  print(\"Right\")"
      ]
    },
    {
      "cell_type": "code",
      "source": [
        "if 9 < 6:\n",
        "  print(\"Right\")\n",
        "else:\n",
        "  print(\"Wrong\")"
      ],
      "metadata": {
        "colab": {
          "base_uri": "https://localhost:8080/"
        },
        "id": "9x82rKqGLMz6",
        "outputId": "8e1114b5-fadb-4d20-85d3-1be9e69eb210"
      },
      "execution_count": 3,
      "outputs": [
        {
          "output_type": "stream",
          "name": "stdout",
          "text": [
            "Wrong\n"
          ]
        }
      ]
    },
    {
      "cell_type": "code",
      "source": [
        "# Input function\n",
        "\n",
        "score = input()"
      ],
      "metadata": {
        "colab": {
          "base_uri": "https://localhost:8080/"
        },
        "id": "JtF8r9mmLoXj",
        "outputId": "caae02e1-ec1a-482f-f18d-c8c48fb6cecd"
      },
      "execution_count": 4,
      "outputs": [
        {
          "name": "stdout",
          "output_type": "stream",
          "text": [
            "45\n"
          ]
        }
      ]
    },
    {
      "cell_type": "code",
      "source": [
        "score"
      ],
      "metadata": {
        "colab": {
          "base_uri": "https://localhost:8080/",
          "height": 36
        },
        "id": "_8aCQhG1MUqr",
        "outputId": "b72490c5-903e-46c2-822b-1898e4c8e4f2"
      },
      "execution_count": 5,
      "outputs": [
        {
          "output_type": "execute_result",
          "data": {
            "text/plain": [
              "'45'"
            ],
            "application/vnd.google.colaboratory.intrinsic+json": {
              "type": "string"
            }
          },
          "metadata": {},
          "execution_count": 5
        }
      ]
    },
    {
      "cell_type": "code",
      "source": [
        "score = float(input(\"Enter your score: \"))"
      ],
      "metadata": {
        "colab": {
          "base_uri": "https://localhost:8080/"
        },
        "id": "pPKVeICNMZep",
        "outputId": "8982fc3a-16ef-4618-8ca1-83c742c58c5f"
      },
      "execution_count": 6,
      "outputs": [
        {
          "name": "stdout",
          "output_type": "stream",
          "text": [
            "Enter your score: 75\n"
          ]
        }
      ]
    },
    {
      "cell_type": "code",
      "source": [
        "score"
      ],
      "metadata": {
        "colab": {
          "base_uri": "https://localhost:8080/"
        },
        "id": "WSiglQ6jM1zx",
        "outputId": "c131c813-3364-47ce-a2c9-1262bcf29615"
      },
      "execution_count": 7,
      "outputs": [
        {
          "output_type": "execute_result",
          "data": {
            "text/plain": [
              "75.0"
            ]
          },
          "metadata": {},
          "execution_count": 7
        }
      ]
    },
    {
      "cell_type": "code",
      "source": [
        "score = input(\"Enter your score: \")"
      ],
      "metadata": {
        "colab": {
          "base_uri": "https://localhost:8080/"
        },
        "id": "oiGQTY3nM5b6",
        "outputId": "d9de0561-801f-44b5-8fbc-189873e50a04"
      },
      "execution_count": 8,
      "outputs": [
        {
          "name": "stdout",
          "output_type": "stream",
          "text": [
            "Enter your score: 95\n"
          ]
        }
      ]
    },
    {
      "cell_type": "code",
      "source": [
        "score"
      ],
      "metadata": {
        "colab": {
          "base_uri": "https://localhost:8080/",
          "height": 36
        },
        "id": "x_MdZj3GM_DV",
        "outputId": "0f31d6ee-fe03-4b1f-bc54-3f54887c85f5"
      },
      "execution_count": 9,
      "outputs": [
        {
          "output_type": "execute_result",
          "data": {
            "text/plain": [
              "'95'"
            ],
            "application/vnd.google.colaboratory.intrinsic+json": {
              "type": "string"
            }
          },
          "metadata": {},
          "execution_count": 9
        }
      ]
    },
    {
      "cell_type": "code",
      "source": [
        "score = float(input(\"Enter your score: \"))"
      ],
      "metadata": {
        "colab": {
          "base_uri": "https://localhost:8080/"
        },
        "id": "HoP7UfO3NBv5",
        "outputId": "4acfac36-556c-4abd-a300-718ba37f35f1"
      },
      "execution_count": 15,
      "outputs": [
        {
          "name": "stdout",
          "output_type": "stream",
          "text": [
            "Enter your score: 90\n"
          ]
        }
      ]
    },
    {
      "cell_type": "code",
      "source": [
        "score"
      ],
      "metadata": {
        "colab": {
          "base_uri": "https://localhost:8080/"
        },
        "id": "c34cosVUNJr9",
        "outputId": "c6748de1-624e-4060-b4c6-ef9a55da517c"
      },
      "execution_count": 16,
      "outputs": [
        {
          "output_type": "execute_result",
          "data": {
            "text/plain": [
              "90.0"
            ]
          },
          "metadata": {},
          "execution_count": 16
        }
      ]
    },
    {
      "cell_type": "code",
      "source": [
        "type(score)"
      ],
      "metadata": {
        "colab": {
          "base_uri": "https://localhost:8080/"
        },
        "id": "9dGjL1TwNMcA",
        "outputId": "40dd9ca3-9abb-4cab-bee2-c072aada467a"
      },
      "execution_count": 17,
      "outputs": [
        {
          "output_type": "execute_result",
          "data": {
            "text/plain": [
              "float"
            ]
          },
          "metadata": {},
          "execution_count": 17
        }
      ]
    },
    {
      "cell_type": "code",
      "source": [
        "score = float(input(\"Enter your score: \"))\n",
        "\n",
        "if score >= 90 and score <= 100:\n",
        "  grade = 'A'\n",
        "elif score >= 80 and score <= 89:\n",
        "  grade = 'B'\n",
        "elif score >= 70 and score <= 79:\n",
        "  grade = 'c'\n",
        "elif score >= 60 and score <= 69:\n",
        "  grade = 'D'\n",
        "elif score > 100:\n",
        "  grade = 'Out of grade'\n",
        "else:\n",
        "  grade = 'F'\n",
        "print(f'Your grade is: {grade}')"
      ],
      "metadata": {
        "colab": {
          "base_uri": "https://localhost:8080/"
        },
        "id": "MeTcMeVNOfvr",
        "outputId": "0ad7f671-3544-4d03-d689-18e65c2f32c9"
      },
      "execution_count": 21,
      "outputs": [
        {
          "output_type": "stream",
          "name": "stdout",
          "text": [
            "Enter your score: 124\n",
            "Your grade is: Out of grade\n"
          ]
        }
      ]
    },
    {
      "cell_type": "code",
      "source": [
        "# Nested Conditionals\n",
        "\n",
        "age = 7\n",
        "vaccinated = False\n",
        "\n",
        "if age > 8:\n",
        "  if not vaccinated:\n",
        "      print('you are eligible')\n",
        "  else:\n",
        "      print('you have been vaccinated')\n",
        "else:\n",
        "  print('you are not eligible')"
      ],
      "metadata": {
        "colab": {
          "base_uri": "https://localhost:8080/"
        },
        "id": "Lc3ER8QZQl89",
        "outputId": "41545d6d-8457-4834-dd8b-ba993681c99f"
      },
      "execution_count": 31,
      "outputs": [
        {
          "output_type": "stream",
          "name": "stdout",
          "text": [
            "you are not eligible\n"
          ]
        }
      ]
    },
    {
      "cell_type": "code",
      "source": [
        "age = int(input('Enter your age: '))\n",
        "vaccinated = input('Enter vaccination status (Y/N): ')\n",
        "\n",
        "if age > 8:\n",
        "  if vaccinated == 'N':\n",
        "      print('you are eligible')\n",
        "  elif vaccinated == 'Y':\n",
        "      print('you have been vaccinated')\n",
        "else:\n",
        "  print('you are not eligible')"
      ],
      "metadata": {
        "colab": {
          "base_uri": "https://localhost:8080/"
        },
        "id": "mN6VihAERRDU",
        "outputId": "e850536f-4233-409e-e658-e51219a5ecab"
      },
      "execution_count": 35,
      "outputs": [
        {
          "output_type": "stream",
          "name": "stdout",
          "text": [
            "Enter your age: 19\n",
            "Enter vaccination status (Y/N): N\n",
            "you are eligible\n"
          ]
        }
      ]
    },
    {
      "cell_type": "code",
      "source": [],
      "metadata": {
        "id": "DDc7g8v9UPGK"
      },
      "execution_count": null,
      "outputs": []
    }
  ]
}