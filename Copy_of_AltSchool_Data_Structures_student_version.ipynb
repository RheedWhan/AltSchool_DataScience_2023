{
  "cells": [
    {
      "cell_type": "markdown",
      "metadata": {
        "id": "view-in-github",
        "colab_type": "text"
      },
      "source": [
        "<a href=\"https://colab.research.google.com/github/RheedWhan/AltSchool_DataScience_2023/blob/main/Copy_of_AltSchool_Data_Structures_student_version.ipynb\" target=\"_parent\"><img src=\"https://colab.research.google.com/assets/colab-badge.svg\" alt=\"Open In Colab\"/></a>"
      ]
    },
    {
      "cell_type": "markdown",
      "id": "bdc39fb2",
      "metadata": {
        "id": "bdc39fb2"
      },
      "source": [
        "### Learning Objectives\n",
        "\n",
        "By the end of this class, you should be able to:\n",
        "\n",
        "1. Understand common Python data structures.\n",
        "2. Apply CRUD operations to data structures.\n",
        "3. Recognize use cases for data structures in data science."
      ]
    },
    {
      "cell_type": "markdown",
      "id": "d23f580c",
      "metadata": {
        "id": "d23f580c"
      },
      "source": [
        "CRUD\n",
        "\n",
        "Create\n",
        "Read\n",
        "Update\n",
        "Delete"
      ]
    },
    {
      "cell_type": "markdown",
      "id": "b4037726",
      "metadata": {
        "id": "b4037726"
      },
      "source": [
        "## 1. Lists <a id=\"lists\"></a>"
      ]
    },
    {
      "cell_type": "markdown",
      "id": "abb31eb5",
      "metadata": {
        "id": "abb31eb5"
      },
      "source": [
        "In Python, lists are versatile and commonly used to store collections of items. You can create lists using square brackets `[]`. you can also use the list function: list()\n",
        "\n",
        "lists are mutable, ordered, typically homogenous."
      ]
    },
    {
      "cell_type": "markdown",
      "id": "7a1b3ec6",
      "metadata": {
        "id": "7a1b3ec6"
      },
      "source": [
        "### Creating a Python List <a id=\"lists-create\"></a>"
      ]
    },
    {
      "cell_type": "code",
      "execution_count": 1,
      "id": "ff4d7271",
      "metadata": {
        "id": "ff4d7271"
      },
      "outputs": [],
      "source": [
        "# creating a list using square brackets\n",
        "shopping_list = ['Groceries', 'Cocacola', 'Milo', 'Bama', 'Floating Berries']"
      ]
    },
    {
      "cell_type": "code",
      "execution_count": 2,
      "id": "eaa11cea",
      "metadata": {
        "id": "eaa11cea",
        "outputId": "5e20afba-07c3-4792-fab3-3053c0c2afaf",
        "colab": {
          "base_uri": "https://localhost:8080/"
        }
      },
      "outputs": [
        {
          "output_type": "execute_result",
          "data": {
            "text/plain": [
              "['Groceries', 'Cocacola', 'Milo', 'Bama', 'Floating Berries']"
            ]
          },
          "metadata": {},
          "execution_count": 2
        }
      ],
      "source": [
        "shopping_list"
      ]
    },
    {
      "cell_type": "code",
      "execution_count": 3,
      "id": "3d7aa758",
      "metadata": {
        "id": "3d7aa758"
      },
      "outputs": [],
      "source": [
        "# create a list using the list function\n",
        "shopping_list2 = list(('Perfume', 'Soap', 'Tissue paper', 'Body cream'))"
      ]
    },
    {
      "cell_type": "code",
      "execution_count": 4,
      "id": "a1ffbf00",
      "metadata": {
        "id": "a1ffbf00",
        "outputId": "56ba9708-b314-4e51-b3d9-f71a0e09dfe6",
        "colab": {
          "base_uri": "https://localhost:8080/"
        }
      },
      "outputs": [
        {
          "output_type": "execute_result",
          "data": {
            "text/plain": [
              "['Perfume', 'Soap', 'Tissue paper', 'Body cream']"
            ]
          },
          "metadata": {},
          "execution_count": 4
        }
      ],
      "source": [
        "shopping_list2"
      ]
    },
    {
      "cell_type": "code",
      "execution_count": 5,
      "id": "4d9c2f5a",
      "metadata": {
        "id": "4d9c2f5a",
        "outputId": "d5fa1224-80cf-45c0-93ff-a2b40c438e32",
        "colab": {
          "base_uri": "https://localhost:8080/"
        }
      },
      "outputs": [
        {
          "output_type": "execute_result",
          "data": {
            "text/plain": [
              "list"
            ]
          },
          "metadata": {},
          "execution_count": 5
        }
      ],
      "source": [
        "type(shopping_list2)"
      ]
    },
    {
      "cell_type": "code",
      "execution_count": 6,
      "id": "5ea31ad8",
      "metadata": {
        "id": "5ea31ad8"
      },
      "outputs": [],
      "source": [
        "# create a list using the list function\n",
        "shopping_list3 = list(['Perfume', 'Soap', 'Tissue paper', 'Body cream'])"
      ]
    },
    {
      "cell_type": "code",
      "execution_count": 7,
      "id": "3a88f5d2",
      "metadata": {
        "id": "3a88f5d2",
        "outputId": "c007faf5-df68-4fbd-e416-7394a5b12a41",
        "colab": {
          "base_uri": "https://localhost:8080/"
        }
      },
      "outputs": [
        {
          "output_type": "execute_result",
          "data": {
            "text/plain": [
              "['Perfume', 'Soap', 'Tissue paper', 'Body cream']"
            ]
          },
          "metadata": {},
          "execution_count": 7
        }
      ],
      "source": [
        "shopping_list3"
      ]
    },
    {
      "cell_type": "code",
      "execution_count": 8,
      "id": "6d359cfc",
      "metadata": {
        "id": "6d359cfc"
      },
      "outputs": [],
      "source": [
        "shopping_list4 = []"
      ]
    },
    {
      "cell_type": "markdown",
      "id": "d7f60d72",
      "metadata": {
        "id": "d7f60d72"
      },
      "source": [
        "### Reading a List <a id=\"lists-read\"></a>"
      ]
    },
    {
      "cell_type": "code",
      "execution_count": 9,
      "id": "2c5bf349",
      "metadata": {
        "scrolled": true,
        "id": "2c5bf349",
        "outputId": "47594440-65d1-4f69-8b3e-9c238ecaa1a0",
        "colab": {
          "base_uri": "https://localhost:8080/"
        }
      },
      "outputs": [
        {
          "output_type": "stream",
          "name": "stdout",
          "text": [
            "Perfume\n"
          ]
        }
      ],
      "source": [
        "print(shopping_list3[0])"
      ]
    },
    {
      "cell_type": "code",
      "execution_count": 10,
      "id": "bfba76b0",
      "metadata": {
        "id": "bfba76b0",
        "outputId": "23b2bb4e-f474-4225-9bc6-21bc54896f7c",
        "colab": {
          "base_uri": "https://localhost:8080/"
        }
      },
      "outputs": [
        {
          "output_type": "stream",
          "name": "stdout",
          "text": [
            "['Perfume', 'Soap']\n"
          ]
        }
      ],
      "source": [
        "# slicing a list: first two items\n",
        "\n",
        "print(shopping_list3[0:2])"
      ]
    },
    {
      "cell_type": "code",
      "execution_count": 11,
      "id": "59d78d59",
      "metadata": {
        "id": "59d78d59"
      },
      "outputs": [],
      "source": [
        "numbers = [0, 1, 2, 3, 4, 5, 6, 7, 8, 9]"
      ]
    },
    {
      "cell_type": "code",
      "execution_count": 12,
      "id": "985e266e",
      "metadata": {
        "id": "985e266e",
        "outputId": "de4e5580-8fb8-434b-9290-389bcb877920",
        "colab": {
          "base_uri": "https://localhost:8080/"
        }
      },
      "outputs": [
        {
          "output_type": "execute_result",
          "data": {
            "text/plain": [
              "[0, 2, 4, 6, 8]"
            ]
          },
          "metadata": {},
          "execution_count": 12
        }
      ],
      "source": [
        "numbers[::2]"
      ]
    },
    {
      "cell_type": "code",
      "execution_count": 13,
      "id": "be70e80c",
      "metadata": {
        "id": "be70e80c",
        "outputId": "7233720d-0a7b-4b61-85e8-c1b3f00db04c",
        "colab": {
          "base_uri": "https://localhost:8080/"
        }
      },
      "outputs": [
        {
          "output_type": "execute_result",
          "data": {
            "text/plain": [
              "9"
            ]
          },
          "metadata": {},
          "execution_count": 13
        }
      ],
      "source": [
        "numbers[-1]"
      ]
    },
    {
      "cell_type": "markdown",
      "id": "5287005c",
      "metadata": {
        "id": "5287005c"
      },
      "source": [
        "### Updating a List <a id=\"lists-update\"></a>"
      ]
    },
    {
      "cell_type": "code",
      "execution_count": 14,
      "id": "2fe412e8",
      "metadata": {
        "collapsed": true,
        "id": "2fe412e8",
        "outputId": "42dc8543-71b0-4c47-feb1-b01e343e685d",
        "colab": {
          "base_uri": "https://localhost:8080/"
        }
      },
      "outputs": [
        {
          "output_type": "execute_result",
          "data": {
            "text/plain": [
              "['__add__',\n",
              " '__class__',\n",
              " '__class_getitem__',\n",
              " '__contains__',\n",
              " '__delattr__',\n",
              " '__delitem__',\n",
              " '__dir__',\n",
              " '__doc__',\n",
              " '__eq__',\n",
              " '__format__',\n",
              " '__ge__',\n",
              " '__getattribute__',\n",
              " '__getitem__',\n",
              " '__gt__',\n",
              " '__hash__',\n",
              " '__iadd__',\n",
              " '__imul__',\n",
              " '__init__',\n",
              " '__init_subclass__',\n",
              " '__iter__',\n",
              " '__le__',\n",
              " '__len__',\n",
              " '__lt__',\n",
              " '__mul__',\n",
              " '__ne__',\n",
              " '__new__',\n",
              " '__reduce__',\n",
              " '__reduce_ex__',\n",
              " '__repr__',\n",
              " '__reversed__',\n",
              " '__rmul__',\n",
              " '__setattr__',\n",
              " '__setitem__',\n",
              " '__sizeof__',\n",
              " '__str__',\n",
              " '__subclasshook__',\n",
              " 'append',\n",
              " 'clear',\n",
              " 'copy',\n",
              " 'count',\n",
              " 'extend',\n",
              " 'index',\n",
              " 'insert',\n",
              " 'pop',\n",
              " 'remove',\n",
              " 'reverse',\n",
              " 'sort']"
            ]
          },
          "metadata": {},
          "execution_count": 14
        }
      ],
      "source": [
        "dir(shopping_list4)"
      ]
    },
    {
      "cell_type": "code",
      "execution_count": 15,
      "id": "40361f6c",
      "metadata": {
        "id": "40361f6c"
      },
      "outputs": [],
      "source": [
        "shopping_list4.append('Soap')"
      ]
    },
    {
      "cell_type": "code",
      "execution_count": 16,
      "id": "685132ba",
      "metadata": {
        "id": "685132ba"
      },
      "outputs": [],
      "source": [
        "shopping_list4.append('Perfume')"
      ]
    },
    {
      "cell_type": "code",
      "execution_count": 17,
      "id": "96f16a11",
      "metadata": {
        "id": "96f16a11",
        "outputId": "f07db47e-215a-46a5-e79c-c6d11a07d50b",
        "colab": {
          "base_uri": "https://localhost:8080/"
        }
      },
      "outputs": [
        {
          "output_type": "stream",
          "name": "stdout",
          "text": [
            "['Soap', 'Perfume']\n"
          ]
        }
      ],
      "source": [
        "print(shopping_list4)"
      ]
    },
    {
      "cell_type": "code",
      "execution_count": 18,
      "id": "12360753",
      "metadata": {
        "id": "12360753"
      },
      "outputs": [],
      "source": [
        "shopping_list4.insert(0, 'Tissue Paper')"
      ]
    },
    {
      "cell_type": "code",
      "execution_count": 19,
      "id": "9b2efd10",
      "metadata": {
        "id": "9b2efd10",
        "outputId": "618bb7c8-ad7e-4f36-9289-877e8e5d71ec",
        "colab": {
          "base_uri": "https://localhost:8080/"
        }
      },
      "outputs": [
        {
          "output_type": "stream",
          "name": "stdout",
          "text": [
            "['Tissue Paper', 'Soap', 'Perfume']\n"
          ]
        }
      ],
      "source": [
        "print(shopping_list4)"
      ]
    },
    {
      "cell_type": "code",
      "execution_count": 20,
      "id": "0655b240",
      "metadata": {
        "id": "0655b240"
      },
      "outputs": [],
      "source": [
        "shopping_list4.extend(['Groceries', 'Cocacola', 'Milo', 'Bama', 'Floating Berries'])"
      ]
    },
    {
      "cell_type": "code",
      "execution_count": 21,
      "id": "fbf59323",
      "metadata": {
        "id": "fbf59323",
        "outputId": "87f0a6b7-f72f-4877-ec77-6c5dc307ed32",
        "colab": {
          "base_uri": "https://localhost:8080/"
        }
      },
      "outputs": [
        {
          "output_type": "stream",
          "name": "stdout",
          "text": [
            "['Tissue Paper', 'Soap', 'Perfume', 'Groceries', 'Cocacola', 'Milo', 'Bama', 'Floating Berries']\n"
          ]
        }
      ],
      "source": [
        "print(shopping_list4)"
      ]
    },
    {
      "cell_type": "code",
      "execution_count": 22,
      "id": "d43e680d",
      "metadata": {
        "id": "d43e680d"
      },
      "outputs": [],
      "source": [
        "# removing items from a list: remove, pop"
      ]
    },
    {
      "cell_type": "code",
      "execution_count": 23,
      "id": "73cb46d2",
      "metadata": {
        "id": "73cb46d2",
        "outputId": "753fbccd-2e58-4d3c-f834-1f9568925c29",
        "colab": {
          "base_uri": "https://localhost:8080/",
          "height": 36
        }
      },
      "outputs": [
        {
          "output_type": "execute_result",
          "data": {
            "text/plain": [
              "'Floating Berries'"
            ],
            "application/vnd.google.colaboratory.intrinsic+json": {
              "type": "string"
            }
          },
          "metadata": {},
          "execution_count": 23
        }
      ],
      "source": [
        "shopping_list4.pop()"
      ]
    },
    {
      "cell_type": "code",
      "execution_count": 24,
      "id": "6746e06b",
      "metadata": {
        "id": "6746e06b",
        "outputId": "a4657c4a-67a8-4ea7-a267-22ef1f04f04e",
        "colab": {
          "base_uri": "https://localhost:8080/"
        }
      },
      "outputs": [
        {
          "output_type": "stream",
          "name": "stdout",
          "text": [
            "['Tissue Paper', 'Soap', 'Perfume', 'Groceries', 'Cocacola', 'Milo', 'Bama']\n"
          ]
        }
      ],
      "source": [
        "print(shopping_list4)"
      ]
    },
    {
      "cell_type": "code",
      "execution_count": 25,
      "id": "023c200b",
      "metadata": {
        "id": "023c200b"
      },
      "outputs": [],
      "source": [
        "shopping_list4.remove('Soap')"
      ]
    },
    {
      "cell_type": "code",
      "execution_count": 26,
      "id": "5530b2db",
      "metadata": {
        "id": "5530b2db",
        "outputId": "46db2d60-a5a0-4861-fa82-fe2b9a4307c0",
        "colab": {
          "base_uri": "https://localhost:8080/"
        }
      },
      "outputs": [
        {
          "output_type": "stream",
          "name": "stdout",
          "text": [
            "['Tissue Paper', 'Perfume', 'Groceries', 'Cocacola', 'Milo', 'Bama']\n"
          ]
        }
      ],
      "source": [
        "print(shopping_list4)"
      ]
    },
    {
      "cell_type": "code",
      "execution_count": 27,
      "id": "87638e41",
      "metadata": {
        "id": "87638e41",
        "outputId": "16670196-4eb7-41be-81b6-a37614fe7f71",
        "colab": {
          "base_uri": "https://localhost:8080/"
        }
      },
      "outputs": [
        {
          "output_type": "stream",
          "name": "stdout",
          "text": [
            "Object `shopping_list.update` not found.\n"
          ]
        }
      ],
      "source": [
        "shopping_list.update??"
      ]
    },
    {
      "cell_type": "markdown",
      "id": "1a723366",
      "metadata": {
        "id": "1a723366"
      },
      "source": [
        "### Delete"
      ]
    },
    {
      "cell_type": "code",
      "execution_count": 28,
      "id": "27d76b64",
      "metadata": {
        "id": "27d76b64"
      },
      "outputs": [],
      "source": [
        "shopping_list4.clear()"
      ]
    },
    {
      "cell_type": "code",
      "execution_count": 29,
      "id": "6385e6c1",
      "metadata": {
        "id": "6385e6c1",
        "outputId": "683138db-01a0-4961-87c1-fe101d988249",
        "colab": {
          "base_uri": "https://localhost:8080/"
        }
      },
      "outputs": [
        {
          "output_type": "stream",
          "name": "stdout",
          "text": [
            "[]\n"
          ]
        }
      ],
      "source": [
        "print(shopping_list4)"
      ]
    },
    {
      "cell_type": "markdown",
      "id": "2e6bbc8a",
      "metadata": {
        "id": "2e6bbc8a"
      },
      "source": [
        "### List: Use Cases in Data Science <a id=\"lists-use-cases\"></a>"
      ]
    },
    {
      "cell_type": "markdown",
      "id": "74350f0e",
      "metadata": {
        "id": "74350f0e"
      },
      "source": [
        "### Use Case: Storing and Manipulating Datasets\n",
        "\n",
        "#### Background\n",
        "\n",
        "In data science, we often work with datasets that contain various types of information, such as numerical values, text data, or categorical variables. Python lists provide a convenient way to store and manipulate these datasets.\n",
        "\n",
        "#### Scenario\n",
        "\n",
        "Suppose we have collected data on the monthly sales revenue (in thousands of dollars) for a small retail store over the past year. The dataset includes sales data for each month. We want to use a Python list to store and analyze this dataset.\n",
        "\n",
        "#### Implementation\n",
        "\n",
        "Let's create a Python list called `monthly_sales` to store our dataset. Each element in the list represents the monthly sales revenue for one month, starting from January (index 0) to December (index 11).\n",
        "\n",
        "```python\n",
        "# Creating a list to store monthly sales data\n",
        "monthly_sales = [120, 135, 150, 145, 155, 160, 170, 180, 190, 200, 210, 220]\n"
      ]
    },
    {
      "cell_type": "code",
      "execution_count": 30,
      "id": "7159d058",
      "metadata": {
        "id": "7159d058"
      },
      "outputs": [],
      "source": [
        "monthly_sales = [120, 135, 150, 145, 155, 160, 170, 180, 190, 200, 210, 220]"
      ]
    },
    {
      "cell_type": "code",
      "execution_count": 31,
      "id": "ee788a1a",
      "metadata": {
        "id": "ee788a1a"
      },
      "outputs": [],
      "source": [
        "total_yearly_revenue = sum(monthly_sales)"
      ]
    },
    {
      "cell_type": "code",
      "execution_count": 32,
      "id": "a7cd1273",
      "metadata": {
        "id": "a7cd1273",
        "outputId": "420f7020-0e3e-49c1-b73c-6f350cbc9e04",
        "colab": {
          "base_uri": "https://localhost:8080/"
        }
      },
      "outputs": [
        {
          "output_type": "stream",
          "name": "stdout",
          "text": [
            "2035\n"
          ]
        }
      ],
      "source": [
        "print(total_yearly_revenue)"
      ]
    },
    {
      "cell_type": "code",
      "execution_count": 33,
      "id": "d01fe4e7",
      "metadata": {
        "id": "d01fe4e7"
      },
      "outputs": [],
      "source": [
        "# avg = total/no. of total\n",
        "\n",
        "average_revenue = total_yearly_revenue / len(monthly_sales)"
      ]
    },
    {
      "cell_type": "code",
      "execution_count": 34,
      "id": "a36b8137",
      "metadata": {
        "id": "a36b8137",
        "outputId": "1e05ada2-de90-4848-9dfd-25324f7c4042",
        "colab": {
          "base_uri": "https://localhost:8080/"
        }
      },
      "outputs": [
        {
          "output_type": "stream",
          "name": "stdout",
          "text": [
            "169.6\n"
          ]
        }
      ],
      "source": [
        "print(round(average_revenue, 1))"
      ]
    },
    {
      "cell_type": "markdown",
      "id": "9b7315b2",
      "metadata": {
        "id": "9b7315b2"
      },
      "source": [
        "### Assignment"
      ]
    },
    {
      "cell_type": "markdown",
      "id": "8b6f8812",
      "metadata": {
        "id": "8b6f8812"
      },
      "source": [
        "1. From the list (monthly_sales) above,\n",
        "- create four seperate lists frm the list for each quarter namely: q1, q2, q3, q4.\n",
        "- report what quarter had the highest amount in total revenue,\n",
        "- report the lowest."
      ]
    },
    {
      "cell_type": "code",
      "execution_count": 35,
      "id": "51bb2e19",
      "metadata": {
        "id": "51bb2e19"
      },
      "outputs": [],
      "source": [
        "# Your code here"
      ]
    },
    {
      "cell_type": "markdown",
      "id": "6c0c31ee",
      "metadata": {
        "id": "6c0c31ee"
      },
      "source": [
        "2. Store the names of a few of your friends in a list called names.\n",
        "- Print each person’s name by accessing each element in the list, one at a time.\n",
        "- Start with the list you created, but instead of just printing each person’s name, print a message to them. The text of each message should be the same, but each message should be personalized with the person’s name. hint(use may use f-strings)"
      ]
    },
    {
      "cell_type": "code",
      "execution_count": 36,
      "id": "5f87247d",
      "metadata": {
        "id": "5f87247d"
      },
      "outputs": [],
      "source": [
        "# Your code here"
      ]
    },
    {
      "cell_type": "markdown",
      "id": "ae61bb7e",
      "metadata": {
        "id": "ae61bb7e"
      },
      "source": [
        "3. You are managing a list of students' names in your class.\n",
        "* Create a list called student_names containing the following student names as strings: 'Alice', 'Bob', 'Charlie', 'David', 'Eve'.\n",
        "- Use the student_names list from the list above for the following operations:\n",
        "  - a. Print the number of students in the class (the length of the list).\n",
        "  - b. Print the first and last student names in the list.\n",
        "  - c. Charlie has left the class. Remove his name from the list.\n",
        "  - d. A new student, \"Frank,\" has joined the class. Add his name to the list.\n",
        "  - e. The class has been dissolved, and you need to remove all student names from the list."
      ]
    },
    {
      "cell_type": "code",
      "execution_count": 37,
      "id": "120d240f",
      "metadata": {
        "id": "120d240f"
      },
      "outputs": [],
      "source": [
        "# Your code here"
      ]
    },
    {
      "cell_type": "code",
      "source": [],
      "metadata": {
        "id": "yikuLJmYjS6X"
      },
      "id": "yikuLJmYjS6X",
      "execution_count": 37,
      "outputs": []
    },
    {
      "cell_type": "markdown",
      "metadata": {
        "id": "bb679a2d"
      },
      "source": [
        "## 2. Tuples <a id=\"tuples\"></a>"
      ],
      "id": "bb679a2d"
    },
    {
      "cell_type": "markdown",
      "metadata": {
        "id": "030d13ec"
      },
      "source": [
        "### Create <a id=\"sets-create\"></a>"
      ],
      "id": "030d13ec"
    },
    {
      "cell_type": "markdown",
      "metadata": {
        "id": "df903ec4"
      },
      "source": [
        "Creating a tuple is done by defining a sequence of elements enclosed in parentheses."
      ],
      "id": "df903ec4"
    },
    {
      "cell_type": "code",
      "execution_count": 38,
      "metadata": {
        "id": "df621515"
      },
      "outputs": [],
      "source": [
        "person = ('Sunday', 'Data Science', 'Fall Session')"
      ],
      "id": "df621515"
    },
    {
      "cell_type": "code",
      "execution_count": 39,
      "metadata": {
        "id": "a765fcc6"
      },
      "outputs": [],
      "source": [
        "person2 = 'Victoria', 'Data Science', 'Fall Session'"
      ],
      "id": "a765fcc6"
    },
    {
      "cell_type": "code",
      "execution_count": 40,
      "metadata": {
        "id": "ebd6d569",
        "colab": {
          "base_uri": "https://localhost:8080/"
        },
        "outputId": "4dc6c784-2225-48af-d20f-74bdc8fc57aa"
      },
      "outputs": [
        {
          "output_type": "stream",
          "name": "stdout",
          "text": [
            "<class 'tuple'>\n"
          ]
        }
      ],
      "source": [
        "print(type(person))"
      ],
      "id": "ebd6d569"
    },
    {
      "cell_type": "code",
      "execution_count": 41,
      "metadata": {
        "id": "5e209751",
        "colab": {
          "base_uri": "https://localhost:8080/"
        },
        "outputId": "360247e0-409c-4374-ca01-a85835c83a7f"
      },
      "outputs": [
        {
          "output_type": "execute_result",
          "data": {
            "text/plain": [
              "tuple"
            ]
          },
          "metadata": {},
          "execution_count": 41
        }
      ],
      "source": [
        "type(person2)"
      ],
      "id": "5e209751"
    },
    {
      "cell_type": "code",
      "execution_count": 42,
      "metadata": {
        "id": "9e5c087d"
      },
      "outputs": [],
      "source": [
        "# create a tuple using the tuple function\n",
        "\n",
        "person_tuple = tuple(['Victoria', 'Data Science', 'Fall Session'])"
      ],
      "id": "9e5c087d"
    },
    {
      "cell_type": "code",
      "execution_count": 43,
      "metadata": {
        "id": "151af130",
        "colab": {
          "base_uri": "https://localhost:8080/"
        },
        "outputId": "4dd2bb9a-2758-4c70-ccc8-5de1d923945b"
      },
      "outputs": [
        {
          "output_type": "execute_result",
          "data": {
            "text/plain": [
              "('Victoria', 'Data Science', 'Fall Session')"
            ]
          },
          "metadata": {},
          "execution_count": 43
        }
      ],
      "source": [
        "person_tuple"
      ],
      "id": "151af130"
    },
    {
      "cell_type": "markdown",
      "metadata": {
        "id": "c5f7f5ff"
      },
      "source": [
        "### Read <a id=\"sets-read\"></a>"
      ],
      "id": "c5f7f5ff"
    },
    {
      "cell_type": "markdown",
      "metadata": {
        "id": "c021fcb1"
      },
      "source": [
        "Reading from a tuple is straightforward by accessing its elements using indexing."
      ],
      "id": "c021fcb1"
    },
    {
      "cell_type": "code",
      "execution_count": 44,
      "metadata": {
        "id": "13a7e478",
        "colab": {
          "base_uri": "https://localhost:8080/",
          "height": 36
        },
        "outputId": "2ab3f782-4b57-4051-9707-1d91581c5225"
      },
      "outputs": [
        {
          "output_type": "execute_result",
          "data": {
            "text/plain": [
              "'Victoria'"
            ],
            "application/vnd.google.colaboratory.intrinsic+json": {
              "type": "string"
            }
          },
          "metadata": {},
          "execution_count": 44
        }
      ],
      "source": [
        "person2[0]"
      ],
      "id": "13a7e478"
    },
    {
      "cell_type": "code",
      "execution_count": 45,
      "metadata": {
        "id": "7cc8011a",
        "colab": {
          "base_uri": "https://localhost:8080/"
        },
        "outputId": "8dc5dff1-24c6-4e73-84e9-d37da72a5ca7"
      },
      "outputs": [
        {
          "output_type": "execute_result",
          "data": {
            "text/plain": [
              "('Victoria', 'Data Science')"
            ]
          },
          "metadata": {},
          "execution_count": 45
        }
      ],
      "source": [
        "person2[:2]"
      ],
      "id": "7cc8011a"
    },
    {
      "cell_type": "markdown",
      "metadata": {
        "id": "39499e21"
      },
      "source": [
        "### Update <a id=\"sets-update\"></a>"
      ],
      "id": "39499e21"
    },
    {
      "cell_type": "markdown",
      "metadata": {
        "id": "a70a393b"
      },
      "source": [
        "Tuples are immutable, so you cannot directly update them. To \"update,\" you need to create a new tuple."
      ],
      "id": "a70a393b"
    },
    {
      "cell_type": "code",
      "execution_count": 46,
      "metadata": {
        "id": "d6e05aee"
      },
      "outputs": [],
      "source": [
        "person3 = ('Chibuike', person[1], person[2])"
      ],
      "id": "d6e05aee"
    },
    {
      "cell_type": "code",
      "execution_count": 47,
      "metadata": {
        "id": "8ebfe8c9",
        "colab": {
          "base_uri": "https://localhost:8080/"
        },
        "outputId": "4e61df45-f3dd-455e-98e0-e059f38c483e"
      },
      "outputs": [
        {
          "output_type": "execute_result",
          "data": {
            "text/plain": [
              "('Chibuike', 'Data Science', 'Fall Session')"
            ]
          },
          "metadata": {},
          "execution_count": 47
        }
      ],
      "source": [
        "person3"
      ],
      "id": "8ebfe8c9"
    },
    {
      "cell_type": "markdown",
      "metadata": {
        "id": "c8e4d2d8"
      },
      "source": [
        "### Delete <a id=\"sets-delete\"></a>"
      ],
      "id": "c8e4d2d8"
    },
    {
      "cell_type": "markdown",
      "metadata": {
        "id": "78cc8e90"
      },
      "source": [
        "Like sets, you can delete a tuple using the del statement."
      ],
      "id": "78cc8e90"
    },
    {
      "cell_type": "code",
      "execution_count": 48,
      "metadata": {
        "id": "270e0e10",
        "colab": {
          "base_uri": "https://localhost:8080/"
        },
        "outputId": "f2d7ab18-386d-4e72-8ecb-18022297e53d"
      },
      "outputs": [
        {
          "output_type": "execute_result",
          "data": {
            "text/plain": [
              "('Sunday', 'Data Science', 'Fall Session')"
            ]
          },
          "metadata": {},
          "execution_count": 48
        }
      ],
      "source": [
        "person"
      ],
      "id": "270e0e10"
    },
    {
      "cell_type": "markdown",
      "metadata": {
        "id": "0ff2d0aa"
      },
      "source": [
        "### Tuples: Use Cases in Data Science <a id=\"tuples-use-cases\"></a>"
      ],
      "id": "0ff2d0aa"
    },
    {
      "cell_type": "markdown",
      "metadata": {
        "id": "bd5d470b"
      },
      "source": [
        "- Immutability: Tuples are immutable, which means their values cannot be changed after creation. They are suitable for representing data that should not be modified, like record data.\n",
        "- Data Integrity: Tuples can be used to ensure data integrity, as their immutability prevents accidental changes.\n",
        "- Multiple Values: Tuples are often used to store multiple related values together, such as (latitude, longitude) pairs for geographical data.\n",
        "- Function Return Values: Tuples are frequently used to return multiple values from functions, making it easy to process and unpack results."
      ],
      "id": "bd5d470b"
    },
    {
      "cell_type": "markdown",
      "metadata": {
        "id": "6b6b3404"
      },
      "source": [
        "## 3. Sets <a id=\"sets\"></a>"
      ],
      "id": "6b6b3404"
    },
    {
      "cell_type": "markdown",
      "metadata": {
        "id": "3bea8714"
      },
      "source": [
        "Sets are a great data type that is used for pretty specific situations. You will find sets most useful for\n",
        "de-duplicating lists or tuples or by using them to find differences between multiple lists"
      ],
      "id": "3bea8714"
    },
    {
      "cell_type": "markdown",
      "metadata": {
        "id": "a6ebd040"
      },
      "source": [
        "### Create <a id=\"sets-create\"></a>"
      ],
      "id": "a6ebd040"
    },
    {
      "cell_type": "code",
      "execution_count": 49,
      "metadata": {
        "id": "af3b2a27"
      },
      "outputs": [],
      "source": [
        "# using curly braces\n",
        "my_set = {'a', 'b', 'b', 'c', 'd', 'd'}"
      ],
      "id": "af3b2a27"
    },
    {
      "cell_type": "code",
      "execution_count": 50,
      "metadata": {
        "id": "3be87f94",
        "colab": {
          "base_uri": "https://localhost:8080/"
        },
        "outputId": "6fa794d6-f1e7-4210-dc4d-46674231b864"
      },
      "outputs": [
        {
          "output_type": "stream",
          "name": "stdout",
          "text": [
            "{'a', 'd', 'c', 'b'}\n"
          ]
        }
      ],
      "source": [
        "print(my_set)"
      ],
      "id": "3be87f94"
    },
    {
      "cell_type": "code",
      "execution_count": 51,
      "metadata": {
        "id": "7742ed51",
        "colab": {
          "base_uri": "https://localhost:8080/"
        },
        "outputId": "c9756cb6-b450-4d87-9d8e-9e97747c6b56"
      },
      "outputs": [
        {
          "output_type": "stream",
          "name": "stdout",
          "text": [
            "{'Data Science', 'Fall Session', 'Chibuike'}\n"
          ]
        }
      ],
      "source": [
        "# using the set function\n",
        "person_list = ['Chibuike', 'Data Science', 'Fall Session']\n",
        "person_set = set(person_list)\n",
        "\n",
        "print(person_set)"
      ],
      "id": "7742ed51"
    },
    {
      "cell_type": "markdown",
      "metadata": {
        "id": "a2b461d6"
      },
      "source": [
        "### Read <a id=\"sets-read\"></a>"
      ],
      "id": "a2b461d6"
    },
    {
      "cell_type": "markdown",
      "metadata": {
        "id": "c76c796f"
      },
      "source": [
        "You can access items in sets much faster than lists. A Python list will iterate over each item in a\n",
        "list until it finds the item you are looking for. When you look for an item in a set, it acts much like\n",
        "a dictionary and will find it immediately or not at all."
      ],
      "id": "c76c796f"
    },
    {
      "cell_type": "code",
      "execution_count": 52,
      "metadata": {
        "id": "3d6cb26d",
        "colab": {
          "base_uri": "https://localhost:8080/"
        },
        "outputId": "c1f5feb3-39e1-43cb-a642-0ad80fa83a4e"
      },
      "outputs": [
        {
          "output_type": "execute_result",
          "data": {
            "text/plain": [
              "True"
            ]
          },
          "metadata": {},
          "execution_count": 52
        }
      ],
      "source": [
        "# using the in operator\n",
        "'Fall Session' in person_set"
      ],
      "id": "3d6cb26d"
    },
    {
      "cell_type": "markdown",
      "metadata": {
        "id": "02e9cf1c"
      },
      "source": [
        "### Update <a id=\"sets-update\"></a>"
      ],
      "id": "02e9cf1c"
    },
    {
      "cell_type": "code",
      "execution_count": 53,
      "metadata": {
        "id": "d0893b34"
      },
      "outputs": [],
      "source": [
        "# using the add method to update a set\n",
        "person_set.add('First Semester')"
      ],
      "id": "d0893b34"
    },
    {
      "cell_type": "code",
      "execution_count": 54,
      "metadata": {
        "id": "d60dc397",
        "colab": {
          "base_uri": "https://localhost:8080/"
        },
        "outputId": "3f15a9e5-b7b5-4fd8-de4a-7c25cbe0258e"
      },
      "outputs": [
        {
          "output_type": "execute_result",
          "data": {
            "text/plain": [
              "{'Chibuike', 'Data Science', 'Fall Session', 'First Semester'}"
            ]
          },
          "metadata": {},
          "execution_count": 54
        }
      ],
      "source": [
        "person_set"
      ],
      "id": "d60dc397"
    },
    {
      "cell_type": "code",
      "execution_count": 55,
      "metadata": {
        "id": "56295a74"
      },
      "outputs": [],
      "source": [
        "# using the update method to add multiple items\n",
        "person_set.update(['Circle 113', 'Python'])"
      ],
      "id": "56295a74"
    },
    {
      "cell_type": "code",
      "execution_count": 56,
      "metadata": {
        "id": "bc5f18ad",
        "colab": {
          "base_uri": "https://localhost:8080/"
        },
        "outputId": "9e12efa2-77cc-4d87-9aa1-cb775b49111b"
      },
      "outputs": [
        {
          "output_type": "stream",
          "name": "stdout",
          "text": [
            "{'Python', 'Circle 113', 'First Semester', 'Data Science', 'Fall Session', 'Chibuike'}\n"
          ]
        }
      ],
      "source": [
        "print(person_set)"
      ],
      "id": "bc5f18ad"
    },
    {
      "cell_type": "code",
      "execution_count": 57,
      "metadata": {
        "id": "a190bfb6"
      },
      "outputs": [],
      "source": [
        "# using the remove method\n",
        "person_set.remove('Python')"
      ],
      "id": "a190bfb6"
    },
    {
      "cell_type": "code",
      "execution_count": 58,
      "metadata": {
        "id": "9a5ba098",
        "colab": {
          "base_uri": "https://localhost:8080/"
        },
        "outputId": "ed7a87c8-e1e9-4702-b06d-ee574f8c3510"
      },
      "outputs": [
        {
          "output_type": "stream",
          "name": "stdout",
          "text": [
            "{'Circle 113', 'First Semester', 'Data Science', 'Fall Session', 'Chibuike'}\n"
          ]
        }
      ],
      "source": [
        "print(person_set)"
      ],
      "id": "9a5ba098"
    },
    {
      "cell_type": "code",
      "execution_count": 59,
      "metadata": {
        "id": "92f8a9e0"
      },
      "outputs": [],
      "source": [
        "# using pop and discard method\n",
        "person_set.discard('Circle 113')"
      ],
      "id": "92f8a9e0"
    },
    {
      "cell_type": "code",
      "execution_count": 60,
      "metadata": {
        "id": "61755518",
        "colab": {
          "base_uri": "https://localhost:8080/"
        },
        "outputId": "bb454cf0-bc32-4e71-d341-a498afe44f7c"
      },
      "outputs": [
        {
          "output_type": "stream",
          "name": "stdout",
          "text": [
            "{'First Semester', 'Data Science', 'Fall Session', 'Chibuike'}\n"
          ]
        }
      ],
      "source": [
        "print(person_set)"
      ],
      "id": "61755518"
    },
    {
      "cell_type": "code",
      "execution_count": 61,
      "metadata": {
        "id": "27816ec1",
        "colab": {
          "base_uri": "https://localhost:8080/",
          "height": 36
        },
        "outputId": "4c3df90d-9a6c-4cf1-90eb-345eff28d0aa"
      },
      "outputs": [
        {
          "output_type": "execute_result",
          "data": {
            "text/plain": [
              "'First Semester'"
            ],
            "application/vnd.google.colaboratory.intrinsic+json": {
              "type": "string"
            }
          },
          "metadata": {},
          "execution_count": 61
        }
      ],
      "source": [
        "person_set.pop()"
      ],
      "id": "27816ec1"
    },
    {
      "cell_type": "markdown",
      "metadata": {
        "id": "7a52d0c1"
      },
      "source": [
        "### Delete <a id=\"sets-delete\"></a>"
      ],
      "id": "7a52d0c1"
    },
    {
      "cell_type": "code",
      "execution_count": 62,
      "metadata": {
        "id": "d5b00666"
      },
      "outputs": [],
      "source": [
        "# using the del keyword deletes the set\n",
        "del person_set"
      ],
      "id": "d5b00666"
    },
    {
      "cell_type": "code",
      "execution_count": 63,
      "metadata": {
        "id": "c85bed82"
      },
      "outputs": [],
      "source": [
        "#person_set"
      ],
      "id": "c85bed82"
    },
    {
      "cell_type": "code",
      "execution_count": 64,
      "metadata": {
        "id": "91286b35"
      },
      "outputs": [],
      "source": [
        "# using the clear method empties out the set\n",
        "my_set.clear()"
      ],
      "id": "91286b35"
    },
    {
      "cell_type": "code",
      "execution_count": 65,
      "metadata": {
        "id": "b29d6139",
        "colab": {
          "base_uri": "https://localhost:8080/"
        },
        "outputId": "74934c26-5d11-4aa2-ce7f-f0aa37af73a0"
      },
      "outputs": [
        {
          "output_type": "execute_result",
          "data": {
            "text/plain": [
              "set()"
            ]
          },
          "metadata": {},
          "execution_count": 65
        }
      ],
      "source": [
        "my_set"
      ],
      "id": "b29d6139"
    },
    {
      "cell_type": "code",
      "execution_count": 66,
      "metadata": {
        "id": "b669db39"
      },
      "outputs": [],
      "source": [
        "my_set.add('4')"
      ],
      "id": "b669db39"
    },
    {
      "cell_type": "code",
      "execution_count": 67,
      "metadata": {
        "id": "bcad0597"
      },
      "outputs": [],
      "source": [
        "my_set = {'Toyin', 'Data Science'}"
      ],
      "id": "bcad0597"
    },
    {
      "cell_type": "code",
      "execution_count": 68,
      "metadata": {
        "id": "75121ba6",
        "colab": {
          "base_uri": "https://localhost:8080/"
        },
        "outputId": "664202f5-c978-4b79-bad7-0a8a272f0f50"
      },
      "outputs": [
        {
          "output_type": "execute_result",
          "data": {
            "text/plain": [
              "{'Data Science', 'Toyin'}"
            ]
          },
          "metadata": {},
          "execution_count": 68
        }
      ],
      "source": [
        "my_set"
      ],
      "id": "75121ba6"
    },
    {
      "cell_type": "markdown",
      "metadata": {
        "id": "fe87c385"
      },
      "source": [
        "### Set operations <a id=\"sets-operate\"></a>"
      ],
      "id": "fe87c385"
    },
    {
      "cell_type": "markdown",
      "metadata": {
        "id": "d132a0e0"
      },
      "source": [
        "- union() - Combines two sets and returns a new set\n",
        "- intersection() - Returns a new set with the elements that are common between the two sets\n",
        "- difference() - Returns a new set with elements that are not in the other set"
      ],
      "id": "d132a0e0"
    },
    {
      "cell_type": "code",
      "execution_count": 69,
      "metadata": {
        "id": "dc135011"
      },
      "outputs": [],
      "source": [
        "first_set = {'python', 'ruby', 'javascript', 'pandas', 'numpy'}\n",
        "second_set = {'pandas', 'numpy', 'seaborn'}"
      ],
      "id": "dc135011"
    },
    {
      "cell_type": "code",
      "execution_count": 70,
      "metadata": {
        "id": "084b50ec",
        "colab": {
          "base_uri": "https://localhost:8080/"
        },
        "outputId": "6cfab2fe-084e-427b-fea3-e04a03fc33f0"
      },
      "outputs": [
        {
          "output_type": "execute_result",
          "data": {
            "text/plain": [
              "{'javascript', 'numpy', 'pandas', 'python', 'ruby', 'seaborn'}"
            ]
          },
          "metadata": {},
          "execution_count": 70
        }
      ],
      "source": [
        "first_set.union(second_set)"
      ],
      "id": "084b50ec"
    },
    {
      "cell_type": "code",
      "execution_count": 71,
      "metadata": {
        "id": "de67a525"
      },
      "outputs": [],
      "source": [
        "first_list = list(first_set)"
      ],
      "id": "de67a525"
    },
    {
      "cell_type": "code",
      "execution_count": 72,
      "metadata": {
        "id": "8990585e"
      },
      "outputs": [],
      "source": [
        "first_list[0] = 'keras'"
      ],
      "id": "8990585e"
    },
    {
      "cell_type": "code",
      "execution_count": 73,
      "metadata": {
        "id": "a0066051",
        "colab": {
          "base_uri": "https://localhost:8080/"
        },
        "outputId": "75b8e7e9-1e2d-416d-dc41-febf7e6189e0"
      },
      "outputs": [
        {
          "output_type": "execute_result",
          "data": {
            "text/plain": [
              "['keras', 'ruby', 'numpy', 'javascript', 'python']"
            ]
          },
          "metadata": {},
          "execution_count": 73
        }
      ],
      "source": [
        "first_list"
      ],
      "id": "a0066051"
    },
    {
      "cell_type": "code",
      "execution_count": 74,
      "metadata": {
        "id": "fee48de8"
      },
      "outputs": [],
      "source": [
        "first_tuple = tuple(first_list)"
      ],
      "id": "fee48de8"
    },
    {
      "cell_type": "code",
      "execution_count": 75,
      "metadata": {
        "id": "73397bd5"
      },
      "outputs": [],
      "source": [
        "first_set = set(first_tuple)"
      ],
      "id": "73397bd5"
    },
    {
      "cell_type": "code",
      "execution_count": 76,
      "metadata": {
        "id": "94c80641",
        "colab": {
          "base_uri": "https://localhost:8080/"
        },
        "outputId": "bdbf5c0f-dd71-4a5b-e942-722743f6eb67"
      },
      "outputs": [
        {
          "output_type": "execute_result",
          "data": {
            "text/plain": [
              "{'javascript', 'keras', 'numpy', 'python', 'ruby'}"
            ]
          },
          "metadata": {},
          "execution_count": 76
        }
      ],
      "source": [
        "first_set"
      ],
      "id": "94c80641"
    },
    {
      "cell_type": "code",
      "execution_count": 77,
      "metadata": {
        "id": "d54fd84b",
        "colab": {
          "base_uri": "https://localhost:8080/"
        },
        "outputId": "1771e31c-74e3-49a1-a6bd-e7e2c4084270"
      },
      "outputs": [
        {
          "output_type": "execute_result",
          "data": {
            "text/plain": [
              "{'numpy', 'pandas', 'seaborn'}"
            ]
          },
          "metadata": {},
          "execution_count": 77
        }
      ],
      "source": [
        "second_set"
      ],
      "id": "d54fd84b"
    },
    {
      "cell_type": "code",
      "execution_count": 78,
      "metadata": {
        "id": "57d5b442",
        "colab": {
          "base_uri": "https://localhost:8080/"
        },
        "outputId": "f1e2dabb-d9bb-4748-afdb-5c9c0ace241d"
      },
      "outputs": [
        {
          "output_type": "execute_result",
          "data": {
            "text/plain": [
              "{'numpy'}"
            ]
          },
          "metadata": {},
          "execution_count": 78
        }
      ],
      "source": [
        "first_set.intersection(second_set)"
      ],
      "id": "57d5b442"
    },
    {
      "cell_type": "code",
      "execution_count": 79,
      "metadata": {
        "id": "f224b1db",
        "colab": {
          "base_uri": "https://localhost:8080/"
        },
        "outputId": "e9db2fde-41d9-4d9a-fa3f-458c69fedc04"
      },
      "outputs": [
        {
          "output_type": "execute_result",
          "data": {
            "text/plain": [
              "{'javascript', 'keras', 'python', 'ruby'}"
            ]
          },
          "metadata": {},
          "execution_count": 79
        }
      ],
      "source": [
        "first_set.difference(second_set)"
      ],
      "id": "f224b1db"
    },
    {
      "cell_type": "markdown",
      "metadata": {
        "id": "307fc841"
      },
      "source": [
        "### Sets: Use Cases in Data Science <a id=\"sets-use-cases\"></a>"
      ],
      "id": "307fc841"
    },
    {
      "cell_type": "markdown",
      "metadata": {
        "id": "3be934bd"
      },
      "source": [
        "- Removing Duplicates: Sets are unordered collections of unique elements. They are often used to remove duplicates from data, ensuring that only unique values are retained."
      ],
      "id": "3be934bd"
    },
    {
      "cell_type": "code",
      "execution_count": 80,
      "metadata": {
        "id": "4b921936"
      },
      "outputs": [],
      "source": [
        "data = [1, 2, 2, 3, 4, 4, 5]\n",
        "unique_data = set(data)"
      ],
      "id": "4b921936"
    },
    {
      "cell_type": "markdown",
      "metadata": {
        "id": "bc5c0cc4"
      },
      "source": [
        "- Membership Testing: Sets are efficient for checking whether an element is present in a dataset or not. This can be useful for filtering and data validation."
      ],
      "id": "bc5c0cc4"
    },
    {
      "cell_type": "markdown",
      "metadata": {
        "id": "a3e2eb17"
      },
      "source": [
        "- Set Operations: Sets support set operations like union, intersection, and difference, which are valuable for data manipulation and analysis."
      ],
      "id": "a3e2eb17"
    },
    {
      "cell_type": "markdown",
      "metadata": {
        "id": "0010a764"
      },
      "source": [
        "## 4. Dictionaries <a id=\"dictionaries\"></a>"
      ],
      "id": "0010a764"
    },
    {
      "cell_type": "markdown",
      "metadata": {
        "id": "3db5fb6b"
      },
      "source": [
        "Dictionaries are another fundamental data type in Python. A dictionary is a (key, value) pair. Some\n",
        "programming languages refer to them as hash tables. They are described as a mapping that maps\n",
        "keys (hashable objects) to values (any object). Immutable objects are hashable (immutable means\n",
        "unable to change)."
      ],
      "id": "3db5fb6b"
    },
    {
      "cell_type": "markdown",
      "metadata": {
        "id": "95b108a3"
      },
      "source": [
        "### Creating a dictionary <a id=\"dictionaries-create\"></a>"
      ],
      "id": "95b108a3"
    },
    {
      "cell_type": "code",
      "execution_count": 81,
      "metadata": {
        "id": "7829135e"
      },
      "outputs": [],
      "source": [
        "# using curly braces and inserting key, value pairs\n",
        "student = {'firstname': 'Joshua',\n",
        "           'lastname': 'Ohayi',\n",
        "           'cirle': 113}\n"
      ],
      "id": "7829135e"
    },
    {
      "cell_type": "code",
      "execution_count": 82,
      "metadata": {
        "id": "7c441271",
        "colab": {
          "base_uri": "https://localhost:8080/"
        },
        "outputId": "a889c2c1-93b3-4df6-c50c-6434c289b4de"
      },
      "outputs": [
        {
          "output_type": "execute_result",
          "data": {
            "text/plain": [
              "dict"
            ]
          },
          "metadata": {},
          "execution_count": 82
        }
      ],
      "source": [
        "type(student)"
      ],
      "id": "7c441271"
    },
    {
      "cell_type": "code",
      "execution_count": 83,
      "metadata": {
        "id": "33fd1a11"
      },
      "outputs": [],
      "source": [
        "# using the dict function and passing a list of tuples\n",
        "student2 = dict([('firstname', 'Akin-Johnson'), ('Cirle', 117), ('lastname', 'Oluwamayowa')])"
      ],
      "id": "33fd1a11"
    },
    {
      "cell_type": "code",
      "execution_count": 84,
      "metadata": {
        "id": "603cbbc2",
        "colab": {
          "base_uri": "https://localhost:8080/"
        },
        "outputId": "e8965eb9-7349-4866-b1e7-fbc21aa733ea"
      },
      "outputs": [
        {
          "output_type": "execute_result",
          "data": {
            "text/plain": [
              "{'firstname': 'Akin-Johnson', 'Cirle': 117, 'lastname': 'Oluwamayowa'}"
            ]
          },
          "metadata": {},
          "execution_count": 84
        }
      ],
      "source": [
        "student2"
      ],
      "id": "603cbbc2"
    },
    {
      "cell_type": "markdown",
      "metadata": {
        "id": "297e2ca0"
      },
      "source": [
        "### Reading through a Dictionary <a id=\"dictionaries-read\"></a>"
      ],
      "id": "297e2ca0"
    },
    {
      "cell_type": "code",
      "execution_count": 85,
      "metadata": {
        "id": "140b131d",
        "colab": {
          "base_uri": "https://localhost:8080/",
          "height": 36
        },
        "outputId": "d85d57e1-97a7-443c-aade-4615bbd995dc"
      },
      "outputs": [
        {
          "output_type": "execute_result",
          "data": {
            "text/plain": [
              "'Joshua'"
            ],
            "application/vnd.google.colaboratory.intrinsic+json": {
              "type": "string"
            }
          },
          "metadata": {},
          "execution_count": 85
        }
      ],
      "source": [
        "# using the key\n",
        "student['firstname']"
      ],
      "id": "140b131d"
    },
    {
      "cell_type": "code",
      "execution_count": 86,
      "metadata": {
        "id": "fb5b1a13",
        "colab": {
          "base_uri": "https://localhost:8080/"
        },
        "outputId": "4bb56696-5555-4f34-a4b5-2cd9d89e2448"
      },
      "outputs": [
        {
          "output_type": "execute_result",
          "data": {
            "text/plain": [
              "True"
            ]
          },
          "metadata": {},
          "execution_count": 86
        }
      ],
      "source": [
        "# using the in keyword\n",
        "'firstname' in student"
      ],
      "id": "fb5b1a13"
    },
    {
      "cell_type": "code",
      "execution_count": 87,
      "metadata": {
        "id": "c827cecc",
        "colab": {
          "base_uri": "https://localhost:8080/"
        },
        "outputId": "57cba2a6-ea40-4bda-c9e1-21cbdd9bc28a"
      },
      "outputs": [
        {
          "output_type": "execute_result",
          "data": {
            "text/plain": [
              "False"
            ]
          },
          "metadata": {},
          "execution_count": 87
        }
      ],
      "source": [
        "'fav_food' in student"
      ],
      "id": "c827cecc"
    },
    {
      "cell_type": "code",
      "execution_count": 88,
      "metadata": {
        "id": "ae61696f",
        "colab": {
          "base_uri": "https://localhost:8080/"
        },
        "outputId": "45c4b696-b2ad-4b01-c263-7f5795a8b414"
      },
      "outputs": [
        {
          "output_type": "execute_result",
          "data": {
            "text/plain": [
              "dict_items([('firstname', 'Joshua'), ('lastname', 'Ohayi'), ('cirle', 113)])"
            ]
          },
          "metadata": {},
          "execution_count": 88
        }
      ],
      "source": [
        "# checking all items :dict.items()\n",
        "student.items()"
      ],
      "id": "ae61696f"
    },
    {
      "cell_type": "code",
      "execution_count": 89,
      "metadata": {
        "id": "e3634c90",
        "colab": {
          "base_uri": "https://localhost:8080/"
        },
        "outputId": "59045cd1-bc09-4b6c-c7e9-df07c5067778"
      },
      "outputs": [
        {
          "output_type": "execute_result",
          "data": {
            "text/plain": [
              "dict_values(['Joshua', 'Ohayi', 113])"
            ]
          },
          "metadata": {},
          "execution_count": 89
        }
      ],
      "source": [
        "# checking all values :dict.values()\n",
        "student.values()"
      ],
      "id": "e3634c90"
    },
    {
      "cell_type": "code",
      "execution_count": 90,
      "metadata": {
        "id": "dd9d4f44",
        "colab": {
          "base_uri": "https://localhost:8080/",
          "height": 36
        },
        "outputId": "476f307f-4f74-4106-e85a-ce0751e0c5ff"
      },
      "outputs": [
        {
          "output_type": "execute_result",
          "data": {
            "text/plain": [
              "'Not Availble'"
            ],
            "application/vnd.google.colaboratory.intrinsic+json": {
              "type": "string"
            }
          },
          "metadata": {},
          "execution_count": 90
        }
      ],
      "source": [
        "# using the get method to retrieve the value of a key in a dictionary\n",
        "# returns 'Not Available' if key is not in the dictionary else it returns the value.\n",
        "student.get('fav_drink', 'Not Availble')"
      ],
      "id": "dd9d4f44"
    },
    {
      "cell_type": "markdown",
      "metadata": {
        "id": "a159b321"
      },
      "source": [
        "### Updating a Dictionary <a id=\"dictionaries-update\"></a>"
      ],
      "id": "a159b321"
    },
    {
      "cell_type": "code",
      "execution_count": 91,
      "metadata": {
        "id": "81970ead"
      },
      "outputs": [],
      "source": [
        "# re assign the value by accessing the key if the key isnt available, a new k:v pair is created\n",
        "student['fav_food'] = 'Groceries'"
      ],
      "id": "81970ead"
    },
    {
      "cell_type": "code",
      "execution_count": 92,
      "metadata": {
        "id": "b939aee6",
        "colab": {
          "base_uri": "https://localhost:8080/"
        },
        "outputId": "773b4d54-16b2-4bad-930e-1d8487f0eedd"
      },
      "outputs": [
        {
          "output_type": "execute_result",
          "data": {
            "text/plain": [
              "{'firstname': 'Joshua',\n",
              " 'lastname': 'Ohayi',\n",
              " 'cirle': 113,\n",
              " 'fav_food': 'Groceries'}"
            ]
          },
          "metadata": {},
          "execution_count": 92
        }
      ],
      "source": [
        "student"
      ],
      "id": "b939aee6"
    },
    {
      "cell_type": "code",
      "execution_count": 93,
      "metadata": {
        "id": "b6dc4361"
      },
      "outputs": [],
      "source": [
        "# using the update method."
      ],
      "id": "b6dc4361"
    },
    {
      "cell_type": "code",
      "execution_count": 94,
      "metadata": {
        "id": "c3f448ee",
        "colab": {
          "base_uri": "https://localhost:8080/"
        },
        "outputId": "82e9d3f1-f6b8-462d-921a-b6756a2bd57f"
      },
      "outputs": [
        {
          "output_type": "execute_result",
          "data": {
            "text/plain": [
              "113"
            ]
          },
          "metadata": {},
          "execution_count": 94
        }
      ],
      "source": [
        "# using the pop method to remove a k:v pair\n",
        "student.pop('cirle')"
      ],
      "id": "c3f448ee"
    },
    {
      "cell_type": "code",
      "execution_count": 95,
      "metadata": {
        "id": "e86488ef",
        "colab": {
          "base_uri": "https://localhost:8080/"
        },
        "outputId": "78ef7455-f937-4f4a-9176-4d69b6747cc0"
      },
      "outputs": [
        {
          "output_type": "execute_result",
          "data": {
            "text/plain": [
              "{'firstname': 'Joshua', 'lastname': 'Ohayi', 'fav_food': 'Groceries'}"
            ]
          },
          "metadata": {},
          "execution_count": 95
        }
      ],
      "source": [
        "student"
      ],
      "id": "e86488ef"
    },
    {
      "cell_type": "code",
      "execution_count": 96,
      "metadata": {
        "id": "4d64faa0",
        "colab": {
          "base_uri": "https://localhost:8080/"
        },
        "outputId": "12e3508d-1ba0-420d-a8a0-066166f4ede2"
      },
      "outputs": [
        {
          "output_type": "execute_result",
          "data": {
            "text/plain": [
              "('fav_food', 'Groceries')"
            ]
          },
          "metadata": {},
          "execution_count": 96
        }
      ],
      "source": [
        "# using the popitem method\n",
        "student.popitem()"
      ],
      "id": "4d64faa0"
    },
    {
      "cell_type": "code",
      "execution_count": 97,
      "metadata": {
        "id": "31f82b0f"
      },
      "outputs": [],
      "source": [
        "old_key = 'firstname'\n",
        "new_key = 'alias'\n",
        "\n",
        "student[new_key] = student.pop(old_key)\n"
      ],
      "id": "31f82b0f"
    },
    {
      "cell_type": "code",
      "execution_count": 98,
      "metadata": {
        "id": "6e2ba1fa",
        "colab": {
          "base_uri": "https://localhost:8080/"
        },
        "outputId": "05523c4d-6e16-4d0a-9203-2f363cd1dca6"
      },
      "outputs": [
        {
          "output_type": "execute_result",
          "data": {
            "text/plain": [
              "{'lastname': 'Ohayi', 'alias': 'Joshua'}"
            ]
          },
          "metadata": {},
          "execution_count": 98
        }
      ],
      "source": [
        "student"
      ],
      "id": "6e2ba1fa"
    },
    {
      "cell_type": "markdown",
      "metadata": {
        "id": "689dda47"
      },
      "source": [
        "### Deleting a Dictionary <a id=\"dictionaries-delete\"></a>"
      ],
      "id": "689dda47"
    },
    {
      "cell_type": "code",
      "execution_count": 99,
      "metadata": {
        "id": "06fc602f"
      },
      "outputs": [],
      "source": [
        "#del student['circle']"
      ],
      "id": "06fc602f"
    },
    {
      "cell_type": "code",
      "execution_count": 100,
      "metadata": {
        "scrolled": true,
        "id": "d5f0dc6f",
        "colab": {
          "base_uri": "https://localhost:8080/"
        },
        "outputId": "adfc41c9-74ac-4723-fe46-8c5db0ba45ac"
      },
      "outputs": [
        {
          "output_type": "execute_result",
          "data": {
            "text/plain": [
              "{'lastname': 'Ohayi', 'alias': 'Joshua'}"
            ]
          },
          "metadata": {},
          "execution_count": 100
        }
      ],
      "source": [
        "student"
      ],
      "id": "d5f0dc6f"
    },
    {
      "cell_type": "code",
      "execution_count": 101,
      "metadata": {
        "id": "5e2fa0a0"
      },
      "outputs": [],
      "source": [
        "revenue = {'months':['jan', 'feb', 'mar',\n",
        "                    'apr', 'may','jun', 'jul',\n",
        "                    'aug', 'sept', 'oct',\n",
        "                    'nov', 'dec'],\n",
        "          'monthly_sales': [120, 135, 150, 145, 155, 160, 170, 180, 190, 200, 210, 220] }"
      ],
      "id": "5e2fa0a0"
    },
    {
      "cell_type": "code",
      "execution_count": 102,
      "metadata": {
        "id": "624244c0",
        "colab": {
          "base_uri": "https://localhost:8080/"
        },
        "outputId": "0c8da156-6d06-4432-a81b-dbb96e3f9386"
      },
      "outputs": [
        {
          "output_type": "execute_result",
          "data": {
            "text/plain": [
              "{'months': ['jan',\n",
              "  'feb',\n",
              "  'mar',\n",
              "  'apr',\n",
              "  'may',\n",
              "  'jun',\n",
              "  'jul',\n",
              "  'aug',\n",
              "  'sept',\n",
              "  'oct',\n",
              "  'nov',\n",
              "  'dec'],\n",
              " 'monthly_sales': [120, 135, 150, 145, 155, 160, 170, 180, 190, 200, 210, 220]}"
            ]
          },
          "metadata": {},
          "execution_count": 102
        }
      ],
      "source": [
        "revenue"
      ],
      "id": "624244c0"
    },
    {
      "cell_type": "markdown",
      "metadata": {
        "id": "348195cc"
      },
      "source": [
        "### Dictionaries: Use Cases in Data Science <a id=\"dictionaries-use-cases\"></a>"
      ],
      "id": "348195cc"
    },
    {
      "cell_type": "markdown",
      "metadata": {
        "id": "606360a2"
      },
      "source": [
        "## 5. DataFrames"
      ],
      "id": "606360a2"
    },
    {
      "cell_type": "markdown",
      "metadata": {
        "id": "a716eb73"
      },
      "source": [
        "2-dimensional structures for handling tabular data"
      ],
      "id": "a716eb73"
    },
    {
      "cell_type": "code",
      "execution_count": 103,
      "metadata": {
        "id": "fb24a1bc"
      },
      "outputs": [],
      "source": [
        "import pandas as pd"
      ],
      "id": "fb24a1bc"
    },
    {
      "cell_type": "code",
      "execution_count": 104,
      "metadata": {
        "id": "7205cbf3"
      },
      "outputs": [],
      "source": [
        "revenue_df = pd.DataFrame(revenue)"
      ],
      "id": "7205cbf3"
    },
    {
      "cell_type": "code",
      "execution_count": 105,
      "metadata": {
        "id": "7e785383",
        "colab": {
          "base_uri": "https://localhost:8080/",
          "height": 426
        },
        "outputId": "9085d6fe-f0fd-493d-f2df-81c447f92402"
      },
      "outputs": [
        {
          "output_type": "execute_result",
          "data": {
            "text/plain": [
              "   months  monthly_sales\n",
              "0     jan            120\n",
              "1     feb            135\n",
              "2     mar            150\n",
              "3     apr            145\n",
              "4     may            155\n",
              "5     jun            160\n",
              "6     jul            170\n",
              "7     aug            180\n",
              "8    sept            190\n",
              "9     oct            200\n",
              "10    nov            210\n",
              "11    dec            220"
            ],
            "text/html": [
              "\n",
              "  <div id=\"df-2ecd0daf-dabf-4ffb-9dab-baa01227cac5\" class=\"colab-df-container\">\n",
              "    <div>\n",
              "<style scoped>\n",
              "    .dataframe tbody tr th:only-of-type {\n",
              "        vertical-align: middle;\n",
              "    }\n",
              "\n",
              "    .dataframe tbody tr th {\n",
              "        vertical-align: top;\n",
              "    }\n",
              "\n",
              "    .dataframe thead th {\n",
              "        text-align: right;\n",
              "    }\n",
              "</style>\n",
              "<table border=\"1\" class=\"dataframe\">\n",
              "  <thead>\n",
              "    <tr style=\"text-align: right;\">\n",
              "      <th></th>\n",
              "      <th>months</th>\n",
              "      <th>monthly_sales</th>\n",
              "    </tr>\n",
              "  </thead>\n",
              "  <tbody>\n",
              "    <tr>\n",
              "      <th>0</th>\n",
              "      <td>jan</td>\n",
              "      <td>120</td>\n",
              "    </tr>\n",
              "    <tr>\n",
              "      <th>1</th>\n",
              "      <td>feb</td>\n",
              "      <td>135</td>\n",
              "    </tr>\n",
              "    <tr>\n",
              "      <th>2</th>\n",
              "      <td>mar</td>\n",
              "      <td>150</td>\n",
              "    </tr>\n",
              "    <tr>\n",
              "      <th>3</th>\n",
              "      <td>apr</td>\n",
              "      <td>145</td>\n",
              "    </tr>\n",
              "    <tr>\n",
              "      <th>4</th>\n",
              "      <td>may</td>\n",
              "      <td>155</td>\n",
              "    </tr>\n",
              "    <tr>\n",
              "      <th>5</th>\n",
              "      <td>jun</td>\n",
              "      <td>160</td>\n",
              "    </tr>\n",
              "    <tr>\n",
              "      <th>6</th>\n",
              "      <td>jul</td>\n",
              "      <td>170</td>\n",
              "    </tr>\n",
              "    <tr>\n",
              "      <th>7</th>\n",
              "      <td>aug</td>\n",
              "      <td>180</td>\n",
              "    </tr>\n",
              "    <tr>\n",
              "      <th>8</th>\n",
              "      <td>sept</td>\n",
              "      <td>190</td>\n",
              "    </tr>\n",
              "    <tr>\n",
              "      <th>9</th>\n",
              "      <td>oct</td>\n",
              "      <td>200</td>\n",
              "    </tr>\n",
              "    <tr>\n",
              "      <th>10</th>\n",
              "      <td>nov</td>\n",
              "      <td>210</td>\n",
              "    </tr>\n",
              "    <tr>\n",
              "      <th>11</th>\n",
              "      <td>dec</td>\n",
              "      <td>220</td>\n",
              "    </tr>\n",
              "  </tbody>\n",
              "</table>\n",
              "</div>\n",
              "    <div class=\"colab-df-buttons\">\n",
              "\n",
              "  <div class=\"colab-df-container\">\n",
              "    <button class=\"colab-df-convert\" onclick=\"convertToInteractive('df-2ecd0daf-dabf-4ffb-9dab-baa01227cac5')\"\n",
              "            title=\"Convert this dataframe to an interactive table.\"\n",
              "            style=\"display:none;\">\n",
              "\n",
              "  <svg xmlns=\"http://www.w3.org/2000/svg\" height=\"24px\" viewBox=\"0 -960 960 960\">\n",
              "    <path d=\"M120-120v-720h720v720H120Zm60-500h600v-160H180v160Zm220 220h160v-160H400v160Zm0 220h160v-160H400v160ZM180-400h160v-160H180v160Zm440 0h160v-160H620v160ZM180-180h160v-160H180v160Zm440 0h160v-160H620v160Z\"/>\n",
              "  </svg>\n",
              "    </button>\n",
              "\n",
              "  <style>\n",
              "    .colab-df-container {\n",
              "      display:flex;\n",
              "      gap: 12px;\n",
              "    }\n",
              "\n",
              "    .colab-df-convert {\n",
              "      background-color: #E8F0FE;\n",
              "      border: none;\n",
              "      border-radius: 50%;\n",
              "      cursor: pointer;\n",
              "      display: none;\n",
              "      fill: #1967D2;\n",
              "      height: 32px;\n",
              "      padding: 0 0 0 0;\n",
              "      width: 32px;\n",
              "    }\n",
              "\n",
              "    .colab-df-convert:hover {\n",
              "      background-color: #E2EBFA;\n",
              "      box-shadow: 0px 1px 2px rgba(60, 64, 67, 0.3), 0px 1px 3px 1px rgba(60, 64, 67, 0.15);\n",
              "      fill: #174EA6;\n",
              "    }\n",
              "\n",
              "    .colab-df-buttons div {\n",
              "      margin-bottom: 4px;\n",
              "    }\n",
              "\n",
              "    [theme=dark] .colab-df-convert {\n",
              "      background-color: #3B4455;\n",
              "      fill: #D2E3FC;\n",
              "    }\n",
              "\n",
              "    [theme=dark] .colab-df-convert:hover {\n",
              "      background-color: #434B5C;\n",
              "      box-shadow: 0px 1px 3px 1px rgba(0, 0, 0, 0.15);\n",
              "      filter: drop-shadow(0px 1px 2px rgba(0, 0, 0, 0.3));\n",
              "      fill: #FFFFFF;\n",
              "    }\n",
              "  </style>\n",
              "\n",
              "    <script>\n",
              "      const buttonEl =\n",
              "        document.querySelector('#df-2ecd0daf-dabf-4ffb-9dab-baa01227cac5 button.colab-df-convert');\n",
              "      buttonEl.style.display =\n",
              "        google.colab.kernel.accessAllowed ? 'block' : 'none';\n",
              "\n",
              "      async function convertToInteractive(key) {\n",
              "        const element = document.querySelector('#df-2ecd0daf-dabf-4ffb-9dab-baa01227cac5');\n",
              "        const dataTable =\n",
              "          await google.colab.kernel.invokeFunction('convertToInteractive',\n",
              "                                                    [key], {});\n",
              "        if (!dataTable) return;\n",
              "\n",
              "        const docLinkHtml = 'Like what you see? Visit the ' +\n",
              "          '<a target=\"_blank\" href=https://colab.research.google.com/notebooks/data_table.ipynb>data table notebook</a>'\n",
              "          + ' to learn more about interactive tables.';\n",
              "        element.innerHTML = '';\n",
              "        dataTable['output_type'] = 'display_data';\n",
              "        await google.colab.output.renderOutput(dataTable, element);\n",
              "        const docLink = document.createElement('div');\n",
              "        docLink.innerHTML = docLinkHtml;\n",
              "        element.appendChild(docLink);\n",
              "      }\n",
              "    </script>\n",
              "  </div>\n",
              "\n",
              "\n",
              "<div id=\"df-dee491c5-5f52-4732-b5ab-9b0af20d58cb\">\n",
              "  <button class=\"colab-df-quickchart\" onclick=\"quickchart('df-dee491c5-5f52-4732-b5ab-9b0af20d58cb')\"\n",
              "            title=\"Suggest charts.\"\n",
              "            style=\"display:none;\">\n",
              "\n",
              "<svg xmlns=\"http://www.w3.org/2000/svg\" height=\"24px\"viewBox=\"0 0 24 24\"\n",
              "     width=\"24px\">\n",
              "    <g>\n",
              "        <path d=\"M19 3H5c-1.1 0-2 .9-2 2v14c0 1.1.9 2 2 2h14c1.1 0 2-.9 2-2V5c0-1.1-.9-2-2-2zM9 17H7v-7h2v7zm4 0h-2V7h2v10zm4 0h-2v-4h2v4z\"/>\n",
              "    </g>\n",
              "</svg>\n",
              "  </button>\n",
              "\n",
              "<style>\n",
              "  .colab-df-quickchart {\n",
              "      --bg-color: #E8F0FE;\n",
              "      --fill-color: #1967D2;\n",
              "      --hover-bg-color: #E2EBFA;\n",
              "      --hover-fill-color: #174EA6;\n",
              "      --disabled-fill-color: #AAA;\n",
              "      --disabled-bg-color: #DDD;\n",
              "  }\n",
              "\n",
              "  [theme=dark] .colab-df-quickchart {\n",
              "      --bg-color: #3B4455;\n",
              "      --fill-color: #D2E3FC;\n",
              "      --hover-bg-color: #434B5C;\n",
              "      --hover-fill-color: #FFFFFF;\n",
              "      --disabled-bg-color: #3B4455;\n",
              "      --disabled-fill-color: #666;\n",
              "  }\n",
              "\n",
              "  .colab-df-quickchart {\n",
              "    background-color: var(--bg-color);\n",
              "    border: none;\n",
              "    border-radius: 50%;\n",
              "    cursor: pointer;\n",
              "    display: none;\n",
              "    fill: var(--fill-color);\n",
              "    height: 32px;\n",
              "    padding: 0;\n",
              "    width: 32px;\n",
              "  }\n",
              "\n",
              "  .colab-df-quickchart:hover {\n",
              "    background-color: var(--hover-bg-color);\n",
              "    box-shadow: 0 1px 2px rgba(60, 64, 67, 0.3), 0 1px 3px 1px rgba(60, 64, 67, 0.15);\n",
              "    fill: var(--button-hover-fill-color);\n",
              "  }\n",
              "\n",
              "  .colab-df-quickchart-complete:disabled,\n",
              "  .colab-df-quickchart-complete:disabled:hover {\n",
              "    background-color: var(--disabled-bg-color);\n",
              "    fill: var(--disabled-fill-color);\n",
              "    box-shadow: none;\n",
              "  }\n",
              "\n",
              "  .colab-df-spinner {\n",
              "    border: 2px solid var(--fill-color);\n",
              "    border-color: transparent;\n",
              "    border-bottom-color: var(--fill-color);\n",
              "    animation:\n",
              "      spin 1s steps(1) infinite;\n",
              "  }\n",
              "\n",
              "  @keyframes spin {\n",
              "    0% {\n",
              "      border-color: transparent;\n",
              "      border-bottom-color: var(--fill-color);\n",
              "      border-left-color: var(--fill-color);\n",
              "    }\n",
              "    20% {\n",
              "      border-color: transparent;\n",
              "      border-left-color: var(--fill-color);\n",
              "      border-top-color: var(--fill-color);\n",
              "    }\n",
              "    30% {\n",
              "      border-color: transparent;\n",
              "      border-left-color: var(--fill-color);\n",
              "      border-top-color: var(--fill-color);\n",
              "      border-right-color: var(--fill-color);\n",
              "    }\n",
              "    40% {\n",
              "      border-color: transparent;\n",
              "      border-right-color: var(--fill-color);\n",
              "      border-top-color: var(--fill-color);\n",
              "    }\n",
              "    60% {\n",
              "      border-color: transparent;\n",
              "      border-right-color: var(--fill-color);\n",
              "    }\n",
              "    80% {\n",
              "      border-color: transparent;\n",
              "      border-right-color: var(--fill-color);\n",
              "      border-bottom-color: var(--fill-color);\n",
              "    }\n",
              "    90% {\n",
              "      border-color: transparent;\n",
              "      border-bottom-color: var(--fill-color);\n",
              "    }\n",
              "  }\n",
              "</style>\n",
              "\n",
              "  <script>\n",
              "    async function quickchart(key) {\n",
              "      const quickchartButtonEl =\n",
              "        document.querySelector('#' + key + ' button');\n",
              "      quickchartButtonEl.disabled = true;  // To prevent multiple clicks.\n",
              "      quickchartButtonEl.classList.add('colab-df-spinner');\n",
              "      try {\n",
              "        const charts = await google.colab.kernel.invokeFunction(\n",
              "            'suggestCharts', [key], {});\n",
              "      } catch (error) {\n",
              "        console.error('Error during call to suggestCharts:', error);\n",
              "      }\n",
              "      quickchartButtonEl.classList.remove('colab-df-spinner');\n",
              "      quickchartButtonEl.classList.add('colab-df-quickchart-complete');\n",
              "    }\n",
              "    (() => {\n",
              "      let quickchartButtonEl =\n",
              "        document.querySelector('#df-dee491c5-5f52-4732-b5ab-9b0af20d58cb button');\n",
              "      quickchartButtonEl.style.display =\n",
              "        google.colab.kernel.accessAllowed ? 'block' : 'none';\n",
              "    })();\n",
              "  </script>\n",
              "</div>\n",
              "    </div>\n",
              "  </div>\n"
            ]
          },
          "metadata": {},
          "execution_count": 105
        }
      ],
      "source": [
        "revenue_df"
      ],
      "id": "7e785383"
    },
    {
      "cell_type": "markdown",
      "metadata": {
        "id": "3075fcd5"
      },
      "source": [
        "## Exercises"
      ],
      "id": "3075fcd5"
    },
    {
      "cell_type": "markdown",
      "metadata": {
        "id": "d35d9350"
      },
      "source": [
        "1. a) Create a dictionary representing a library catalog. The keys should be book titles, and the values should be the corresponding authors. Allow the user to input a book title and display the author's name.\n",
        "\n",
        "   b) Extend the library catalog program to allow users to add new books to the catalog by providing the title and author."
      ],
      "id": "d35d9350"
    },
    {
      "cell_type": "code",
      "execution_count": 115,
      "metadata": {
        "id": "48966cd0"
      },
      "outputs": [],
      "source": [
        "library_cat = {\"book_title\":\n",
        "                                  [\"Things Fall Apart\", \"Half of a Yellow Sun\",\n",
        "                                  \"The Famished Road\",\n",
        "                                  \"The Secret Lives of Baba Segi's Wives\",\n",
        "                                  \"The Fishermen\", \"So Long a Letter\",\n",
        "                                  \"The Icarus Girl\",\n",
        "                                  \"Harry Potter and the Sorcerer's Stone\",\n",
        "                                  \"The Lord of the Rings\", \"The Da Vinci Code\"],\n",
        "\n",
        "                   \"authors\":\n",
        "                                  [\"Chinua Achebe\", \"Chimamanda Ngozi Adichie\",\n",
        "                                   \"Ben Okri\",  \"Lola Shoneyin\", \"Chigozie Obioma\",\n",
        "                                   \"Mariama Ba\", \"Helen Oyeyemi\", \"J.K. Rowling\",\n",
        "                                   \"J.R.R. Tolkien\", \"Dan Brown\"]}"
      ],
      "id": "48966cd0"
    },
    {
      "cell_type": "code",
      "source": [
        "library_cat"
      ],
      "metadata": {
        "colab": {
          "base_uri": "https://localhost:8080/"
        },
        "id": "OGTm28CHgT4y",
        "outputId": "70a63bce-e0a6-43ab-c299-c55cc8aff089"
      },
      "id": "OGTm28CHgT4y",
      "execution_count": 116,
      "outputs": [
        {
          "output_type": "execute_result",
          "data": {
            "text/plain": [
              "{'book_title': ['Things Fall Apart',\n",
              "  'Half of a Yellow Sun',\n",
              "  'The Famished Road',\n",
              "  \"The Secret Lives of Baba Segi's Wives\",\n",
              "  'The Fishermen',\n",
              "  'So Long a Letter',\n",
              "  'The Icarus Girl',\n",
              "  \"Harry Potter and the Sorcerer's Stone\",\n",
              "  'The Lord of the Rings',\n",
              "  'The Da Vinci Code'],\n",
              " 'authors': ['Chinua Achebe',\n",
              "  'Chimamanda Ngozi Adichie',\n",
              "  'Ben Okri',\n",
              "  'Lola Shoneyin',\n",
              "  'Chigozie Obioma',\n",
              "  'Mariama Ba',\n",
              "  'Helen Oyeyemi',\n",
              "  'J.K. Rowling',\n",
              "  'J.R.R. Tolkien',\n",
              "  'Dan Brown']}"
            ]
          },
          "metadata": {},
          "execution_count": 116
        }
      ]
    },
    {
      "cell_type": "code",
      "source": [],
      "metadata": {
        "id": "MAu8-CqEfBeg"
      },
      "id": "MAu8-CqEfBeg",
      "execution_count": null,
      "outputs": []
    },
    {
      "cell_type": "code",
      "source": [
        "# Initialize an empty library catalog dictionary\n",
        "library_catalog = {}\n",
        "\n",
        "# Function to display author for a given book title\n",
        "def display_author(title):\n",
        "    if title in library_catalog:\n",
        "        author = library_catalog[title]\n",
        "        print(f\"The author of '{title}' is {author}.\")\n",
        "    else:\n",
        "        print(f\"'{title}' is not in the library catalog.\")\n",
        "\n",
        "# Function to add a new book to the catalog\n",
        "def add_book(title, author):\n",
        "    if title in library_catalog:\n",
        "        print(f\"'{title}' is already in the library catalog.\")\n",
        "    else:\n",
        "        library_catalog[title] = author\n",
        "        print(f\"'{title}' by {author} has been added to the catalog.\")\n",
        "\n",
        "# Main program loop\n",
        "while True:\n",
        "    print(\"\\nLibrary Catalog Menu:\")\n",
        "    print(\"1. Look up a book by title\")\n",
        "    print(\"2. Add a new book to the catalog\")\n",
        "    print(\"3. Exit\")\n",
        "\n",
        "    choice = input(\"Enter your choice (1/2/3): \")\n",
        "\n",
        "    if choice == \"1\":\n",
        "        book_title = input(\"Enter the book title: \")\n",
        "        display_author(book_title)\n",
        "    elif choice == \"2\":\n",
        "        book_title = input(\"Enter the book title: \")\n",
        "        book_author = input(\"Enter the author's name: \")\n",
        "        add_book(book_title, book_author)\n",
        "    elif choice == \"3\":\n",
        "        print(\"Goodbye!\")\n",
        "        break\n",
        "    else:\n",
        "        print(\"Invalid choice. Please select 1, 2, or 3.\")"
      ],
      "metadata": {
        "colab": {
          "base_uri": "https://localhost:8080/"
        },
        "id": "BmKp9xF7fB6t",
        "outputId": "a84362cb-14d9-44e9-b39a-880d4305b7d2"
      },
      "id": "BmKp9xF7fB6t",
      "execution_count": null,
      "outputs": [
        {
          "output_type": "stream",
          "name": "stdout",
          "text": [
            "\n",
            "Library Catalog Menu:\n",
            "1. Look up a book by title\n",
            "2. Add a new book to the catalog\n",
            "3. Exit\n",
            "Enter your choice (1/2/3): 4\n",
            "Invalid choice. Please select 1, 2, or 3.\n",
            "\n",
            "Library Catalog Menu:\n",
            "1. Look up a book by title\n",
            "2. Add a new book to the catalog\n",
            "3. Exit\n"
          ]
        }
      ]
    },
    {
      "cell_type": "code",
      "source": [],
      "metadata": {
        "id": "3ynbJ-TKfCTr"
      },
      "id": "3ynbJ-TKfCTr",
      "execution_count": null,
      "outputs": []
    },
    {
      "cell_type": "code",
      "source": [
        "dir(library_catalog)"
      ],
      "metadata": {
        "colab": {
          "base_uri": "https://localhost:8080/"
        },
        "id": "SL7CrjD6gbuE",
        "outputId": "5f8eefa8-89d5-4c0f-b77f-79c71deed1a6"
      },
      "id": "SL7CrjD6gbuE",
      "execution_count": 110,
      "outputs": [
        {
          "output_type": "execute_result",
          "data": {
            "text/plain": [
              "['__class__',\n",
              " '__class_getitem__',\n",
              " '__contains__',\n",
              " '__delattr__',\n",
              " '__delitem__',\n",
              " '__dir__',\n",
              " '__doc__',\n",
              " '__eq__',\n",
              " '__format__',\n",
              " '__ge__',\n",
              " '__getattribute__',\n",
              " '__getitem__',\n",
              " '__gt__',\n",
              " '__hash__',\n",
              " '__init__',\n",
              " '__init_subclass__',\n",
              " '__ior__',\n",
              " '__iter__',\n",
              " '__le__',\n",
              " '__len__',\n",
              " '__lt__',\n",
              " '__ne__',\n",
              " '__new__',\n",
              " '__or__',\n",
              " '__reduce__',\n",
              " '__reduce_ex__',\n",
              " '__repr__',\n",
              " '__reversed__',\n",
              " '__ror__',\n",
              " '__setattr__',\n",
              " '__setitem__',\n",
              " '__sizeof__',\n",
              " '__str__',\n",
              " '__subclasshook__',\n",
              " 'clear',\n",
              " 'copy',\n",
              " 'fromkeys',\n",
              " 'get',\n",
              " 'items',\n",
              " 'keys',\n",
              " 'pop',\n",
              " 'popitem',\n",
              " 'setdefault',\n",
              " 'update',\n",
              " 'values']"
            ]
          },
          "metadata": {},
          "execution_count": 110
        }
      ]
    },
    {
      "cell_type": "markdown",
      "metadata": {
        "id": "90863950"
      },
      "source": [
        "2. Create a dictionary that represents a dataset of 10 students' and thier test scores (4 courses). The keys should be dictionaries bearing student names, in the nested dictionary, let the keys represent a course and the value a score for that course. Allow the user to input a student's name and display their average test score.\n",
        "\n",
        "   Create a DataFrame from the student test scores dictionary using pandas. Display the DataFrame to the user."
      ],
      "id": "90863950"
    },
    {
      "cell_type": "code",
      "execution_count": 110,
      "metadata": {
        "id": "dd9dd09e"
      },
      "outputs": [],
      "source": [],
      "id": "dd9dd09e"
    },
    {
      "cell_type": "markdown",
      "metadata": {
        "id": "836c9541"
      },
      "source": [
        "3. Create a dictionary that represents an online store's inventory. The keys should be product names, and the values should be tuples containing the price and available quantity. Allow the user to input a product name, and display its price and availability.\n",
        "\n",
        "    Extend the online store program to allow users to \"purchase\" products by specifying the product name and the quantity they want to buy. Update the inventory accordingly and display the total cost of the purchase."
      ],
      "id": "836c9541"
    },
    {
      "cell_type": "code",
      "execution_count": 110,
      "metadata": {
        "id": "f9d97006"
      },
      "outputs": [],
      "source": [],
      "id": "f9d97006"
    },
    {
      "cell_type": "markdown",
      "metadata": {
        "id": "2ee885a8"
      },
      "source": [
        "4. Create an empty dictionary to represent a glossary. Allow users to add new words and their definitions to the glossary.\n",
        "\n",
        "    Implement a feature that lets users search for the definition of a word. If the word is not in the glossary, inform the user that the word is not found."
      ],
      "id": "2ee885a8"
    },
    {
      "cell_type": "code",
      "execution_count": 110,
      "metadata": {
        "id": "60fd5144"
      },
      "outputs": [],
      "source": [],
      "id": "60fd5144"
    },
    {
      "cell_type": "code",
      "source": [],
      "metadata": {
        "id": "R6HZ75ujjSu4"
      },
      "id": "R6HZ75ujjSu4",
      "execution_count": 110,
      "outputs": []
    },
    {
      "cell_type": "code",
      "source": [],
      "metadata": {
        "id": "sTy8ZEDCjkLx"
      },
      "id": "sTy8ZEDCjkLx",
      "execution_count": 110,
      "outputs": []
    },
    {
      "cell_type": "code",
      "source": [],
      "metadata": {
        "id": "KAUJFNf4jnlY"
      },
      "id": "KAUJFNf4jnlY",
      "execution_count": 110,
      "outputs": []
    }
  ],
  "metadata": {
    "kernelspec": {
      "display_name": "Python 3 (ipykernel)",
      "language": "python",
      "name": "python3"
    },
    "language_info": {
      "codemirror_mode": {
        "name": "ipython",
        "version": 3
      },
      "file_extension": ".py",
      "mimetype": "text/x-python",
      "name": "python",
      "nbconvert_exporter": "python",
      "pygments_lexer": "ipython3",
      "version": "3.11.4"
    },
    "colab": {
      "provenance": [],
      "include_colab_link": true
    }
  },
  "nbformat": 4,
  "nbformat_minor": 5
}