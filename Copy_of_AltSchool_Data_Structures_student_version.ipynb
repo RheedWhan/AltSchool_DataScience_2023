{
  "cells": [
    {
      "cell_type": "markdown",
      "metadata": {
        "id": "view-in-github",
        "colab_type": "text"
      },
      "source": [
        "<a href=\"https://colab.research.google.com/github/RheedWhan/AltSchool_DataScience_2023/blob/main/Copy_of_AltSchool_Data_Structures_student_version.ipynb\" target=\"_parent\"><img src=\"https://colab.research.google.com/assets/colab-badge.svg\" alt=\"Open In Colab\"/></a>"
      ]
    },
    {
      "cell_type": "markdown",
      "id": "bdc39fb2",
      "metadata": {
        "id": "bdc39fb2"
      },
      "source": [
        "### Learning Objectives\n",
        "\n",
        "By the end of this class, you should be able to:\n",
        "\n",
        "1. Understand common Python data structures.\n",
        "2. Apply CRUD operations to data structures.\n",
        "3. Recognize use cases for data structures in data science."
      ]
    },
    {
      "cell_type": "markdown",
      "id": "d23f580c",
      "metadata": {
        "id": "d23f580c"
      },
      "source": [
        "CRUD\n",
        "\n",
        "Create\n",
        "Read\n",
        "Update\n",
        "Delete"
      ]
    },
    {
      "cell_type": "markdown",
      "id": "b4037726",
      "metadata": {
        "id": "b4037726"
      },
      "source": [
        "## 1. Lists <a id=\"lists\"></a>"
      ]
    },
    {
      "cell_type": "markdown",
      "id": "abb31eb5",
      "metadata": {
        "id": "abb31eb5"
      },
      "source": [
        "In Python, lists are versatile and commonly used to store collections of items. You can create lists using square brackets `[]`. you can also use the list function: list()\n",
        "\n",
        "lists are mutable, ordered, typically homogenous."
      ]
    },
    {
      "cell_type": "markdown",
      "id": "7a1b3ec6",
      "metadata": {
        "id": "7a1b3ec6"
      },
      "source": [
        "### Creating a Python List <a id=\"lists-create\"></a>"
      ]
    },
    {
      "cell_type": "code",
      "execution_count": 2,
      "id": "ff4d7271",
      "metadata": {
        "id": "ff4d7271"
      },
      "outputs": [],
      "source": [
        "# creating a list using square brackets\n",
        "shopping_list = ['Groceries', 'Cocacola', 'Milo', 'Bama', 'Floating Berries']"
      ]
    },
    {
      "cell_type": "code",
      "execution_count": 3,
      "id": "eaa11cea",
      "metadata": {
        "id": "eaa11cea",
        "outputId": "27d57f18-4eb7-48a1-c4ad-ebbb79937df9",
        "colab": {
          "base_uri": "https://localhost:8080/"
        }
      },
      "outputs": [
        {
          "output_type": "execute_result",
          "data": {
            "text/plain": [
              "['Groceries', 'Cocacola', 'Milo', 'Bama', 'Floating Berries']"
            ]
          },
          "metadata": {},
          "execution_count": 3
        }
      ],
      "source": [
        "shopping_list"
      ]
    },
    {
      "cell_type": "code",
      "execution_count": 4,
      "id": "3d7aa758",
      "metadata": {
        "id": "3d7aa758"
      },
      "outputs": [],
      "source": [
        "# create a list using the list function\n",
        "shopping_list2 = list(('Perfume', 'Soap', 'Tissue paper', 'Body cream'))"
      ]
    },
    {
      "cell_type": "code",
      "execution_count": 5,
      "id": "a1ffbf00",
      "metadata": {
        "id": "a1ffbf00",
        "outputId": "10e20955-ed5d-4770-8b29-8497f9879da8",
        "colab": {
          "base_uri": "https://localhost:8080/"
        }
      },
      "outputs": [
        {
          "output_type": "execute_result",
          "data": {
            "text/plain": [
              "['Perfume', 'Soap', 'Tissue paper', 'Body cream']"
            ]
          },
          "metadata": {},
          "execution_count": 5
        }
      ],
      "source": [
        "shopping_list2"
      ]
    },
    {
      "cell_type": "code",
      "execution_count": 6,
      "id": "4d9c2f5a",
      "metadata": {
        "id": "4d9c2f5a",
        "outputId": "9991b63f-7252-41e1-f400-cf87bebb4b6e",
        "colab": {
          "base_uri": "https://localhost:8080/"
        }
      },
      "outputs": [
        {
          "output_type": "execute_result",
          "data": {
            "text/plain": [
              "list"
            ]
          },
          "metadata": {},
          "execution_count": 6
        }
      ],
      "source": [
        "type(shopping_list2)"
      ]
    },
    {
      "cell_type": "code",
      "execution_count": 7,
      "id": "5ea31ad8",
      "metadata": {
        "id": "5ea31ad8"
      },
      "outputs": [],
      "source": [
        "# create a list using the list function\n",
        "shopping_list3 = list(['Perfume', 'Soap', 'Tissue paper', 'Body cream'])"
      ]
    },
    {
      "cell_type": "code",
      "execution_count": 8,
      "id": "3a88f5d2",
      "metadata": {
        "id": "3a88f5d2",
        "outputId": "d816b2f1-9ef8-4fe6-aca2-5375ff65b802",
        "colab": {
          "base_uri": "https://localhost:8080/"
        }
      },
      "outputs": [
        {
          "output_type": "execute_result",
          "data": {
            "text/plain": [
              "['Perfume', 'Soap', 'Tissue paper', 'Body cream']"
            ]
          },
          "metadata": {},
          "execution_count": 8
        }
      ],
      "source": [
        "shopping_list3"
      ]
    },
    {
      "cell_type": "code",
      "execution_count": 9,
      "id": "6d359cfc",
      "metadata": {
        "id": "6d359cfc"
      },
      "outputs": [],
      "source": [
        "shopping_list4 = []"
      ]
    },
    {
      "cell_type": "markdown",
      "id": "d7f60d72",
      "metadata": {
        "id": "d7f60d72"
      },
      "source": [
        "### Reading a List <a id=\"lists-read\"></a>"
      ]
    },
    {
      "cell_type": "code",
      "execution_count": 10,
      "id": "2c5bf349",
      "metadata": {
        "scrolled": true,
        "id": "2c5bf349",
        "outputId": "a55eda8f-3c6c-4076-d826-828313211f59",
        "colab": {
          "base_uri": "https://localhost:8080/"
        }
      },
      "outputs": [
        {
          "output_type": "stream",
          "name": "stdout",
          "text": [
            "Perfume\n"
          ]
        }
      ],
      "source": [
        "print(shopping_list3[0])"
      ]
    },
    {
      "cell_type": "code",
      "execution_count": 11,
      "id": "bfba76b0",
      "metadata": {
        "id": "bfba76b0",
        "outputId": "5821be78-8dd4-4698-be36-e1a9dba3acee",
        "colab": {
          "base_uri": "https://localhost:8080/"
        }
      },
      "outputs": [
        {
          "output_type": "stream",
          "name": "stdout",
          "text": [
            "['Perfume', 'Soap']\n"
          ]
        }
      ],
      "source": [
        "# slicing a list: first two items\n",
        "\n",
        "print(shopping_list3[0:2])"
      ]
    },
    {
      "cell_type": "code",
      "execution_count": 12,
      "id": "59d78d59",
      "metadata": {
        "id": "59d78d59"
      },
      "outputs": [],
      "source": [
        "numbers = [0, 1, 2, 3, 4, 5, 6, 7, 8, 9]"
      ]
    },
    {
      "cell_type": "code",
      "execution_count": 13,
      "id": "985e266e",
      "metadata": {
        "id": "985e266e",
        "outputId": "b182a6fb-2b11-4651-cdc9-8812edb7e2db",
        "colab": {
          "base_uri": "https://localhost:8080/"
        }
      },
      "outputs": [
        {
          "output_type": "execute_result",
          "data": {
            "text/plain": [
              "[0, 2, 4, 6, 8]"
            ]
          },
          "metadata": {},
          "execution_count": 13
        }
      ],
      "source": [
        "numbers[::2]"
      ]
    },
    {
      "cell_type": "code",
      "execution_count": 14,
      "id": "be70e80c",
      "metadata": {
        "id": "be70e80c",
        "outputId": "1d18ab08-4405-448a-c406-dfbf852c83a9",
        "colab": {
          "base_uri": "https://localhost:8080/"
        }
      },
      "outputs": [
        {
          "output_type": "execute_result",
          "data": {
            "text/plain": [
              "9"
            ]
          },
          "metadata": {},
          "execution_count": 14
        }
      ],
      "source": [
        "numbers[-1]"
      ]
    },
    {
      "cell_type": "markdown",
      "id": "5287005c",
      "metadata": {
        "id": "5287005c"
      },
      "source": [
        "### Updating a List <a id=\"lists-update\"></a>"
      ]
    },
    {
      "cell_type": "code",
      "execution_count": 15,
      "id": "2fe412e8",
      "metadata": {
        "collapsed": true,
        "id": "2fe412e8",
        "outputId": "35a46511-e472-4f80-bd7e-435f5ce25a60",
        "colab": {
          "base_uri": "https://localhost:8080/"
        }
      },
      "outputs": [
        {
          "output_type": "execute_result",
          "data": {
            "text/plain": [
              "['__add__',\n",
              " '__class__',\n",
              " '__class_getitem__',\n",
              " '__contains__',\n",
              " '__delattr__',\n",
              " '__delitem__',\n",
              " '__dir__',\n",
              " '__doc__',\n",
              " '__eq__',\n",
              " '__format__',\n",
              " '__ge__',\n",
              " '__getattribute__',\n",
              " '__getitem__',\n",
              " '__gt__',\n",
              " '__hash__',\n",
              " '__iadd__',\n",
              " '__imul__',\n",
              " '__init__',\n",
              " '__init_subclass__',\n",
              " '__iter__',\n",
              " '__le__',\n",
              " '__len__',\n",
              " '__lt__',\n",
              " '__mul__',\n",
              " '__ne__',\n",
              " '__new__',\n",
              " '__reduce__',\n",
              " '__reduce_ex__',\n",
              " '__repr__',\n",
              " '__reversed__',\n",
              " '__rmul__',\n",
              " '__setattr__',\n",
              " '__setitem__',\n",
              " '__sizeof__',\n",
              " '__str__',\n",
              " '__subclasshook__',\n",
              " 'append',\n",
              " 'clear',\n",
              " 'copy',\n",
              " 'count',\n",
              " 'extend',\n",
              " 'index',\n",
              " 'insert',\n",
              " 'pop',\n",
              " 'remove',\n",
              " 'reverse',\n",
              " 'sort']"
            ]
          },
          "metadata": {},
          "execution_count": 15
        }
      ],
      "source": [
        "dir(shopping_list4)"
      ]
    },
    {
      "cell_type": "code",
      "execution_count": 16,
      "id": "40361f6c",
      "metadata": {
        "id": "40361f6c"
      },
      "outputs": [],
      "source": [
        "shopping_list4.append('Soap')"
      ]
    },
    {
      "cell_type": "code",
      "execution_count": 17,
      "id": "685132ba",
      "metadata": {
        "id": "685132ba"
      },
      "outputs": [],
      "source": [
        "shopping_list4.append('Perfume')"
      ]
    },
    {
      "cell_type": "code",
      "execution_count": 18,
      "id": "96f16a11",
      "metadata": {
        "id": "96f16a11",
        "outputId": "b584ff07-bbd0-4fc8-c4e2-81661162df14",
        "colab": {
          "base_uri": "https://localhost:8080/"
        }
      },
      "outputs": [
        {
          "output_type": "stream",
          "name": "stdout",
          "text": [
            "['Soap', 'Perfume']\n"
          ]
        }
      ],
      "source": [
        "print(shopping_list4)"
      ]
    },
    {
      "cell_type": "code",
      "execution_count": 19,
      "id": "12360753",
      "metadata": {
        "id": "12360753"
      },
      "outputs": [],
      "source": [
        "shopping_list4.insert(0, 'Tissue Paper')"
      ]
    },
    {
      "cell_type": "code",
      "execution_count": 20,
      "id": "9b2efd10",
      "metadata": {
        "id": "9b2efd10",
        "outputId": "a09c56ed-1937-45ea-fb8a-43d12dea9ca9",
        "colab": {
          "base_uri": "https://localhost:8080/"
        }
      },
      "outputs": [
        {
          "output_type": "stream",
          "name": "stdout",
          "text": [
            "['Tissue Paper', 'Soap', 'Perfume']\n"
          ]
        }
      ],
      "source": [
        "print(shopping_list4)"
      ]
    },
    {
      "cell_type": "code",
      "execution_count": 21,
      "id": "0655b240",
      "metadata": {
        "id": "0655b240"
      },
      "outputs": [],
      "source": [
        "shopping_list4.extend(['Groceries', 'Cocacola', 'Milo', 'Bama', 'Floating Berries'])"
      ]
    },
    {
      "cell_type": "code",
      "execution_count": 22,
      "id": "fbf59323",
      "metadata": {
        "id": "fbf59323",
        "outputId": "b2f1e434-165a-48ac-fcb3-c17b4bc794b2",
        "colab": {
          "base_uri": "https://localhost:8080/"
        }
      },
      "outputs": [
        {
          "output_type": "stream",
          "name": "stdout",
          "text": [
            "['Tissue Paper', 'Soap', 'Perfume', 'Groceries', 'Cocacola', 'Milo', 'Bama', 'Floating Berries']\n"
          ]
        }
      ],
      "source": [
        "print(shopping_list4)"
      ]
    },
    {
      "cell_type": "code",
      "execution_count": 23,
      "id": "d43e680d",
      "metadata": {
        "id": "d43e680d"
      },
      "outputs": [],
      "source": [
        "# removing items from a list: remove, pop"
      ]
    },
    {
      "cell_type": "code",
      "execution_count": 24,
      "id": "73cb46d2",
      "metadata": {
        "id": "73cb46d2",
        "outputId": "89585d8d-bd26-4948-c16d-bfe6121cb81e",
        "colab": {
          "base_uri": "https://localhost:8080/",
          "height": 36
        }
      },
      "outputs": [
        {
          "output_type": "execute_result",
          "data": {
            "text/plain": [
              "'Floating Berries'"
            ],
            "application/vnd.google.colaboratory.intrinsic+json": {
              "type": "string"
            }
          },
          "metadata": {},
          "execution_count": 24
        }
      ],
      "source": [
        "shopping_list4.pop()"
      ]
    },
    {
      "cell_type": "code",
      "execution_count": 25,
      "id": "6746e06b",
      "metadata": {
        "id": "6746e06b",
        "outputId": "f17d7979-08e2-4ff8-a669-894c5d148aea",
        "colab": {
          "base_uri": "https://localhost:8080/"
        }
      },
      "outputs": [
        {
          "output_type": "stream",
          "name": "stdout",
          "text": [
            "['Tissue Paper', 'Soap', 'Perfume', 'Groceries', 'Cocacola', 'Milo', 'Bama']\n"
          ]
        }
      ],
      "source": [
        "print(shopping_list4)"
      ]
    },
    {
      "cell_type": "code",
      "execution_count": 26,
      "id": "023c200b",
      "metadata": {
        "id": "023c200b"
      },
      "outputs": [],
      "source": [
        "shopping_list4.remove('Soap')"
      ]
    },
    {
      "cell_type": "code",
      "execution_count": 27,
      "id": "5530b2db",
      "metadata": {
        "id": "5530b2db",
        "outputId": "3de5fd93-1008-4f90-d2f7-0d4ee3d22cc3",
        "colab": {
          "base_uri": "https://localhost:8080/"
        }
      },
      "outputs": [
        {
          "output_type": "stream",
          "name": "stdout",
          "text": [
            "['Tissue Paper', 'Perfume', 'Groceries', 'Cocacola', 'Milo', 'Bama']\n"
          ]
        }
      ],
      "source": [
        "print(shopping_list4)"
      ]
    },
    {
      "cell_type": "code",
      "execution_count": 28,
      "id": "87638e41",
      "metadata": {
        "id": "87638e41",
        "outputId": "6d3c2c93-a9f3-418c-c965-108d90a0da21",
        "colab": {
          "base_uri": "https://localhost:8080/"
        }
      },
      "outputs": [
        {
          "output_type": "stream",
          "name": "stdout",
          "text": [
            "Object `shopping_list.update` not found.\n"
          ]
        }
      ],
      "source": [
        "shopping_list.update??"
      ]
    },
    {
      "cell_type": "markdown",
      "id": "1a723366",
      "metadata": {
        "id": "1a723366"
      },
      "source": [
        "### Delete"
      ]
    },
    {
      "cell_type": "code",
      "execution_count": 29,
      "id": "27d76b64",
      "metadata": {
        "id": "27d76b64"
      },
      "outputs": [],
      "source": [
        "shopping_list4.clear()"
      ]
    },
    {
      "cell_type": "code",
      "execution_count": 30,
      "id": "6385e6c1",
      "metadata": {
        "id": "6385e6c1",
        "outputId": "3274b7dd-0184-4545-91d5-5465f6c15169",
        "colab": {
          "base_uri": "https://localhost:8080/"
        }
      },
      "outputs": [
        {
          "output_type": "stream",
          "name": "stdout",
          "text": [
            "[]\n"
          ]
        }
      ],
      "source": [
        "print(shopping_list4)"
      ]
    },
    {
      "cell_type": "markdown",
      "id": "2e6bbc8a",
      "metadata": {
        "id": "2e6bbc8a"
      },
      "source": [
        "### List: Use Cases in Data Science <a id=\"lists-use-cases\"></a>"
      ]
    },
    {
      "cell_type": "markdown",
      "id": "74350f0e",
      "metadata": {
        "id": "74350f0e"
      },
      "source": [
        "### Use Case: Storing and Manipulating Datasets\n",
        "\n",
        "#### Background\n",
        "\n",
        "In data science, we often work with datasets that contain various types of information, such as numerical values, text data, or categorical variables. Python lists provide a convenient way to store and manipulate these datasets.\n",
        "\n",
        "#### Scenario\n",
        "\n",
        "Suppose we have collected data on the monthly sales revenue (in thousands of dollars) for a small retail store over the past year. The dataset includes sales data for each month. We want to use a Python list to store and analyze this dataset.\n",
        "\n",
        "#### Implementation\n",
        "\n",
        "Let's create a Python list called `monthly_sales` to store our dataset. Each element in the list represents the monthly sales revenue for one month, starting from January (index 0) to December (index 11).\n",
        "\n",
        "```python\n",
        "# Creating a list to store monthly sales data\n",
        "monthly_sales = [120, 135, 150, 145, 155, 160, 170, 180, 190, 200, 210, 220]\n"
      ]
    },
    {
      "cell_type": "code",
      "execution_count": 31,
      "id": "7159d058",
      "metadata": {
        "id": "7159d058"
      },
      "outputs": [],
      "source": [
        "monthly_sales = [120, 135, 150, 145, 155, 160, 170, 180, 190, 200, 210, 220]"
      ]
    },
    {
      "cell_type": "code",
      "execution_count": 32,
      "id": "ee788a1a",
      "metadata": {
        "id": "ee788a1a"
      },
      "outputs": [],
      "source": [
        "total_yearly_revenue = sum(monthly_sales)"
      ]
    },
    {
      "cell_type": "code",
      "execution_count": 33,
      "id": "a7cd1273",
      "metadata": {
        "id": "a7cd1273",
        "outputId": "6c05f617-287d-4916-adbd-c4089ee98b18",
        "colab": {
          "base_uri": "https://localhost:8080/"
        }
      },
      "outputs": [
        {
          "output_type": "stream",
          "name": "stdout",
          "text": [
            "2035\n"
          ]
        }
      ],
      "source": [
        "print(total_yearly_revenue)"
      ]
    },
    {
      "cell_type": "code",
      "execution_count": 34,
      "id": "d01fe4e7",
      "metadata": {
        "id": "d01fe4e7"
      },
      "outputs": [],
      "source": [
        "# avg = total/no. of total\n",
        "\n",
        "average_revenue = total_yearly_revenue / len(monthly_sales)"
      ]
    },
    {
      "cell_type": "code",
      "execution_count": 35,
      "id": "a36b8137",
      "metadata": {
        "id": "a36b8137",
        "outputId": "f2a372c8-11c6-4871-da31-f65a44f047f7",
        "colab": {
          "base_uri": "https://localhost:8080/"
        }
      },
      "outputs": [
        {
          "output_type": "stream",
          "name": "stdout",
          "text": [
            "169.6\n"
          ]
        }
      ],
      "source": [
        "print(round(average_revenue, 1))"
      ]
    },
    {
      "cell_type": "markdown",
      "id": "9b7315b2",
      "metadata": {
        "id": "9b7315b2"
      },
      "source": [
        "### Assignment"
      ]
    },
    {
      "cell_type": "markdown",
      "id": "8b6f8812",
      "metadata": {
        "id": "8b6f8812"
      },
      "source": [
        "1. From the list (monthly_sales) above,\n",
        "- create four seperate lists frm the list for each quarter namely: q1, q2, q3, q4.\n",
        "- report what quarter had the highest amount in total revenue,\n",
        "- report the lowest."
      ]
    },
    {
      "cell_type": "code",
      "source": [
        "monthly_sales"
      ],
      "metadata": {
        "colab": {
          "base_uri": "https://localhost:8080/"
        },
        "id": "ue_hLOtkJQXQ",
        "outputId": "5285ceb9-b196-49e0-cf3f-4075a179def9"
      },
      "id": "ue_hLOtkJQXQ",
      "execution_count": 42,
      "outputs": [
        {
          "output_type": "execute_result",
          "data": {
            "text/plain": [
              "[120, 135, 150, 145, 155, 160, 170, 180, 190, 200, 210, 220]"
            ]
          },
          "metadata": {},
          "execution_count": 42
        }
      ]
    },
    {
      "cell_type": "code",
      "source": [
        "monthly_sales_q1 = monthly_sales[:3]\n",
        "\n",
        "monthly_sales_q1"
      ],
      "metadata": {
        "colab": {
          "base_uri": "https://localhost:8080/"
        },
        "id": "clUpONP-IzUI",
        "outputId": "2fcfaf58-5de7-4301-9cf9-c026d2155360"
      },
      "id": "clUpONP-IzUI",
      "execution_count": 43,
      "outputs": [
        {
          "output_type": "execute_result",
          "data": {
            "text/plain": [
              "[120, 135, 150]"
            ]
          },
          "metadata": {},
          "execution_count": 43
        }
      ]
    },
    {
      "cell_type": "code",
      "source": [
        "monthly_sales_q2 = monthly_sales[3:6]\n",
        "\n",
        "monthly_sales_q2"
      ],
      "metadata": {
        "colab": {
          "base_uri": "https://localhost:8080/"
        },
        "id": "QGlx1icoIzwF",
        "outputId": "bf1ef65d-b2f1-4aac-e463-df35869511ee"
      },
      "id": "QGlx1icoIzwF",
      "execution_count": 45,
      "outputs": [
        {
          "output_type": "execute_result",
          "data": {
            "text/plain": [
              "[145, 155, 160]"
            ]
          },
          "metadata": {},
          "execution_count": 45
        }
      ]
    },
    {
      "cell_type": "code",
      "source": [
        "monthly_sales_q3 =  monthly_sales[6:9]\n",
        "\n",
        "monthly_sales_q3"
      ],
      "metadata": {
        "colab": {
          "base_uri": "https://localhost:8080/"
        },
        "id": "0Pq_hcZ_J1Os",
        "outputId": "32cd27ca-c0e8-4741-eff3-16e05f52bfc5"
      },
      "id": "0Pq_hcZ_J1Os",
      "execution_count": 46,
      "outputs": [
        {
          "output_type": "execute_result",
          "data": {
            "text/plain": [
              "[170, 180, 190]"
            ]
          },
          "metadata": {},
          "execution_count": 46
        }
      ]
    },
    {
      "cell_type": "code",
      "source": [
        "monthly_sales_q4 = monthly_sales[9:]\n",
        "\n",
        "monthly_sales_q4"
      ],
      "metadata": {
        "colab": {
          "base_uri": "https://localhost:8080/"
        },
        "id": "Is0NMorIJ1uy",
        "outputId": "0a6bc136-ecc9-432f-fac3-9f9198e39567"
      },
      "id": "Is0NMorIJ1uy",
      "execution_count": 47,
      "outputs": [
        {
          "output_type": "execute_result",
          "data": {
            "text/plain": [
              "[200, 210, 220]"
            ]
          },
          "metadata": {},
          "execution_count": 47
        }
      ]
    },
    {
      "cell_type": "code",
      "source": [
        "print(f' sum_q1: {sum(monthly_sales_q1)} \\n sum_q2: {sum(monthly_sales_q2)} \\n sum_q3: {sum(monthly_sales_q3)} \\n sum_q4: {sum(monthly_sales_q4)}')\n",
        "\n",
        "print(max(sum(monthly_sales_q1), sum(monthly_sales_q2), sum(monthly_sales_q3), sum(monthly_sales_q4)))\n",
        "print(min(sum(monthly_sales_q1), sum(monthly_sales_q2), sum(monthly_sales_q3), sum(monthly_sales_q4)))"
      ],
      "metadata": {
        "colab": {
          "base_uri": "https://localhost:8080/"
        },
        "id": "FPJQhaQJJ2Il",
        "outputId": "df85c708-0a45-4ac8-b0ab-41f2656f5c4e"
      },
      "id": "FPJQhaQJJ2Il",
      "execution_count": 88,
      "outputs": [
        {
          "output_type": "stream",
          "name": "stdout",
          "text": [
            " sum_q1: 405 \n",
            " sum_q2: 460 \n",
            " sum_q3: 540 \n",
            " sum_q4: 630\n",
            "630\n",
            "405\n"
          ]
        }
      ]
    },
    {
      "cell_type": "markdown",
      "source": [
        "sum_q1: 405,\n",
        "\n",
        "sum_q2: 460,\n",
        "\n",
        "sum_q3: 540,\n",
        "\n",
        "sum_q4: 630\n",
        "\n",
        "The Quarter had the highest amount in total revenue: Fourth Quarter(630)\n",
        "\n",
        "The Quarter had the lowest amount in total revenue: First Quarter(405)"
      ],
      "metadata": {
        "id": "wvZ0NzQzTvEi"
      },
      "id": "wvZ0NzQzTvEi"
    },
    {
      "cell_type": "markdown",
      "source": [
        "**Alternatively, we can use a for loop to get the sum of the monthly sales**"
      ],
      "metadata": {
        "id": "23QmUMJ1t_Tb"
      },
      "id": "23QmUMJ1t_Tb"
    },
    {
      "cell_type": "code",
      "source": [
        "monthly_sales"
      ],
      "metadata": {
        "colab": {
          "base_uri": "https://localhost:8080/"
        },
        "id": "wp9-BJ-Wt3cE",
        "outputId": "4c6b8330-b34d-4580-bbae-b90a54e4ac22"
      },
      "id": "wp9-BJ-Wt3cE",
      "execution_count": 137,
      "outputs": [
        {
          "output_type": "execute_result",
          "data": {
            "text/plain": [
              "[120, 135, 150, 145, 155, 160, 170, 180, 190, 200, 210, 220]"
            ]
          },
          "metadata": {},
          "execution_count": 137
        }
      ]
    },
    {
      "cell_type": "code",
      "source": [
        "Q1 = monthly_sales[:3]\n",
        "\n",
        "Q1"
      ],
      "metadata": {
        "colab": {
          "base_uri": "https://localhost:8080/"
        },
        "id": "PidvSqouwwlk",
        "outputId": "b84fffb3-b49c-442c-b9a9-d12c51c29086"
      },
      "id": "PidvSqouwwlk",
      "execution_count": 140,
      "outputs": [
        {
          "output_type": "execute_result",
          "data": {
            "text/plain": [
              "[120, 135, 150]"
            ]
          },
          "metadata": {},
          "execution_count": 140
        }
      ]
    },
    {
      "cell_type": "code",
      "source": [
        "Q1_sum = [sum(sales) for sales in Q1]\n",
        "Q1_sum"
      ],
      "metadata": {
        "colab": {
          "base_uri": "https://localhost:8080/",
          "height": 262
        },
        "id": "4ZVahl2RuYNF",
        "outputId": "e6dce849-432c-4dd4-c756-684de01070bb"
      },
      "id": "4ZVahl2RuYNF",
      "execution_count": 141,
      "outputs": [
        {
          "output_type": "error",
          "ename": "TypeError",
          "evalue": "ignored",
          "traceback": [
            "\u001b[0;31m---------------------------------------------------------------------------\u001b[0m",
            "\u001b[0;31mTypeError\u001b[0m                                 Traceback (most recent call last)",
            "\u001b[0;32m<ipython-input-141-20f82b99169d>\u001b[0m in \u001b[0;36m<cell line: 1>\u001b[0;34m()\u001b[0m\n\u001b[0;32m----> 1\u001b[0;31m \u001b[0mQ1_sum\u001b[0m \u001b[0;34m=\u001b[0m \u001b[0;34m[\u001b[0m\u001b[0msum\u001b[0m\u001b[0;34m(\u001b[0m\u001b[0msales\u001b[0m\u001b[0;34m)\u001b[0m \u001b[0;32mfor\u001b[0m \u001b[0msales\u001b[0m \u001b[0;32min\u001b[0m \u001b[0mQ1\u001b[0m\u001b[0;34m]\u001b[0m\u001b[0;34m\u001b[0m\u001b[0;34m\u001b[0m\u001b[0m\n\u001b[0m\u001b[1;32m      2\u001b[0m \u001b[0mQ1_sum\u001b[0m\u001b[0;34m\u001b[0m\u001b[0;34m\u001b[0m\u001b[0m\n",
            "\u001b[0;32m<ipython-input-141-20f82b99169d>\u001b[0m in \u001b[0;36m<listcomp>\u001b[0;34m(.0)\u001b[0m\n\u001b[0;32m----> 1\u001b[0;31m \u001b[0mQ1_sum\u001b[0m \u001b[0;34m=\u001b[0m \u001b[0;34m[\u001b[0m\u001b[0msum\u001b[0m\u001b[0;34m(\u001b[0m\u001b[0msales\u001b[0m\u001b[0;34m)\u001b[0m \u001b[0;32mfor\u001b[0m \u001b[0msales\u001b[0m \u001b[0;32min\u001b[0m \u001b[0mQ1\u001b[0m\u001b[0;34m]\u001b[0m\u001b[0;34m\u001b[0m\u001b[0;34m\u001b[0m\u001b[0m\n\u001b[0m\u001b[1;32m      2\u001b[0m \u001b[0mQ1_sum\u001b[0m\u001b[0;34m\u001b[0m\u001b[0;34m\u001b[0m\u001b[0m\n",
            "\u001b[0;31mTypeError\u001b[0m: 'int' object is not iterable"
          ]
        }
      ]
    },
    {
      "cell_type": "markdown",
      "id": "6c0c31ee",
      "metadata": {
        "id": "6c0c31ee"
      },
      "source": [
        "2. Store the names of a few of your friends in a list called names.\n",
        "- Print each person’s name by accessing each element in the list, one at a time.\n",
        "- Start with the list you created, but instead of just printing each person’s name, print a message to them. The text of each message should be the same, but each message should be personalized with the person’s name. hint(use may use f-strings)"
      ]
    },
    {
      "cell_type": "code",
      "execution_count": 77,
      "id": "5f87247d",
      "metadata": {
        "id": "5f87247d",
        "colab": {
          "base_uri": "https://localhost:8080/"
        },
        "outputId": "d1491f73-e8d4-42ec-8eea-b7dcefef5d1e"
      },
      "outputs": [
        {
          "output_type": "stream",
          "name": "stdout",
          "text": [
            "Sola is my friend\n",
            "Lekan is my friend\n",
            "Oyin is my friend\n",
            "Joy is my friend\n",
            "Uthman is my friend\n",
            "Ayobami is my friend\n",
            "Ike is my friend\n",
            "Blessing is my friend\n",
            "Jerry is my friend\n",
            "Kola is my friend\n"
          ]
        }
      ],
      "source": [
        "names = [\"Sola\", \"Lekan\", \"Oyin\", \"Joy\", \"Uthman\", \"Ayobami\", \"Ike\", \"Blessing\", \"Jerry\", \"Kola\"]\n",
        "\n",
        "print(names[0],f'is my friend')\n",
        "print(names[1],f'is my friend')\n",
        "print(names[2],f'is my friend')\n",
        "print(names[3],f'is my friend')\n",
        "print(names[4],f'is my friend')\n",
        "print(names[5],f'is my friend')\n",
        "print(names[6],f'is my friend')\n",
        "print(names[7],f'is my friend')\n",
        "print(names[8],f'is my friend')\n",
        "print(names[9],f'is my friend')"
      ]
    },
    {
      "cell_type": "code",
      "source": [
        "# Alternatively, you can do the same using for loop\n",
        "\n",
        "names = [\"Sola\", \"Lekan\", \"Oyin\", \"Joy\", \"Uthman\", \"Ayobami\", \"Ike\", \"Blessing\", \"Jerry\", \"Kola\"]\n",
        "\n",
        "for name in names:\n",
        "  print(name,f'is my friend')"
      ],
      "metadata": {
        "colab": {
          "base_uri": "https://localhost:8080/"
        },
        "id": "hypKINXmeRNX",
        "outputId": "2a27ee89-7ab6-4e7a-e5dc-faef9cd8720f"
      },
      "id": "hypKINXmeRNX",
      "execution_count": 78,
      "outputs": [
        {
          "output_type": "stream",
          "name": "stdout",
          "text": [
            "Sola is my friend\n",
            "Lekan is my friend\n",
            "Oyin is my friend\n",
            "Joy is my friend\n",
            "Uthman is my friend\n",
            "Ayobami is my friend\n",
            "Ike is my friend\n",
            "Blessing is my friend\n",
            "Jerry is my friend\n",
            "Kola is my friend\n"
          ]
        }
      ]
    },
    {
      "cell_type": "markdown",
      "id": "ae61bb7e",
      "metadata": {
        "id": "ae61bb7e"
      },
      "source": [
        "3. You are managing a list of students' names in your class.\n",
        "* Create a list called student_names containing the following student names as strings: 'Alice', 'Bob', 'Charlie', 'David', 'Eve'.\n",
        "- Use the student_names list from the list above for the following operations:\n",
        "  - a. Print the number of students in the class (the length of the list).\n",
        "  - b. Print the first and last student names in the list.\n",
        "  - c. Charlie has left the class. Remove his name from the list.\n",
        "  - d. A new student, \"Frank,\" has joined the class. Add his name to the list.\n",
        "  - e. The class has been dissolved, and you need to remove all student names from the list."
      ]
    },
    {
      "cell_type": "code",
      "execution_count": 93,
      "id": "120d240f",
      "metadata": {
        "id": "120d240f"
      },
      "outputs": [],
      "source": [
        "student_names = ['Alice', 'Bob', 'Charlie', 'David', 'Eve']"
      ]
    },
    {
      "cell_type": "code",
      "source": [
        "# Number of students in the class\n",
        "\n",
        "len(student_names)"
      ],
      "metadata": {
        "colab": {
          "base_uri": "https://localhost:8080/"
        },
        "id": "U9WF1iBZfsYh",
        "outputId": "1dbcead9-f0d2-4179-f95e-84359ed711e3"
      },
      "id": "U9WF1iBZfsYh",
      "execution_count": 81,
      "outputs": [
        {
          "output_type": "execute_result",
          "data": {
            "text/plain": [
              "5"
            ]
          },
          "metadata": {},
          "execution_count": 81
        }
      ]
    },
    {
      "cell_type": "code",
      "source": [
        "# The first and the last name on the list\n",
        "\n",
        "print(f'First name: {student_names[0]}\\nLast name: {student_names[-1]}')"
      ],
      "metadata": {
        "colab": {
          "base_uri": "https://localhost:8080/"
        },
        "id": "g2qktKjRgBB0",
        "outputId": "9a9741c7-8846-4158-b145-7a5c0e0e5424"
      },
      "id": "g2qktKjRgBB0",
      "execution_count": 84,
      "outputs": [
        {
          "output_type": "stream",
          "name": "stdout",
          "text": [
            "First name: Alice\n",
            "Last name: Eve\n"
          ]
        }
      ]
    },
    {
      "cell_type": "code",
      "source": [
        "# Remove Charlie from the list\n",
        "\n",
        "student_names.remove('Charlie')"
      ],
      "metadata": {
        "id": "JfyTupHXhdjC"
      },
      "id": "JfyTupHXhdjC",
      "execution_count": 94,
      "outputs": []
    },
    {
      "cell_type": "code",
      "source": [
        "# Add a new student to the list\n",
        "\n",
        "student_names.append('Frank')\n",
        "\n",
        "student_names"
      ],
      "metadata": {
        "colab": {
          "base_uri": "https://localhost:8080/"
        },
        "id": "48ymnnQRh949",
        "outputId": "b58cf631-82c3-4c03-9f11-973aff3ef792"
      },
      "id": "48ymnnQRh949",
      "execution_count": 96,
      "outputs": [
        {
          "output_type": "execute_result",
          "data": {
            "text/plain": [
              "['Alice', 'Bob', 'David', 'Eve', 'Frank']"
            ]
          },
          "metadata": {},
          "execution_count": 96
        }
      ]
    },
    {
      "cell_type": "code",
      "source": [
        "# Dissolve the class\n",
        "\n",
        "student_names.clear()"
      ],
      "metadata": {
        "id": "ewrg7tA3iVr1"
      },
      "id": "ewrg7tA3iVr1",
      "execution_count": 101,
      "outputs": []
    },
    {
      "cell_type": "code",
      "source": [
        "student_names"
      ],
      "metadata": {
        "colab": {
          "base_uri": "https://localhost:8080/"
        },
        "id": "R3-j-VoMieS4",
        "outputId": "e5555bc5-3d67-4f6a-879f-cdfa36021c35"
      },
      "id": "R3-j-VoMieS4",
      "execution_count": 102,
      "outputs": [
        {
          "output_type": "execute_result",
          "data": {
            "text/plain": [
              "[]"
            ]
          },
          "metadata": {},
          "execution_count": 102
        }
      ]
    },
    {
      "cell_type": "code",
      "source": [
        "for n in range(0, 7):\n",
        "  print(n)"
      ],
      "metadata": {
        "colab": {
          "base_uri": "https://localhost:8080/"
        },
        "id": "zj6VG264haZi",
        "outputId": "52edaf0a-22ff-467a-ca15-59a8267f8005"
      },
      "id": "zj6VG264haZi",
      "execution_count": 111,
      "outputs": [
        {
          "output_type": "stream",
          "name": "stdout",
          "text": [
            "0\n",
            "1\n",
            "2\n",
            "3\n",
            "4\n",
            "5\n",
            "6\n"
          ]
        }
      ]
    },
    {
      "cell_type": "code",
      "source": [
        "list(range(0, 7))"
      ],
      "metadata": {
        "colab": {
          "base_uri": "https://localhost:8080/"
        },
        "id": "xLPG-QKKnvRa",
        "outputId": "419ac7f0-ebc0-4023-e266-7fa33ebb8f9a"
      },
      "id": "xLPG-QKKnvRa",
      "execution_count": 112,
      "outputs": [
        {
          "output_type": "execute_result",
          "data": {
            "text/plain": [
              "[0, 1, 2, 3, 4, 5, 6]"
            ]
          },
          "metadata": {},
          "execution_count": 112
        }
      ]
    },
    {
      "cell_type": "code",
      "source": [
        "squares = []\n",
        "for n in range(1, 11):\n",
        "  squares = n ** 2\n",
        "  print(squares)\n"
      ],
      "metadata": {
        "colab": {
          "base_uri": "https://localhost:8080/"
        },
        "id": "tDPaiPqmoyd5",
        "outputId": "7d13ca97-4106-4e9a-c223-5b1ef49e6939"
      },
      "id": "tDPaiPqmoyd5",
      "execution_count": 127,
      "outputs": [
        {
          "output_type": "stream",
          "name": "stdout",
          "text": [
            "1\n",
            "4\n",
            "9\n",
            "16\n",
            "25\n",
            "36\n",
            "49\n",
            "64\n",
            "81\n",
            "100\n"
          ]
        }
      ]
    },
    {
      "cell_type": "code",
      "source": [
        "squares = [ n ** 2 for n in range(1, 11)]\n",
        "\n",
        "squares"
      ],
      "metadata": {
        "colab": {
          "base_uri": "https://localhost:8080/"
        },
        "id": "wAPCCaRwqkbK",
        "outputId": "b612b519-3409-48b4-acd4-04fa0ad2c14c"
      },
      "id": "wAPCCaRwqkbK",
      "execution_count": 122,
      "outputs": [
        {
          "output_type": "execute_result",
          "data": {
            "text/plain": [
              "[1, 4, 9, 16, 25, 36, 49, 64, 81, 100]"
            ]
          },
          "metadata": {},
          "execution_count": 122
        }
      ]
    },
    {
      "cell_type": "code",
      "source": [],
      "metadata": {
        "id": "Ov7bqYwErY9H"
      },
      "id": "Ov7bqYwErY9H",
      "execution_count": null,
      "outputs": []
    }
  ],
  "metadata": {
    "kernelspec": {
      "display_name": "Python 3 (ipykernel)",
      "language": "python",
      "name": "python3"
    },
    "language_info": {
      "codemirror_mode": {
        "name": "ipython",
        "version": 3
      },
      "file_extension": ".py",
      "mimetype": "text/x-python",
      "name": "python",
      "nbconvert_exporter": "python",
      "pygments_lexer": "ipython3",
      "version": "3.11.4"
    },
    "colab": {
      "provenance": [],
      "include_colab_link": true
    }
  },
  "nbformat": 4,
  "nbformat_minor": 5
}