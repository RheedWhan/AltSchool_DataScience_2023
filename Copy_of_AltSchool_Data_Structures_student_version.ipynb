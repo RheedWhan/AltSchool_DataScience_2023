{
  "cells": [
    {
      "cell_type": "markdown",
      "metadata": {
        "id": "view-in-github",
        "colab_type": "text"
      },
      "source": [
        "<a href=\"https://colab.research.google.com/github/RheedWhan/AltSchool_DataScience_2023/blob/main/Copy_of_AltSchool_Data_Structures_student_version.ipynb\" target=\"_parent\"><img src=\"https://colab.research.google.com/assets/colab-badge.svg\" alt=\"Open In Colab\"/></a>"
      ]
    },
    {
      "cell_type": "markdown",
      "id": "bdc39fb2",
      "metadata": {
        "id": "bdc39fb2"
      },
      "source": [
        "### Learning Objectives\n",
        "\n",
        "By the end of this class, you should be able to:\n",
        "\n",
        "1. Understand common Python data structures.\n",
        "2. Apply CRUD operations to data structures.\n",
        "3. Recognize use cases for data structures in data science."
      ]
    },
    {
      "cell_type": "markdown",
      "id": "d23f580c",
      "metadata": {
        "id": "d23f580c"
      },
      "source": [
        "CRUD\n",
        "\n",
        "Create\n",
        "Read\n",
        "Update\n",
        "Delete"
      ]
    },
    {
      "cell_type": "markdown",
      "id": "b4037726",
      "metadata": {
        "id": "b4037726"
      },
      "source": [
        "## 1. Lists <a id=\"lists\"></a>"
      ]
    },
    {
      "cell_type": "markdown",
      "id": "abb31eb5",
      "metadata": {
        "id": "abb31eb5"
      },
      "source": [
        "In Python, lists are versatile and commonly used to store collections of items. You can create lists using square brackets `[]`. you can also use the list function: list()\n",
        "\n",
        "lists are mutable, ordered, typically homogenous."
      ]
    },
    {
      "cell_type": "markdown",
      "id": "7a1b3ec6",
      "metadata": {
        "id": "7a1b3ec6"
      },
      "source": [
        "### Creating a Python List <a id=\"lists-create\"></a>"
      ]
    },
    {
      "cell_type": "code",
      "execution_count": 217,
      "id": "ff4d7271",
      "metadata": {
        "id": "ff4d7271"
      },
      "outputs": [],
      "source": [
        "# creating a list using square brackets\n",
        "shopping_list = ['Groceries', 'Cocacola', 'Milo', 'Bama', 'Floating Berries']"
      ]
    },
    {
      "cell_type": "code",
      "execution_count": 218,
      "id": "eaa11cea",
      "metadata": {
        "id": "eaa11cea",
        "outputId": "4823988f-b6a4-4dec-b4ff-601bd4a69753",
        "colab": {
          "base_uri": "https://localhost:8080/"
        }
      },
      "outputs": [
        {
          "output_type": "execute_result",
          "data": {
            "text/plain": [
              "['Groceries', 'Cocacola', 'Milo', 'Bama', 'Floating Berries']"
            ]
          },
          "metadata": {},
          "execution_count": 218
        }
      ],
      "source": [
        "shopping_list"
      ]
    },
    {
      "cell_type": "code",
      "execution_count": 219,
      "id": "3d7aa758",
      "metadata": {
        "id": "3d7aa758"
      },
      "outputs": [],
      "source": [
        "# create a list using the list function\n",
        "shopping_list2 = list(('Perfume', 'Soap', 'Tissue paper', 'Body cream'))"
      ]
    },
    {
      "cell_type": "code",
      "execution_count": 220,
      "id": "a1ffbf00",
      "metadata": {
        "id": "a1ffbf00",
        "outputId": "bfcb1ab8-b83a-438f-9c40-1842180da66f",
        "colab": {
          "base_uri": "https://localhost:8080/"
        }
      },
      "outputs": [
        {
          "output_type": "execute_result",
          "data": {
            "text/plain": [
              "['Perfume', 'Soap', 'Tissue paper', 'Body cream']"
            ]
          },
          "metadata": {},
          "execution_count": 220
        }
      ],
      "source": [
        "shopping_list2"
      ]
    },
    {
      "cell_type": "code",
      "execution_count": 221,
      "id": "4d9c2f5a",
      "metadata": {
        "id": "4d9c2f5a",
        "outputId": "70cb14e0-5c60-4c87-941c-e74b6b3b40e9",
        "colab": {
          "base_uri": "https://localhost:8080/"
        }
      },
      "outputs": [
        {
          "output_type": "execute_result",
          "data": {
            "text/plain": [
              "list"
            ]
          },
          "metadata": {},
          "execution_count": 221
        }
      ],
      "source": [
        "type(shopping_list2)"
      ]
    },
    {
      "cell_type": "code",
      "execution_count": 222,
      "id": "5ea31ad8",
      "metadata": {
        "id": "5ea31ad8"
      },
      "outputs": [],
      "source": [
        "# create a list using the list function\n",
        "shopping_list3 = list(['Perfume', 'Soap', 'Tissue paper', 'Body cream'])"
      ]
    },
    {
      "cell_type": "code",
      "execution_count": 223,
      "id": "3a88f5d2",
      "metadata": {
        "id": "3a88f5d2",
        "outputId": "1c468781-1f92-419a-aecf-047ce829364b",
        "colab": {
          "base_uri": "https://localhost:8080/"
        }
      },
      "outputs": [
        {
          "output_type": "execute_result",
          "data": {
            "text/plain": [
              "['Perfume', 'Soap', 'Tissue paper', 'Body cream']"
            ]
          },
          "metadata": {},
          "execution_count": 223
        }
      ],
      "source": [
        "shopping_list3"
      ]
    },
    {
      "cell_type": "code",
      "execution_count": 224,
      "id": "6d359cfc",
      "metadata": {
        "id": "6d359cfc"
      },
      "outputs": [],
      "source": [
        "shopping_list4 = []"
      ]
    },
    {
      "cell_type": "markdown",
      "id": "d7f60d72",
      "metadata": {
        "id": "d7f60d72"
      },
      "source": [
        "### Reading a List <a id=\"lists-read\"></a>"
      ]
    },
    {
      "cell_type": "code",
      "execution_count": 225,
      "id": "2c5bf349",
      "metadata": {
        "scrolled": true,
        "id": "2c5bf349",
        "outputId": "8b4f5771-c7a3-4e3b-a145-fc2f90c660d5",
        "colab": {
          "base_uri": "https://localhost:8080/"
        }
      },
      "outputs": [
        {
          "output_type": "stream",
          "name": "stdout",
          "text": [
            "Perfume\n"
          ]
        }
      ],
      "source": [
        "print(shopping_list3[0])"
      ]
    },
    {
      "cell_type": "code",
      "execution_count": 226,
      "id": "bfba76b0",
      "metadata": {
        "id": "bfba76b0",
        "outputId": "76a55b8f-9823-4589-f272-a5bee965097f",
        "colab": {
          "base_uri": "https://localhost:8080/"
        }
      },
      "outputs": [
        {
          "output_type": "stream",
          "name": "stdout",
          "text": [
            "['Perfume', 'Soap']\n"
          ]
        }
      ],
      "source": [
        "# slicing a list: first two items\n",
        "\n",
        "print(shopping_list3[0:2])"
      ]
    },
    {
      "cell_type": "code",
      "execution_count": 227,
      "id": "59d78d59",
      "metadata": {
        "id": "59d78d59"
      },
      "outputs": [],
      "source": [
        "numbers = [0, 1, 2, 3, 4, 5, 6, 7, 8, 9]"
      ]
    },
    {
      "cell_type": "code",
      "execution_count": 228,
      "id": "985e266e",
      "metadata": {
        "id": "985e266e",
        "outputId": "78535660-6926-4c53-a703-185d488bfb40",
        "colab": {
          "base_uri": "https://localhost:8080/"
        }
      },
      "outputs": [
        {
          "output_type": "execute_result",
          "data": {
            "text/plain": [
              "[0, 2, 4, 6, 8]"
            ]
          },
          "metadata": {},
          "execution_count": 228
        }
      ],
      "source": [
        "numbers[::2]"
      ]
    },
    {
      "cell_type": "code",
      "execution_count": 229,
      "id": "be70e80c",
      "metadata": {
        "id": "be70e80c",
        "outputId": "e8ac6970-17be-4c58-b8e5-15a6971a5b3f",
        "colab": {
          "base_uri": "https://localhost:8080/"
        }
      },
      "outputs": [
        {
          "output_type": "execute_result",
          "data": {
            "text/plain": [
              "9"
            ]
          },
          "metadata": {},
          "execution_count": 229
        }
      ],
      "source": [
        "numbers[-1]"
      ]
    },
    {
      "cell_type": "markdown",
      "id": "5287005c",
      "metadata": {
        "id": "5287005c"
      },
      "source": [
        "### Updating a List <a id=\"lists-update\"></a>"
      ]
    },
    {
      "cell_type": "code",
      "execution_count": 230,
      "id": "2fe412e8",
      "metadata": {
        "collapsed": true,
        "id": "2fe412e8",
        "outputId": "9ef54bb8-48fc-44b6-bbb7-b7d9e5df64c4",
        "colab": {
          "base_uri": "https://localhost:8080/"
        }
      },
      "outputs": [
        {
          "output_type": "execute_result",
          "data": {
            "text/plain": [
              "['__add__',\n",
              " '__class__',\n",
              " '__class_getitem__',\n",
              " '__contains__',\n",
              " '__delattr__',\n",
              " '__delitem__',\n",
              " '__dir__',\n",
              " '__doc__',\n",
              " '__eq__',\n",
              " '__format__',\n",
              " '__ge__',\n",
              " '__getattribute__',\n",
              " '__getitem__',\n",
              " '__gt__',\n",
              " '__hash__',\n",
              " '__iadd__',\n",
              " '__imul__',\n",
              " '__init__',\n",
              " '__init_subclass__',\n",
              " '__iter__',\n",
              " '__le__',\n",
              " '__len__',\n",
              " '__lt__',\n",
              " '__mul__',\n",
              " '__ne__',\n",
              " '__new__',\n",
              " '__reduce__',\n",
              " '__reduce_ex__',\n",
              " '__repr__',\n",
              " '__reversed__',\n",
              " '__rmul__',\n",
              " '__setattr__',\n",
              " '__setitem__',\n",
              " '__sizeof__',\n",
              " '__str__',\n",
              " '__subclasshook__',\n",
              " 'append',\n",
              " 'clear',\n",
              " 'copy',\n",
              " 'count',\n",
              " 'extend',\n",
              " 'index',\n",
              " 'insert',\n",
              " 'pop',\n",
              " 'remove',\n",
              " 'reverse',\n",
              " 'sort']"
            ]
          },
          "metadata": {},
          "execution_count": 230
        }
      ],
      "source": [
        "dir(shopping_list4)"
      ]
    },
    {
      "cell_type": "code",
      "execution_count": 231,
      "id": "40361f6c",
      "metadata": {
        "id": "40361f6c"
      },
      "outputs": [],
      "source": [
        "shopping_list4.append('Soap')"
      ]
    },
    {
      "cell_type": "code",
      "execution_count": 232,
      "id": "685132ba",
      "metadata": {
        "id": "685132ba"
      },
      "outputs": [],
      "source": [
        "shopping_list4.append('Perfume')"
      ]
    },
    {
      "cell_type": "code",
      "execution_count": 233,
      "id": "96f16a11",
      "metadata": {
        "id": "96f16a11",
        "outputId": "ed5e26cd-f7b8-4e68-8f76-0259ae1855d1",
        "colab": {
          "base_uri": "https://localhost:8080/"
        }
      },
      "outputs": [
        {
          "output_type": "stream",
          "name": "stdout",
          "text": [
            "['Soap', 'Perfume']\n"
          ]
        }
      ],
      "source": [
        "print(shopping_list4)"
      ]
    },
    {
      "cell_type": "code",
      "execution_count": 234,
      "id": "12360753",
      "metadata": {
        "id": "12360753"
      },
      "outputs": [],
      "source": [
        "shopping_list4.insert(0, 'Tissue Paper')"
      ]
    },
    {
      "cell_type": "code",
      "execution_count": 235,
      "id": "9b2efd10",
      "metadata": {
        "id": "9b2efd10",
        "outputId": "12e4bb22-ef9d-41fa-a8f3-a99d9f3f915c",
        "colab": {
          "base_uri": "https://localhost:8080/"
        }
      },
      "outputs": [
        {
          "output_type": "stream",
          "name": "stdout",
          "text": [
            "['Tissue Paper', 'Soap', 'Perfume']\n"
          ]
        }
      ],
      "source": [
        "print(shopping_list4)"
      ]
    },
    {
      "cell_type": "code",
      "execution_count": 236,
      "id": "0655b240",
      "metadata": {
        "id": "0655b240"
      },
      "outputs": [],
      "source": [
        "shopping_list4.extend(['Groceries', 'Cocacola', 'Milo', 'Bama', 'Floating Berries'])"
      ]
    },
    {
      "cell_type": "code",
      "execution_count": 237,
      "id": "fbf59323",
      "metadata": {
        "id": "fbf59323",
        "outputId": "e602f5bc-e819-4073-84cd-7d6a585f472c",
        "colab": {
          "base_uri": "https://localhost:8080/"
        }
      },
      "outputs": [
        {
          "output_type": "stream",
          "name": "stdout",
          "text": [
            "['Tissue Paper', 'Soap', 'Perfume', 'Groceries', 'Cocacola', 'Milo', 'Bama', 'Floating Berries']\n"
          ]
        }
      ],
      "source": [
        "print(shopping_list4)"
      ]
    },
    {
      "cell_type": "code",
      "execution_count": 238,
      "id": "d43e680d",
      "metadata": {
        "id": "d43e680d"
      },
      "outputs": [],
      "source": [
        "# removing items from a list: remove, pop"
      ]
    },
    {
      "cell_type": "code",
      "execution_count": 239,
      "id": "73cb46d2",
      "metadata": {
        "id": "73cb46d2",
        "outputId": "eb95f29e-aeb2-4529-b1c5-d3de8992ce4e",
        "colab": {
          "base_uri": "https://localhost:8080/",
          "height": 36
        }
      },
      "outputs": [
        {
          "output_type": "execute_result",
          "data": {
            "text/plain": [
              "'Floating Berries'"
            ],
            "application/vnd.google.colaboratory.intrinsic+json": {
              "type": "string"
            }
          },
          "metadata": {},
          "execution_count": 239
        }
      ],
      "source": [
        "shopping_list4.pop()"
      ]
    },
    {
      "cell_type": "code",
      "execution_count": 240,
      "id": "6746e06b",
      "metadata": {
        "id": "6746e06b",
        "outputId": "046f3fd0-5e90-4375-84cc-652dd6f23104",
        "colab": {
          "base_uri": "https://localhost:8080/"
        }
      },
      "outputs": [
        {
          "output_type": "stream",
          "name": "stdout",
          "text": [
            "['Tissue Paper', 'Soap', 'Perfume', 'Groceries', 'Cocacola', 'Milo', 'Bama']\n"
          ]
        }
      ],
      "source": [
        "print(shopping_list4)"
      ]
    },
    {
      "cell_type": "code",
      "execution_count": 241,
      "id": "023c200b",
      "metadata": {
        "id": "023c200b"
      },
      "outputs": [],
      "source": [
        "shopping_list4.remove('Soap')"
      ]
    },
    {
      "cell_type": "code",
      "execution_count": 242,
      "id": "5530b2db",
      "metadata": {
        "id": "5530b2db",
        "outputId": "3979b235-082f-4f67-9c2f-d42f95bcb533",
        "colab": {
          "base_uri": "https://localhost:8080/"
        }
      },
      "outputs": [
        {
          "output_type": "stream",
          "name": "stdout",
          "text": [
            "['Tissue Paper', 'Perfume', 'Groceries', 'Cocacola', 'Milo', 'Bama']\n"
          ]
        }
      ],
      "source": [
        "print(shopping_list4)"
      ]
    },
    {
      "cell_type": "code",
      "execution_count": 243,
      "id": "87638e41",
      "metadata": {
        "id": "87638e41",
        "outputId": "855f4ec0-dfa1-48aa-c4c4-31b5a13d3f28",
        "colab": {
          "base_uri": "https://localhost:8080/"
        }
      },
      "outputs": [
        {
          "output_type": "stream",
          "name": "stdout",
          "text": [
            "Object `shopping_list.update` not found.\n"
          ]
        }
      ],
      "source": [
        "shopping_list.update??"
      ]
    },
    {
      "cell_type": "markdown",
      "id": "1a723366",
      "metadata": {
        "id": "1a723366"
      },
      "source": [
        "### Delete"
      ]
    },
    {
      "cell_type": "code",
      "execution_count": 244,
      "id": "27d76b64",
      "metadata": {
        "id": "27d76b64"
      },
      "outputs": [],
      "source": [
        "shopping_list4.clear()"
      ]
    },
    {
      "cell_type": "code",
      "execution_count": 245,
      "id": "6385e6c1",
      "metadata": {
        "id": "6385e6c1",
        "outputId": "f90cc04a-35e7-41f8-f035-80ce27de603b",
        "colab": {
          "base_uri": "https://localhost:8080/"
        }
      },
      "outputs": [
        {
          "output_type": "stream",
          "name": "stdout",
          "text": [
            "[]\n"
          ]
        }
      ],
      "source": [
        "print(shopping_list4)"
      ]
    },
    {
      "cell_type": "markdown",
      "id": "2e6bbc8a",
      "metadata": {
        "id": "2e6bbc8a"
      },
      "source": [
        "### List: Use Cases in Data Science <a id=\"lists-use-cases\"></a>"
      ]
    },
    {
      "cell_type": "markdown",
      "id": "74350f0e",
      "metadata": {
        "id": "74350f0e"
      },
      "source": [
        "### Use Case: Storing and Manipulating Datasets\n",
        "\n",
        "#### Background\n",
        "\n",
        "In data science, we often work with datasets that contain various types of information, such as numerical values, text data, or categorical variables. Python lists provide a convenient way to store and manipulate these datasets.\n",
        "\n",
        "#### Scenario\n",
        "\n",
        "Suppose we have collected data on the monthly sales revenue (in thousands of dollars) for a small retail store over the past year. The dataset includes sales data for each month. We want to use a Python list to store and analyze this dataset.\n",
        "\n",
        "#### Implementation\n",
        "\n",
        "Let's create a Python list called `monthly_sales` to store our dataset. Each element in the list represents the monthly sales revenue for one month, starting from January (index 0) to December (index 11).\n",
        "\n",
        "```python\n",
        "# Creating a list to store monthly sales data\n",
        "monthly_sales = [120, 135, 150, 145, 155, 160, 170, 180, 190, 200, 210, 220]\n"
      ]
    },
    {
      "cell_type": "code",
      "execution_count": 246,
      "id": "7159d058",
      "metadata": {
        "id": "7159d058"
      },
      "outputs": [],
      "source": [
        "monthly_sales = [120, 135, 150, 145, 155, 160, 170, 180, 190, 200, 210, 220]"
      ]
    },
    {
      "cell_type": "code",
      "execution_count": 247,
      "id": "ee788a1a",
      "metadata": {
        "id": "ee788a1a"
      },
      "outputs": [],
      "source": [
        "total_yearly_revenue = sum(monthly_sales)"
      ]
    },
    {
      "cell_type": "code",
      "execution_count": 248,
      "id": "a7cd1273",
      "metadata": {
        "id": "a7cd1273",
        "outputId": "d9748da6-12c1-4a65-ac31-09f241891e9b",
        "colab": {
          "base_uri": "https://localhost:8080/"
        }
      },
      "outputs": [
        {
          "output_type": "stream",
          "name": "stdout",
          "text": [
            "2035\n"
          ]
        }
      ],
      "source": [
        "print(total_yearly_revenue)"
      ]
    },
    {
      "cell_type": "code",
      "execution_count": 249,
      "id": "d01fe4e7",
      "metadata": {
        "id": "d01fe4e7"
      },
      "outputs": [],
      "source": [
        "# avg = total/no. of total\n",
        "\n",
        "average_revenue = total_yearly_revenue / len(monthly_sales)"
      ]
    },
    {
      "cell_type": "code",
      "execution_count": 250,
      "id": "a36b8137",
      "metadata": {
        "id": "a36b8137",
        "outputId": "253da1ba-b73d-431f-8bdd-fd39833a3ab0",
        "colab": {
          "base_uri": "https://localhost:8080/"
        }
      },
      "outputs": [
        {
          "output_type": "stream",
          "name": "stdout",
          "text": [
            "169.6\n"
          ]
        }
      ],
      "source": [
        "print(round(average_revenue, 1))"
      ]
    },
    {
      "cell_type": "markdown",
      "id": "9b7315b2",
      "metadata": {
        "id": "9b7315b2"
      },
      "source": [
        "### Assignment"
      ]
    },
    {
      "cell_type": "markdown",
      "id": "8b6f8812",
      "metadata": {
        "id": "8b6f8812"
      },
      "source": [
        "1. From the list (monthly_sales) above,\n",
        "- create four seperate lists frm the list for each quarter namely: q1, q2, q3, q4.\n",
        "- report what quarter had the highest amount in total revenue,\n",
        "- report the lowest."
      ]
    },
    {
      "cell_type": "code",
      "execution_count": 251,
      "id": "51bb2e19",
      "metadata": {
        "id": "51bb2e19"
      },
      "outputs": [],
      "source": [
        "# Your code here"
      ]
    },
    {
      "cell_type": "markdown",
      "id": "6c0c31ee",
      "metadata": {
        "id": "6c0c31ee"
      },
      "source": [
        "2. Store the names of a few of your friends in a list called names.\n",
        "- Print each person’s name by accessing each element in the list, one at a time.\n",
        "- Start with the list you created, but instead of just printing each person’s name, print a message to them. The text of each message should be the same, but each message should be personalized with the person’s name. hint(use may use f-strings)"
      ]
    },
    {
      "cell_type": "code",
      "execution_count": 252,
      "id": "5f87247d",
      "metadata": {
        "id": "5f87247d"
      },
      "outputs": [],
      "source": [
        "# Your code here"
      ]
    },
    {
      "cell_type": "markdown",
      "id": "ae61bb7e",
      "metadata": {
        "id": "ae61bb7e"
      },
      "source": [
        "3. You are managing a list of students' names in your class.\n",
        "* Create a list called student_names containing the following student names as strings: 'Alice', 'Bob', 'Charlie', 'David', 'Eve'.\n",
        "- Use the student_names list from the list above for the following operations:\n",
        "  - a. Print the number of students in the class (the length of the list).\n",
        "  - b. Print the first and last student names in the list.\n",
        "  - c. Charlie has left the class. Remove his name from the list.\n",
        "  - d. A new student, \"Frank,\" has joined the class. Add his name to the list.\n",
        "  - e. The class has been dissolved, and you need to remove all student names from the list."
      ]
    },
    {
      "cell_type": "code",
      "execution_count": 253,
      "id": "120d240f",
      "metadata": {
        "id": "120d240f"
      },
      "outputs": [],
      "source": [
        "# Your code here"
      ]
    },
    {
      "cell_type": "code",
      "source": [],
      "metadata": {
        "id": "yikuLJmYjS6X"
      },
      "id": "yikuLJmYjS6X",
      "execution_count": 253,
      "outputs": []
    },
    {
      "cell_type": "markdown",
      "metadata": {
        "id": "bb679a2d"
      },
      "source": [
        "## 2. Tuples <a id=\"tuples\"></a>"
      ],
      "id": "bb679a2d"
    },
    {
      "cell_type": "markdown",
      "metadata": {
        "id": "030d13ec"
      },
      "source": [
        "### Create <a id=\"sets-create\"></a>"
      ],
      "id": "030d13ec"
    },
    {
      "cell_type": "markdown",
      "metadata": {
        "id": "df903ec4"
      },
      "source": [
        "Creating a tuple is done by defining a sequence of elements enclosed in parentheses."
      ],
      "id": "df903ec4"
    },
    {
      "cell_type": "code",
      "execution_count": 254,
      "metadata": {
        "id": "df621515"
      },
      "outputs": [],
      "source": [
        "person = ('Sunday', 'Data Science', 'Fall Session')"
      ],
      "id": "df621515"
    },
    {
      "cell_type": "code",
      "execution_count": 255,
      "metadata": {
        "id": "a765fcc6"
      },
      "outputs": [],
      "source": [
        "person2 = 'Victoria', 'Data Science', 'Fall Session'"
      ],
      "id": "a765fcc6"
    },
    {
      "cell_type": "code",
      "execution_count": 256,
      "metadata": {
        "id": "ebd6d569",
        "colab": {
          "base_uri": "https://localhost:8080/"
        },
        "outputId": "15fb6d8c-3a7e-4636-839f-10e96610027e"
      },
      "outputs": [
        {
          "output_type": "stream",
          "name": "stdout",
          "text": [
            "<class 'tuple'>\n"
          ]
        }
      ],
      "source": [
        "print(type(person))"
      ],
      "id": "ebd6d569"
    },
    {
      "cell_type": "code",
      "execution_count": 257,
      "metadata": {
        "id": "5e209751",
        "colab": {
          "base_uri": "https://localhost:8080/"
        },
        "outputId": "44250d45-5059-48ee-8d02-93bfd336a773"
      },
      "outputs": [
        {
          "output_type": "execute_result",
          "data": {
            "text/plain": [
              "tuple"
            ]
          },
          "metadata": {},
          "execution_count": 257
        }
      ],
      "source": [
        "type(person2)"
      ],
      "id": "5e209751"
    },
    {
      "cell_type": "code",
      "execution_count": 258,
      "metadata": {
        "id": "9e5c087d"
      },
      "outputs": [],
      "source": [
        "# create a tuple using the tuple function\n",
        "\n",
        "person_tuple = tuple(['Victoria', 'Data Science', 'Fall Session'])"
      ],
      "id": "9e5c087d"
    },
    {
      "cell_type": "code",
      "execution_count": 259,
      "metadata": {
        "id": "151af130",
        "colab": {
          "base_uri": "https://localhost:8080/"
        },
        "outputId": "4412ab79-b88c-4f89-e0bf-d94a33853fa2"
      },
      "outputs": [
        {
          "output_type": "execute_result",
          "data": {
            "text/plain": [
              "('Victoria', 'Data Science', 'Fall Session')"
            ]
          },
          "metadata": {},
          "execution_count": 259
        }
      ],
      "source": [
        "person_tuple"
      ],
      "id": "151af130"
    },
    {
      "cell_type": "markdown",
      "metadata": {
        "id": "c5f7f5ff"
      },
      "source": [
        "### Read <a id=\"sets-read\"></a>"
      ],
      "id": "c5f7f5ff"
    },
    {
      "cell_type": "markdown",
      "metadata": {
        "id": "c021fcb1"
      },
      "source": [
        "Reading from a tuple is straightforward by accessing its elements using indexing."
      ],
      "id": "c021fcb1"
    },
    {
      "cell_type": "code",
      "execution_count": 260,
      "metadata": {
        "id": "13a7e478",
        "colab": {
          "base_uri": "https://localhost:8080/",
          "height": 36
        },
        "outputId": "a0a9980c-f8f0-4ebd-bf0a-315ea11f006f"
      },
      "outputs": [
        {
          "output_type": "execute_result",
          "data": {
            "text/plain": [
              "'Victoria'"
            ],
            "application/vnd.google.colaboratory.intrinsic+json": {
              "type": "string"
            }
          },
          "metadata": {},
          "execution_count": 260
        }
      ],
      "source": [
        "person2[0]"
      ],
      "id": "13a7e478"
    },
    {
      "cell_type": "code",
      "execution_count": 261,
      "metadata": {
        "id": "7cc8011a",
        "colab": {
          "base_uri": "https://localhost:8080/"
        },
        "outputId": "9847ac22-0e8e-4a93-8594-54d7860aec0c"
      },
      "outputs": [
        {
          "output_type": "execute_result",
          "data": {
            "text/plain": [
              "('Victoria', 'Data Science')"
            ]
          },
          "metadata": {},
          "execution_count": 261
        }
      ],
      "source": [
        "person2[:2]"
      ],
      "id": "7cc8011a"
    },
    {
      "cell_type": "markdown",
      "metadata": {
        "id": "39499e21"
      },
      "source": [
        "### Update <a id=\"sets-update\"></a>"
      ],
      "id": "39499e21"
    },
    {
      "cell_type": "markdown",
      "metadata": {
        "id": "a70a393b"
      },
      "source": [
        "Tuples are immutable, so you cannot directly update them. To \"update,\" you need to create a new tuple."
      ],
      "id": "a70a393b"
    },
    {
      "cell_type": "code",
      "execution_count": 262,
      "metadata": {
        "id": "d6e05aee"
      },
      "outputs": [],
      "source": [
        "person3 = ('Chibuike', person[1], person[2])"
      ],
      "id": "d6e05aee"
    },
    {
      "cell_type": "code",
      "execution_count": 263,
      "metadata": {
        "id": "8ebfe8c9",
        "colab": {
          "base_uri": "https://localhost:8080/"
        },
        "outputId": "dc242d01-a639-499e-9507-09a3f6327947"
      },
      "outputs": [
        {
          "output_type": "execute_result",
          "data": {
            "text/plain": [
              "('Chibuike', 'Data Science', 'Fall Session')"
            ]
          },
          "metadata": {},
          "execution_count": 263
        }
      ],
      "source": [
        "person3"
      ],
      "id": "8ebfe8c9"
    },
    {
      "cell_type": "markdown",
      "metadata": {
        "id": "c8e4d2d8"
      },
      "source": [
        "### Delete <a id=\"sets-delete\"></a>"
      ],
      "id": "c8e4d2d8"
    },
    {
      "cell_type": "markdown",
      "metadata": {
        "id": "78cc8e90"
      },
      "source": [
        "Like sets, you can delete a tuple using the del statement."
      ],
      "id": "78cc8e90"
    },
    {
      "cell_type": "code",
      "execution_count": 264,
      "metadata": {
        "id": "270e0e10",
        "colab": {
          "base_uri": "https://localhost:8080/"
        },
        "outputId": "a7ec0ed5-030b-48f4-c06d-70eb7329719e"
      },
      "outputs": [
        {
          "output_type": "execute_result",
          "data": {
            "text/plain": [
              "('Sunday', 'Data Science', 'Fall Session')"
            ]
          },
          "metadata": {},
          "execution_count": 264
        }
      ],
      "source": [
        "person"
      ],
      "id": "270e0e10"
    },
    {
      "cell_type": "markdown",
      "metadata": {
        "id": "0ff2d0aa"
      },
      "source": [
        "### Tuples: Use Cases in Data Science <a id=\"tuples-use-cases\"></a>"
      ],
      "id": "0ff2d0aa"
    },
    {
      "cell_type": "markdown",
      "metadata": {
        "id": "bd5d470b"
      },
      "source": [
        "- Immutability: Tuples are immutable, which means their values cannot be changed after creation. They are suitable for representing data that should not be modified, like record data.\n",
        "- Data Integrity: Tuples can be used to ensure data integrity, as their immutability prevents accidental changes.\n",
        "- Multiple Values: Tuples are often used to store multiple related values together, such as (latitude, longitude) pairs for geographical data.\n",
        "- Function Return Values: Tuples are frequently used to return multiple values from functions, making it easy to process and unpack results."
      ],
      "id": "bd5d470b"
    },
    {
      "cell_type": "markdown",
      "metadata": {
        "id": "6b6b3404"
      },
      "source": [
        "## 3. Sets <a id=\"sets\"></a>"
      ],
      "id": "6b6b3404"
    },
    {
      "cell_type": "markdown",
      "metadata": {
        "id": "3bea8714"
      },
      "source": [
        "Sets are a great data type that is used for pretty specific situations. You will find sets most useful for\n",
        "de-duplicating lists or tuples or by using them to find differences between multiple lists"
      ],
      "id": "3bea8714"
    },
    {
      "cell_type": "markdown",
      "metadata": {
        "id": "a6ebd040"
      },
      "source": [
        "### Create <a id=\"sets-create\"></a>"
      ],
      "id": "a6ebd040"
    },
    {
      "cell_type": "code",
      "execution_count": 265,
      "metadata": {
        "id": "af3b2a27"
      },
      "outputs": [],
      "source": [
        "# using curly braces\n",
        "my_set = {'a', 'b', 'b', 'c', 'd', 'd'}"
      ],
      "id": "af3b2a27"
    },
    {
      "cell_type": "code",
      "execution_count": 266,
      "metadata": {
        "id": "3be87f94",
        "colab": {
          "base_uri": "https://localhost:8080/"
        },
        "outputId": "7c312a14-2392-4529-f95a-bf1633303cc4"
      },
      "outputs": [
        {
          "output_type": "stream",
          "name": "stdout",
          "text": [
            "{'b', 'c', 'a', 'd'}\n"
          ]
        }
      ],
      "source": [
        "print(my_set)"
      ],
      "id": "3be87f94"
    },
    {
      "cell_type": "code",
      "execution_count": 267,
      "metadata": {
        "id": "7742ed51",
        "colab": {
          "base_uri": "https://localhost:8080/"
        },
        "outputId": "225e41a5-d51e-4d22-d838-a26583e8a920"
      },
      "outputs": [
        {
          "output_type": "stream",
          "name": "stdout",
          "text": [
            "{'Data Science', 'Fall Session', 'Chibuike'}\n"
          ]
        }
      ],
      "source": [
        "# using the set function\n",
        "person_list = ['Chibuike', 'Data Science', 'Fall Session']\n",
        "person_set = set(person_list)\n",
        "\n",
        "print(person_set)"
      ],
      "id": "7742ed51"
    },
    {
      "cell_type": "markdown",
      "metadata": {
        "id": "a2b461d6"
      },
      "source": [
        "### Read <a id=\"sets-read\"></a>"
      ],
      "id": "a2b461d6"
    },
    {
      "cell_type": "markdown",
      "metadata": {
        "id": "c76c796f"
      },
      "source": [
        "You can access items in sets much faster than lists. A Python list will iterate over each item in a\n",
        "list until it finds the item you are looking for. When you look for an item in a set, it acts much like\n",
        "a dictionary and will find it immediately or not at all."
      ],
      "id": "c76c796f"
    },
    {
      "cell_type": "code",
      "execution_count": 268,
      "metadata": {
        "id": "3d6cb26d",
        "colab": {
          "base_uri": "https://localhost:8080/"
        },
        "outputId": "e802ab19-12ca-4e7b-ef91-de0ad38de721"
      },
      "outputs": [
        {
          "output_type": "execute_result",
          "data": {
            "text/plain": [
              "True"
            ]
          },
          "metadata": {},
          "execution_count": 268
        }
      ],
      "source": [
        "# using the in operator\n",
        "'Fall Session' in person_set"
      ],
      "id": "3d6cb26d"
    },
    {
      "cell_type": "markdown",
      "metadata": {
        "id": "02e9cf1c"
      },
      "source": [
        "### Update <a id=\"sets-update\"></a>"
      ],
      "id": "02e9cf1c"
    },
    {
      "cell_type": "code",
      "execution_count": 269,
      "metadata": {
        "id": "d0893b34"
      },
      "outputs": [],
      "source": [
        "# using the add method to update a set\n",
        "person_set.add('First Semester')"
      ],
      "id": "d0893b34"
    },
    {
      "cell_type": "code",
      "execution_count": 270,
      "metadata": {
        "id": "d60dc397",
        "colab": {
          "base_uri": "https://localhost:8080/"
        },
        "outputId": "f3403279-f050-4e23-efa1-4f1a84801641"
      },
      "outputs": [
        {
          "output_type": "execute_result",
          "data": {
            "text/plain": [
              "{'Chibuike', 'Data Science', 'Fall Session', 'First Semester'}"
            ]
          },
          "metadata": {},
          "execution_count": 270
        }
      ],
      "source": [
        "person_set"
      ],
      "id": "d60dc397"
    },
    {
      "cell_type": "code",
      "execution_count": 271,
      "metadata": {
        "id": "56295a74"
      },
      "outputs": [],
      "source": [
        "# using the update method to add multiple items\n",
        "person_set.update(['Circle 113', 'Python'])"
      ],
      "id": "56295a74"
    },
    {
      "cell_type": "code",
      "execution_count": 272,
      "metadata": {
        "id": "bc5f18ad",
        "colab": {
          "base_uri": "https://localhost:8080/"
        },
        "outputId": "28b02ab2-ca86-486a-c15b-107ad07c9af3"
      },
      "outputs": [
        {
          "output_type": "stream",
          "name": "stdout",
          "text": [
            "{'Data Science', 'Chibuike', 'Fall Session', 'Circle 113', 'Python', 'First Semester'}\n"
          ]
        }
      ],
      "source": [
        "print(person_set)"
      ],
      "id": "bc5f18ad"
    },
    {
      "cell_type": "code",
      "execution_count": 273,
      "metadata": {
        "id": "a190bfb6"
      },
      "outputs": [],
      "source": [
        "# using the remove method\n",
        "person_set.remove('Python')"
      ],
      "id": "a190bfb6"
    },
    {
      "cell_type": "code",
      "execution_count": 274,
      "metadata": {
        "id": "9a5ba098",
        "colab": {
          "base_uri": "https://localhost:8080/"
        },
        "outputId": "f901424a-5e12-40e8-81ff-93889ab214af"
      },
      "outputs": [
        {
          "output_type": "stream",
          "name": "stdout",
          "text": [
            "{'Data Science', 'Chibuike', 'Fall Session', 'Circle 113', 'First Semester'}\n"
          ]
        }
      ],
      "source": [
        "print(person_set)"
      ],
      "id": "9a5ba098"
    },
    {
      "cell_type": "code",
      "execution_count": 275,
      "metadata": {
        "id": "92f8a9e0"
      },
      "outputs": [],
      "source": [
        "# using pop and discard method\n",
        "person_set.discard('Circle 113')"
      ],
      "id": "92f8a9e0"
    },
    {
      "cell_type": "code",
      "execution_count": 276,
      "metadata": {
        "id": "61755518",
        "colab": {
          "base_uri": "https://localhost:8080/"
        },
        "outputId": "cf5bbc6e-dd11-4bfe-c315-4ba91589e4e2"
      },
      "outputs": [
        {
          "output_type": "stream",
          "name": "stdout",
          "text": [
            "{'Data Science', 'Chibuike', 'Fall Session', 'First Semester'}\n"
          ]
        }
      ],
      "source": [
        "print(person_set)"
      ],
      "id": "61755518"
    },
    {
      "cell_type": "code",
      "execution_count": 277,
      "metadata": {
        "id": "27816ec1",
        "colab": {
          "base_uri": "https://localhost:8080/",
          "height": 36
        },
        "outputId": "7211837c-6814-411a-ff8c-656c1502bb54"
      },
      "outputs": [
        {
          "output_type": "execute_result",
          "data": {
            "text/plain": [
              "'Data Science'"
            ],
            "application/vnd.google.colaboratory.intrinsic+json": {
              "type": "string"
            }
          },
          "metadata": {},
          "execution_count": 277
        }
      ],
      "source": [
        "person_set.pop()"
      ],
      "id": "27816ec1"
    },
    {
      "cell_type": "markdown",
      "metadata": {
        "id": "7a52d0c1"
      },
      "source": [
        "### Delete <a id=\"sets-delete\"></a>"
      ],
      "id": "7a52d0c1"
    },
    {
      "cell_type": "code",
      "execution_count": 278,
      "metadata": {
        "id": "d5b00666"
      },
      "outputs": [],
      "source": [
        "# using the del keyword deletes the set\n",
        "del person_set"
      ],
      "id": "d5b00666"
    },
    {
      "cell_type": "code",
      "execution_count": 279,
      "metadata": {
        "id": "c85bed82"
      },
      "outputs": [],
      "source": [
        "#person_set"
      ],
      "id": "c85bed82"
    },
    {
      "cell_type": "code",
      "execution_count": 280,
      "metadata": {
        "id": "91286b35"
      },
      "outputs": [],
      "source": [
        "# using the clear method empties out the set\n",
        "my_set.clear()"
      ],
      "id": "91286b35"
    },
    {
      "cell_type": "code",
      "execution_count": 281,
      "metadata": {
        "id": "b29d6139",
        "colab": {
          "base_uri": "https://localhost:8080/"
        },
        "outputId": "cf1c605a-f90d-4de4-8bac-22713bab85ec"
      },
      "outputs": [
        {
          "output_type": "execute_result",
          "data": {
            "text/plain": [
              "set()"
            ]
          },
          "metadata": {},
          "execution_count": 281
        }
      ],
      "source": [
        "my_set"
      ],
      "id": "b29d6139"
    },
    {
      "cell_type": "code",
      "execution_count": 282,
      "metadata": {
        "id": "b669db39"
      },
      "outputs": [],
      "source": [
        "my_set.add('4')"
      ],
      "id": "b669db39"
    },
    {
      "cell_type": "code",
      "execution_count": 283,
      "metadata": {
        "id": "bcad0597"
      },
      "outputs": [],
      "source": [
        "my_set = {'Toyin', 'Data Science'}"
      ],
      "id": "bcad0597"
    },
    {
      "cell_type": "code",
      "execution_count": 284,
      "metadata": {
        "id": "75121ba6",
        "colab": {
          "base_uri": "https://localhost:8080/"
        },
        "outputId": "b66d9407-cb43-413f-dca9-1b5a4e284762"
      },
      "outputs": [
        {
          "output_type": "execute_result",
          "data": {
            "text/plain": [
              "{'Data Science', 'Toyin'}"
            ]
          },
          "metadata": {},
          "execution_count": 284
        }
      ],
      "source": [
        "my_set"
      ],
      "id": "75121ba6"
    },
    {
      "cell_type": "markdown",
      "metadata": {
        "id": "fe87c385"
      },
      "source": [
        "### Set operations <a id=\"sets-operate\"></a>"
      ],
      "id": "fe87c385"
    },
    {
      "cell_type": "markdown",
      "metadata": {
        "id": "d132a0e0"
      },
      "source": [
        "- union() - Combines two sets and returns a new set\n",
        "- intersection() - Returns a new set with the elements that are common between the two sets\n",
        "- difference() - Returns a new set with elements that are not in the other set"
      ],
      "id": "d132a0e0"
    },
    {
      "cell_type": "code",
      "execution_count": 285,
      "metadata": {
        "id": "dc135011"
      },
      "outputs": [],
      "source": [
        "first_set = {'python', 'ruby', 'javascript', 'pandas', 'numpy'}\n",
        "second_set = {'pandas', 'numpy', 'seaborn'}"
      ],
      "id": "dc135011"
    },
    {
      "cell_type": "code",
      "execution_count": 286,
      "metadata": {
        "id": "084b50ec",
        "colab": {
          "base_uri": "https://localhost:8080/"
        },
        "outputId": "226a0a0a-ae47-4ae2-fefe-2b46f1aee028"
      },
      "outputs": [
        {
          "output_type": "execute_result",
          "data": {
            "text/plain": [
              "{'javascript', 'numpy', 'pandas', 'python', 'ruby', 'seaborn'}"
            ]
          },
          "metadata": {},
          "execution_count": 286
        }
      ],
      "source": [
        "first_set.union(second_set)"
      ],
      "id": "084b50ec"
    },
    {
      "cell_type": "code",
      "execution_count": 287,
      "metadata": {
        "id": "de67a525"
      },
      "outputs": [],
      "source": [
        "first_list = list(first_set)"
      ],
      "id": "de67a525"
    },
    {
      "cell_type": "code",
      "execution_count": 288,
      "metadata": {
        "id": "8990585e"
      },
      "outputs": [],
      "source": [
        "first_list[0] = 'keras'"
      ],
      "id": "8990585e"
    },
    {
      "cell_type": "code",
      "execution_count": 289,
      "metadata": {
        "id": "a0066051",
        "colab": {
          "base_uri": "https://localhost:8080/"
        },
        "outputId": "a36d9bf8-9284-4adc-9b09-a9b092e4ec40"
      },
      "outputs": [
        {
          "output_type": "execute_result",
          "data": {
            "text/plain": [
              "['keras', 'pandas', 'python', 'javascript', 'numpy']"
            ]
          },
          "metadata": {},
          "execution_count": 289
        }
      ],
      "source": [
        "first_list"
      ],
      "id": "a0066051"
    },
    {
      "cell_type": "code",
      "execution_count": 290,
      "metadata": {
        "id": "fee48de8"
      },
      "outputs": [],
      "source": [
        "first_tuple = tuple(first_list)"
      ],
      "id": "fee48de8"
    },
    {
      "cell_type": "code",
      "execution_count": 291,
      "metadata": {
        "id": "73397bd5"
      },
      "outputs": [],
      "source": [
        "first_set = set(first_tuple)"
      ],
      "id": "73397bd5"
    },
    {
      "cell_type": "code",
      "execution_count": 292,
      "metadata": {
        "id": "94c80641",
        "colab": {
          "base_uri": "https://localhost:8080/"
        },
        "outputId": "c325c37b-639a-4475-ee89-47863edfc6ad"
      },
      "outputs": [
        {
          "output_type": "execute_result",
          "data": {
            "text/plain": [
              "{'javascript', 'keras', 'numpy', 'pandas', 'python'}"
            ]
          },
          "metadata": {},
          "execution_count": 292
        }
      ],
      "source": [
        "first_set"
      ],
      "id": "94c80641"
    },
    {
      "cell_type": "code",
      "execution_count": 293,
      "metadata": {
        "id": "d54fd84b",
        "colab": {
          "base_uri": "https://localhost:8080/"
        },
        "outputId": "3fa4bcef-ade3-443b-de2b-a01d947abcbf"
      },
      "outputs": [
        {
          "output_type": "execute_result",
          "data": {
            "text/plain": [
              "{'numpy', 'pandas', 'seaborn'}"
            ]
          },
          "metadata": {},
          "execution_count": 293
        }
      ],
      "source": [
        "second_set"
      ],
      "id": "d54fd84b"
    },
    {
      "cell_type": "code",
      "execution_count": 294,
      "metadata": {
        "id": "57d5b442",
        "colab": {
          "base_uri": "https://localhost:8080/"
        },
        "outputId": "e8d92fb5-8f9e-4b5d-fcc9-ec9eb2303c8d"
      },
      "outputs": [
        {
          "output_type": "execute_result",
          "data": {
            "text/plain": [
              "{'numpy', 'pandas'}"
            ]
          },
          "metadata": {},
          "execution_count": 294
        }
      ],
      "source": [
        "first_set.intersection(second_set)"
      ],
      "id": "57d5b442"
    },
    {
      "cell_type": "code",
      "execution_count": 295,
      "metadata": {
        "id": "f224b1db",
        "colab": {
          "base_uri": "https://localhost:8080/"
        },
        "outputId": "109f2fea-4be4-4bcf-a95f-1b1e89f4bf2c"
      },
      "outputs": [
        {
          "output_type": "execute_result",
          "data": {
            "text/plain": [
              "{'javascript', 'keras', 'python'}"
            ]
          },
          "metadata": {},
          "execution_count": 295
        }
      ],
      "source": [
        "first_set.difference(second_set)"
      ],
      "id": "f224b1db"
    },
    {
      "cell_type": "markdown",
      "metadata": {
        "id": "307fc841"
      },
      "source": [
        "### Sets: Use Cases in Data Science <a id=\"sets-use-cases\"></a>"
      ],
      "id": "307fc841"
    },
    {
      "cell_type": "markdown",
      "metadata": {
        "id": "3be934bd"
      },
      "source": [
        "- Removing Duplicates: Sets are unordered collections of unique elements. They are often used to remove duplicates from data, ensuring that only unique values are retained."
      ],
      "id": "3be934bd"
    },
    {
      "cell_type": "code",
      "execution_count": 296,
      "metadata": {
        "id": "4b921936"
      },
      "outputs": [],
      "source": [
        "data = [1, 2, 2, 3, 4, 4, 5]\n",
        "unique_data = set(data)"
      ],
      "id": "4b921936"
    },
    {
      "cell_type": "markdown",
      "metadata": {
        "id": "bc5c0cc4"
      },
      "source": [
        "- Membership Testing: Sets are efficient for checking whether an element is present in a dataset or not. This can be useful for filtering and data validation."
      ],
      "id": "bc5c0cc4"
    },
    {
      "cell_type": "markdown",
      "metadata": {
        "id": "a3e2eb17"
      },
      "source": [
        "- Set Operations: Sets support set operations like union, intersection, and difference, which are valuable for data manipulation and analysis."
      ],
      "id": "a3e2eb17"
    },
    {
      "cell_type": "markdown",
      "metadata": {
        "id": "0010a764"
      },
      "source": [
        "## 4. Dictionaries <a id=\"dictionaries\"></a>"
      ],
      "id": "0010a764"
    },
    {
      "cell_type": "markdown",
      "metadata": {
        "id": "3db5fb6b"
      },
      "source": [
        "Dictionaries are another fundamental data type in Python. A dictionary is a (key, value) pair. Some\n",
        "programming languages refer to them as hash tables. They are described as a mapping that maps\n",
        "keys (hashable objects) to values (any object). Immutable objects are hashable (immutable means\n",
        "unable to change)."
      ],
      "id": "3db5fb6b"
    },
    {
      "cell_type": "markdown",
      "metadata": {
        "id": "95b108a3"
      },
      "source": [
        "### Creating a dictionary <a id=\"dictionaries-create\"></a>"
      ],
      "id": "95b108a3"
    },
    {
      "cell_type": "code",
      "execution_count": 297,
      "metadata": {
        "id": "7829135e"
      },
      "outputs": [],
      "source": [
        "# using curly braces and inserting key, value pairs\n",
        "student = {'firstname': 'Joshua',\n",
        "           'lastname': 'Ohayi',\n",
        "           'cirle': 113}\n"
      ],
      "id": "7829135e"
    },
    {
      "cell_type": "code",
      "execution_count": 298,
      "metadata": {
        "id": "7c441271",
        "colab": {
          "base_uri": "https://localhost:8080/"
        },
        "outputId": "fdf494e0-d092-4090-9f5a-7adae8f9d9db"
      },
      "outputs": [
        {
          "output_type": "execute_result",
          "data": {
            "text/plain": [
              "dict"
            ]
          },
          "metadata": {},
          "execution_count": 298
        }
      ],
      "source": [
        "type(student)"
      ],
      "id": "7c441271"
    },
    {
      "cell_type": "code",
      "execution_count": 299,
      "metadata": {
        "id": "33fd1a11"
      },
      "outputs": [],
      "source": [
        "# using the dict function and passing a list of tuples\n",
        "student2 = dict([('firstname', 'Akin-Johnson'), ('Cirle', 117), ('lastname', 'Oluwamayowa')])"
      ],
      "id": "33fd1a11"
    },
    {
      "cell_type": "code",
      "execution_count": 300,
      "metadata": {
        "id": "603cbbc2",
        "colab": {
          "base_uri": "https://localhost:8080/"
        },
        "outputId": "4723c38a-8683-4bfc-d91d-0253d3c08712"
      },
      "outputs": [
        {
          "output_type": "execute_result",
          "data": {
            "text/plain": [
              "{'firstname': 'Akin-Johnson', 'Cirle': 117, 'lastname': 'Oluwamayowa'}"
            ]
          },
          "metadata": {},
          "execution_count": 300
        }
      ],
      "source": [
        "student2"
      ],
      "id": "603cbbc2"
    },
    {
      "cell_type": "markdown",
      "metadata": {
        "id": "297e2ca0"
      },
      "source": [
        "### Reading through a Dictionary <a id=\"dictionaries-read\"></a>"
      ],
      "id": "297e2ca0"
    },
    {
      "cell_type": "code",
      "execution_count": 301,
      "metadata": {
        "id": "140b131d",
        "colab": {
          "base_uri": "https://localhost:8080/",
          "height": 36
        },
        "outputId": "cc4cf0b4-faf0-4c19-a2d7-ce4396960390"
      },
      "outputs": [
        {
          "output_type": "execute_result",
          "data": {
            "text/plain": [
              "'Joshua'"
            ],
            "application/vnd.google.colaboratory.intrinsic+json": {
              "type": "string"
            }
          },
          "metadata": {},
          "execution_count": 301
        }
      ],
      "source": [
        "# using the key\n",
        "student['firstname']"
      ],
      "id": "140b131d"
    },
    {
      "cell_type": "code",
      "execution_count": 302,
      "metadata": {
        "id": "fb5b1a13",
        "colab": {
          "base_uri": "https://localhost:8080/"
        },
        "outputId": "d8a4ae0f-d8b6-4fa6-ff34-3bec39097328"
      },
      "outputs": [
        {
          "output_type": "execute_result",
          "data": {
            "text/plain": [
              "True"
            ]
          },
          "metadata": {},
          "execution_count": 302
        }
      ],
      "source": [
        "# using the in keyword\n",
        "'firstname' in student"
      ],
      "id": "fb5b1a13"
    },
    {
      "cell_type": "code",
      "execution_count": 303,
      "metadata": {
        "id": "c827cecc",
        "colab": {
          "base_uri": "https://localhost:8080/"
        },
        "outputId": "b3e687f3-f338-4046-ffe3-b598cdd56d37"
      },
      "outputs": [
        {
          "output_type": "execute_result",
          "data": {
            "text/plain": [
              "False"
            ]
          },
          "metadata": {},
          "execution_count": 303
        }
      ],
      "source": [
        "'fav_food' in student"
      ],
      "id": "c827cecc"
    },
    {
      "cell_type": "code",
      "execution_count": 304,
      "metadata": {
        "id": "ae61696f",
        "colab": {
          "base_uri": "https://localhost:8080/"
        },
        "outputId": "6676304e-35bb-42b3-aff2-2288518c9df8"
      },
      "outputs": [
        {
          "output_type": "execute_result",
          "data": {
            "text/plain": [
              "dict_items([('firstname', 'Joshua'), ('lastname', 'Ohayi'), ('cirle', 113)])"
            ]
          },
          "metadata": {},
          "execution_count": 304
        }
      ],
      "source": [
        "# checking all items :dict.items()\n",
        "student.items()"
      ],
      "id": "ae61696f"
    },
    {
      "cell_type": "code",
      "execution_count": 305,
      "metadata": {
        "id": "e3634c90",
        "colab": {
          "base_uri": "https://localhost:8080/"
        },
        "outputId": "85685f2d-6346-4f55-d1ee-50cc9f75a6b4"
      },
      "outputs": [
        {
          "output_type": "execute_result",
          "data": {
            "text/plain": [
              "dict_values(['Joshua', 'Ohayi', 113])"
            ]
          },
          "metadata": {},
          "execution_count": 305
        }
      ],
      "source": [
        "# checking all values :dict.values()\n",
        "student.values()"
      ],
      "id": "e3634c90"
    },
    {
      "cell_type": "code",
      "execution_count": 306,
      "metadata": {
        "id": "dd9d4f44",
        "colab": {
          "base_uri": "https://localhost:8080/",
          "height": 36
        },
        "outputId": "d2931d7c-814d-4fa0-e272-a3819852fe43"
      },
      "outputs": [
        {
          "output_type": "execute_result",
          "data": {
            "text/plain": [
              "'Not Availble'"
            ],
            "application/vnd.google.colaboratory.intrinsic+json": {
              "type": "string"
            }
          },
          "metadata": {},
          "execution_count": 306
        }
      ],
      "source": [
        "# using the get method to retrieve the value of a key in a dictionary\n",
        "# returns 'Not Available' if key is not in the dictionary else it returns the value.\n",
        "student.get('fav_drink', 'Not Availble')"
      ],
      "id": "dd9d4f44"
    },
    {
      "cell_type": "markdown",
      "metadata": {
        "id": "a159b321"
      },
      "source": [
        "### Updating a Dictionary <a id=\"dictionaries-update\"></a>"
      ],
      "id": "a159b321"
    },
    {
      "cell_type": "code",
      "execution_count": 307,
      "metadata": {
        "id": "81970ead"
      },
      "outputs": [],
      "source": [
        "# re assign the value by accessing the key if the key isnt available, a new k:v pair is created\n",
        "student['fav_food'] = 'Groceries'"
      ],
      "id": "81970ead"
    },
    {
      "cell_type": "code",
      "execution_count": 308,
      "metadata": {
        "id": "b939aee6",
        "colab": {
          "base_uri": "https://localhost:8080/"
        },
        "outputId": "6e06a778-71e3-42a3-e187-4cf94ab2ec41"
      },
      "outputs": [
        {
          "output_type": "execute_result",
          "data": {
            "text/plain": [
              "{'firstname': 'Joshua',\n",
              " 'lastname': 'Ohayi',\n",
              " 'cirle': 113,\n",
              " 'fav_food': 'Groceries'}"
            ]
          },
          "metadata": {},
          "execution_count": 308
        }
      ],
      "source": [
        "student"
      ],
      "id": "b939aee6"
    },
    {
      "cell_type": "code",
      "execution_count": 309,
      "metadata": {
        "id": "b6dc4361"
      },
      "outputs": [],
      "source": [
        "# using the update method."
      ],
      "id": "b6dc4361"
    },
    {
      "cell_type": "code",
      "execution_count": 310,
      "metadata": {
        "id": "c3f448ee",
        "colab": {
          "base_uri": "https://localhost:8080/"
        },
        "outputId": "fc672fd8-6927-4fa7-fb94-d472b4dec5d7"
      },
      "outputs": [
        {
          "output_type": "execute_result",
          "data": {
            "text/plain": [
              "113"
            ]
          },
          "metadata": {},
          "execution_count": 310
        }
      ],
      "source": [
        "# using the pop method to remove a k:v pair\n",
        "student.pop('cirle')"
      ],
      "id": "c3f448ee"
    },
    {
      "cell_type": "code",
      "execution_count": 311,
      "metadata": {
        "id": "e86488ef",
        "colab": {
          "base_uri": "https://localhost:8080/"
        },
        "outputId": "7b55dc59-851d-407f-e631-58c1d0a134db"
      },
      "outputs": [
        {
          "output_type": "execute_result",
          "data": {
            "text/plain": [
              "{'firstname': 'Joshua', 'lastname': 'Ohayi', 'fav_food': 'Groceries'}"
            ]
          },
          "metadata": {},
          "execution_count": 311
        }
      ],
      "source": [
        "student"
      ],
      "id": "e86488ef"
    },
    {
      "cell_type": "code",
      "execution_count": 312,
      "metadata": {
        "id": "4d64faa0",
        "colab": {
          "base_uri": "https://localhost:8080/"
        },
        "outputId": "d71af8b2-e5bf-41cc-e787-4acdd8dba883"
      },
      "outputs": [
        {
          "output_type": "execute_result",
          "data": {
            "text/plain": [
              "('fav_food', 'Groceries')"
            ]
          },
          "metadata": {},
          "execution_count": 312
        }
      ],
      "source": [
        "# using the popitem method\n",
        "student.popitem()"
      ],
      "id": "4d64faa0"
    },
    {
      "cell_type": "code",
      "execution_count": 313,
      "metadata": {
        "id": "31f82b0f"
      },
      "outputs": [],
      "source": [
        "old_key = 'firstname'\n",
        "new_key = 'alias'\n",
        "\n",
        "student[new_key] = student.pop(old_key)\n"
      ],
      "id": "31f82b0f"
    },
    {
      "cell_type": "code",
      "execution_count": 314,
      "metadata": {
        "id": "6e2ba1fa",
        "colab": {
          "base_uri": "https://localhost:8080/"
        },
        "outputId": "bd5edd31-5767-464e-b189-b7e5efecbb95"
      },
      "outputs": [
        {
          "output_type": "execute_result",
          "data": {
            "text/plain": [
              "{'lastname': 'Ohayi', 'alias': 'Joshua'}"
            ]
          },
          "metadata": {},
          "execution_count": 314
        }
      ],
      "source": [
        "student"
      ],
      "id": "6e2ba1fa"
    },
    {
      "cell_type": "markdown",
      "metadata": {
        "id": "689dda47"
      },
      "source": [
        "### Deleting a Dictionary <a id=\"dictionaries-delete\"></a>"
      ],
      "id": "689dda47"
    },
    {
      "cell_type": "code",
      "execution_count": 315,
      "metadata": {
        "id": "06fc602f"
      },
      "outputs": [],
      "source": [
        "#del student['circle']"
      ],
      "id": "06fc602f"
    },
    {
      "cell_type": "code",
      "execution_count": 316,
      "metadata": {
        "scrolled": true,
        "id": "d5f0dc6f",
        "colab": {
          "base_uri": "https://localhost:8080/"
        },
        "outputId": "b0f60740-9f1f-4820-c8c8-2ad51147580c"
      },
      "outputs": [
        {
          "output_type": "execute_result",
          "data": {
            "text/plain": [
              "{'lastname': 'Ohayi', 'alias': 'Joshua'}"
            ]
          },
          "metadata": {},
          "execution_count": 316
        }
      ],
      "source": [
        "student"
      ],
      "id": "d5f0dc6f"
    },
    {
      "cell_type": "code",
      "execution_count": 317,
      "metadata": {
        "id": "5e2fa0a0"
      },
      "outputs": [],
      "source": [
        "revenue = {'months':['jan', 'feb', 'mar',\n",
        "                    'apr', 'may','jun', 'jul',\n",
        "                    'aug', 'sept', 'oct',\n",
        "                    'nov', 'dec'],\n",
        "          'monthly_sales': [120, 135, 150, 145, 155, 160, 170, 180, 190, 200, 210, 220] }"
      ],
      "id": "5e2fa0a0"
    },
    {
      "cell_type": "code",
      "execution_count": 318,
      "metadata": {
        "id": "624244c0",
        "colab": {
          "base_uri": "https://localhost:8080/"
        },
        "outputId": "a98560d4-2dad-4596-8141-1b0f203d194f"
      },
      "outputs": [
        {
          "output_type": "execute_result",
          "data": {
            "text/plain": [
              "{'months': ['jan',\n",
              "  'feb',\n",
              "  'mar',\n",
              "  'apr',\n",
              "  'may',\n",
              "  'jun',\n",
              "  'jul',\n",
              "  'aug',\n",
              "  'sept',\n",
              "  'oct',\n",
              "  'nov',\n",
              "  'dec'],\n",
              " 'monthly_sales': [120, 135, 150, 145, 155, 160, 170, 180, 190, 200, 210, 220]}"
            ]
          },
          "metadata": {},
          "execution_count": 318
        }
      ],
      "source": [
        "revenue"
      ],
      "id": "624244c0"
    },
    {
      "cell_type": "markdown",
      "metadata": {
        "id": "348195cc"
      },
      "source": [
        "### Dictionaries: Use Cases in Data Science <a id=\"dictionaries-use-cases\"></a>"
      ],
      "id": "348195cc"
    },
    {
      "cell_type": "markdown",
      "metadata": {
        "id": "606360a2"
      },
      "source": [
        "## 5. DataFrames"
      ],
      "id": "606360a2"
    },
    {
      "cell_type": "markdown",
      "metadata": {
        "id": "a716eb73"
      },
      "source": [
        "2-dimensional structures for handling tabular data"
      ],
      "id": "a716eb73"
    },
    {
      "cell_type": "code",
      "execution_count": 319,
      "metadata": {
        "id": "fb24a1bc"
      },
      "outputs": [],
      "source": [
        "import pandas as pd"
      ],
      "id": "fb24a1bc"
    },
    {
      "cell_type": "code",
      "execution_count": 320,
      "metadata": {
        "id": "7205cbf3"
      },
      "outputs": [],
      "source": [
        "revenue_df = pd.DataFrame(revenue)"
      ],
      "id": "7205cbf3"
    },
    {
      "cell_type": "code",
      "execution_count": 321,
      "metadata": {
        "id": "7e785383",
        "colab": {
          "base_uri": "https://localhost:8080/",
          "height": 426
        },
        "outputId": "f5327c51-5cd1-434d-8cdf-cb4fe388a348"
      },
      "outputs": [
        {
          "output_type": "execute_result",
          "data": {
            "text/plain": [
              "   months  monthly_sales\n",
              "0     jan            120\n",
              "1     feb            135\n",
              "2     mar            150\n",
              "3     apr            145\n",
              "4     may            155\n",
              "5     jun            160\n",
              "6     jul            170\n",
              "7     aug            180\n",
              "8    sept            190\n",
              "9     oct            200\n",
              "10    nov            210\n",
              "11    dec            220"
            ],
            "text/html": [
              "\n",
              "  <div id=\"df-3c3712f1-bcf5-4df3-abbc-2ee970c07785\" class=\"colab-df-container\">\n",
              "    <div>\n",
              "<style scoped>\n",
              "    .dataframe tbody tr th:only-of-type {\n",
              "        vertical-align: middle;\n",
              "    }\n",
              "\n",
              "    .dataframe tbody tr th {\n",
              "        vertical-align: top;\n",
              "    }\n",
              "\n",
              "    .dataframe thead th {\n",
              "        text-align: right;\n",
              "    }\n",
              "</style>\n",
              "<table border=\"1\" class=\"dataframe\">\n",
              "  <thead>\n",
              "    <tr style=\"text-align: right;\">\n",
              "      <th></th>\n",
              "      <th>months</th>\n",
              "      <th>monthly_sales</th>\n",
              "    </tr>\n",
              "  </thead>\n",
              "  <tbody>\n",
              "    <tr>\n",
              "      <th>0</th>\n",
              "      <td>jan</td>\n",
              "      <td>120</td>\n",
              "    </tr>\n",
              "    <tr>\n",
              "      <th>1</th>\n",
              "      <td>feb</td>\n",
              "      <td>135</td>\n",
              "    </tr>\n",
              "    <tr>\n",
              "      <th>2</th>\n",
              "      <td>mar</td>\n",
              "      <td>150</td>\n",
              "    </tr>\n",
              "    <tr>\n",
              "      <th>3</th>\n",
              "      <td>apr</td>\n",
              "      <td>145</td>\n",
              "    </tr>\n",
              "    <tr>\n",
              "      <th>4</th>\n",
              "      <td>may</td>\n",
              "      <td>155</td>\n",
              "    </tr>\n",
              "    <tr>\n",
              "      <th>5</th>\n",
              "      <td>jun</td>\n",
              "      <td>160</td>\n",
              "    </tr>\n",
              "    <tr>\n",
              "      <th>6</th>\n",
              "      <td>jul</td>\n",
              "      <td>170</td>\n",
              "    </tr>\n",
              "    <tr>\n",
              "      <th>7</th>\n",
              "      <td>aug</td>\n",
              "      <td>180</td>\n",
              "    </tr>\n",
              "    <tr>\n",
              "      <th>8</th>\n",
              "      <td>sept</td>\n",
              "      <td>190</td>\n",
              "    </tr>\n",
              "    <tr>\n",
              "      <th>9</th>\n",
              "      <td>oct</td>\n",
              "      <td>200</td>\n",
              "    </tr>\n",
              "    <tr>\n",
              "      <th>10</th>\n",
              "      <td>nov</td>\n",
              "      <td>210</td>\n",
              "    </tr>\n",
              "    <tr>\n",
              "      <th>11</th>\n",
              "      <td>dec</td>\n",
              "      <td>220</td>\n",
              "    </tr>\n",
              "  </tbody>\n",
              "</table>\n",
              "</div>\n",
              "    <div class=\"colab-df-buttons\">\n",
              "\n",
              "  <div class=\"colab-df-container\">\n",
              "    <button class=\"colab-df-convert\" onclick=\"convertToInteractive('df-3c3712f1-bcf5-4df3-abbc-2ee970c07785')\"\n",
              "            title=\"Convert this dataframe to an interactive table.\"\n",
              "            style=\"display:none;\">\n",
              "\n",
              "  <svg xmlns=\"http://www.w3.org/2000/svg\" height=\"24px\" viewBox=\"0 -960 960 960\">\n",
              "    <path d=\"M120-120v-720h720v720H120Zm60-500h600v-160H180v160Zm220 220h160v-160H400v160Zm0 220h160v-160H400v160ZM180-400h160v-160H180v160Zm440 0h160v-160H620v160ZM180-180h160v-160H180v160Zm440 0h160v-160H620v160Z\"/>\n",
              "  </svg>\n",
              "    </button>\n",
              "\n",
              "  <style>\n",
              "    .colab-df-container {\n",
              "      display:flex;\n",
              "      gap: 12px;\n",
              "    }\n",
              "\n",
              "    .colab-df-convert {\n",
              "      background-color: #E8F0FE;\n",
              "      border: none;\n",
              "      border-radius: 50%;\n",
              "      cursor: pointer;\n",
              "      display: none;\n",
              "      fill: #1967D2;\n",
              "      height: 32px;\n",
              "      padding: 0 0 0 0;\n",
              "      width: 32px;\n",
              "    }\n",
              "\n",
              "    .colab-df-convert:hover {\n",
              "      background-color: #E2EBFA;\n",
              "      box-shadow: 0px 1px 2px rgba(60, 64, 67, 0.3), 0px 1px 3px 1px rgba(60, 64, 67, 0.15);\n",
              "      fill: #174EA6;\n",
              "    }\n",
              "\n",
              "    .colab-df-buttons div {\n",
              "      margin-bottom: 4px;\n",
              "    }\n",
              "\n",
              "    [theme=dark] .colab-df-convert {\n",
              "      background-color: #3B4455;\n",
              "      fill: #D2E3FC;\n",
              "    }\n",
              "\n",
              "    [theme=dark] .colab-df-convert:hover {\n",
              "      background-color: #434B5C;\n",
              "      box-shadow: 0px 1px 3px 1px rgba(0, 0, 0, 0.15);\n",
              "      filter: drop-shadow(0px 1px 2px rgba(0, 0, 0, 0.3));\n",
              "      fill: #FFFFFF;\n",
              "    }\n",
              "  </style>\n",
              "\n",
              "    <script>\n",
              "      const buttonEl =\n",
              "        document.querySelector('#df-3c3712f1-bcf5-4df3-abbc-2ee970c07785 button.colab-df-convert');\n",
              "      buttonEl.style.display =\n",
              "        google.colab.kernel.accessAllowed ? 'block' : 'none';\n",
              "\n",
              "      async function convertToInteractive(key) {\n",
              "        const element = document.querySelector('#df-3c3712f1-bcf5-4df3-abbc-2ee970c07785');\n",
              "        const dataTable =\n",
              "          await google.colab.kernel.invokeFunction('convertToInteractive',\n",
              "                                                    [key], {});\n",
              "        if (!dataTable) return;\n",
              "\n",
              "        const docLinkHtml = 'Like what you see? Visit the ' +\n",
              "          '<a target=\"_blank\" href=https://colab.research.google.com/notebooks/data_table.ipynb>data table notebook</a>'\n",
              "          + ' to learn more about interactive tables.';\n",
              "        element.innerHTML = '';\n",
              "        dataTable['output_type'] = 'display_data';\n",
              "        await google.colab.output.renderOutput(dataTable, element);\n",
              "        const docLink = document.createElement('div');\n",
              "        docLink.innerHTML = docLinkHtml;\n",
              "        element.appendChild(docLink);\n",
              "      }\n",
              "    </script>\n",
              "  </div>\n",
              "\n",
              "\n",
              "<div id=\"df-de6fc461-fa9b-4c6d-8e61-f1b4277dc21a\">\n",
              "  <button class=\"colab-df-quickchart\" onclick=\"quickchart('df-de6fc461-fa9b-4c6d-8e61-f1b4277dc21a')\"\n",
              "            title=\"Suggest charts.\"\n",
              "            style=\"display:none;\">\n",
              "\n",
              "<svg xmlns=\"http://www.w3.org/2000/svg\" height=\"24px\"viewBox=\"0 0 24 24\"\n",
              "     width=\"24px\">\n",
              "    <g>\n",
              "        <path d=\"M19 3H5c-1.1 0-2 .9-2 2v14c0 1.1.9 2 2 2h14c1.1 0 2-.9 2-2V5c0-1.1-.9-2-2-2zM9 17H7v-7h2v7zm4 0h-2V7h2v10zm4 0h-2v-4h2v4z\"/>\n",
              "    </g>\n",
              "</svg>\n",
              "  </button>\n",
              "\n",
              "<style>\n",
              "  .colab-df-quickchart {\n",
              "      --bg-color: #E8F0FE;\n",
              "      --fill-color: #1967D2;\n",
              "      --hover-bg-color: #E2EBFA;\n",
              "      --hover-fill-color: #174EA6;\n",
              "      --disabled-fill-color: #AAA;\n",
              "      --disabled-bg-color: #DDD;\n",
              "  }\n",
              "\n",
              "  [theme=dark] .colab-df-quickchart {\n",
              "      --bg-color: #3B4455;\n",
              "      --fill-color: #D2E3FC;\n",
              "      --hover-bg-color: #434B5C;\n",
              "      --hover-fill-color: #FFFFFF;\n",
              "      --disabled-bg-color: #3B4455;\n",
              "      --disabled-fill-color: #666;\n",
              "  }\n",
              "\n",
              "  .colab-df-quickchart {\n",
              "    background-color: var(--bg-color);\n",
              "    border: none;\n",
              "    border-radius: 50%;\n",
              "    cursor: pointer;\n",
              "    display: none;\n",
              "    fill: var(--fill-color);\n",
              "    height: 32px;\n",
              "    padding: 0;\n",
              "    width: 32px;\n",
              "  }\n",
              "\n",
              "  .colab-df-quickchart:hover {\n",
              "    background-color: var(--hover-bg-color);\n",
              "    box-shadow: 0 1px 2px rgba(60, 64, 67, 0.3), 0 1px 3px 1px rgba(60, 64, 67, 0.15);\n",
              "    fill: var(--button-hover-fill-color);\n",
              "  }\n",
              "\n",
              "  .colab-df-quickchart-complete:disabled,\n",
              "  .colab-df-quickchart-complete:disabled:hover {\n",
              "    background-color: var(--disabled-bg-color);\n",
              "    fill: var(--disabled-fill-color);\n",
              "    box-shadow: none;\n",
              "  }\n",
              "\n",
              "  .colab-df-spinner {\n",
              "    border: 2px solid var(--fill-color);\n",
              "    border-color: transparent;\n",
              "    border-bottom-color: var(--fill-color);\n",
              "    animation:\n",
              "      spin 1s steps(1) infinite;\n",
              "  }\n",
              "\n",
              "  @keyframes spin {\n",
              "    0% {\n",
              "      border-color: transparent;\n",
              "      border-bottom-color: var(--fill-color);\n",
              "      border-left-color: var(--fill-color);\n",
              "    }\n",
              "    20% {\n",
              "      border-color: transparent;\n",
              "      border-left-color: var(--fill-color);\n",
              "      border-top-color: var(--fill-color);\n",
              "    }\n",
              "    30% {\n",
              "      border-color: transparent;\n",
              "      border-left-color: var(--fill-color);\n",
              "      border-top-color: var(--fill-color);\n",
              "      border-right-color: var(--fill-color);\n",
              "    }\n",
              "    40% {\n",
              "      border-color: transparent;\n",
              "      border-right-color: var(--fill-color);\n",
              "      border-top-color: var(--fill-color);\n",
              "    }\n",
              "    60% {\n",
              "      border-color: transparent;\n",
              "      border-right-color: var(--fill-color);\n",
              "    }\n",
              "    80% {\n",
              "      border-color: transparent;\n",
              "      border-right-color: var(--fill-color);\n",
              "      border-bottom-color: var(--fill-color);\n",
              "    }\n",
              "    90% {\n",
              "      border-color: transparent;\n",
              "      border-bottom-color: var(--fill-color);\n",
              "    }\n",
              "  }\n",
              "</style>\n",
              "\n",
              "  <script>\n",
              "    async function quickchart(key) {\n",
              "      const quickchartButtonEl =\n",
              "        document.querySelector('#' + key + ' button');\n",
              "      quickchartButtonEl.disabled = true;  // To prevent multiple clicks.\n",
              "      quickchartButtonEl.classList.add('colab-df-spinner');\n",
              "      try {\n",
              "        const charts = await google.colab.kernel.invokeFunction(\n",
              "            'suggestCharts', [key], {});\n",
              "      } catch (error) {\n",
              "        console.error('Error during call to suggestCharts:', error);\n",
              "      }\n",
              "      quickchartButtonEl.classList.remove('colab-df-spinner');\n",
              "      quickchartButtonEl.classList.add('colab-df-quickchart-complete');\n",
              "    }\n",
              "    (() => {\n",
              "      let quickchartButtonEl =\n",
              "        document.querySelector('#df-de6fc461-fa9b-4c6d-8e61-f1b4277dc21a button');\n",
              "      quickchartButtonEl.style.display =\n",
              "        google.colab.kernel.accessAllowed ? 'block' : 'none';\n",
              "    })();\n",
              "  </script>\n",
              "</div>\n",
              "    </div>\n",
              "  </div>\n"
            ]
          },
          "metadata": {},
          "execution_count": 321
        }
      ],
      "source": [
        "revenue_df"
      ],
      "id": "7e785383"
    },
    {
      "cell_type": "markdown",
      "metadata": {
        "id": "3075fcd5"
      },
      "source": [
        "## Exercises"
      ],
      "id": "3075fcd5"
    },
    {
      "cell_type": "markdown",
      "metadata": {
        "id": "d35d9350"
      },
      "source": [
        "1. a) Create a dictionary representing a library catalog. The keys should be book titles, and the values should be the corresponding authors. Allow the user to input a book title and display the author's name.\n",
        "\n",
        "   b) Extend the library catalog program to allow users to add new books to the catalog by providing the title and author."
      ],
      "id": "d35d9350"
    },
    {
      "cell_type": "code",
      "execution_count": 322,
      "metadata": {
        "id": "48966cd0"
      },
      "outputs": [],
      "source": [
        "library_catalog = {\"book_title\":\n",
        "                                  [\"Things Fall Apart\", \"Half of a Yellow Sun\",\n",
        "                                  \"The Famished Road\",\n",
        "                                  \"The Secret Lives of Baba Segi's Wives\",\n",
        "                                  \"The Fishermen\", \"So Long a Letter\",\n",
        "                                  \"The Icarus Girl\",\n",
        "                                  \"Harry Potter and the Sorcerer's Stone\",\n",
        "                                  \"The Lord of the Rings\", \"The Da Vinci Code\"],\n",
        "\n",
        "                   \"authors\":\n",
        "                                  [\"Chinua Achebe\", \"Chimamanda Ngozi Adichie\",\n",
        "                                   \"Ben Okri\",  \"Lola Shoneyin\", \"Chigozie Obioma\",\n",
        "                                   \"Mariama Ba\", \"Helen Oyeyemi\", \"J.K. Rowling\",\n",
        "                                   \"J.R.R. Tolkien\", \"Dan Brown\"]}"
      ],
      "id": "48966cd0"
    },
    {
      "cell_type": "code",
      "source": [
        "library_catalog"
      ],
      "metadata": {
        "colab": {
          "base_uri": "https://localhost:8080/"
        },
        "id": "OGTm28CHgT4y",
        "outputId": "5c8ce282-5b1f-4aae-96f1-0803799daa4a"
      },
      "id": "OGTm28CHgT4y",
      "execution_count": 323,
      "outputs": [
        {
          "output_type": "execute_result",
          "data": {
            "text/plain": [
              "{'book_title': ['Things Fall Apart',\n",
              "  'Half of a Yellow Sun',\n",
              "  'The Famished Road',\n",
              "  \"The Secret Lives of Baba Segi's Wives\",\n",
              "  'The Fishermen',\n",
              "  'So Long a Letter',\n",
              "  'The Icarus Girl',\n",
              "  \"Harry Potter and the Sorcerer's Stone\",\n",
              "  'The Lord of the Rings',\n",
              "  'The Da Vinci Code'],\n",
              " 'authors': ['Chinua Achebe',\n",
              "  'Chimamanda Ngozi Adichie',\n",
              "  'Ben Okri',\n",
              "  'Lola Shoneyin',\n",
              "  'Chigozie Obioma',\n",
              "  'Mariama Ba',\n",
              "  'Helen Oyeyemi',\n",
              "  'J.K. Rowling',\n",
              "  'J.R.R. Tolkien',\n",
              "  'Dan Brown']}"
            ]
          },
          "metadata": {},
          "execution_count": 323
        }
      ]
    },
    {
      "cell_type": "code",
      "source": [
        "dir(library_catalog)"
      ],
      "metadata": {
        "colab": {
          "base_uri": "https://localhost:8080/"
        },
        "id": "SL7CrjD6gbuE",
        "outputId": "418022b5-be12-4342-823f-725fadcc7561"
      },
      "id": "SL7CrjD6gbuE",
      "execution_count": 324,
      "outputs": [
        {
          "output_type": "execute_result",
          "data": {
            "text/plain": [
              "['__class__',\n",
              " '__class_getitem__',\n",
              " '__contains__',\n",
              " '__delattr__',\n",
              " '__delitem__',\n",
              " '__dir__',\n",
              " '__doc__',\n",
              " '__eq__',\n",
              " '__format__',\n",
              " '__ge__',\n",
              " '__getattribute__',\n",
              " '__getitem__',\n",
              " '__gt__',\n",
              " '__hash__',\n",
              " '__init__',\n",
              " '__init_subclass__',\n",
              " '__ior__',\n",
              " '__iter__',\n",
              " '__le__',\n",
              " '__len__',\n",
              " '__lt__',\n",
              " '__ne__',\n",
              " '__new__',\n",
              " '__or__',\n",
              " '__reduce__',\n",
              " '__reduce_ex__',\n",
              " '__repr__',\n",
              " '__reversed__',\n",
              " '__ror__',\n",
              " '__setattr__',\n",
              " '__setitem__',\n",
              " '__sizeof__',\n",
              " '__str__',\n",
              " '__subclasshook__',\n",
              " 'clear',\n",
              " 'copy',\n",
              " 'fromkeys',\n",
              " 'get',\n",
              " 'items',\n",
              " 'keys',\n",
              " 'pop',\n",
              " 'popitem',\n",
              " 'setdefault',\n",
              " 'update',\n",
              " 'values']"
            ]
          },
          "metadata": {},
          "execution_count": 324
        }
      ]
    },
    {
      "cell_type": "markdown",
      "metadata": {
        "id": "90863950"
      },
      "source": [
        "2. Create a dictionary that represents a dataset of 10 students' and thier test scores (4 courses). The keys should be dictionaries bearing student names, in the nested dictionary, let the keys represent a course and the value a score for that course. Allow the user to input a student's name and display their average test score.\n",
        "\n",
        "   Create a DataFrame from the student test scores dictionary using pandas. Display the DataFrame to the user."
      ],
      "id": "90863950"
    },
    {
      "cell_type": "code",
      "execution_count": 321,
      "metadata": {
        "id": "dd9dd09e"
      },
      "outputs": [],
      "source": [],
      "id": "dd9dd09e"
    },
    {
      "cell_type": "markdown",
      "metadata": {
        "id": "836c9541"
      },
      "source": [
        "3. Create a dictionary that represents an online store's inventory. The keys should be product names, and the values should be tuples containing the price and available quantity. Allow the user to input a product name, and display its price and availability.\n",
        "\n",
        "    Extend the online store program to allow users to \"purchase\" products by specifying the product name and the quantity they want to buy. Update the inventory accordingly and display the total cost of the purchase."
      ],
      "id": "836c9541"
    },
    {
      "cell_type": "code",
      "execution_count": 321,
      "metadata": {
        "id": "f9d97006"
      },
      "outputs": [],
      "source": [],
      "id": "f9d97006"
    },
    {
      "cell_type": "markdown",
      "metadata": {
        "id": "2ee885a8"
      },
      "source": [
        "4. Create an empty dictionary to represent a glossary. Allow users to add new words and their definitions to the glossary.\n",
        "\n",
        "    Implement a feature that lets users search for the definition of a word. If the word is not in the glossary, inform the user that the word is not found."
      ],
      "id": "2ee885a8"
    },
    {
      "cell_type": "code",
      "execution_count": 321,
      "metadata": {
        "id": "60fd5144"
      },
      "outputs": [],
      "source": [],
      "id": "60fd5144"
    },
    {
      "cell_type": "code",
      "source": [],
      "metadata": {
        "id": "R6HZ75ujjSu4"
      },
      "id": "R6HZ75ujjSu4",
      "execution_count": 321,
      "outputs": []
    },
    {
      "cell_type": "code",
      "source": [],
      "metadata": {
        "id": "sTy8ZEDCjkLx"
      },
      "id": "sTy8ZEDCjkLx",
      "execution_count": 321,
      "outputs": []
    },
    {
      "cell_type": "code",
      "source": [],
      "metadata": {
        "id": "KAUJFNf4jnlY"
      },
      "id": "KAUJFNf4jnlY",
      "execution_count": 321,
      "outputs": []
    }
  ],
  "metadata": {
    "kernelspec": {
      "display_name": "Python 3 (ipykernel)",
      "language": "python",
      "name": "python3"
    },
    "language_info": {
      "codemirror_mode": {
        "name": "ipython",
        "version": 3
      },
      "file_extension": ".py",
      "mimetype": "text/x-python",
      "name": "python",
      "nbconvert_exporter": "python",
      "pygments_lexer": "ipython3",
      "version": "3.11.4"
    },
    "colab": {
      "provenance": [],
      "include_colab_link": true
    }
  },
  "nbformat": 4,
  "nbformat_minor": 5
}