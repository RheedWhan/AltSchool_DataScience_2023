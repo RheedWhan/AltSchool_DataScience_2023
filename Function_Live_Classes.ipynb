{
  "nbformat": 4,
  "nbformat_minor": 0,
  "metadata": {
    "colab": {
      "provenance": [],
      "authorship_tag": "ABX9TyNW4mcIvtb9i19tHuzwaTG3",
      "include_colab_link": true
    },
    "kernelspec": {
      "name": "python3",
      "display_name": "Python 3"
    },
    "language_info": {
      "name": "python"
    }
  },
  "cells": [
    {
      "cell_type": "markdown",
      "metadata": {
        "id": "view-in-github",
        "colab_type": "text"
      },
      "source": [
        "<a href=\"https://colab.research.google.com/github/RheedWhan/AltSchool_DataScience_2023/blob/main/Function_Live_Classes.ipynb\" target=\"_parent\"><img src=\"https://colab.research.google.com/assets/colab-badge.svg\" alt=\"Open In Colab\"/></a>"
      ]
    },
    {
      "cell_type": "markdown",
      "source": [
        "# List Comprehension\n"
      ],
      "metadata": {
        "id": "xnP0TKDbOWZx"
      }
    },
    {
      "cell_type": "code",
      "execution_count": 8,
      "metadata": {
        "colab": {
          "base_uri": "https://localhost:8080/"
        },
        "id": "HeYKLt8YOROm",
        "outputId": "4b07aac1-d1e6-4a31-befc-b0fba0f8e9da"
      },
      "outputs": [
        {
          "output_type": "stream",
          "name": "stdout",
          "text": [
            "[1, 4, 9, 16, 25, 36, 49, 64]\n"
          ]
        }
      ],
      "source": [
        "nums = [1, 2, 3, 4, 5, 6, 7, 8]\n",
        "Squ_num = []\n",
        "for num in nums:\n",
        "  Squ = num ** 2\n",
        "  Squ_num.append(Squ)\n",
        "print(Squ_num)"
      ]
    },
    {
      "cell_type": "code",
      "source": [
        "square_nums = [ i ** 2 for i in nums]\n",
        "\n",
        "square_nums"
      ],
      "metadata": {
        "colab": {
          "base_uri": "https://localhost:8080/"
        },
        "id": "48B0dXP1O0JV",
        "outputId": "afdd446d-30de-4f7a-d5cf-3f0cd26bfbce"
      },
      "execution_count": 9,
      "outputs": [
        {
          "output_type": "execute_result",
          "data": {
            "text/plain": [
              "[1, 4, 9, 16, 25, 36, 49, 64]"
            ]
          },
          "metadata": {},
          "execution_count": 9
        }
      ]
    },
    {
      "cell_type": "code",
      "source": [
        "nums = [1, 2, 3, 4, 5, 6, 7, 8]\n",
        "Squ_num = []\n",
        "for num in nums:\n",
        "  if num % 2 == 0:\n",
        "    Squ = num ** 2\n",
        "    Squ_num.append(Squ)\n",
        "print(Squ_num)"
      ],
      "metadata": {
        "colab": {
          "base_uri": "https://localhost:8080/"
        },
        "id": "WIsFzceKQPkA",
        "outputId": "c2a65794-94c6-420a-b3d9-f0e3851abbc3"
      },
      "execution_count": 10,
      "outputs": [
        {
          "output_type": "stream",
          "name": "stdout",
          "text": [
            "[4, 16, 36, 64]\n"
          ]
        }
      ]
    },
    {
      "cell_type": "code",
      "source": [
        "square_nums = [ i ** 2 for i in nums if not i % 2 == 0]\n",
        "\n",
        "square_nums"
      ],
      "metadata": {
        "colab": {
          "base_uri": "https://localhost:8080/"
        },
        "id": "JGeBfIPcQjZ7",
        "outputId": "408d4268-1e98-45f2-c77e-192bbc0c3386"
      },
      "execution_count": 12,
      "outputs": [
        {
          "output_type": "execute_result",
          "data": {
            "text/plain": [
              "[1, 9, 25, 49]"
            ]
          },
          "metadata": {},
          "execution_count": 12
        }
      ]
    },
    {
      "cell_type": "code",
      "source": [
        "name = 'Althschool'\n",
        "sch = []\n",
        "for i in name:\n",
        "  sch.append(i)\n",
        "print(sch)"
      ],
      "metadata": {
        "colab": {
          "base_uri": "https://localhost:8080/"
        },
        "id": "YNC38ZHwQtmP",
        "outputId": "3b96c249-c0a5-41df-dfeb-d9d1f329028c"
      },
      "execution_count": 17,
      "outputs": [
        {
          "output_type": "stream",
          "name": "stdout",
          "text": [
            "['A', 'l', 't', 'h', 's', 'c', 'h', 'o', 'o', 'l']\n"
          ]
        }
      ]
    },
    {
      "cell_type": "code",
      "source": [
        "name = 'Althschool'\n",
        "\n",
        "sch2 = [ i for i in name]\n",
        "\n",
        "sch2"
      ],
      "metadata": {
        "colab": {
          "base_uri": "https://localhost:8080/"
        },
        "id": "8xg3cT2NRc5L",
        "outputId": "4b570e62-ab20-45c1-95c4-441705851541"
      },
      "execution_count": 19,
      "outputs": [
        {
          "output_type": "execute_result",
          "data": {
            "text/plain": [
              "['A', 'l', 't', 'h', 's', 'c', 'h', 'o', 'o', 'l']"
            ]
          },
          "metadata": {},
          "execution_count": 19
        }
      ]
    },
    {
      "cell_type": "code",
      "source": [
        "names = ['Kola', 'Seun', 'Adigun', 'Taiwo']"
      ],
      "metadata": {
        "id": "kilMYZcFSE3X"
      },
      "execution_count": 20,
      "outputs": []
    },
    {
      "cell_type": "code",
      "source": [
        "names_upp = [name.upper() for name in names]\n",
        "\n",
        "names_upp"
      ],
      "metadata": {
        "colab": {
          "base_uri": "https://localhost:8080/"
        },
        "id": "_eaU7PrwSY-m",
        "outputId": "03dd9c69-2820-4ec0-d4ef-18c319764210"
      },
      "execution_count": 23,
      "outputs": [
        {
          "output_type": "execute_result",
          "data": {
            "text/plain": [
              "['KOLA', 'SEUN', 'ADIGUN', 'TAIWO']"
            ]
          },
          "metadata": {},
          "execution_count": 23
        }
      ]
    },
    {
      "cell_type": "code",
      "source": [
        "# Using if - else statements\n",
        "\n",
        "name = 'Altschool'\n",
        "\n",
        "vowels = 'aeiouAEIOU'\n",
        "\n",
        "alphabets = ['vowel' if i in vowels else 'consonant' for i in name]\n",
        "\n",
        "alphabets"
      ],
      "metadata": {
        "colab": {
          "base_uri": "https://localhost:8080/"
        },
        "id": "9Q7_JLujSby-",
        "outputId": "8a7c946d-6532-46b0-d36a-3e8f7324c0a6"
      },
      "execution_count": 26,
      "outputs": [
        {
          "output_type": "execute_result",
          "data": {
            "text/plain": [
              "['vowel',\n",
              " 'consonant',\n",
              " 'consonant',\n",
              " 'consonant',\n",
              " 'consonant',\n",
              " 'consonant',\n",
              " 'vowel',\n",
              " 'vowel',\n",
              " 'consonant']"
            ]
          },
          "metadata": {},
          "execution_count": 26
        }
      ]
    },
    {
      "cell_type": "code",
      "source": [
        "names = ['Kola', 'Seun', 'Adigun', 'Taiwo']\n",
        "\n",
        "four_chars = [i for i in names if len(names) > 4]\n",
        "\n",
        "four_chars"
      ],
      "metadata": {
        "colab": {
          "base_uri": "https://localhost:8080/"
        },
        "id": "HKVqXMn3UVAh",
        "outputId": "db1f6b78-9c31-4324-8c33-7f65e93d108d"
      },
      "execution_count": 33,
      "outputs": [
        {
          "output_type": "execute_result",
          "data": {
            "text/plain": [
              "[]"
            ]
          },
          "metadata": {},
          "execution_count": 33
        }
      ]
    },
    {
      "cell_type": "code",
      "source": [
        "list1 = [1, 4, 5, 7, 3, 5, 7, 2]\n",
        "list2 = [3, 8, 0, 6, 2, 2, 9, 1]"
      ],
      "metadata": {
        "id": "HWIWrkvOVv6g"
      },
      "execution_count": 39,
      "outputs": []
    },
    {
      "cell_type": "code",
      "source": [
        "list3 = [i-j for i, j in zip(list1, list2)]\n",
        "list3"
      ],
      "metadata": {
        "colab": {
          "base_uri": "https://localhost:8080/"
        },
        "id": "O2nYZ9m9Z7Zb",
        "outputId": "b9e2cf0d-720c-473b-8e0f-e7a80bac8847"
      },
      "execution_count": 44,
      "outputs": [
        {
          "output_type": "execute_result",
          "data": {
            "text/plain": [
              "[-2, -4, 5, 1, 1, 3, -2, 1]"
            ]
          },
          "metadata": {},
          "execution_count": 44
        }
      ]
    },
    {
      "cell_type": "code",
      "source": [
        "list3 = []\n",
        "\n",
        "for i, j in zip(list1, list2):\n",
        "  k = i + j\n",
        "  list3.append(k)\n",
        "print(list3)"
      ],
      "metadata": {
        "colab": {
          "base_uri": "https://localhost:8080/"
        },
        "id": "d1dCuqBiW5K1",
        "outputId": "0c012e89-15e4-4230-83ff-4901db53f8a7"
      },
      "execution_count": 41,
      "outputs": [
        {
          "output_type": "stream",
          "name": "stdout",
          "text": [
            "[4, 12, 5, 13, 5, 7, 16, 3]\n"
          ]
        }
      ]
    },
    {
      "cell_type": "code",
      "source": [
        "list1 = [1, 4, 5, 7, 3, 5, 7, 2]\n",
        "list2 = [3, 8, 0, 7, 2, 2, 9, 1]\n",
        "\n",
        "intersection = [a for a in list1 for b in list2 if a == b]\n",
        "intersection"
      ],
      "metadata": {
        "colab": {
          "base_uri": "https://localhost:8080/"
        },
        "id": "9bu4w4dMXZao",
        "outputId": "5575101d-c032-40a7-c23b-d6f2974a6372"
      },
      "execution_count": 38,
      "outputs": [
        {
          "output_type": "execute_result",
          "data": {
            "text/plain": [
              "[1, 7, 3, 7, 2, 2]"
            ]
          },
          "metadata": {},
          "execution_count": 38
        }
      ]
    },
    {
      "cell_type": "code",
      "source": [
        "zipped = zip(list1, list2)"
      ],
      "metadata": {
        "id": "YiNjSEKsYAGk"
      },
      "execution_count": 45,
      "outputs": []
    },
    {
      "cell_type": "code",
      "source": [
        "dict_zip = dict(zipped)"
      ],
      "metadata": {
        "id": "YT-fV5z6aY-f"
      },
      "execution_count": 46,
      "outputs": []
    },
    {
      "cell_type": "code",
      "source": [
        "dict_zip"
      ],
      "metadata": {
        "colab": {
          "base_uri": "https://localhost:8080/"
        },
        "id": "KOleFuciagF3",
        "outputId": "d0b90c30-6162-401b-ae4e-65ce4692b40a"
      },
      "execution_count": 47,
      "outputs": [
        {
          "output_type": "execute_result",
          "data": {
            "text/plain": [
              "{1: 3, 4: 8, 5: 2, 7: 9, 3: 2, 2: 1}"
            ]
          },
          "metadata": {},
          "execution_count": 47
        }
      ]
    },
    {
      "cell_type": "markdown",
      "source": [
        "# Function\n"
      ],
      "metadata": {
        "id": "e_kGvmDegBOv"
      }
    },
    {
      "cell_type": "code",
      "source": [
        "# writing a basic function\n",
        "\n",
        "def add_two(a, b):\n",
        "    '''\n",
        "    the function adds to arguments\n",
        "    together and give the result\n",
        "    '''\n",
        "    addition = a + b\n",
        "    return addition"
      ],
      "metadata": {
        "id": "ROYPGt_jahcZ"
      },
      "execution_count": 48,
      "outputs": []
    },
    {
      "cell_type": "code",
      "source": [
        "add_two(3, 9)"
      ],
      "metadata": {
        "colab": {
          "base_uri": "https://localhost:8080/"
        },
        "id": "28XiQpklgZMl",
        "outputId": "6234c278-d986-4670-c2f6-a7fc509b7e2b"
      },
      "execution_count": 49,
      "outputs": [
        {
          "output_type": "execute_result",
          "data": {
            "text/plain": [
              "12"
            ]
          },
          "metadata": {},
          "execution_count": 49
        }
      ]
    },
    {
      "cell_type": "code",
      "source": [
        "add_two('Sola ', 'Kola')"
      ],
      "metadata": {
        "colab": {
          "base_uri": "https://localhost:8080/",
          "height": 36
        },
        "id": "vCiXnrG9gwWE",
        "outputId": "5a8f12fa-7961-4c4e-88a1-e1f7c18c9995"
      },
      "execution_count": 51,
      "outputs": [
        {
          "output_type": "execute_result",
          "data": {
            "text/plain": [
              "'Sola Kola'"
            ],
            "application/vnd.google.colaboratory.intrinsic+json": {
              "type": "string"
            }
          },
          "metadata": {},
          "execution_count": 51
        }
      ]
    },
    {
      "cell_type": "code",
      "source": [
        "def greet(name):\n",
        "  return(f'Hello, {name}')"
      ],
      "metadata": {
        "id": "JwiPYCW4hrkj"
      },
      "execution_count": 52,
      "outputs": []
    },
    {
      "cell_type": "code",
      "source": [
        "greet('Seun')"
      ],
      "metadata": {
        "colab": {
          "base_uri": "https://localhost:8080/",
          "height": 36
        },
        "id": "zD8-2HPhiGEW",
        "outputId": "014760dc-fcc1-482e-ba85-09fcb8347435"
      },
      "execution_count": 54,
      "outputs": [
        {
          "output_type": "execute_result",
          "data": {
            "text/plain": [
              "'Hello, Seun'"
            ],
            "application/vnd.google.colaboratory.intrinsic+json": {
              "type": "string"
            }
          },
          "metadata": {},
          "execution_count": 54
        }
      ]
    },
    {
      "cell_type": "code",
      "source": [
        "def volume(l, b, h):\n",
        "    return l*b*h"
      ],
      "metadata": {
        "id": "18Xv_FfKiI-x"
      },
      "execution_count": 55,
      "outputs": []
    },
    {
      "cell_type": "code",
      "source": [
        "volume(4,2,6)"
      ],
      "metadata": {
        "colab": {
          "base_uri": "https://localhost:8080/"
        },
        "id": "Ku5pSLhQktbV",
        "outputId": "7cacfd67-7e45-4c1a-b360-daf2604e35b2"
      },
      "execution_count": 56,
      "outputs": [
        {
          "output_type": "execute_result",
          "data": {
            "text/plain": [
              "48"
            ]
          },
          "metadata": {},
          "execution_count": 56
        }
      ]
    },
    {
      "cell_type": "code",
      "source": [],
      "metadata": {
        "id": "wiSw6_hOkwJW"
      },
      "execution_count": null,
      "outputs": []
    }
  ]
}